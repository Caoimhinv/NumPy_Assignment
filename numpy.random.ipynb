{
 "cells": [
  {
   "cell_type": "markdown",
   "id": "6623e8f0-7eff-44bc-859d-cea9221cc5b3",
   "metadata": {
    "tags": []
   },
   "source": [
    "# Programming for Data Analysis\n",
    "## Autumn 2021 Assignment\n",
    "___"
   ]
  },
  {
   "cell_type": "markdown",
   "id": "c5c284f5-f76b-4797-8bd9-9dd4efa77f83",
   "metadata": {},
   "source": [
    "<br>\n",
    "\n",
    "![NumPy_logo](Images/NumPy_logo.png)"
   ]
  },
  {
   "cell_type": "markdown",
   "id": "689c09c2-8041-43be-8f2e-db494a843c77",
   "metadata": {
    "tags": []
   },
   "source": [
    "<br>\n",
    "\n",
    "## numpy.random "
   ]
  },
  {
   "cell_type": "markdown",
   "id": "01a628ea-6740-46d6-920b-9c9a958cc700",
   "metadata": {
    "tags": []
   },
   "source": [
    "Numpy.random is a module within the bigger NumPy package which allows us to sample **pseudo-random** numbers and gives us a range of tools to implement them. Although there already is a random module in the Python standard library, numpy.random adds much extra functionality in particular in relation to arrays and has the ability to draw from a lot more statistical distributions. Computers can't really 'do random' - they need a set of instructions to produce an output - so programs like numpy.random use algorithims to generate random numbers. Thus they are not truly random but pseudo-random. This also means they are predictable and also reproducible with is of much benefit when running experimental code."
   ]
  },
  {
   "cell_type": "markdown",
   "id": "58cff7cc-4acc-4e48-a504-c2e04458ce61",
   "metadata": {},
   "source": [
    "<br> \n",
    "\n",
    "### NumPy"
   ]
  },
  {
   "cell_type": "markdown",
   "id": "421d0b6b-6a99-47ff-9b57-224699df15f8",
   "metadata": {},
   "source": [
    "NumPy is the primary python library for working with arrays. The name itself comes from Numerical Python, and it has become the fundamental package for scientific computing and also the foundation for many other analytic libraries in the python language.\n",
    "\n",
    "> \"NumPy ... is a library for the Python programming language, adding support for large, multi-dimensional arrays and matrices, along with a large collection of high-level mathematical functions to operate on these arrays.\"  \n",
    "https://en.wikipedia.org/wiki/NumPy"
   ]
  },
  {
   "cell_type": "markdown",
   "id": "b729c74e-b846-4f5f-94b7-051ba888df2f",
   "metadata": {
    "tags": []
   },
   "source": [
    "<br>\n",
    "\n",
    "### Simple random data"
   ]
  },
  {
   "cell_type": "markdown",
   "id": "b8206da7-c04e-4799-ad2e-49d051aed9f5",
   "metadata": {},
   "source": [
    "The numpy.random module has been updated recently so I will mostly be concentrating on the newer version and methods. All of the older methods are still supported, and I may be using some of them to demonstrate some aspects of the library. We begin by importing numpy, as per comvention and economy of space as **np**."
   ]
  },
  {
   "cell_type": "code",
   "execution_count": 1,
   "id": "c081eb61-1dfd-4939-8ada-33a91ac4f2ac",
   "metadata": {},
   "outputs": [],
   "source": [
    "# importing NumPy\n",
    "import numpy as np\n",
    "\n",
    "# importing matplotlib.pyplot for plotting and visualisations\n",
    "import matplotlib.pyplot as plt\n",
    "\n",
    "# Creating a default figure size\n",
    "plt.rcParams['figure.figsize']=[12,8]"
   ]
  },
  {
   "cell_type": "markdown",
   "id": "9c1931ff-8665-4a4b-a3e3-fbee111d9b08",
   "metadata": {},
   "source": [
    "Numpy creates random numbers through the use of a **BitGenerator** and a **Generator** - the BitGenerator generates random sequences of bits which are transformed into values by the generator using a variety of distributions.\n",
    "We can create a new constructor using the **default_rng** method to get a new instance of a generator.  "
   ]
  },
  {
   "cell_type": "code",
   "execution_count": 2,
   "id": "00b83316-4fe8-40ca-8ba0-4d4b629addd3",
   "metadata": {},
   "outputs": [
    {
     "data": {
      "text/plain": [
       "Generator(PCG64) at 0x7FBBAF057820"
      ]
     },
     "execution_count": 2,
     "metadata": {},
     "output_type": "execute_result"
    }
   ],
   "source": [
    "# using default_rng() to get a new random number generator\n",
    "rng = np.random.default_rng()\n",
    "rng"
   ]
  },
  {
   "cell_type": "markdown",
   "id": "b60e7042-2576-4492-af8b-69950eddceaa",
   "metadata": {},
   "source": [
    "The default bitgenerator is PCG64 which is a 128-bit implementation of **O’Neill’s permutation congruential generator**.  \n",
    "> \"PCG is a family of simple fast space-efficient statistically good algorithms for random number generation. Unlike many general-purpose RNGs, they are also hard to predict.\"  \n",
    "https://www.pcg-random.org/index.html"
   ]
  },
  {
   "cell_type": "markdown",
   "id": "d6868e14-e315-44fb-952b-f9ebed3aec75",
   "metadata": {
    "tags": []
   },
   "source": [
    "We can pass a seed to the generator or let the computer pull a number from the operating system. More about that later!"
   ]
  },
  {
   "cell_type": "markdown",
   "id": "612dbef5-35cb-45a2-9d9d-4420557730df",
   "metadata": {},
   "source": [
    "<br>\n",
    "\n",
    "**numpy.random.default_rng.random** returns floating point numbers. If no value is passed we get one randomly generated float. If one value is passed we get an array of that length, and if a second value is passed (with extra brackets) we get a 2D array with those parameters."
   ]
  },
  {
   "cell_type": "code",
   "execution_count": 3,
   "id": "493a50f4-0857-46ec-a648-e7226f019f54",
   "metadata": {},
   "outputs": [
    {
     "name": "stdout",
     "output_type": "stream",
     "text": [
      "0.47639559535376885\n"
     ]
    }
   ],
   "source": [
    "# returns a single float\n",
    "x = rng.random()\n",
    "print(x)"
   ]
  },
  {
   "cell_type": "code",
   "execution_count": 4,
   "id": "1ecadc8e-69dd-4e96-aa23-8f2cf3e29fad",
   "metadata": {},
   "outputs": [
    {
     "name": "stdout",
     "output_type": "stream",
     "text": [
      "[0.43686036 0.48492765 0.95408593]\n"
     ]
    }
   ],
   "source": [
    "# returns an array of 3 floats\n",
    "y = rng.random(3)\n",
    "print(y)"
   ]
  },
  {
   "cell_type": "code",
   "execution_count": 5,
   "id": "bcea859e-c7d1-4c18-baf5-f6fa843d1939",
   "metadata": {},
   "outputs": [
    {
     "name": "stdout",
     "output_type": "stream",
     "text": [
      "[[0.12139324 0.12341798 0.21948752]\n",
      " [0.21833382 0.87880707 0.79814803]\n",
      " [0.25734137 0.10364705 0.05595304]]\n"
     ]
    }
   ],
   "source": [
    "# returns an array of 3x3 floats\n",
    "z = rng.random((3,3))\n",
    "print(z)"
   ]
  },
  {
   "cell_type": "markdown",
   "id": "1d34ff8d-62b3-4e71-bb88-9a14524a6a1e",
   "metadata": {},
   "source": [
    "<br>\n",
    "\n",
    "**numpy.random.default_rng.integers** returns integers. If we pass 1 value, that will be the upper limit and non inclusive. 0 is the default lower limit. If we pass 2 values, the first will be the lower limit and the 2nd the upper. 3 values, and the third will be the amount of numbers creating an array."
   ]
  },
  {
   "cell_type": "code",
   "execution_count": 6,
   "id": "34fe8104-1410-439f-a774-209fa16845ec",
   "metadata": {},
   "outputs": [
    {
     "name": "stdout",
     "output_type": "stream",
     "text": [
      "3\n"
     ]
    }
   ],
   "source": [
    "# returns an integer between 0-9\n",
    "x = rng.integers(10)\n",
    "print(x)"
   ]
  },
  {
   "cell_type": "code",
   "execution_count": 7,
   "id": "be8ec535-562f-4319-962a-54cb857a127b",
   "metadata": {},
   "outputs": [
    {
     "name": "stdout",
     "output_type": "stream",
     "text": [
      "5\n"
     ]
    }
   ],
   "source": [
    "y = rng.integers(3,10)\n",
    "print(y)"
   ]
  },
  {
   "cell_type": "code",
   "execution_count": 8,
   "id": "80efb068-14ba-44b4-a112-777410e2e1f6",
   "metadata": {},
   "outputs": [
    {
     "name": "stdout",
     "output_type": "stream",
     "text": [
      "[7 3 2 2 8 4 6 5 2 6 5 6 2 2 4 7 2 8 3 4]\n"
     ]
    }
   ],
   "source": [
    "# returns an array of 20 numbers between 2-9\n",
    "z = rng.integers(2,10,20)\n",
    "print(z)"
   ]
  },
  {
   "cell_type": "markdown",
   "id": "9e6894f9-ea2e-454b-9204-668060698d8b",
   "metadata": {},
   "source": [
    "For all of the above code, if we rerun it we will get different results each time. If we want reproducible results we need to pass in a **seed**. We will look at this in more detail later."
   ]
  },
  {
   "cell_type": "markdown",
   "id": "467bb82f-09ee-4f90-9d61-9803e2f243e5",
   "metadata": {},
   "source": [
    "<br>\n",
    "\n",
    "#### Permutations"
   ]
  },
  {
   "cell_type": "markdown",
   "id": "8085a9b5-f27d-41de-b0c9-0afd9f2b9ece",
   "metadata": {},
   "source": [
    "<br>\n",
    "\n",
    "Within the numpy.random library there are many methods we can use to randomly manipulate the generated or given data. **permutation()** and **shuffle()** both rearrange the order of an array. The main difference is that permutation creates a new array while shuffle alters the original array."
   ]
  },
  {
   "cell_type": "code",
   "execution_count": 9,
   "id": "c5fc44ef-f574-4b76-a144-84f4c0ded34e",
   "metadata": {},
   "outputs": [
    {
     "data": {
      "text/plain": [
       "array([5, 2, 4, 7, 9, 8, 1, 6, 3])"
      ]
     },
     "execution_count": 9,
     "metadata": {},
     "output_type": "execute_result"
    }
   ],
   "source": [
    "# creating an array of numbers 1 to 10\n",
    "arr = np.array([1, 2, 3, 4, 5, 6, 7, 8, 9])\n",
    "\n",
    "# random permutation\n",
    "rng.permutation(arr)"
   ]
  },
  {
   "cell_type": "code",
   "execution_count": 10,
   "id": "75cda6ab-b41d-4ee5-b98a-bd6dc68e9145",
   "metadata": {},
   "outputs": [
    {
     "data": {
      "text/plain": [
       "array([1, 2, 3, 4, 5, 6, 7, 8, 9])"
      ]
     },
     "execution_count": 10,
     "metadata": {},
     "output_type": "execute_result"
    }
   ],
   "source": [
    "# the original array is intact\n",
    "arr"
   ]
  },
  {
   "cell_type": "code",
   "execution_count": 11,
   "id": "7d6f1b72-3f94-43a8-bb5c-66a3c7726450",
   "metadata": {},
   "outputs": [
    {
     "data": {
      "text/plain": [
       "array([9, 2, 4, 7, 1, 8, 3, 6, 5])"
      ]
     },
     "execution_count": 11,
     "metadata": {},
     "output_type": "execute_result"
    }
   ],
   "source": [
    "# 'shuffles' the array and alters the original\n",
    "rng.shuffle(arr)\n",
    "arr"
   ]
  },
  {
   "cell_type": "markdown",
   "id": "ef84722e-e5a5-47f5-b0a2-7ef0791c6504",
   "metadata": {},
   "source": [
    "We can use permutation to create a random array from a range"
   ]
  },
  {
   "cell_type": "code",
   "execution_count": 12,
   "id": "74f1489f-fdd0-4421-af8b-c44af5efdf76",
   "metadata": {},
   "outputs": [
    {
     "name": "stdout",
     "output_type": "stream",
     "text": [
      "[13 16  6  1 12 10  4 19  5 14 18  8  0 17  9  2 15 11  7  3]\n"
     ]
    }
   ],
   "source": [
    "# creates a permutation of the numbers 0-19\n",
    "print(rng.permutation(20))"
   ]
  },
  {
   "cell_type": "markdown",
   "id": "ce99ffa9-289b-4789-8d49-7c2fc9008a22",
   "metadata": {},
   "source": [
    "We can also use it on 2 dimensional arrays. Interestingly it maintains the numbers and order within each row and only rearranges the actual rows. If we add the parameter axis=1 we can permutate within the rows also"
   ]
  },
  {
   "cell_type": "code",
   "execution_count": 13,
   "id": "755ebb94-b013-49f8-b38f-a87cf3ce8f0a",
   "metadata": {},
   "outputs": [
    {
     "name": "stdout",
     "output_type": "stream",
     "text": [
      "[[ 0  1  2  3]\n",
      " [ 4  5  6  7]\n",
      " [ 8  9 10 11]]\n"
     ]
    }
   ],
   "source": [
    "# creates 12 numbers and shapes them into a 3x4 arrany\n",
    "array = np.arange(12).reshape((3, 4))\n",
    "\n",
    "# prints the array\n",
    "print(array)"
   ]
  },
  {
   "cell_type": "code",
   "execution_count": 14,
   "id": "46fda685-6e62-409b-bfad-9b53d60e7938",
   "metadata": {},
   "outputs": [
    {
     "data": {
      "text/plain": [
       "array([[ 8,  9, 10, 11],\n",
       "       [ 0,  1,  2,  3],\n",
       "       [ 4,  5,  6,  7]])"
      ]
     },
     "execution_count": 14,
     "metadata": {},
     "output_type": "execute_result"
    }
   ],
   "source": [
    "# permutates the 2D array - rows only\n",
    "rng.permutation(array)"
   ]
  },
  {
   "cell_type": "code",
   "execution_count": 15,
   "id": "fd7881a5-1678-4da0-b724-a215da60bff1",
   "metadata": {},
   "outputs": [
    {
     "data": {
      "text/plain": [
       "array([[ 0,  2,  3,  1],\n",
       "       [ 4,  6,  7,  5],\n",
       "       [ 8, 10, 11,  9]])"
      ]
     },
     "execution_count": 15,
     "metadata": {},
     "output_type": "execute_result"
    }
   ],
   "source": [
    "# permutates the 2D array - rows and within rows\n",
    "rng.permutation(array, axis=1)"
   ]
  },
  {
   "cell_type": "code",
   "execution_count": 16,
   "id": "0187993c-24e8-4e74-8cfc-49abc9fd69dd",
   "metadata": {},
   "outputs": [
    {
     "data": {
      "text/plain": [
       "array([[ 0,  1,  2,  3],\n",
       "       [ 4,  5,  6,  7],\n",
       "       [ 8,  9, 10, 11]])"
      ]
     },
     "execution_count": 16,
     "metadata": {},
     "output_type": "execute_result"
    }
   ],
   "source": [
    "# just to confirm the original array is intact\n",
    "array"
   ]
  },
  {
   "cell_type": "markdown",
   "id": "d71ef031-8bb9-4f42-8992-672afcd397e6",
   "metadata": {
    "tags": []
   },
   "source": [
    "We can do the same using the shuffle method - again the main difference being shuffle alters the original array."
   ]
  },
  {
   "cell_type": "code",
   "execution_count": 17,
   "id": "57926963-9fc3-41f8-afd5-b54dd6742aaa",
   "metadata": {},
   "outputs": [
    {
     "data": {
      "text/plain": [
       "array([[ 1,  3,  0,  2],\n",
       "       [ 5,  7,  4,  6],\n",
       "       [ 9, 11,  8, 10]])"
      ]
     },
     "execution_count": 17,
     "metadata": {},
     "output_type": "execute_result"
    }
   ],
   "source": [
    "# shuffles the array\n",
    "rng.shuffle(array, axis=1)\n",
    "array"
   ]
  },
  {
   "cell_type": "code",
   "execution_count": 18,
   "id": "d84a1417-f804-4614-a840-465c6f681e80",
   "metadata": {},
   "outputs": [
    {
     "data": {
      "text/plain": [
       "array([[ 1,  3,  0,  2],\n",
       "       [ 5,  7,  4,  6],\n",
       "       [ 9, 11,  8, 10]])"
      ]
     },
     "execution_count": 18,
     "metadata": {},
     "output_type": "execute_result"
    }
   ],
   "source": [
    "# just to confirm the array is now altered\n",
    "array"
   ]
  },
  {
   "cell_type": "markdown",
   "id": "e7d3fc00-f11a-4793-b37e-6dc04b5d8b83",
   "metadata": {},
   "source": [
    "<br>\n",
    "\n",
    "A few other interesting methods available to us"
   ]
  },
  {
   "cell_type": "markdown",
   "id": "5a3d9e7e-9e13-44d0-8af0-2b8398b04827",
   "metadata": {},
   "source": [
    "**numpy.random.default_rng.choice** generates a random sample from a given array. The first value in brackets is the upper range, while the 2nd is the number of values returned."
   ]
  },
  {
   "cell_type": "code",
   "execution_count": 19,
   "id": "f1800315-bbb7-4265-b2d5-542095a20939",
   "metadata": {},
   "outputs": [
    {
     "data": {
      "text/plain": [
       "array([10, 28, 12, 24, 20, 27, 17])"
      ]
     },
     "execution_count": 19,
     "metadata": {},
     "output_type": "execute_result"
    }
   ],
   "source": [
    "# choose 7 numbers at random from the range 0-39\n",
    "rng.choice(40, 7)"
   ]
  },
  {
   "cell_type": "markdown",
   "id": "8a2aa3ef-7dcf-4236-af70-680bed3228fb",
   "metadata": {},
   "source": [
    "**numpy.random.default_rng.bytes** returns random bytes"
   ]
  },
  {
   "cell_type": "code",
   "execution_count": 20,
   "id": "8ff7a373-3870-4543-bc36-fe7635c45ccd",
   "metadata": {},
   "outputs": [
    {
     "data": {
      "text/plain": [
       "b'\\xa5Le;\\x8b\\x8e\\x9c\\xf7\\x10j'"
      ]
     },
     "execution_count": 20,
     "metadata": {},
     "output_type": "execute_result"
    }
   ],
   "source": [
    "# returns 10 random bytes!\n",
    "rng.bytes(10)"
   ]
  },
  {
   "cell_type": "markdown",
   "id": "f921fc40-26b0-46fb-9006-d1634ba4768a",
   "metadata": {},
   "source": [
    "<br>\n",
    "\n",
    "## Distributions\n",
    "___"
   ]
  },
  {
   "cell_type": "markdown",
   "id": "9135a0dd-281f-47d7-81f6-ca3a3c6317fc",
   "metadata": {},
   "source": [
    "Probability distributions are how values are distributed within a given range or criteria. I will go through several of the more common examples."
   ]
  },
  {
   "cell_type": "markdown",
   "id": "138b7dff-5e49-400e-bced-36f7e040b686",
   "metadata": {},
   "source": [
    "### Uniform Distribution\n",
    "\n",
    "This is where each event has an equal chance of occurring, such as rolling a single dice or choosing a particular playing card from the deck.\n",
    "The basic syntax is as follows - the default parameters are 0.0 and 1.0 so the following code will return a floating point number between those two values. The uniform distribution dictates that the value has an equal chance of falling at any point between the 2."
   ]
  },
  {
   "cell_type": "code",
   "execution_count": 21,
   "id": "01da8bcf-55e6-4076-a5ce-a178949cef92",
   "metadata": {},
   "outputs": [
    {
     "data": {
      "text/plain": [
       "0.579785397109685"
      ]
     },
     "execution_count": 21,
     "metadata": {},
     "output_type": "execute_result"
    }
   ],
   "source": [
    "# return a floating point number between 0.0 and 1.0\n",
    "x = rng.uniform()\n",
    "x"
   ]
  },
  {
   "cell_type": "markdown",
   "id": "feeae8b6-1536-4028-ba3a-b0229fbc41ac",
   "metadata": {},
   "source": [
    "We can pass some parameters in then"
   ]
  },
  {
   "cell_type": "code",
   "execution_count": 22,
   "id": "460fca72-8c2f-4147-9447-297dc7ab1ac9",
   "metadata": {},
   "outputs": [
    {
     "data": {
      "text/plain": [
       "2.43675821088086"
      ]
     },
     "execution_count": 22,
     "metadata": {},
     "output_type": "execute_result"
    }
   ],
   "source": [
    "# returns a floating point number between 0.0 and 4.0\n",
    "x = rng.uniform(4)\n",
    "x"
   ]
  },
  {
   "cell_type": "code",
   "execution_count": 23,
   "id": "edc76369-705d-49e8-bfd4-ddba9120d464",
   "metadata": {},
   "outputs": [
    {
     "data": {
      "text/plain": [
       "3.8229705377105763"
      ]
     },
     "execution_count": 23,
     "metadata": {},
     "output_type": "execute_result"
    }
   ],
   "source": [
    "# return a floating point number between 3.0 and 4.0\n",
    "x = rng.uniform(3,4)\n",
    "x"
   ]
  },
  {
   "cell_type": "code",
   "execution_count": 24,
   "id": "54e28bde-e211-4323-b549-8956307f1307",
   "metadata": {
    "tags": []
   },
   "outputs": [
    {
     "data": {
      "text/plain": [
       "array([[13.29994236, 14.06898811, 12.28743847],\n",
       "       [10.04764216, 11.68401663, 13.67667612],\n",
       "       [10.68608475, 10.52884686, 10.55238236],\n",
       "       [14.7704113 , 12.508594  , 12.62513446]])"
      ]
     },
     "execution_count": 24,
     "metadata": {},
     "output_type": "execute_result"
    }
   ],
   "source": [
    "# returns a 2D array of floating point numbers between 10.0 and 15.0\n",
    "x = rng.uniform(10, 15, size=(4, 3))\n",
    "x"
   ]
  },
  {
   "cell_type": "markdown",
   "id": "fa1eac7d-1759-4f38-b63f-49be51c9aec1",
   "metadata": {},
   "source": [
    "<br>\n",
    "\n",
    "#### Sample size"
   ]
  },
  {
   "cell_type": "markdown",
   "id": "6c05e3a4-9209-4e84-9f34-b6eabda31732",
   "metadata": {},
   "source": [
    "The following code creates various sizes of arrays of values between 0 and 100. In theory there's an equal chance for each value to occur but this only becomes obvious when we increase the smaple size. The set of plots below demonstrate that clearly. The final plot which has a sample of 1 million values is nearly a straight line."
   ]
  },
  {
   "cell_type": "code",
   "execution_count": 25,
   "id": "8428efb4-fbc3-4e67-b625-09d830b86deb",
   "metadata": {
    "tags": []
   },
   "outputs": [],
   "source": [
    "# looking at the difference the sample size makes\n",
    "x = rng.integers(100, size = 10)\n",
    "y = rng.integers(100, size = 100)\n",
    "z = rng.integers(100, size = 1000)\n",
    "a = rng.integers(100, size = 10000)\n",
    "b = rng.integers(100, size = 100000)\n",
    "c = rng.integers(100, size = 1000000)"
   ]
  },
  {
   "cell_type": "code",
   "execution_count": 26,
   "id": "53baa821-cebd-4f0c-9a2a-bb4f06285526",
   "metadata": {},
   "outputs": [
    {
     "data": {
      "image/png": "[encoded data removed]",
      "text/plain": [
       "<Figure size 864x576 with 6 Axes>"
      ]
     },
     "metadata": {
      "needs_background": "light"
     },
     "output_type": "display_data"
    }
   ],
   "source": [
    "# plt.subplots(3,2) creates 3 rows and 2 columns of plots\n",
    "# axs[0,0] etc. specifies where this plot goes in the arrangement\n",
    "fig, axs = plt.subplots(3,2)\n",
    "axs[0,0].hist(x, bins=100)\n",
    "axs[0,0].set_title('Sample Size 10')\n",
    "axs[0,1].hist(y, bins=100)\n",
    "axs[0,1].set_title('Sample Size 100')\n",
    "axs[1,0].hist(z, bins=100)\n",
    "axs[1,0].set_title('Sample Size 1000')\n",
    "axs[1,1].hist(a, bins=100)\n",
    "axs[1,1].set_title('Sample Size 10000')\n",
    "axs[2,0].hist(b, bins=100)\n",
    "axs[2,0].set_title('Sample Size 100000')\n",
    "axs[2,1].hist(c, bins=100)\n",
    "axs[2,1].set_title('Sample Size 1000000')\n",
    "# creates space between each of the subplots\n",
    "fig.tight_layout()"
   ]
  },
  {
   "cell_type": "markdown",
   "id": "ecb18530-5252-4f59-9254-aa274fe5b294",
   "metadata": {
    "tags": []
   },
   "source": [
    "Another example below, this time specifying a lower minus value. As above if no lower value is set then zero is the default."
   ]
  },
  {
   "cell_type": "code",
   "execution_count": 27,
   "id": "8937d59d-3910-4abb-9768-2e4788f7ce6c",
   "metadata": {
    "scrolled": true,
    "tags": []
   },
   "outputs": [
    {
     "data": {
      "text/plain": [
       "array([-0.82239971, -0.08795583, -0.15051123, -0.93983679, -0.05292415,\n",
       "       -0.49691097, -0.64764632, -0.76763125, -0.45182153, -0.9730729 ,\n",
       "       -0.74113876, -0.62211038, -0.02236362, -0.31725112, -0.87527775,\n",
       "       -0.25642261, -0.39059318, -0.53124508, -0.70864759, -0.88551091,\n",
       "       -0.99764229, -0.88077645, -0.97212449, -0.65144911, -0.70991846,\n",
       "       -0.30307532, -0.62555603, -0.69681965, -0.36487038, -0.17576318,\n",
       "       -0.91461993, -0.77506969, -0.14443379, -0.69816492, -0.44098125,\n",
       "       -0.91870252, -0.46668159, -0.25364774, -0.32913408, -0.76475035,\n",
       "       -0.87141571, -0.28031119, -0.59038263, -0.23884585, -0.22554871,\n",
       "       -0.20532129, -0.41306026, -0.1059316 , -0.78038729, -0.67819638,\n",
       "       -0.39935879, -0.7710401 , -0.52578298, -0.0903194 , -0.12344574,\n",
       "       -0.4318455 , -0.74085062, -0.0626271 , -0.67819251, -0.2924391 ,\n",
       "       -0.76959901, -0.47531001, -0.66007876, -0.24515384, -0.47420854,\n",
       "       -0.3390831 , -0.31661043, -0.8088203 , -0.75444866, -0.84429672,\n",
       "       -0.0575635 , -0.22664879, -0.43940227, -0.57183449, -0.9346058 ,\n",
       "       -0.16233167, -0.57265161, -0.96822773, -0.11235463, -0.25278908,\n",
       "       -0.58488808, -0.2110976 , -0.12143319, -0.73579272, -0.02646104,\n",
       "       -0.67750908, -0.13541793, -0.05159304, -0.8890864 , -0.02953823,\n",
       "       -0.02381323, -0.72186064, -0.12310497, -0.17569492, -0.04118307,\n",
       "       -0.96513559, -0.79532943, -0.85214226, -0.22647209, -0.39696886,\n",
       "       -0.91202218, -0.00903772, -0.70422239, -0.1879701 , -0.39761378,\n",
       "       -0.92224287, -0.90617379, -0.65030339, -0.49179708, -0.3485643 ,\n",
       "       -0.0749388 , -0.13980304, -0.57273065, -0.64780477, -0.37838532,\n",
       "       -0.60748791, -0.75185961, -0.73574507, -0.19165137, -0.6110609 ,\n",
       "       -0.78613568, -0.4616387 , -0.51632559, -0.81476708, -0.14254353,\n",
       "       -0.13571768, -0.52640246, -0.50698002, -0.76127717, -0.80586853,\n",
       "       -0.74783842, -0.70812353, -0.7850687 , -0.70931136, -0.28984221,\n",
       "       -0.10631596, -0.25346901, -0.6991324 , -0.1594714 , -0.88332771,\n",
       "       -0.63507158, -0.30583031, -0.96098535, -0.64388618, -0.80392583,\n",
       "       -0.36508673, -0.89180028, -0.04301919, -0.45872998, -0.72331967,\n",
       "       -0.53833553, -0.81836645, -0.47169499, -0.82410245, -0.67272036,\n",
       "       -0.95370332, -0.37194475, -0.95527741, -0.33346766, -0.47178601,\n",
       "       -0.34815793, -0.48564694, -0.26118082, -0.30540217, -0.67563305,\n",
       "       -0.23654087, -0.14666787, -0.62190766, -0.35508991, -0.16438221,\n",
       "       -0.41954491, -0.4164767 , -0.96521183, -0.91787303, -0.84759896,\n",
       "       -0.89498002, -0.83421588, -0.69259937, -0.0700787 , -0.79635474,\n",
       "       -0.7302398 , -0.1144103 , -0.12093112, -0.04296177, -0.93499335,\n",
       "       -0.10023684, -0.07632607, -0.73698159, -0.99418264, -0.32352799,\n",
       "       -0.47573904, -0.75802002, -0.93517967, -0.81040367, -0.98158356,\n",
       "       -0.8426144 , -0.63729627, -0.83645166, -0.82651541, -0.67029186,\n",
       "       -0.66051795, -0.94785651, -0.0625813 , -0.30798555, -0.81137774,\n",
       "       -0.31123661, -0.75906485, -0.09343117, -0.13579467, -0.26921712,\n",
       "       -0.67457871, -0.8363065 , -0.65230388, -0.86560617, -0.93911169,\n",
       "       -0.72685258, -0.68879502, -0.34091818, -0.04576653, -0.9101493 ,\n",
       "       -0.99301099, -0.16448261, -0.00214827, -0.43528785, -0.54130277,\n",
       "       -0.04466932, -0.43927686, -0.62273397, -0.05186132, -0.62078378,\n",
       "       -0.69543948, -0.92475843, -0.69982012, -0.61137184, -0.37786431,\n",
       "       -0.92677661, -0.05665414, -0.8087402 , -0.68073216, -0.03645441,\n",
       "       -0.56655521, -0.87924232, -0.69737008, -0.33341424, -0.10246091,\n",
       "       -0.50213685, -0.65384723, -0.06666165, -0.56268549, -0.63169051,\n",
       "       -0.24873521, -0.09991447, -0.28836793, -0.46552227, -0.20151019,\n",
       "       -0.77002141, -0.08381535, -0.24073177, -0.14849303, -0.37093438,\n",
       "       -0.25748018, -0.95631453, -0.78961874, -0.79070045, -0.07581194,\n",
       "       -0.99646505, -0.9810903 , -0.06832434, -0.05577605, -0.23290582,\n",
       "       -0.53463556, -0.55465844, -0.56491086, -0.48372298, -0.67938422,\n",
       "       -0.80838824, -0.88185896, -0.48016507, -0.22250601, -0.70666135,\n",
       "       -0.84984739, -0.2338062 , -0.15735661, -0.21739724, -0.42256135,\n",
       "       -0.48179889, -0.20454575, -0.20818182, -0.53716392, -0.18899461,\n",
       "       -0.16737889, -0.48743357, -0.88127241, -0.98026043, -0.43695209,\n",
       "       -0.53828617, -0.5756898 , -0.05692871, -0.77936201, -0.98431167,\n",
       "       -0.39887427, -0.45220616, -0.42089339, -0.43735812, -0.89742268,\n",
       "       -0.24022611, -0.35910412, -0.83091857, -0.61203964, -0.2883144 ,\n",
       "       -0.41573048, -0.06978165, -0.08194099, -0.77902384, -0.86611972,\n",
       "       -0.23063718, -0.62123517, -0.10305876, -0.55379361, -0.40256542,\n",
       "       -0.55873285, -0.67219571, -0.32184839, -0.50543532, -0.93059162,\n",
       "       -0.90586077, -0.02702232, -0.74162679, -0.06287934, -0.27005309,\n",
       "       -0.57216247, -0.99990984, -0.18356624, -0.4293606 , -0.2223837 ,\n",
       "       -0.68161718, -0.78410093, -0.20541672, -0.29520949, -0.94255593,\n",
       "       -0.64509781, -0.93790936, -0.2782398 , -0.48281855, -0.44122   ,\n",
       "       -0.18536533, -0.74964936, -0.17798525, -0.0825815 , -0.9101596 ,\n",
       "       -0.42479817, -0.03085457, -0.14661382, -0.92949684, -0.47138138,\n",
       "       -0.61673751, -0.2171223 , -0.28957995, -0.77789013, -0.20913053,\n",
       "       -0.56208175, -0.07700977, -0.80624437, -0.2610669 , -0.9662252 ,\n",
       "       -0.84446445, -0.60897047, -0.46026475, -0.29991154, -0.11879194,\n",
       "       -0.86460647, -0.85831954, -0.18223099, -0.34221817, -0.92612044,\n",
       "       -0.16614704, -0.97757934, -0.28252547, -0.09333278, -0.30851465,\n",
       "       -0.40826867, -0.58775716, -0.04871674, -0.77747043, -0.68506222,\n",
       "       -0.84375148, -0.78080673, -0.20412079, -0.70642546, -0.11799571,\n",
       "       -0.44921215, -0.6905814 , -0.57544808, -0.53113013, -0.59363032,\n",
       "       -0.15425954, -0.2980756 , -0.04825466, -0.57376823, -0.84872449,\n",
       "       -0.95689022, -0.02167239, -0.4167049 , -0.42731263, -0.97033392,\n",
       "       -0.36021498, -0.33146463, -0.90335216, -0.40782356, -0.33565596,\n",
       "       -0.5271655 , -0.18201374, -0.90996673, -0.28915144, -0.48497214,\n",
       "       -0.62568019, -0.74436121, -0.12860801, -0.55209389, -0.62635481,\n",
       "       -0.38542324, -0.47579285, -0.69983238, -0.68209394, -0.8708622 ,\n",
       "       -0.31852658, -0.11011376, -0.20890695, -0.13287888, -0.35566439,\n",
       "       -0.16790022, -0.39995103, -0.82902403, -0.63719059, -0.75098195,\n",
       "       -0.31301641, -0.48451025, -0.47893099, -0.03827949, -0.9860017 ,\n",
       "       -0.44643837, -0.77419223, -0.42242246, -0.80204841, -0.91127913,\n",
       "       -0.63499116, -0.40332525, -0.88180089, -0.44555391, -0.24752462,\n",
       "       -0.0773877 , -0.82928404, -0.244103  , -0.75369948, -0.12997271,\n",
       "       -0.03119972, -0.20244924, -0.66963284, -0.07374919, -0.5286078 ,\n",
       "       -0.77559405, -0.18644893, -0.39265549, -0.68021969, -0.81482791,\n",
       "       -0.61395138, -0.90038751, -0.9377936 , -0.03948162, -0.10917892,\n",
       "       -0.64821546, -0.99690728, -0.20915761, -0.28605907, -0.08175691,\n",
       "       -0.85372737, -0.90167243, -0.83358272, -0.21676123, -0.55911571,\n",
       "       -0.77714073, -0.26144762, -0.06133045, -0.78209759, -0.88157149,\n",
       "       -0.40428617, -0.85515255, -0.35547213, -0.52259526, -0.91745972,\n",
       "       -0.97224915, -0.79848411, -0.17036026, -0.42132001, -0.30208678,\n",
       "       -0.03999872, -0.48916313, -0.59453666, -0.56934233, -0.50714855,\n",
       "       -0.90515517, -0.13870301, -0.30237435, -0.52202158, -0.52620147,\n",
       "       -0.7667877 , -0.97827965, -0.29314535, -0.04370294, -0.44755681,\n",
       "       -0.5624214 , -0.45081399, -0.31354609, -0.19498182, -0.10550839,\n",
       "       -0.38436627, -0.97233429, -0.21758698, -0.26254107, -0.86444827,\n",
       "       -0.94744585, -0.89378703, -0.74204949, -0.54438877, -0.30192556,\n",
       "       -0.77140777, -0.58725806, -0.03962348, -0.13088069, -0.24329523,\n",
       "       -0.01712352, -0.79178657, -0.07945363, -0.50104708, -0.71925888,\n",
       "       -0.58638068, -0.26412616, -0.19706734, -0.83786869, -0.04908301,\n",
       "       -0.99315567, -0.96278358, -0.54028932, -0.11553007, -0.20462611,\n",
       "       -0.18263168, -0.69250859, -0.1338417 , -0.42141533, -0.90262577,\n",
       "       -0.29115932, -0.57505709, -0.65929305, -0.92778857, -0.40623788,\n",
       "       -0.60132001, -0.35876026, -0.08854799, -0.07745159, -0.02784982,\n",
       "       -0.19999555, -0.63220923, -0.96045109, -0.63344659, -0.85625015,\n",
       "       -0.08528854, -0.63300643, -0.49405672, -0.79161698, -0.01633613,\n",
       "       -0.90625565, -0.52583433, -0.89640197, -0.19403739, -0.90590871,\n",
       "       -0.14482445, -0.50947625, -0.30694241, -0.97882079, -0.06933298,\n",
       "       -0.27327291, -0.93995989, -0.68064414, -0.63568695, -0.15676583,\n",
       "       -0.91789989, -0.0032364 , -0.13005332, -0.0982608 , -0.21583407,\n",
       "       -0.29607999, -0.17828363, -0.69174442, -0.77214724, -0.64238971,\n",
       "       -0.63503561, -0.41182343, -0.37791661, -0.36920851, -0.40659579,\n",
       "       -0.39305587, -0.99204915, -0.62392991, -0.60085006, -0.74289623,\n",
       "       -0.31819672, -0.86517147, -0.39996669, -0.20132558, -0.16178005,\n",
       "       -0.59674257, -0.01037621, -0.01612383, -0.27413027, -0.66290734,\n",
       "       -0.09641673, -0.64904956, -0.82039232, -0.32289275, -0.66732538,\n",
       "       -0.09174355, -0.47017555, -0.98642897, -0.11617931, -0.03826626,\n",
       "       -0.52885369, -0.68222332, -0.24847574, -0.32049207, -0.22674668,\n",
       "       -0.24057694, -0.82809458, -0.19450349, -0.76303509, -0.06619605,\n",
       "       -0.48133562, -0.89187754, -0.45737262, -0.41085636, -0.48517863,\n",
       "       -0.38431553, -0.81786407, -0.98332307, -0.51852436, -0.48290445,\n",
       "       -0.46016768, -0.73990067, -0.90862013, -0.00928097, -0.09812098,\n",
       "       -0.23431172, -0.19169712, -0.22000001, -0.93240031, -0.53170168,\n",
       "       -0.42661835, -0.56297495, -0.34999349, -0.06135277, -0.92307305,\n",
       "       -0.44679207, -0.37874738, -0.32369702, -0.09702155, -0.41609284,\n",
       "       -0.08940184, -0.4103205 , -0.37189214, -0.94917606, -0.77286443,\n",
       "       -0.6177854 , -0.69679592, -0.41929659, -0.01035611, -0.17325248,\n",
       "       -0.80585321, -0.93318597, -0.07315191, -0.65136751, -0.29979654,\n",
       "       -0.81001433, -0.01129296, -0.03937631, -0.04375225, -0.42210263,\n",
       "       -0.75597775, -0.19381055, -0.9768651 , -0.3173549 , -0.61526893,\n",
       "       -0.40897388, -0.8815249 , -0.04095265, -0.21001852, -0.32944637,\n",
       "       -0.95383546, -0.32403536, -0.69186885, -0.93698202, -0.3830717 ,\n",
       "       -0.5812853 , -0.90879152, -0.42919224, -0.59049069, -0.6691977 ,\n",
       "       -0.59242865, -0.91508812, -0.35289334, -0.52410888, -0.98525131,\n",
       "       -0.81911741, -0.26581538, -0.6210397 , -0.01028366, -0.80619464,\n",
       "       -0.2741888 , -0.73806405, -0.09233708, -0.75272115, -0.1191658 ,\n",
       "       -0.22186946, -0.23658968, -0.9310828 , -0.80359747, -0.69754259,\n",
       "       -0.6849733 , -0.13572765, -0.39988631, -0.9897128 , -0.785312  ,\n",
       "       -0.54197339, -0.39057121, -0.66763176, -0.46875781, -0.73204513,\n",
       "       -0.40423153, -0.78911919, -0.40750456, -0.62835376, -0.02224907,\n",
       "       -0.11021502, -0.64822545, -0.13211298, -0.44597568, -0.92923637,\n",
       "       -0.79823754, -0.5694909 , -0.90491873, -0.43916913, -0.54070452,\n",
       "       -0.65879005, -0.74787399, -0.84097307, -0.3037928 , -0.43087801,\n",
       "       -0.69715313, -0.77970603, -0.88864777, -0.01988851, -0.92617891,\n",
       "       -0.87900531, -0.90506645, -0.6055569 , -0.93218387, -0.27198901,\n",
       "       -0.3290413 , -0.84089403, -0.75584219, -0.61603976, -0.86617816,\n",
       "       -0.23793601, -0.21967459, -0.70492474, -0.07613697, -0.99951392,\n",
       "       -0.17985984, -0.38482972, -0.83384525, -0.54694739, -0.45674314,\n",
       "       -0.83090431, -0.68726682, -0.61603592, -0.35557447, -0.50055492,\n",
       "       -0.85726888, -0.57220089, -0.60699003, -0.11720781, -0.25117648,\n",
       "       -0.75096842, -0.80421911, -0.94815993, -0.18048462, -0.32152437,\n",
       "       -0.19967087, -0.91299729, -0.09400619, -0.15635696, -0.73366429,\n",
       "       -0.05598473, -0.78434631, -0.45714173, -0.55021822, -0.06828339,\n",
       "       -0.28490036, -0.57639619, -0.88463982, -0.52439916, -0.94617578,\n",
       "       -0.40065063, -0.53142764, -0.27174836, -0.77145059, -0.85714769,\n",
       "       -0.64011312, -0.47417278, -0.55735621, -0.54325236, -0.02143593,\n",
       "       -0.07801061, -0.69695643, -0.78142221, -0.63026644, -0.31633734,\n",
       "       -0.53509402, -0.04836395, -0.79518957, -0.56379719, -0.45297733,\n",
       "       -0.63013352, -0.89345344, -0.60930443, -0.30055867, -0.83049661,\n",
       "       -0.26286274, -0.05663341, -0.56629366, -0.37336634, -0.31701639,\n",
       "       -0.44427224, -0.17827312, -0.80428636, -0.74361185, -0.32674473,\n",
       "       -0.76415626, -0.43256557, -0.10741118, -0.52667461, -0.7887641 ,\n",
       "       -0.50575217, -0.35540417, -0.50910427, -0.87017967, -0.35444274,\n",
       "       -0.21535715, -0.7126147 , -0.03032665, -0.43090108, -0.78490463,\n",
       "       -0.85285272, -0.60500558, -0.30289041, -0.7961693 , -0.48351487,\n",
       "       -0.0149594 , -0.48112371, -0.38866099, -0.41687072, -0.52984721,\n",
       "       -0.16482858, -0.33089948, -0.47845338, -0.81830615, -0.04499386,\n",
       "       -0.29314971, -0.31700645, -0.75559796, -0.15587212, -0.15211335,\n",
       "       -0.30107019, -0.1199486 , -0.64938302, -0.02303691, -0.27885894,\n",
       "       -0.49321186, -0.20660068, -0.71173803, -0.49956021, -0.21895406,\n",
       "       -0.2185546 , -0.25646562, -0.20036484, -0.54082437, -0.34863479,\n",
       "       -0.13784916, -0.18626608, -0.70586023, -0.61240281, -0.83461738,\n",
       "       -0.45139424, -0.15550486, -0.45650182, -0.47067851, -0.51796929,\n",
       "       -0.00985629, -0.24160078, -0.20481428, -0.06050487, -0.33908319,\n",
       "       -0.14266872, -0.19192819, -0.80856721, -0.12465162, -0.90390721,\n",
       "       -0.54893414, -0.7117685 , -0.02445596, -0.64677647, -0.85370365,\n",
       "       -0.71317112, -0.33175548, -0.98325025, -0.69568052, -0.74186407,\n",
       "       -0.97686079, -0.84444215, -0.75444411, -0.90325053, -0.3177362 ,\n",
       "       -0.83578615, -0.27425336, -0.04061932, -0.50633755, -0.19918107,\n",
       "       -0.73310538, -0.98705039, -0.80161762, -0.44488967, -0.63861882,\n",
       "       -0.74468814, -0.51172852, -0.4082897 , -0.43427024, -0.07287017,\n",
       "       -0.33754936, -0.51663173, -0.89331721, -0.42282581, -0.7473138 ,\n",
       "       -0.93488927, -0.19450387, -0.44850521, -0.24455565, -0.73108652,\n",
       "       -0.52318055, -0.33424077, -0.13496181, -0.27967977, -0.36619677,\n",
       "       -0.0612103 , -0.61265236, -0.34877434, -0.67542701, -0.31410471,\n",
       "       -0.852025  , -0.0429765 , -0.70864762, -0.46812147, -0.18074213,\n",
       "       -0.51573086, -0.08064085, -0.63480966, -0.63233903, -0.3120427 ,\n",
       "       -0.58363988, -0.05469484, -0.63514352, -0.95650834, -0.49204011,\n",
       "       -0.63542471, -0.18006291, -0.75281762, -0.80117502, -0.1742637 ,\n",
       "       -0.05844575, -0.13946311, -0.39864127, -0.13693766, -0.92234254,\n",
       "       -0.0774216 , -0.38469247, -0.20188417, -0.03106228, -0.96777427,\n",
       "       -0.08750862, -0.23751678, -0.30192863, -0.49067363, -0.91223764])"
      ]
     },
     "execution_count": 27,
     "metadata": {},
     "output_type": "execute_result"
    }
   ],
   "source": [
    "# range is -1 to 0, and we're getting 1000 numbers\n",
    "np.random.uniform(-1,0,1000)"
   ]
  },
  {
   "cell_type": "code",
   "execution_count": 28,
   "id": "28163bef-d7b8-4380-b65d-dd8833ae8259",
   "metadata": {},
   "outputs": [
    {
     "data": {
      "text/plain": [
       "[<matplotlib.lines.Line2D at 0x7fbbb0ab3160>]"
      ]
     },
     "execution_count": 28,
     "metadata": {},
     "output_type": "execute_result"
    },
    {
     "data": {
      "image/png": "[encoded data removed]",
      "text/plain": [
       "<Figure size 864x576 with 1 Axes>"
      ]
     },
     "metadata": {
      "needs_background": "light"
     },
     "output_type": "display_data"
    }
   ],
   "source": [
    "# visualise\n",
    "y = np.random.uniform(-1,0,1000)\n",
    "count, bins, ignored = plt.hist(y, 15, density=True)\n",
    "plt.plot(bins, np.ones_like(bins), linewidth=2, color='r') # include a red line to show the average"
   ]
  },
  {
   "cell_type": "code",
   "execution_count": 29,
   "id": "88a21cde-75db-40eb-a978-a960fb65eac4",
   "metadata": {},
   "outputs": [
    {
     "data": {
      "text/plain": [
       "[<matplotlib.lines.Line2D at 0x7fbbb0c5dc70>]"
      ]
     },
     "execution_count": 29,
     "metadata": {},
     "output_type": "execute_result"
    },
    {
     "data": {
      "image/png": "[encoded data removed]",
      "text/plain": [
       "<Figure size 864x576 with 1 Axes>"
      ]
     },
     "metadata": {
      "needs_background": "light"
     },
     "output_type": "display_data"
    }
   ],
   "source": [
    "# the more times we run it the flatter the line at the top\n",
    "x = np.random.uniform(-1,0,100000)\n",
    "\n",
    "count, bins, ignored = plt.hist(x, 15, density=True)\n",
    "plt.plot(bins, np.ones_like(bins), linewidth=2, color='r')"
   ]
  },
  {
   "cell_type": "markdown",
   "id": "76f2d4d0-ab81-4bb0-9be0-55872b5bd9b8",
   "metadata": {
    "tags": []
   },
   "source": [
    "## Normal distribution"
   ]
  },
  {
   "cell_type": "markdown",
   "id": "a0cb97c6-986e-4508-93e4-34b1377f6874",
   "metadata": {},
   "source": [
    "![Normal_Dist](Images/standardNormal2.png)"
   ]
  },
  {
   "cell_type": "markdown",
   "id": "9c710487-d3d5-4198-9789-5f73c9dff81a",
   "metadata": {},
   "source": [
    "Normal distribution represents the behavior of most of the situations in the universe - that's why it’s called a “normal” distribution. I guess! Also know as Standard Normal, Gaussian Distribution or Bell Curve, it is one of the widest used distributions. It represents things like IQ Scores and heartbeats among others.  \n",
    "The parameters are as follows:\n",
    "1) mean - peak of the bell curve\n",
    "2) standard deviation - distance from the mean\n",
    "3) size - shape of the array  \n",
    "\n",
    "If no paremters are passed a single value will be returned using a mean of 0 and standard deviation of 1"
   ]
  },
  {
   "cell_type": "code",
   "execution_count": 31,
   "id": "5a79b451-9807-4505-b865-1af89e8efffc",
   "metadata": {},
   "outputs": [
    {
     "data": {
      "text/plain": [
       "-0.3166771144536574"
      ]
     },
     "execution_count": 31,
     "metadata": {},
     "output_type": "execute_result"
    }
   ],
   "source": [
    "x = rng.standard_normal()\n",
    "x"
   ]
  },
  {
   "cell_type": "code",
   "execution_count": 32,
   "id": "8ceb2b39-ffe7-4d0f-840a-fd8b8deeac54",
   "metadata": {
    "scrolled": true,
    "tags": []
   },
   "outputs": [
    {
     "data": {
      "text/plain": [
       "array([  7.77071815,  76.58082238,  18.22600761, ..., -18.41623156,\n",
       "        25.59933301,  77.60335021])"
      ]
     },
     "execution_count": 32,
     "metadata": {},
     "output_type": "execute_result"
    }
   ],
   "source": [
    "# (10,100,10000) 1st value is mean, 2nd is SD, 3rd of amount of numbers returned\n",
    "z = np.random.normal(10, 100, 10000)\n",
    "z"
   ]
  },
  {
   "cell_type": "code",
   "execution_count": 33,
   "id": "6c0fc4d1-64c8-4b82-90ea-a2fe65c505fc",
   "metadata": {},
   "outputs": [
    {
     "data": {
      "text/plain": [
       "(array([  76.,  336., 1087., 2240., 2886., 2100.,  944.,  281.,   45.,\n",
       "           5.]),\n",
       " array([-303.05669637, -232.24075043, -161.42480448,  -90.60885853,\n",
       "         -19.79291258,   51.02303337,  121.83897932,  192.65492526,\n",
       "         263.47087121,  334.28681716,  405.10276311]),\n",
       " <BarContainer object of 10 artists>)"
      ]
     },
     "execution_count": 33,
     "metadata": {},
     "output_type": "execute_result"
    },
    {
     "data": {
      "image/png": "[encoded data removed]",
      "text/plain": [
       "<Figure size 864x576 with 1 Axes>"
      ]
     },
     "metadata": {
      "needs_background": "light"
     },
     "output_type": "display_data"
    }
   ],
   "source": [
    "# creates a histogram for z\n",
    "plt.hist(z)"
   ]
  },
  {
   "cell_type": "markdown",
   "id": "2a93c8bf-c236-4a63-9592-f1ab327a9a03",
   "metadata": {
    "tags": []
   },
   "source": [
    "## Binomial Distribution"
   ]
  },
  {
   "cell_type": "markdown",
   "id": "3b63ed8c-d59f-4805-b51d-2d741520f24d",
   "metadata": {
    "tags": []
   },
   "source": [
    "Binomial distribution is when we're dealing with only 2 outcomes. These can be equal such as a coin toss as demomstrated below. Or if we know the probability of an outcome we can insert that as in the second example.\n",
    "\n",
    "Link to documentation - https://numpy.org/doc/stable/reference/random/generated/numpy.random.Generator.binomial.html#numpy.random.Generator.binomial"
   ]
  },
  {
   "cell_type": "markdown",
   "id": "43aa5576-d665-48f2-98c7-5736eda23edd",
   "metadata": {},
   "source": [
    "#### coin toss"
   ]
  },
  {
   "cell_type": "code",
   "execution_count": 34,
   "id": "921420a5-22e5-41cd-8adb-558194c7ac3d",
   "metadata": {
    "jupyter": {
     "source_hidden": true
    },
    "scrolled": true,
    "tags": []
   },
   "outputs": [
    {
     "data": {
      "text/plain": [
       "array([ 5,  7,  5,  6,  2,  3,  4,  6,  6,  3,  4,  5,  7,  6,  2,  6,  6,\n",
       "        5,  6,  3,  8,  4,  6,  3,  4,  3,  5,  4,  7,  4,  5,  6,  6,  5,\n",
       "        7,  3,  6,  3,  5,  6,  6,  5,  6,  5,  6,  4,  6,  7, 10,  7,  5,\n",
       "        3,  5,  4,  6,  6,  4,  4,  7,  3,  2,  5,  5,  9,  5,  7,  4,  7,\n",
       "        7,  4,  4,  7,  6,  5,  2,  6,  7,  5,  5,  5,  8,  5,  4,  5,  3,\n",
       "        4,  6,  3,  4,  3,  4,  5,  6,  3,  3,  4,  4,  6,  5,  5,  3,  4,\n",
       "        5,  6,  5,  5,  3,  3,  7,  4,  7,  6,  4,  3,  7,  5,  5,  4,  6,\n",
       "        5,  5,  7,  6,  7,  7,  4,  6,  4,  5,  5,  6,  3,  5,  2,  3,  6,\n",
       "        6,  8,  6,  5,  4,  5,  6,  6,  3,  6,  5,  4,  4,  3,  6,  6,  8,\n",
       "        4,  5,  4,  4,  8,  6,  7,  5,  5,  6,  4,  6,  7,  4,  6,  3,  6,\n",
       "        5,  5,  5,  5,  6,  6,  4,  4,  5,  3,  6,  4,  5,  4,  5,  3,  7,\n",
       "        7,  4,  3,  4,  6,  8,  7,  5,  3,  7,  8,  5,  7,  4,  6,  4,  4,\n",
       "        4,  5,  7,  6,  9,  6,  8,  4,  4,  5,  5,  5,  3,  7,  5,  5,  8,\n",
       "        3,  5,  7,  6,  4,  5,  6,  7,  6,  7,  7,  7,  4,  3,  4,  2,  3,\n",
       "        8,  6,  3,  5,  5,  8,  8,  5,  9,  1,  3,  8,  4,  5,  4,  5,  6,\n",
       "        6,  6,  4,  6,  8,  4,  6,  5,  7,  8,  4,  4,  3,  6,  8,  4,  5,\n",
       "        6,  2,  7,  8,  6,  5,  3,  4,  6,  2,  7,  7,  5,  4,  5,  4,  2,\n",
       "        6,  6,  5,  2,  5,  4,  3,  4,  4,  6,  4,  4,  7,  5,  4,  6,  4,\n",
       "        4,  6,  6,  7,  3,  7,  5,  5,  5,  4,  5,  5,  6,  5,  5,  3,  6,\n",
       "        6,  4,  5,  3,  4,  4,  7,  2,  5,  6,  3,  6,  5,  6,  6,  7,  4,\n",
       "        6,  5,  5,  6,  4,  6,  7,  3,  4,  3,  3,  5,  5,  5,  6,  3,  4,\n",
       "        7,  4,  7,  4,  4,  3,  6,  7,  5,  6,  5,  4,  3,  3,  6,  5,  5,\n",
       "        5,  6,  5,  3,  5,  4,  2,  5,  4,  4,  6,  5,  3,  5,  6,  7,  8,\n",
       "        8,  3,  5,  5,  4,  6,  4,  4,  5,  6,  7,  2,  4,  6,  3,  5,  6,\n",
       "        7,  6,  6,  7,  5,  5,  5,  5,  5,  5,  6,  5,  5,  1,  4,  5,  4,\n",
       "        3,  4,  6,  5,  5,  1,  5,  6,  6,  6,  4,  3,  5,  2,  7,  1,  6,\n",
       "        5,  6,  7,  7,  5,  5,  5,  3,  5,  7,  3,  5,  6,  7,  6,  9,  7,\n",
       "        5,  6,  2,  3,  6,  1,  4,  7,  2,  2,  5,  3,  6,  7,  4,  5,  5,\n",
       "        3,  5,  5,  6,  5,  5,  3,  3,  5,  6,  6,  7,  3,  4,  3,  3,  4,\n",
       "        4,  2,  1,  6,  6,  5,  8,  1,  1,  6,  5,  6,  4,  6,  7,  5,  4,\n",
       "        6,  4,  7,  1,  5,  3,  5,  4,  6,  5,  3,  3,  6,  5,  6,  3,  5,\n",
       "        6,  7,  3,  8,  5,  6,  2,  8,  6,  2,  5,  7,  8,  6,  4,  4,  7,\n",
       "        8,  6,  6,  7,  6,  8,  7,  4,  5,  4,  6,  5,  5,  5,  7,  5,  3,\n",
       "        8,  3,  6,  5,  3,  5,  4,  5,  3,  4,  4,  9,  4,  5,  5,  8,  6,\n",
       "        5,  3,  7,  4,  5,  4,  6,  5,  5,  5,  2,  7,  5,  8,  1,  7,  5,\n",
       "        7,  4,  4,  2,  3,  5,  6,  6,  6,  4,  5,  8,  4,  6,  5,  6,  5,\n",
       "        5,  5,  6,  4,  3,  7,  3,  6,  7,  5,  9,  3,  5,  5,  4,  5,  5,\n",
       "        5,  5,  8,  1,  6,  5,  7,  4,  2,  5,  7,  3,  3,  3,  6,  6,  4,\n",
       "        5,  5,  2,  5,  7,  4,  5,  7,  4,  6,  0,  3,  4,  6,  4,  6,  4,\n",
       "        4,  3,  5,  7,  4,  4,  4,  2,  5,  5,  5,  6,  5,  6,  2,  3,  4,\n",
       "        5,  4,  5,  5,  6,  4,  3,  4,  3,  6,  4,  4,  7,  5,  4,  7,  5,\n",
       "        6,  5,  7,  3,  4,  7,  2,  6,  7,  5,  4,  4,  4,  6,  3,  6,  8,\n",
       "        5,  5,  3,  9,  3,  4,  4,  5,  5,  3,  7,  6,  2,  7,  5,  3,  2,\n",
       "        5,  5,  3,  5,  6,  3,  3,  3,  3,  8,  5,  6,  7,  7,  6,  3,  2,\n",
       "        5,  6,  4,  1,  3,  7,  4,  5,  5,  7,  7,  6,  4,  6,  5,  5,  3,\n",
       "        6,  5,  4,  5,  5,  6,  5,  3,  6,  4,  4,  5,  3,  7,  4,  4,  3,\n",
       "        1,  5,  3,  7,  6,  6,  2,  6,  5,  9,  3,  8,  7,  6,  5,  6,  4,\n",
       "        4,  9,  3,  6,  6,  4,  5,  5,  4,  5,  5,  7,  4,  4,  4,  7,  6,\n",
       "        5,  7,  4,  4,  3,  6,  7,  3,  6,  0,  6,  5,  2,  4,  6,  5,  6,\n",
       "        5,  3,  4,  4,  5,  3,  5,  5,  7,  5,  5,  4,  4,  5,  7,  6,  5,\n",
       "        6,  7,  6,  5,  6,  5,  6,  5,  6,  5,  8,  2,  2,  3,  5,  8,  6,\n",
       "        4,  3,  5,  5,  8,  6,  7,  6,  6,  7,  4,  5,  5,  5,  4,  4,  4,\n",
       "        5,  6,  6,  9,  6,  2,  4,  7,  3,  5,  5,  4,  4,  4,  8,  7,  7,\n",
       "        4,  5,  3,  5,  5,  4,  5,  5,  3,  5,  6,  6,  6,  6,  7,  4,  4,\n",
       "        3,  5,  3,  4,  6,  5,  5,  2,  7,  8,  6,  4,  3,  5,  4,  4,  3,\n",
       "        4,  4,  5,  8,  6,  6,  3,  6,  5,  7,  4,  8,  6,  4,  6,  5,  7,\n",
       "        7,  2,  2,  4,  4,  6,  5,  3,  5,  3,  5,  6,  6,  4,  4,  4,  4,\n",
       "        5,  4,  6,  8,  4,  5,  5,  5,  7,  4,  6,  5,  5,  7,  5,  5,  5,\n",
       "        4,  6,  6,  9,  5,  6,  2,  3,  6,  4,  4,  6,  6,  5])"
      ]
     },
     "execution_count": 34,
     "metadata": {},
     "output_type": "execute_result"
    }
   ],
   "source": [
    ">>> n, p = 10, .5  # n= number of trials, p = probability of each trial\n",
    ">>> s = np.random.binomial(n, p, 1000)\n",
    "# s = result of flipping a coin 10 times (either heads/tails), tested 1000 times.\n",
    "s"
   ]
  },
  {
   "cell_type": "code",
   "execution_count": 35,
   "id": "8fe40af3-3888-43e1-b568-79455b06910f",
   "metadata": {},
   "outputs": [
    {
     "data": {
      "text/plain": [
       "(array([  2.,  13.,  39., 122., 193., 262., 205., 111.,  41.,  12.]),\n",
       " array([ 0.,  1.,  2.,  3.,  4.,  5.,  6.,  7.,  8.,  9., 10.]),\n",
       " <BarContainer object of 10 artists>)"
      ]
     },
     "execution_count": 35,
     "metadata": {},
     "output_type": "execute_result"
    },
    {
     "data": {
      "image/png": "[encoded data removed]",
      "text/plain": [
       "<Figure size 864x576 with 1 Axes>"
      ]
     },
     "metadata": {
      "needs_background": "light"
     },
     "output_type": "display_data"
    }
   ],
   "source": [
    "# Plotted\n",
    "plt.hist(s)"
   ]
  },
  {
   "cell_type": "markdown",
   "id": "cfc10383-cce8-4e84-97fc-67526791a7fa",
   "metadata": {},
   "source": [
    "A real world example. A company drills 9 wild-cat oil exploration wells, each with an estimated probability of success of 0.1. All nine wells fail. What is the probability of that happening?\n",
    "\n",
    "Let’s do 20,000 trials of the model, and count the number that generate zero positive results."
   ]
  },
  {
   "cell_type": "code",
   "execution_count": 36,
   "id": "871fd73d-6ad0-42bf-90c8-b9f25f86fdaa",
   "metadata": {},
   "outputs": [
    {
     "data": {
      "text/plain": [
       "0.3844"
      ]
     },
     "execution_count": 36,
     "metadata": {},
     "output_type": "execute_result"
    }
   ],
   "source": [
    "sum(np.random.binomial(9, 0.1, 20000) == 0)/20000."
   ]
  },
  {
   "cell_type": "code",
   "execution_count": 37,
   "id": "38e41200-e3a5-4c91-8bc4-f71671db08a8",
   "metadata": {},
   "outputs": [
    {
     "data": {
      "text/plain": [
       "(array([7.650e+03, 7.789e+03, 0.000e+00, 3.506e+03, 0.000e+00, 8.900e+02,\n",
       "        1.460e+02, 0.000e+00, 1.800e+01, 1.000e+00]),\n",
       " array([0. , 0.6, 1.2, 1.8, 2.4, 3. , 3.6, 4.2, 4.8, 5.4, 6. ]),\n",
       " <BarContainer object of 10 artists>)"
      ]
     },
     "execution_count": 37,
     "metadata": {},
     "output_type": "execute_result"
    },
    {
     "data": {
      "image/png": "[encoded data removed]",
      "text/plain": [
       "<Figure size 864x576 with 1 Axes>"
      ]
     },
     "metadata": {
      "needs_background": "light"
     },
     "output_type": "display_data"
    }
   ],
   "source": [
    "# to visualise that\n",
    "a = np.random.binomial(9, 0.1, 20000)\n",
    "plt.hist(a)"
   ]
  },
  {
   "cell_type": "markdown",
   "id": "1cc6ec4f-336b-4da7-9874-4a78062e3473",
   "metadata": {},
   "source": [
    "## Poisson Distribution"
   ]
  },
  {
   "cell_type": "markdown",
   "id": "9e8cb571-a502-4984-ae8d-fa5caada1d6f",
   "metadata": {},
   "source": [
    "Not quite sure what this is about! :)\n",
    "\n",
    "Link to documentation - https://numpy.org/doc/stable/reference/random/generated/numpy.random.Generator.poisson.html#numpy.random.Generator.poisson"
   ]
  },
  {
   "cell_type": "code",
   "execution_count": 38,
   "id": "c519a58e-281f-4062-8aba-db6afa5f8647",
   "metadata": {},
   "outputs": [
    {
     "data": {
      "text/plain": [
       "(array([ 394., 2210., 1693., 3251., 1057., 1035.,  289.,   47.,   20.,\n",
       "           4.]),\n",
       " array([ 0. ,  1.6,  3.2,  4.8,  6.4,  8. ,  9.6, 11.2, 12.8, 14.4, 16. ]),\n",
       " <BarContainer object of 10 artists>)"
      ]
     },
     "execution_count": 38,
     "metadata": {},
     "output_type": "execute_result"
    },
    {
     "data": {
      "image/png": "[encoded data removed]",
      "text/plain": [
       "<Figure size 864x576 with 1 Axes>"
      ]
     },
     "metadata": {
      "needs_background": "light"
     },
     "output_type": "display_data"
    }
   ],
   "source": [
    "rng = np.random.default_rng()\n",
    "s = rng.poisson(5, 10000)\n",
    "plt.hist(s)"
   ]
  },
  {
   "cell_type": "markdown",
   "id": "6d0d8f66-db9a-4060-a545-0ae356dd7405",
   "metadata": {
    "tags": []
   },
   "source": [
    "## Exponential Distribution"
   ]
  },
  {
   "cell_type": "markdown",
   "id": "adfc38b5-fe29-4ab4-b3ad-1aa045d1cdce",
   "metadata": {},
   "source": [
    "Link to documentation - https://numpy.org/doc/stable/reference/random/generated/numpy.random.Generator.exponential.html#numpy.random.Generator.exponential"
   ]
  },
  {
   "cell_type": "code",
   "execution_count": 39,
   "id": "fec8ff76-699b-48cb-befc-d4335ef54b81",
   "metadata": {},
   "outputs": [
    {
     "data": {
      "image/png": "[encoded data removed]",
      "text/plain": [
       "<Figure size 864x576 with 1 Axes>"
      ]
     },
     "metadata": {
      "needs_background": "light"
     },
     "output_type": "display_data"
    }
   ],
   "source": [
    "gfg = np.random.exponential(3.45, 10000)\n",
    "  \n",
    "count, bins, ignored = plt.hist(gfg, 14, density = True)\n",
    "plt.show()"
   ]
  },
  {
   "cell_type": "code",
   "execution_count": null,
   "id": "802a65df-893b-4530-81f9-a70ac3280818",
   "metadata": {},
   "outputs": [],
   "source": []
  },
  {
   "cell_type": "code",
   "execution_count": null,
   "id": "1d4d1030-07ba-42f0-85ec-8033cbc838b0",
   "metadata": {},
   "outputs": [],
   "source": []
  },
  {
   "cell_type": "code",
   "execution_count": null,
   "id": "a9f4e7b5-5b2b-4a2c-8331-345d7128229b",
   "metadata": {},
   "outputs": [],
   "source": []
  },
  {
   "cell_type": "code",
   "execution_count": null,
   "id": "9988f646-035e-43c5-a7a8-55bb426f9c77",
   "metadata": {},
   "outputs": [],
   "source": []
  },
  {
   "cell_type": "code",
   "execution_count": null,
   "id": "47963091-2300-4c20-917d-8754ee23b347",
   "metadata": {},
   "outputs": [],
   "source": []
  },
  {
   "cell_type": "markdown",
   "id": "9a026b67-f589-4068-ad29-13d2bbebcddc",
   "metadata": {
    "tags": []
   },
   "source": [
    "The following is a basic introduction as to how it works"
   ]
  },
  {
   "cell_type": "code",
   "execution_count": 40,
   "id": "079d16ad-eab6-418a-ad45-d476b52a8c3e",
   "metadata": {},
   "outputs": [
    {
     "data": {
      "text/plain": [
       "3"
      ]
     },
     "execution_count": 40,
     "metadata": {},
     "output_type": "execute_result"
    }
   ],
   "source": [
    "# creates a variable which is a random integer between 0 and 4 with 4 being non-inclusive\n",
    "result = np.random.randint(4)\n",
    "\n",
    "result"
   ]
  },
  {
   "cell_type": "markdown",
   "id": "fca131b7-37cf-4459-898b-9e16e44a5f57",
   "metadata": {},
   "source": [
    "If we want to create a random float we use rand"
   ]
  },
  {
   "cell_type": "code",
   "execution_count": 41,
   "id": "09efefd5-584f-4272-a0b4-afb95a297c62",
   "metadata": {},
   "outputs": [
    {
     "data": {
      "text/plain": [
       "array([0.55562108, 0.54016892, 0.49165381, 0.65019966])"
      ]
     },
     "execution_count": 41,
     "metadata": {},
     "output_type": "execute_result"
    }
   ],
   "source": [
    "# creates a random floating point number\n",
    "result = np.random.rand(4)\n",
    "\n",
    "result"
   ]
  },
  {
   "cell_type": "code",
   "execution_count": 42,
   "id": "7774b5c2-b5b8-448d-aa93-1b6bafc1dfcd",
   "metadata": {},
   "outputs": [
    {
     "data": {
      "text/plain": [
       "array([[0.80705297, 0.44357977, 0.72410138, 0.52642626],\n",
       "       [0.24648341, 0.74211474, 0.47826989, 0.68739161],\n",
       "       [0.12039327, 0.0614055 , 0.84016287, 0.61254945]])"
      ]
     },
     "execution_count": 42,
     "metadata": {},
     "output_type": "execute_result"
    }
   ],
   "source": [
    "# we can then add more parameters\n",
    "# this an array comprising a list 3 lists each containing 4 floats\n",
    "result = np.random.rand(3,4)\n",
    "\n",
    "result"
   ]
  },
  {
   "cell_type": "code",
   "execution_count": 43,
   "id": "ffe646c0-6eae-4a9c-a41a-055ced1187cb",
   "metadata": {},
   "outputs": [
    {
     "data": {
      "text/plain": [
       "array([2, 1, 3, 1, 1])"
      ]
     },
     "execution_count": 43,
     "metadata": {},
     "output_type": "execute_result"
    }
   ],
   "source": [
    "# creates a variable which is an array of 5 random integers between 0 and 4\n",
    "result = np.random.randint(1, 4, size=5)\n",
    "\n",
    "result"
   ]
  },
  {
   "cell_type": "code",
   "execution_count": 44,
   "id": "46ecaa7c-e0ed-4bd4-a529-695b42f03342",
   "metadata": {
    "tags": []
   },
   "outputs": [
    {
     "data": {
      "text/plain": [
       "array([4.17022005e-01, 7.20324493e-01, 1.14374817e-04])"
      ]
     },
     "execution_count": 44,
     "metadata": {},
     "output_type": "execute_result"
    }
   ],
   "source": [
    "# seed random number generator\n",
    "np.random.seed(1)\n",
    "# generate some random numbers\n",
    "x= np.random.rand(3)\n",
    "# # reset the seed\n",
    "np.random.seed(1)\n",
    "# # generate some random numbers\n",
    "x"
   ]
  },
  {
   "cell_type": "code",
   "execution_count": 45,
   "id": "1a6ba717-0660-472d-8b91-2106221e10d9",
   "metadata": {},
   "outputs": [
    {
     "data": {
      "text/plain": [
       "array([ 1.62434536, -0.61175641, -0.52817175, -1.07296862,  0.86540763,\n",
       "       -2.3015387 ,  1.74481176, -0.7612069 ,  0.3190391 , -0.24937038])"
      ]
     },
     "execution_count": 45,
     "metadata": {},
     "output_type": "execute_result"
    }
   ],
   "source": [
    "# Creates an array of 10 floats from the standard/normal/Gaussian distribution\n",
    "# https://numpy.org/doc/stable/reference/random/generated/numpy.random.randn.html\n",
    "result = np.random.randn(10)\n",
    "\n",
    "result"
   ]
  },
  {
   "cell_type": "code",
   "execution_count": 46,
   "id": "fa9a4940-7b98-4d64-af4d-75d51ddff2cf",
   "metadata": {},
   "outputs": [
    {
     "name": "stdout",
     "output_type": "stream",
     "text": [
      "[0, 1, 2, 3, 4, 5, 6, 7, 8, 9, 10, 11, 12, 13, 14, 15, 16, 17, 18, 19]\n"
     ]
    },
    {
     "data": {
      "text/plain": [
       "[3, 2, 5, 8, 17, 13, 10, 15, 12, 19, 11, 16, 6, 0, 7, 1, 9, 4, 18, 14]"
      ]
     },
     "execution_count": 46,
     "metadata": {},
     "output_type": "execute_result"
    }
   ],
   "source": [
    "# creates a sequence from 0-19\n",
    "sequence = [i for i in range(20)]\n",
    "print(sequence)\n",
    "# randomly shuffle the sequence\n",
    "np.random.shuffle(sequence)\n",
    "sequence"
   ]
  },
  {
   "cell_type": "markdown",
   "id": "9ca85cc7-cc04-42e0-8bdb-ea8212a462f6",
   "metadata": {},
   "source": [
    "## The use of seeds in generating pseudorandom numbers"
   ]
  },
  {
   "cell_type": "markdown",
   "id": "db7d1bd0-eac8-4041-86b8-2923578405b7",
   "metadata": {
    "tags": []
   },
   "source": [
    ">\"Pseudorandomness is a sample of numbers that look close to random, but were generated using a deterministic process.\"\n",
    "https://machinelearningmastery.com/how-to-generate-random-numbers-in-python/"
   ]
  },
  {
   "cell_type": "markdown",
   "id": "d3324d4f-5a0b-41df-877e-24010299940b",
   "metadata": {},
   "source": [
    "source - https://www.sharpsightlabs.com/blog/numpy-random-seed/<br>\n",
    "As mentioned above, numbers returned using numpy.random module are not truly random at all. In fact computers dont't really do random that well! They are what is known as pseudo-random numbers - basically numbers that appear to be random but actually aren't. They are predetermined using algorithims, one of the benefits of which is that they are repeatable and reproducible which aids in all sorts of investigative coding and testing.\n",
    "The seed is what numpy uses to generate the 'random' numbers - if we pass the seed to the NumPy pseudo-random number generator, every time we run the code we get the same result. Or we can let numpy generate one, and we won't get the same results each time. The following code demonstrates both situations."
   ]
  },
  {
   "cell_type": "code",
   "execution_count": 47,
   "id": "edc5dea8-94f7-427b-b9a5-7b62a1d63e71",
   "metadata": {},
   "outputs": [
    {
     "name": "stdout",
     "output_type": "stream",
     "text": [
      "[5 0 3 3 7]\n",
      "[5 0 3 3 7]\n",
      "[5 0 3 3 7]\n"
     ]
    }
   ],
   "source": [
    "# Every time we run this code we will get the same array\n",
    "np.random.seed(0)\n",
    "print(np.random.randint(10, size = 5))\n",
    "np.random.seed(0)\n",
    "print(np.random.randint(10, size = 5))\n",
    "np.random.seed(0)\n",
    "print(np.random.randint(10, size = 5))"
   ]
  },
  {
   "cell_type": "code",
   "execution_count": 48,
   "id": "b57c1890-f3e6-46c6-83ba-4db7a3d5011c",
   "metadata": {},
   "outputs": [
    {
     "name": "stdout",
     "output_type": "stream",
     "text": [
      "[9 3 5 2 4]\n",
      "[7 6 8 8 1]\n",
      "[6 7 7 8 1]\n"
     ]
    }
   ],
   "source": [
    "# Whereas every time we run this code we will get a different array\n",
    "print(np.random.randint(10, size = 5))\n",
    "print(np.random.randint(10, size = 5))\n",
    "print(np.random.randint(10, size = 5))"
   ]
  },
  {
   "cell_type": "markdown",
   "id": "d7e24f34-62ed-4dbf-ba7a-72e0ba4be8e3",
   "metadata": {},
   "source": [
    "The actual number passed to the seed function doesn't really matter, but we need to be aware that changing the number will change the output. The following code demonstrates this:"
   ]
  },
  {
   "cell_type": "code",
   "execution_count": 49,
   "id": "b51d2487-16e3-48b1-9a17-e168301b455e",
   "metadata": {},
   "outputs": [
    {
     "name": "stdout",
     "output_type": "stream",
     "text": [
      "0.5488135039273248\n",
      "0.417022004702574\n",
      "0.04555845494212085\n"
     ]
    }
   ],
   "source": [
    "# The first 2 of these will always produce will always produce the same float but different from each other\n",
    "np.random.seed(0)\n",
    "print(np.random.random())\n",
    "\n",
    "np.random.seed(1)\n",
    "print(np.random.random())\n",
    "\n",
    "# This will always produce a different number\n",
    "np.random.seed()\n",
    "print(np.random.random())"
   ]
  },
  {
   "cell_type": "markdown",
   "id": "eae8390a-d72d-4284-809a-b1e90a5d483f",
   "metadata": {},
   "source": [
    "The seed function can be used in conjunction with all of the other functions and wrappers already mentioned above, and is essential if your results need to be reproducible and shareable.\n",
    "\n",
    "https://www.sharpsightlabs.com/blog/numpy-random-seed/\n",
    "\n",
    "https://towardsdatascience.com/stop-using-numpy-random-seed-581a9972805f"
   ]
  },
  {
   "cell_type": "code",
   "execution_count": null,
   "id": "90099459-6213-416d-a44d-f94824e046ac",
   "metadata": {
    "jupyter": {
     "source_hidden": true
    },
    "tags": []
   },
   "outputs": [],
   "source": []
  },
  {
   "cell_type": "code",
   "execution_count": null,
   "id": "b9ad0f1f-316e-4b6e-8fba-5e17ea63ce8d",
   "metadata": {},
   "outputs": [],
   "source": []
  },
  {
   "cell_type": "code",
   "execution_count": null,
   "id": "af21564c-dc75-4a84-a46f-f45b12db5664",
   "metadata": {},
   "outputs": [],
   "source": []
  },
  {
   "cell_type": "markdown",
   "id": "8af91043-1db3-4367-b5fd-dd464de8a36f",
   "metadata": {},
   "source": [
    "### Generating random integers"
   ]
  },
  {
   "cell_type": "markdown",
   "id": "8fd7e999-daa8-4f84-85b4-70ccd7cd42ec",
   "metadata": {},
   "source": [
    "##### 1d array of random integers"
   ]
  },
  {
   "cell_type": "code",
   "execution_count": 50,
   "id": "b9f37ca5-19c2-4ec9-a204-d7fa94eb66bf",
   "metadata": {},
   "outputs": [
    {
     "data": {
      "text/plain": [
       "array([0, 2, 1, 1, 1, 2, 0, 0, 2, 1])"
      ]
     },
     "execution_count": 50,
     "metadata": {},
     "output_type": "execute_result"
    }
   ],
   "source": [
    "# the first parameter (3) is the range (non-inclusive), i.e. 0, 1 and 2\n",
    "# size is no. of numbers returned\n",
    "rng.integers(3, size=10)"
   ]
  },
  {
   "cell_type": "markdown",
   "id": "2732d3f0-10b4-4cea-86e6-8b8d8eda1c20",
   "metadata": {},
   "source": [
    "##### 2d array of random integers"
   ]
  },
  {
   "cell_type": "code",
   "execution_count": 51,
   "id": "746d7824-93f9-44ae-8980-89d6f755e1ed",
   "metadata": {},
   "outputs": [
    {
     "data": {
      "text/plain": [
       "array([[3, 1, 1, 0],\n",
       "       [0, 0, 0, 4],\n",
       "       [0, 3, 1, 2]])"
      ]
     },
     "execution_count": 51,
     "metadata": {},
     "output_type": "execute_result"
    }
   ],
   "source": [
    "# 1st paremeter is the range max (non-inclusive)\n",
    "# size is rows then columns\n",
    "rng.integers(5, size=(3,4))"
   ]
  },
  {
   "cell_type": "markdown",
   "id": "6eee7906-5ea1-4982-ba8f-f8675edd5374",
   "metadata": {},
   "source": [
    "##### multi-dimensional array of random integers"
   ]
  },
  {
   "cell_type": "code",
   "execution_count": 52,
   "id": "54e5be90-e80b-44ec-a5df-29c984c4017b",
   "metadata": {
    "scrolled": true,
    "tags": []
   },
   "outputs": [
    {
     "data": {
      "text/plain": [
       "array([[[[0, 2],\n",
       "         [4, 3],\n",
       "         [1, 2]],\n",
       "\n",
       "        [[1, 1],\n",
       "         [1, 0],\n",
       "         [1, 2]],\n",
       "\n",
       "        [[2, 1],\n",
       "         [1, 1],\n",
       "         [3, 2]],\n",
       "\n",
       "        [[3, 2],\n",
       "         [4, 2],\n",
       "         [2, 2]]],\n",
       "\n",
       "\n",
       "       [[[2, 3],\n",
       "         [2, 4],\n",
       "         [4, 4]],\n",
       "\n",
       "        [[2, 2],\n",
       "         [2, 0],\n",
       "         [4, 4]],\n",
       "\n",
       "        [[4, 3],\n",
       "         [0, 2],\n",
       "         [3, 4]],\n",
       "\n",
       "        [[4, 4],\n",
       "         [2, 2],\n",
       "         [3, 1]]],\n",
       "\n",
       "\n",
       "       [[[4, 1],\n",
       "         [0, 2],\n",
       "         [3, 0]],\n",
       "\n",
       "        [[4, 4],\n",
       "         [1, 3],\n",
       "         [0, 0]],\n",
       "\n",
       "        [[1, 3],\n",
       "         [1, 0],\n",
       "         [2, 2]],\n",
       "\n",
       "        [[3, 0],\n",
       "         [1, 4],\n",
       "         [4, 2]]],\n",
       "\n",
       "\n",
       "       [[[2, 1],\n",
       "         [0, 0],\n",
       "         [0, 4]],\n",
       "\n",
       "        [[1, 1],\n",
       "         [2, 1],\n",
       "         [0, 2]],\n",
       "\n",
       "        [[0, 1],\n",
       "         [3, 4],\n",
       "         [4, 0]],\n",
       "\n",
       "        [[0, 3],\n",
       "         [4, 2],\n",
       "         [1, 4]]],\n",
       "\n",
       "\n",
       "       [[[1, 0],\n",
       "         [0, 0],\n",
       "         [4, 3]],\n",
       "\n",
       "        [[3, 4],\n",
       "         [1, 1],\n",
       "         [1, 1]],\n",
       "\n",
       "        [[0, 0],\n",
       "         [1, 3],\n",
       "         [2, 1]],\n",
       "\n",
       "        [[0, 0],\n",
       "         [1, 3],\n",
       "         [3, 1]]]])"
      ]
     },
     "execution_count": 52,
     "metadata": {},
     "output_type": "execute_result"
    }
   ],
   "source": [
    "# again range of 5\n",
    "# 5 groups of 4 arrays, each with 3 rows and 2 columns\n",
    "rng.integers(5, size=(5,4,3,2))"
   ]
  },
  {
   "cell_type": "markdown",
   "id": "62fb86ea-9962-4687-8856-96e9351cf9b6",
   "metadata": {},
   "source": [
    "Sources/links:  \n",
    "https://en.wikipedia.org/wiki/NumPy  \n",
    "https://numpy.org/doc/stable/user/whatisnumpy.html  \n",
    "https://pythonguides.com/python-numpy-random/  \n",
    "https://realpython.com/python-random/#prngs-for-arrays-numpyrandom  \n",
    "https://www.w3schools.com/python/numpy/numpy_random.asp  \n",
    "https://numpy.org/doc/stable/reference/random/index.html  \n",
    "https://numpy.org/doc/stable/reference/random/generator.html  \n",
    "https://numpy.org/doc/stable/reference/random/index.html#random-quick-start  \n",
    "https://numpy.org/doc/stable/reference/random/generated/numpy.random.Generator.choice.html#numpy.random.Generator.choice  \n",
    "https://numpy.org/doc/stable/reference/random/generated/numpy.random.Generator.permutation.html#numpy.random.Generator.permutation  \n",
    "Shuffle - https://numpy.org/doc/stable/reference/random/generated/numpy.random.Generator.shuffle.html#numpy.random.Generator.shuffle   \n",
    "Link to documentation - https://numpy.org/doc/1.16/reference/routines.random.html <br>\n",
    "\n",
    "Normal Distribution - https://numpy.org/doc/stable/reference/random/generated/numpy.random.Generator.normal.html#numpy.random.Generator.normal  \n",
    "new stuff here - https://numpy.org/doc/stable/reference/random/index.html?highlight=random%20sampling%20numpy%20random#module-numpy.random  \n",
    "https://numpy.org/doc/stable/reference/random/generated/numpy.random.Generator.uniform.html#numpy.random.Generator.uniform"
   ]
  },
  {
   "cell_type": "code",
   "execution_count": null,
   "id": "04e64890-85c4-4155-9255-7077ce832608",
   "metadata": {},
   "outputs": [],
   "source": []
  },
  {
   "cell_type": "markdown",
   "id": "4391bc34-d2bf-4ae5-b5e2-e38310c54be6",
   "metadata": {},
   "source": [
    "# END"
   ]
  }
 ],
 "metadata": {
  "kernelspec": {
   "display_name": "Python 3",
   "language": "python",
   "name": "python3"
  },
  "language_info": {
   "codemirror_mode": {
    "name": "ipython",
    "version": 3
   },
   "file_extension": ".py",
   "mimetype": "text/x-python",
   "name": "python",
   "nbconvert_exporter": "python",
   "pygments_lexer": "ipython3",
   "version": "3.8.8"
  }
 },
 "nbformat": 4,
 "nbformat_minor": 5
}
