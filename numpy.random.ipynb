{
 "cells": [
  {
   "cell_type": "markdown",
   "id": "6623e8f0-7eff-44bc-859d-cea9221cc5b3",
   "metadata": {
    "tags": []
   },
   "source": [
    "# Assignment for \"Programming in Data Analysis\" module\n",
    "## Autumn 2021"
   ]
  },
  {
   "cell_type": "markdown",
   "id": "689c09c2-8041-43be-8f2e-db494a843c77",
   "metadata": {
    "tags": []
   },
   "source": [
    "## An overview of numpy.random "
   ]
  },
  {
   "cell_type": "markdown",
   "id": "c5c284f5-f76b-4797-8bd9-9dd4efa77f83",
   "metadata": {},
   "source": [
    "![NumPy_logo](Images/NumPy_logo.png)"
   ]
  },
  {
   "cell_type": "markdown",
   "id": "01a628ea-6740-46d6-920b-9c9a958cc700",
   "metadata": {
    "tags": []
   },
   "source": [
    "What is NumPy\n",
    "\n",
    "\"NumPy ... is a library for the Python programming language, adding support for large, multi-dimensional arrays and matrices, along with a large collection of high-level mathematical functions to operate on these arrays.\"\n",
    "https://en.wikipedia.org/wiki/NumPy\n",
    "\n",
    "\"NumPy is the fundamental package for scientific computing in Python. It is a Python library that provides a multidimensional array object, various derived objects (such as masked arrays and matrices), and an assortment of routines for fast operations on arrays, including mathematical, logical, shape manipulation, sorting, selecting, I/O, discrete Fourier transforms, basic linear algebra, basic statistical operations, random simulation and much more.\"\n",
    "https://numpy.org/doc/stable/user/whatisnumpy.html\n",
    "\n",
    "The random simulation is the focus of this project.\n",
    "\n",
    "Although Python already has a random module, numpy.random adds much extra functionality in particular in relation to arrays and has the ability to draw from a lot more statistical distributions.\n",
    "\n",
    "https://realpython.com/python-random/#prngs-for-arrays-numpyrandom\n",
    "\n",
    "https://www.w3schools.com/python/numpy/numpy_random.asp\n",
    "\n",
    "link to documentation - https://numpy.org/doc/stable/reference/random/index.html"
   ]
  },
  {
   "cell_type": "markdown",
   "id": "d773ecee-a934-44f1-9a19-e849bebb3d7c",
   "metadata": {},
   "source": [
    "## An Explanation of the “Simple random data” and “Permutations” functions"
   ]
  },
  {
   "cell_type": "markdown",
   "id": "5e57c9cf-24fb-4b03-9948-411fa825e2b1",
   "metadata": {},
   "source": [
    "Link to documentation - https://numpy.org/doc/1.16/reference/routines.random.html <br>\n",
    "Might be old! <br>\n",
    "new stuff here - https://numpy.org/doc/stable/reference/random/index.html?highlight=random%20sampling%20numpy%20random#module-numpy.random"
   ]
  },
  {
   "cell_type": "markdown",
   "id": "79f62144-5f75-4f00-b91b-6343e4a1a6a1",
   "metadata": {
    "tags": []
   },
   "source": [
    "### Simple Random Data\n",
    "\n",
    "- rand - Random values in a given shape.\n",
    "- randn - Return a sample (or samples) from the “standard normal” distribution.\n",
    "- randint - Return random integers from low (inclusive) to high (exclusive).\n",
    "- random_integers - Random integers of type np.int between low and high, inclusive.\n",
    "- random_sample - Return random floats in the half-open interval [0.0, 1.0).\n",
    "- random - Return random floats in the half-open interval [0.0, 1.0).\n",
    "- ranf - Return random floats in the half-open interval [0.0, 1.0).\n",
    "- sample - Return random floats in the half-open interval [0.0, 1.0).\n",
    "- choice - Generates a random sample from a given 1-D array\n",
    "- bytes - Return random bytes"
   ]
  },
  {
   "cell_type": "markdown",
   "id": "f57878d4-9490-4162-8a0f-a02b8a1c1c65",
   "metadata": {
    "tags": []
   },
   "source": [
    "### Permutations\n",
    "\n",
    "- shuffle - Modify a sequence in-place by shuffling its contents\n",
    "- permutation - Randomly permute a sequence, or return a permuted range"
   ]
  },
  {
   "cell_type": "markdown",
   "id": "d542a10d-c6cf-41d2-ac6d-67f3251f2e34",
   "metadata": {
    "tags": []
   },
   "source": [
    "## The use of seeds in generating pseudorandom numbers"
   ]
  },
  {
   "cell_type": "code",
   "execution_count": 4,
   "id": "aa287c31-1bff-48a0-8212-4bd2ffaa9a34",
   "metadata": {
    "tags": []
   },
   "outputs": [],
   "source": [
    "# importing necessary libraries\n",
    "import numpy as np\n",
    "import matplotlib.pyplot as plt"
   ]
  },
  {
   "cell_type": "code",
   "execution_count": 5,
   "id": "25cf7e5c-36a5-4d67-8f0d-393cf93c2a0c",
   "metadata": {},
   "outputs": [],
   "source": [
    "# Creating a default figure size\n",
    "plt.rcParams['figure.figsize']=[12,8]"
   ]
  },
  {
   "cell_type": "code",
   "execution_count": 6,
   "id": "acc681c6-6023-4a21-8b29-15c4ded876ca",
   "metadata": {},
   "outputs": [
    {
     "data": {
      "text/plain": [
       "Generator(PCG64) at 0x7F926F036040"
      ]
     },
     "execution_count": 6,
     "metadata": {},
     "output_type": "execute_result"
    }
   ],
   "source": [
    "# create a random number generator\n",
    "rng = np.random.default_rng()\n",
    "rng"
   ]
  },
  {
   "cell_type": "markdown",
   "id": "8af91043-1db3-4367-b5fd-dd464de8a36f",
   "metadata": {},
   "source": [
    "### Generating random integers"
   ]
  },
  {
   "cell_type": "markdown",
   "id": "8fd7e999-daa8-4f84-85b4-70ccd7cd42ec",
   "metadata": {},
   "source": [
    "##### 1d array of random integers"
   ]
  },
  {
   "cell_type": "code",
   "execution_count": 7,
   "id": "b9f37ca5-19c2-4ec9-a204-d7fa94eb66bf",
   "metadata": {},
   "outputs": [
    {
     "data": {
      "text/plain": [
       "array([2, 1, 0, 0, 0, 1, 1, 2, 1, 0])"
      ]
     },
     "execution_count": 7,
     "metadata": {},
     "output_type": "execute_result"
    }
   ],
   "source": [
    "# the first parameter (3) is the range (non-inclusive), i.e. 0, 1 and 2\n",
    "# size is no. of numbers returned\n",
    "rng.integers(3, size=10)"
   ]
  },
  {
   "cell_type": "markdown",
   "id": "2732d3f0-10b4-4cea-86e6-8b8d8eda1c20",
   "metadata": {},
   "source": [
    "##### 2d array of random integers"
   ]
  },
  {
   "cell_type": "code",
   "execution_count": 8,
   "id": "746d7824-93f9-44ae-8980-89d6f755e1ed",
   "metadata": {},
   "outputs": [
    {
     "data": {
      "text/plain": [
       "array([[1, 1, 4, 2],\n",
       "       [2, 3, 3, 3],\n",
       "       [1, 1, 3, 2]])"
      ]
     },
     "execution_count": 8,
     "metadata": {},
     "output_type": "execute_result"
    }
   ],
   "source": [
    "# 1st paremeter is the range max (non-inclusive)\n",
    "# size is rows then columns\n",
    "rng.integers(5, size=(3,4))"
   ]
  },
  {
   "cell_type": "markdown",
   "id": "6eee7906-5ea1-4982-ba8f-f8675edd5374",
   "metadata": {},
   "source": [
    "##### multi-dimensional array of random integers"
   ]
  },
  {
   "cell_type": "code",
   "execution_count": 10,
   "id": "54e5be90-e80b-44ec-a5df-29c984c4017b",
   "metadata": {
    "scrolled": true,
    "tags": []
   },
   "outputs": [
    {
     "data": {
      "text/plain": [
       "array([[[[4, 2],\n",
       "         [4, 4],\n",
       "         [4, 1]],\n",
       "\n",
       "        [[4, 1],\n",
       "         [0, 3],\n",
       "         [2, 1]],\n",
       "\n",
       "        [[4, 3],\n",
       "         [2, 4],\n",
       "         [2, 2]],\n",
       "\n",
       "        [[4, 1],\n",
       "         [0, 4],\n",
       "         [4, 4]]],\n",
       "\n",
       "\n",
       "       [[[0, 1],\n",
       "         [4, 3],\n",
       "         [1, 0]],\n",
       "\n",
       "        [[4, 0],\n",
       "         [3, 0],\n",
       "         [4, 0]],\n",
       "\n",
       "        [[4, 2],\n",
       "         [2, 2],\n",
       "         [3, 0]],\n",
       "\n",
       "        [[4, 0],\n",
       "         [3, 4],\n",
       "         [0, 1]]],\n",
       "\n",
       "\n",
       "       [[[2, 4],\n",
       "         [4, 0],\n",
       "         [1, 3]],\n",
       "\n",
       "        [[2, 2],\n",
       "         [1, 0],\n",
       "         [0, 1]],\n",
       "\n",
       "        [[1, 4],\n",
       "         [4, 3],\n",
       "         [0, 0]],\n",
       "\n",
       "        [[3, 2],\n",
       "         [0, 0],\n",
       "         [0, 1]]],\n",
       "\n",
       "\n",
       "       [[[2, 0],\n",
       "         [1, 1],\n",
       "         [4, 1]],\n",
       "\n",
       "        [[0, 3],\n",
       "         [0, 1],\n",
       "         [2, 4]],\n",
       "\n",
       "        [[1, 4],\n",
       "         [3, 0],\n",
       "         [0, 2]],\n",
       "\n",
       "        [[4, 0],\n",
       "         [0, 1],\n",
       "         [0, 4]]],\n",
       "\n",
       "\n",
       "       [[[3, 0],\n",
       "         [0, 1],\n",
       "         [2, 3]],\n",
       "\n",
       "        [[2, 0],\n",
       "         [4, 4],\n",
       "         [3, 1]],\n",
       "\n",
       "        [[3, 1],\n",
       "         [4, 1],\n",
       "         [0, 1]],\n",
       "\n",
       "        [[4, 1],\n",
       "         [2, 3],\n",
       "         [1, 0]]]])"
      ]
     },
     "execution_count": 10,
     "metadata": {},
     "output_type": "execute_result"
    }
   ],
   "source": [
    "# again range of 5\n",
    "# 5 groups of 4 arrays, each with 3 rows and 2 columns\n",
    "rng.integers(5, size=(5,4,3,2))"
   ]
  },
  {
   "cell_type": "markdown",
   "id": "138b7dff-5e49-400e-bced-36f7e040b686",
   "metadata": {},
   "source": [
    "### Visualisation"
   ]
  },
  {
   "cell_type": "markdown",
   "id": "6c05e3a4-9209-4e84-9f34-b6eabda31732",
   "metadata": {},
   "source": [
    "The higher the size of numbers generated,the more uniforim the distribution"
   ]
  },
  {
   "cell_type": "code",
   "execution_count": 19,
   "id": "8428efb4-fbc3-4e67-b625-09d830b86deb",
   "metadata": {
    "tags": []
   },
   "outputs": [],
   "source": [
    "# looking at the difference the 'size' makes\n",
    "x = rng.integers(100, size = 10)\n",
    "y = rng.integers(100, size = 100)\n",
    "z = rng.integers(100, size = 1000)\n",
    "a = rng.integers(100, size = 10000)\n",
    "b = rng.integers(100, size = 100000)\n",
    "c = rng.integers(100, size = 1000000)"
   ]
  },
  {
   "cell_type": "markdown",
   "id": "8c073180-c95c-4024-b6af-6f4af93fbfd6",
   "metadata": {},
   "source": [
    "We can see this more clearly on a subplot of histograms"
   ]
  },
  {
   "cell_type": "code",
   "execution_count": 21,
   "id": "53baa821-cebd-4f0c-9a2a-bb4f06285526",
   "metadata": {},
   "outputs": [
    {
     "data": {
      "text/plain": [
       "(array([100140.,  99943., 100508., 100279.,  99718., 100047., 100022.,\n",
       "         99771.,  99448., 100124.]),\n",
       " array([ 0. ,  9.9, 19.8, 29.7, 39.6, 49.5, 59.4, 69.3, 79.2, 89.1, 99. ]),\n",
       " <BarContainer object of 10 artists>)"
      ]
     },
     "execution_count": 21,
     "metadata": {},
     "output_type": "execute_result"
    },
    {
     "data": {
      "image/png": "[encoded data removed]",
      "text/plain": [
       "<Figure size 864x576 with 6 Axes>"
      ]
     },
     "metadata": {
      "needs_background": "light"
     },
     "output_type": "display_data"
    }
   ],
   "source": [
    "# plt.subplots(3,2) creates 3 rows and 2 columns of plots\n",
    "# axs[0,0] etc. specifies where this plot goes in the arrangement\n",
    "fig, axs = plt.subplots(3,2)\n",
    "axs[0,0].hist(x)\n",
    "axs[0,1].hist(y)\n",
    "axs[1,0].hist(z)\n",
    "axs[1,1].hist(a)\n",
    "axs[2,0].hist(b)\n",
    "axs[2,1].hist(c)"
   ]
  },
  {
   "cell_type": "markdown",
   "id": "ecb18530-5252-4f59-9254-aa274fe5b294",
   "metadata": {
    "tags": []
   },
   "source": [
    "This is known as uniform distribution\n",
    "\n",
    "Link to documentation - https://numpy.org/doc/stable/reference/random/generated/numpy.random.Generator.uniform.html#numpy.random.Generator.uniform\n",
    "\n",
    "Another example below, this time specifying a lower minus value. As above if no lower value is set then zero is the default."
   ]
  },
  {
   "cell_type": "code",
   "execution_count": 26,
   "id": "8937d59d-3910-4abb-9768-2e4788f7ce6c",
   "metadata": {
    "scrolled": true,
    "tags": []
   },
   "outputs": [
    {
     "data": {
      "text/plain": [
       "array([-3.55527608e-01, -4.46954073e-01, -7.00995732e-01, -3.08908515e-01,\n",
       "       -9.98744878e-01, -1.60703509e-01, -4.42788360e-01, -1.91168499e-01,\n",
       "       -3.14690933e-01, -4.91592334e-01, -9.73588162e-02, -4.38789829e-01,\n",
       "       -9.17903846e-01, -6.41060377e-01, -4.92104247e-01, -2.30594828e-01,\n",
       "       -5.36690166e-02, -5.33505097e-01, -8.71862806e-01, -3.47245813e-01,\n",
       "       -1.03493592e-01, -6.06620930e-01, -7.38174849e-01, -4.80884421e-02,\n",
       "       -2.98177869e-01, -5.55990412e-01, -7.40657887e-01, -1.49488800e-01,\n",
       "       -3.22656731e-01, -3.65072948e-01, -2.13322249e-01, -6.26660298e-01,\n",
       "       -2.63050595e-02, -7.37292183e-01, -4.18996153e-01, -9.81765385e-01,\n",
       "       -3.14648239e-01, -9.17144896e-01, -1.58679070e-01, -3.04548137e-01,\n",
       "       -2.45306024e-01, -8.60829287e-01, -5.29276901e-02, -6.82548221e-01,\n",
       "       -5.19470769e-01, -4.98967164e-01, -8.22623273e-01, -7.88703296e-01,\n",
       "       -7.38421069e-01, -9.99480960e-04, -2.53092231e-01, -6.72155896e-01,\n",
       "       -7.72956906e-01, -1.88846568e-01, -3.82094960e-01, -2.36903440e-01,\n",
       "       -3.34357042e-02, -6.37361603e-01, -2.08541359e-01, -3.67354944e-01,\n",
       "       -8.02382987e-01, -2.32094190e-01, -9.35752574e-01, -3.18798885e-01,\n",
       "       -2.39054382e-01, -7.07025539e-01, -6.91532671e-01, -2.85349252e-01,\n",
       "       -8.38908762e-01, -1.44901807e-01, -1.08592503e-01, -6.20506436e-01,\n",
       "       -3.43605960e-01, -9.48128211e-01, -8.28249950e-01, -4.44283169e-01,\n",
       "       -2.08179861e-01, -9.67699149e-01, -7.55379628e-01, -2.70125955e-01,\n",
       "       -2.99894842e-01, -4.72115663e-01, -4.82636699e-01, -2.60354566e-01,\n",
       "       -6.61377551e-01, -4.42113523e-01, -8.08109702e-01, -9.44589627e-01,\n",
       "       -5.72445177e-01, -6.68420962e-01, -3.83391861e-01, -2.26715197e-01,\n",
       "       -3.56024882e-01, -1.29245433e-01, -1.22272389e-01, -5.77773652e-01,\n",
       "       -7.18852863e-01, -3.98096822e-01, -6.52989897e-01, -2.71276340e-01,\n",
       "       -9.65074578e-01, -7.04281834e-01, -6.79024353e-01, -3.62373465e-01,\n",
       "       -6.30141412e-01, -1.91068860e-01, -3.33789021e-01, -5.02050050e-02,\n",
       "       -2.35529447e-01, -3.63929721e-02, -8.77715534e-03, -8.64668606e-01,\n",
       "       -5.05248218e-02, -6.60072730e-01, -9.65789326e-01, -9.78228219e-01,\n",
       "       -4.54704675e-01, -4.22832565e-01, -9.14322415e-02, -3.51076438e-01,\n",
       "       -7.44580533e-01, -8.07908252e-01, -7.45687384e-01, -2.80917039e-01,\n",
       "       -1.78292165e-01, -6.68299437e-01, -2.38043187e-01, -6.06994055e-01,\n",
       "       -9.14076971e-01, -8.54150633e-01, -5.34022845e-01, -3.92621241e-01,\n",
       "       -4.10356606e-01, -8.95157231e-01, -6.93478950e-01, -1.08452071e-01,\n",
       "       -6.48464924e-01, -9.10945298e-01, -3.86449380e-01, -3.07836710e-01,\n",
       "       -3.86670324e-01, -5.40282362e-01, -6.68815337e-02, -8.75389093e-01,\n",
       "       -5.21624881e-01, -6.18520531e-01, -1.68636079e-01, -3.89778217e-01,\n",
       "       -6.57350232e-01, -8.38455623e-01, -5.11296820e-01, -5.25855648e-01,\n",
       "       -7.82348926e-01, -3.90680743e-01, -3.71300287e-01, -7.98146303e-01,\n",
       "       -2.08210057e-01, -7.95128638e-01, -3.88883383e-01, -2.93743431e-01,\n",
       "       -7.95652045e-01, -4.31736879e-01, -9.84456422e-04, -2.09881334e-03,\n",
       "       -5.85739027e-01, -1.99809471e-01, -1.13530758e-01, -5.93123843e-01,\n",
       "       -2.33599669e-01, -7.89648633e-01, -3.00720264e-02, -1.57831382e-01,\n",
       "       -1.24081874e-01, -4.52902273e-01, -7.09050321e-01, -6.36225004e-01,\n",
       "       -3.97495702e-01, -2.91728307e-01, -2.31410509e-01, -9.27957090e-01,\n",
       "       -2.24384798e-02, -2.66741408e-01, -4.31207760e-01, -4.75989898e-01,\n",
       "       -8.50307745e-01, -4.10287553e-04, -3.34475818e-01, -2.21843075e-02,\n",
       "       -8.93635641e-02, -6.52983567e-01, -7.77517365e-01, -1.31724638e-01,\n",
       "       -3.55650172e-01, -2.33255060e-01, -1.46907971e-01, -5.44799715e-01,\n",
       "       -1.41200660e-01, -9.87335240e-02, -2.76250957e-02, -1.03435442e-01,\n",
       "       -9.83513511e-01, -6.29893393e-01, -3.41659988e-01, -5.44570024e-02,\n",
       "       -9.43680696e-01, -2.31210938e-02, -9.52409526e-01, -3.08545149e-01,\n",
       "       -8.93238850e-01, -2.64301184e-01, -8.75482219e-01, -5.53458392e-01,\n",
       "       -5.86066210e-01, -8.76284428e-01, -2.57562091e-02, -9.09683695e-01,\n",
       "       -4.49853224e-01, -3.74962922e-01, -8.61457077e-01, -9.27816226e-01,\n",
       "       -8.68978789e-01, -2.30321035e-01, -4.97627748e-01, -7.21509234e-01,\n",
       "       -3.18091230e-03, -3.29911410e-01, -9.30920345e-02, -3.03829626e-01,\n",
       "       -1.47138740e-01, -3.29751184e-01, -4.34789276e-02, -1.74483944e-01,\n",
       "       -7.96454147e-02, -7.46195098e-01, -8.81214567e-02, -9.69378437e-01,\n",
       "       -9.69553891e-01, -4.24053591e-02, -7.86341240e-02, -9.88872828e-01,\n",
       "       -5.49256360e-01, -6.48797894e-01, -1.56097849e-01, -4.63338490e-01,\n",
       "       -5.86036711e-02, -9.37084892e-01, -5.49577472e-01, -7.47381582e-01,\n",
       "       -1.53349655e-01, -5.97006122e-02, -4.66872970e-01, -2.41833804e-01,\n",
       "       -2.86477967e-01, -5.26022590e-01, -5.22368796e-01, -3.62834405e-02,\n",
       "       -4.34427849e-01, -6.05148411e-02, -5.89409966e-01, -7.10682782e-01,\n",
       "       -2.08609804e-01, -3.30230460e-02, -9.56326491e-01, -6.52008473e-01,\n",
       "       -8.54194208e-01, -8.02283985e-01, -2.95010088e-01, -8.07482853e-01,\n",
       "       -6.49423038e-01, -6.66518206e-01, -1.91407366e-01, -7.58876578e-02,\n",
       "       -1.47723694e-01, -3.10675116e-01, -5.19066834e-01, -6.59690543e-01,\n",
       "       -3.45270514e-01, -6.09869790e-01, -3.07445187e-01, -8.81617130e-01,\n",
       "       -8.80441040e-01, -6.09083038e-01, -1.11797170e-01, -3.94607469e-01,\n",
       "       -8.12134433e-01, -3.88996756e-01, -4.76322739e-01, -2.58120436e-01,\n",
       "       -3.44541133e-01, -4.23837998e-01, -8.22801696e-01, -6.37156838e-01,\n",
       "       -1.13990185e-01, -6.21195205e-01, -1.95880779e-01, -3.09027770e-01,\n",
       "       -3.49059261e-01, -1.29913089e-01, -9.05615448e-01, -8.47686827e-01,\n",
       "       -8.89121366e-01, -5.79576250e-01, -3.02845942e-01, -6.84419874e-01,\n",
       "       -6.27116333e-01, -7.68334617e-01, -4.70497535e-01, -6.52352075e-01,\n",
       "       -3.37771626e-01, -6.38321067e-01, -1.74984348e-01, -2.33553935e-01,\n",
       "       -1.13912053e-01, -5.88811046e-01, -1.75865622e-01, -7.49705980e-01,\n",
       "       -8.06197669e-01, -2.54900798e-01, -3.43868689e-01, -1.83622562e-01,\n",
       "       -7.46609811e-01, -3.71346392e-01, -3.91557005e-01, -1.01177020e-01,\n",
       "       -8.63370498e-01, -1.71857470e-01, -5.86973896e-01, -5.14040713e-01,\n",
       "       -3.33933400e-01, -2.15446926e-01, -4.65782180e-02, -1.06722935e-01,\n",
       "       -8.17039649e-01, -9.20400244e-01, -9.21517534e-01, -4.01463206e-01,\n",
       "       -8.48427297e-01, -8.42766380e-01, -3.01517423e-01, -1.55148013e-01,\n",
       "       -9.41424044e-01, -3.50223304e-01, -8.57814995e-01, -6.40806009e-01,\n",
       "       -7.34221193e-01, -6.62837875e-01, -1.07815954e-01, -3.40299837e-01,\n",
       "       -9.15384477e-01, -5.85910741e-01, -6.16513010e-01, -5.19577957e-01,\n",
       "       -3.87445501e-01, -7.12470632e-01, -3.21076488e-01, -3.92013630e-01,\n",
       "       -4.49684254e-01, -7.51037757e-01, -7.76484818e-01, -3.65879672e-01,\n",
       "       -2.40150308e-01, -6.30624268e-01, -5.99311328e-01, -7.21606555e-01,\n",
       "       -5.31553045e-01, -9.77505859e-01, -6.23381099e-01, -1.61750662e-01,\n",
       "       -3.66656726e-01, -4.48697072e-01, -3.60350859e-01, -9.94092251e-01,\n",
       "       -1.26020630e-01, -7.55861132e-01, -4.69966964e-01, -3.00129721e-02,\n",
       "       -5.76248083e-01, -7.44499039e-01, -8.29446239e-01, -2.86765809e-01,\n",
       "       -5.87660164e-01, -6.78874434e-02, -7.51704072e-01, -8.37445620e-01,\n",
       "       -1.79832761e-02, -1.38276919e-01, -7.13242610e-01, -2.32408760e-01,\n",
       "       -5.05661196e-01, -5.47595817e-01, -5.24392758e-01, -4.61425440e-02,\n",
       "       -1.04810611e-01, -7.59549390e-01, -8.02358216e-01, -6.94037794e-01,\n",
       "       -4.76662388e-01, -7.50189297e-02, -1.62254157e-01, -9.67697723e-01,\n",
       "       -6.00863778e-01, -1.20551284e-01, -7.86540010e-01, -7.57745407e-01,\n",
       "       -4.97430314e-02, -7.40010913e-01, -1.71838160e-01, -3.19697350e-01,\n",
       "       -2.93253835e-01, -9.46010936e-01, -1.09621603e-03, -1.12275150e-01,\n",
       "       -4.49409018e-01, -9.38879602e-01, -7.04502672e-02, -2.54343944e-01,\n",
       "       -4.91618133e-03, -4.04907625e-01, -5.12109205e-01, -5.52501456e-01,\n",
       "       -3.78396452e-01, -2.11743341e-01, -6.15913651e-01, -7.22383280e-01,\n",
       "       -1.14704344e-01, -3.17790127e-01, -6.37705097e-01, -1.16764330e-01,\n",
       "       -6.80446362e-01, -1.53788782e-01, -8.99781517e-01, -4.08775738e-01,\n",
       "       -3.14144576e-01, -8.30121008e-01, -4.96593197e-01, -5.56646035e-01,\n",
       "       -4.30038356e-01, -5.42543401e-01, -1.16328178e-01, -5.88847427e-01,\n",
       "       -8.46987519e-01, -7.09302591e-01, -9.56974265e-01, -4.07951523e-01,\n",
       "       -5.61926525e-01, -8.84759362e-01, -4.91795487e-01, -5.94750727e-01,\n",
       "       -6.48167401e-01, -9.01379277e-01, -5.65658507e-01, -5.32291072e-01,\n",
       "       -9.16886522e-01, -3.85517832e-01, -8.40716708e-01, -3.32078229e-01,\n",
       "       -7.14618299e-01, -8.56180634e-01, -7.50789078e-01, -9.18109939e-01,\n",
       "       -4.59383414e-01, -9.07063875e-01, -9.34045610e-01, -5.44722026e-01,\n",
       "       -3.62850817e-01, -3.19794280e-02, -8.67298051e-01, -6.22171786e-01,\n",
       "       -7.03797421e-01, -5.84170218e-01, -5.55826988e-01, -5.44677819e-01,\n",
       "       -1.29427668e-01, -9.11859400e-01, -9.82417417e-01, -6.13960550e-02,\n",
       "       -8.92929143e-01, -4.11680410e-01, -3.39216019e-01, -3.12201508e-01,\n",
       "       -1.84040949e-01, -9.71917601e-01, -9.98368493e-01, -5.88065280e-01,\n",
       "       -4.20733135e-01, -5.67813925e-01, -3.92534613e-01, -3.01640117e-01,\n",
       "       -2.41445984e-01, -6.29667661e-01, -8.52734294e-01, -6.35467478e-01,\n",
       "       -1.94299475e-02, -5.99088239e-01, -9.54148652e-01, -2.85895095e-01,\n",
       "       -4.77459181e-02, -8.40847299e-01, -8.19002604e-01, -4.13968236e-01,\n",
       "       -8.41614571e-01, -5.98726540e-01, -9.15372718e-01, -7.13201064e-01,\n",
       "       -2.51210711e-01, -9.74040423e-01, -4.93073891e-01, -4.72706866e-01,\n",
       "       -5.81703257e-01, -8.99167460e-02, -7.57009374e-01, -5.94277717e-02,\n",
       "       -5.24202794e-01, -2.00967503e-01, -9.40195273e-02, -9.69826925e-01,\n",
       "       -3.74702216e-01, -9.74716238e-01, -5.56414446e-02, -4.03876290e-01,\n",
       "       -9.52590867e-01, -5.69056543e-01, -2.75566940e-01, -3.71644381e-01,\n",
       "       -9.26358952e-01, -7.78163470e-01, -3.41548071e-01, -6.36417773e-01,\n",
       "       -9.87130169e-01, -3.69879253e-01, -5.56963215e-01, -6.97484268e-04,\n",
       "       -2.42717004e-01, -8.97594836e-01, -6.44796897e-01, -5.72903467e-01,\n",
       "       -1.52121296e-01, -9.21442472e-02, -9.39892380e-01, -4.04428826e-01,\n",
       "       -5.89796501e-02, -1.53266696e-02, -9.89992536e-01, -6.48292511e-01,\n",
       "       -7.87641309e-01, -6.59964003e-01, -3.95745717e-01, -3.23263140e-01,\n",
       "       -2.76973835e-01, -2.61248454e-01, -6.70477151e-01, -6.71030785e-01,\n",
       "       -1.70860190e-01, -8.85446793e-01, -3.87121918e-02, -1.71923567e-02,\n",
       "       -8.84699705e-01, -6.80199490e-01, -5.38651299e-01, -6.50604605e-01,\n",
       "       -6.19371816e-01, -9.55086264e-01, -6.08451591e-01, -2.97995024e-01,\n",
       "       -2.66002958e-02, -7.33809160e-02, -6.34261075e-01, -1.12108267e-01,\n",
       "       -3.26006871e-01, -8.58267806e-01, -8.40852011e-01, -4.06611936e-01,\n",
       "       -2.65784580e-01, -6.35903468e-01, -7.28026248e-01, -1.51070472e-01,\n",
       "       -7.16289724e-01, -7.97356942e-01, -5.51233224e-02, -5.01525351e-01,\n",
       "       -9.19225963e-01, -7.14148007e-01, -1.78590554e-01, -8.29980982e-01,\n",
       "       -9.76175500e-01, -3.87141285e-01, -1.59394522e-02, -5.63451516e-01,\n",
       "       -4.40484614e-02, -1.14908849e-01, -3.20293581e-01, -5.47668505e-02,\n",
       "       -8.49518158e-01, -8.03673639e-01, -8.26807116e-01, -9.88618095e-01,\n",
       "       -1.68602429e-01, -7.88901362e-01, -2.49491899e-01, -3.56799968e-01,\n",
       "       -3.94077861e-01, -6.44685296e-01, -8.95008304e-01, -4.94247672e-01,\n",
       "       -7.11618374e-01, -6.34104695e-01, -5.62675103e-01, -9.32248689e-01,\n",
       "       -7.01118347e-01, -5.39325256e-01, -3.89960631e-01, -3.23036981e-01,\n",
       "       -7.75560685e-01, -6.50203858e-01, -4.84996870e-01, -6.92224515e-01,\n",
       "       -6.92336475e-01, -7.03758358e-02, -5.88933337e-01, -8.71002516e-01,\n",
       "       -4.76046152e-01, -5.20816921e-01, -1.39874312e-01, -4.38122858e-01,\n",
       "       -3.91951737e-01, -8.69146760e-01, -1.75677066e-01, -8.60686954e-01,\n",
       "       -7.67110495e-01, -1.51563550e-01, -7.45027632e-02, -5.97411019e-02,\n",
       "       -8.97493199e-01, -6.76872150e-01, -4.76694747e-01, -4.08553829e-01,\n",
       "       -6.60954575e-01, -8.79015027e-01, -4.93467840e-01, -1.66108453e-01,\n",
       "       -1.62508503e-02, -8.86651874e-01, -7.67759877e-01, -4.98640822e-01,\n",
       "       -1.17684208e-01, -5.04373598e-01, -2.88582353e-01, -9.60161032e-01,\n",
       "       -1.10334925e-01, -4.84037584e-01, -7.61613705e-01, -8.04908034e-01,\n",
       "       -5.42865636e-01, -1.24449173e-01, -2.01023668e-01, -9.75814801e-01,\n",
       "       -5.01949156e-01, -7.43239339e-01, -9.51526017e-01, -1.28755452e-01,\n",
       "       -4.03115859e-02, -2.82936854e-02, -6.05122491e-02, -6.87411034e-01,\n",
       "       -5.01635030e-01, -3.07056124e-01, -8.11577102e-01, -4.06889847e-01,\n",
       "       -9.26871307e-01, -4.17946299e-01, -9.16778668e-01, -6.00017924e-01,\n",
       "       -3.02772266e-02, -3.71457451e-01, -8.44263350e-01, -5.41722102e-01,\n",
       "       -2.13567096e-01, -2.03213326e-01, -7.77129605e-01, -3.40123107e-01,\n",
       "       -2.37997158e-01, -9.08811740e-01, -8.34939449e-02, -6.69921133e-01,\n",
       "       -6.83752528e-01, -4.46554416e-01, -4.04879750e-02, -2.43823887e-02,\n",
       "       -9.32014722e-01, -1.80665642e-02, -9.05707274e-01, -2.41688013e-01,\n",
       "       -5.66546943e-02, -9.54161315e-01, -5.87512937e-01, -7.81491083e-01,\n",
       "       -9.36804756e-01, -7.32304711e-01, -7.17377927e-01, -1.20483961e-01,\n",
       "       -7.97026622e-01, -5.38483366e-02, -4.97592018e-01, -1.76577320e-01,\n",
       "       -3.67652665e-02, -7.52762404e-01, -9.20334407e-01, -2.46420968e-01,\n",
       "       -1.64178179e-01, -4.62826490e-01, -5.59050495e-01, -6.76285051e-01,\n",
       "       -1.50389392e-01, -6.70544788e-01, -1.10323158e-01, -5.36049487e-02,\n",
       "       -4.52567429e-01, -5.97640842e-01, -8.61532707e-01, -9.20456275e-02,\n",
       "       -3.20434201e-01, -2.99883998e-02, -9.17217007e-01, -9.37454908e-01,\n",
       "       -6.37879832e-01, -3.33631449e-01, -4.41823332e-01, -2.22899112e-01,\n",
       "       -6.84233980e-01, -1.53318037e-01, -4.45004993e-01, -1.62426813e-01,\n",
       "       -2.83880788e-01, -2.33534635e-01, -5.10565095e-02, -2.83891673e-01,\n",
       "       -8.31774230e-02, -2.61404496e-01, -7.51204393e-01, -6.94143943e-01,\n",
       "       -4.35063108e-01, -7.39978153e-01, -9.67894373e-01, -2.32039152e-01,\n",
       "       -5.45403972e-02, -5.40315483e-01, -1.32199532e-01, -2.74751001e-01,\n",
       "       -8.08008355e-01, -9.55793228e-01, -3.49057288e-01, -2.12706144e-01,\n",
       "       -4.35800505e-01, -6.65237478e-01, -5.57389687e-01, -3.59696000e-01,\n",
       "       -9.64900914e-02, -6.97439593e-01, -8.15819263e-01, -4.42770403e-01,\n",
       "       -8.65558724e-01, -5.70099292e-01, -4.91420830e-01, -4.51154656e-02,\n",
       "       -6.78530838e-01, -5.00095098e-01, -2.92363773e-01, -2.04363285e-01,\n",
       "       -5.82499809e-01, -1.50891129e-01, -8.85565552e-01, -3.40139153e-01,\n",
       "       -4.16136206e-01, -7.04563934e-01, -6.86408636e-02, -6.08053109e-01,\n",
       "       -7.29897332e-01, -9.38608265e-01, -1.22454260e-01, -3.76590730e-01,\n",
       "       -3.75255697e-01, -5.00895060e-01, -2.95634566e-01, -4.64978024e-01,\n",
       "       -2.72743735e-01, -8.91794120e-01, -4.29289384e-01, -5.50203462e-02,\n",
       "       -7.36717583e-01, -9.83375880e-01, -2.64358225e-01, -3.29761590e-02,\n",
       "       -1.23609940e-01, -1.08364863e-01, -6.23664389e-02, -3.30195044e-01,\n",
       "       -5.39407706e-01, -9.59127485e-01, -8.26677159e-01, -8.13071664e-01,\n",
       "       -2.51883736e-01, -9.93089866e-01, -6.10209588e-02, -7.56562199e-01,\n",
       "       -5.54881008e-01, -4.85321869e-01, -2.53032034e-01, -2.27654055e-01,\n",
       "       -2.31857378e-01, -7.62985917e-01, -3.66029523e-01, -7.66788468e-01,\n",
       "       -6.96058186e-01, -3.05076185e-01, -5.94265483e-01, -6.79576667e-01,\n",
       "       -1.42043228e-01, -5.38198655e-01, -6.94058349e-01, -7.20700925e-01,\n",
       "       -2.29247857e-01, -8.46261319e-01, -9.44630462e-01, -9.29266506e-01,\n",
       "       -5.67980469e-01, -3.84237173e-01, -7.55302682e-01, -7.88388372e-01,\n",
       "       -3.90965207e-01, -8.72752124e-01, -3.98628476e-01, -7.91639158e-02,\n",
       "       -5.55716251e-03, -7.93746404e-01, -1.88492437e-01, -2.92262783e-01,\n",
       "       -8.03193913e-03, -5.28073141e-01, -5.08252152e-01, -8.53312678e-01,\n",
       "       -7.04727400e-01, -5.61329317e-01, -3.34430527e-01, -5.32631385e-01,\n",
       "       -6.11605972e-01, -5.25113188e-01, -2.76900713e-01, -5.20350334e-01,\n",
       "       -1.72757444e-01, -3.17833004e-01, -6.48421761e-01, -3.01848494e-01,\n",
       "       -1.18004266e-01, -5.10100789e-01, -7.30952042e-01, -4.85595040e-01,\n",
       "       -2.90349666e-01, -7.76021239e-01, -8.13280711e-01, -2.82695509e-01,\n",
       "       -8.28709857e-01, -4.71988771e-01, -8.27271973e-01, -5.57254015e-01,\n",
       "       -9.62932347e-01, -8.10908906e-01, -1.90833258e-01, -1.19709198e-01,\n",
       "       -2.47290739e-01, -8.43113232e-01, -4.98621545e-02, -6.11819381e-01,\n",
       "       -6.74304446e-01, -5.86221929e-02, -5.78232603e-01, -8.28088543e-01,\n",
       "       -8.50495113e-02, -1.47159054e-03, -2.91393518e-01, -8.00228040e-01,\n",
       "       -2.65010415e-01, -7.53457740e-02, -5.03293269e-01, -4.01163511e-01,\n",
       "       -5.55473580e-01, -9.78732240e-01, -5.62321548e-02, -8.48694963e-01,\n",
       "       -6.27563988e-01, -2.64052993e-01, -5.94262625e-01, -6.90035597e-01,\n",
       "       -8.59231194e-01, -7.30052373e-01, -8.91638809e-01, -9.78615910e-01,\n",
       "       -9.38486956e-02, -4.69874204e-01, -6.77054955e-01, -6.29169994e-01,\n",
       "       -4.45597374e-01, -2.45407814e-01, -3.13346245e-01, -2.50236859e-01,\n",
       "       -3.90903794e-01, -4.12922676e-01, -4.63745914e-01, -9.52750087e-01,\n",
       "       -4.21881306e-01, -8.14328653e-01, -3.80190213e-01, -8.17595295e-01,\n",
       "       -3.17294577e-01, -3.06657139e-01, -5.08240495e-01, -4.32794431e-01,\n",
       "       -3.94379096e-01, -8.67223341e-02, -3.45373689e-01, -3.67980195e-01,\n",
       "       -3.49503968e-02, -6.21571510e-01, -2.27444577e-01, -6.95862702e-01,\n",
       "       -5.92223318e-01, -5.37784452e-01, -7.51972242e-01, -4.59462103e-01,\n",
       "       -8.64535923e-01, -3.65947252e-01, -7.27983070e-01, -7.38627186e-01,\n",
       "       -4.87938351e-01, -4.62152641e-01, -1.15043938e-01, -6.12705499e-01,\n",
       "       -1.76054664e-01, -4.13913982e-01, -8.62616098e-02, -8.80512461e-01,\n",
       "       -2.65626650e-01, -2.30708486e-01, -9.43415434e-01, -1.07065940e-01,\n",
       "       -6.00630370e-01, -9.77513906e-02, -6.42238560e-01, -2.47156594e-01,\n",
       "       -8.63692117e-01, -4.04038912e-01, -4.80187458e-01, -6.18756345e-01,\n",
       "       -6.10247009e-01, -6.90122836e-01, -6.92541992e-01, -1.73759743e-01,\n",
       "       -3.11590676e-01, -5.01867396e-02, -9.11888218e-01, -3.84466776e-01,\n",
       "       -4.87235548e-01, -9.32834996e-01, -5.93638044e-01, -9.42585702e-01,\n",
       "       -5.59194793e-01, -1.49315649e-01, -3.98274640e-01, -7.04016786e-01,\n",
       "       -6.51152047e-01, -6.59304849e-01, -1.75715946e-01, -6.31553333e-01,\n",
       "       -2.04589308e-02, -1.80924094e-01, -7.54104623e-01, -7.84159391e-01,\n",
       "       -9.94006131e-01, -5.44098837e-01, -6.17336559e-02, -7.30933418e-01,\n",
       "       -4.57531400e-01, -4.73147190e-01, -4.65345181e-03, -7.68570917e-01,\n",
       "       -6.60574344e-01, -7.82518989e-01, -6.97055216e-01, -3.64402164e-01,\n",
       "       -2.98353331e-01, -2.52125502e-01, -7.43311095e-01, -9.40884109e-01,\n",
       "       -5.89853507e-01, -6.87839605e-02, -1.35160754e-01, -3.78308971e-01,\n",
       "       -1.01225659e-01, -3.58960177e-01, -5.04439343e-01, -8.52532305e-01])"
      ]
     },
     "execution_count": 26,
     "metadata": {},
     "output_type": "execute_result"
    }
   ],
   "source": [
    "# range is -1 to 0, and we're getting 1000 numbers\n",
    "np.random.uniform(-1,0,1000)\n",
    "# every number is equally likely to be returned"
   ]
  },
  {
   "cell_type": "code",
   "execution_count": 25,
   "id": "28163bef-d7b8-4380-b65d-dd8833ae8259",
   "metadata": {},
   "outputs": [
    {
     "data": {
      "image/png": "[encoded data removed]",
      "text/plain": [
       "<Figure size 864x576 with 1 Axes>"
      ]
     },
     "metadata": {
      "needs_background": "light"
     },
     "output_type": "display_data"
    }
   ],
   "source": [
    "# visualise\n",
    "y = np.random.uniform(-1,0,1000)\n",
    "count, bins, ignored = plt.hist(y, 15, density=True)\n",
    "plt.plot(bins, np.ones_like(bins), linewidth=2, color='r') # include a red line to show the average\n",
    "plt.show()"
   ]
  },
  {
   "cell_type": "code",
   "execution_count": 20,
   "id": "88a21cde-75db-40eb-a978-a960fb65eac4",
   "metadata": {},
   "outputs": [
    {
     "data": {
      "image/png": "[encoded data removed]",
      "text/plain": [
       "<Figure size 432x288 with 1 Axes>"
      ]
     },
     "metadata": {
      "needs_background": "light"
     },
     "output_type": "display_data"
    }
   ],
   "source": [
    "# the more times we run it the flatter the line at the top\n",
    "x = np.random.uniform(-1,0,100000)\n",
    "\n",
    "count, bins, ignored = plt.hist(x, 15, density=True)\n",
    "plt.plot(bins, np.ones_like(bins), linewidth=2, color='r')\n",
    "plt.show()"
   ]
  },
  {
   "cell_type": "markdown",
   "id": "76f2d4d0-ab81-4bb0-9be0-55872b5bd9b8",
   "metadata": {
    "tags": []
   },
   "source": [
    "## Normal distribution"
   ]
  },
  {
   "cell_type": "markdown",
   "id": "9c710487-d3d5-4198-9789-5f73c9dff81a",
   "metadata": {},
   "source": [
    "Normal distribution represents the behavior of most of the situations in the universe (That is why it’s called a “normal” distribution. I guess!). The large sum of (small) random variables often turns out to be normally distributed, contributing to its widespread application.\n",
    "\n",
    "Link to documentation - https://numpy.org/doc/stable/reference/random/generated/numpy.random.Generator.normal.html#numpy.random.Generator.normal"
   ]
  },
  {
   "cell_type": "code",
   "execution_count": 40,
   "id": "8ceb2b39-ffe7-4d0f-840a-fd8b8deeac54",
   "metadata": {
    "scrolled": true,
    "tags": []
   },
   "outputs": [],
   "source": [
    "# (10,100,10000) 1st number is centre, 2nd is spread (*3), 3rd of amount of\n",
    "# numbers returned\n",
    "z=np.random.normal(10,100,10000)"
   ]
  },
  {
   "cell_type": "code",
   "execution_count": 41,
   "id": "6c0fc4d1-64c8-4b82-90ea-a2fe65c505fc",
   "metadata": {},
   "outputs": [
    {
     "data": {
      "text/plain": [
       "(array([   3.,   52.,  343., 1220., 2428., 2953., 1965.,  797.,  207.,\n",
       "          32.]),\n",
       " array([-390.73542376, -315.54004743, -240.34467109, -165.14929475,\n",
       "         -89.95391842,  -14.75854208,   60.43683425,  135.63221059,\n",
       "         210.82758692,  286.02296326,  361.21833959]),\n",
       " <BarContainer object of 10 artists>)"
      ]
     },
     "execution_count": 41,
     "metadata": {},
     "output_type": "execute_result"
    },
    {
     "data": {
      "image/png": "[encoded data removed]",
      "text/plain": [
       "<Figure size 432x288 with 1 Axes>"
      ]
     },
     "metadata": {
      "needs_background": "light"
     },
     "output_type": "display_data"
    }
   ],
   "source": [
    "plt.hist(z)"
   ]
  },
  {
   "cell_type": "markdown",
   "id": "2a93c8bf-c236-4a63-9592-f1ab327a9a03",
   "metadata": {
    "tags": []
   },
   "source": [
    "## Binomial Distribution"
   ]
  },
  {
   "cell_type": "markdown",
   "id": "3b63ed8c-d59f-4805-b51d-2d741520f24d",
   "metadata": {
    "tags": []
   },
   "source": [
    "Binomial distribution is when we're dealing with only 2 outcomes. These can be equal such as a coin toss as demomstrated below. Or if we know the probability of an outcome we can insert that as in the second example.\n",
    "\n",
    "Link to documentation - https://numpy.org/doc/stable/reference/random/generated/numpy.random.Generator.binomial.html#numpy.random.Generator.binomial"
   ]
  },
  {
   "cell_type": "markdown",
   "id": "43aa5576-d665-48f2-98c7-5736eda23edd",
   "metadata": {},
   "source": [
    "#### coin toss"
   ]
  },
  {
   "cell_type": "code",
   "execution_count": 4,
   "id": "921420a5-22e5-41cd-8adb-558194c7ac3d",
   "metadata": {
    "jupyter": {
     "source_hidden": true
    },
    "scrolled": true,
    "tags": []
   },
   "outputs": [
    {
     "data": {
      "text/plain": [
       "array([ 3,  5,  4,  3,  6,  7,  6,  6,  4,  5,  3,  2,  5,  5,  6,  5,  2,\n",
       "        2,  6,  7,  6,  2,  7,  6,  5,  6,  4,  9,  2,  6,  3,  4,  4,  5,\n",
       "        6,  5,  4,  3,  5,  7,  2,  5,  5,  5,  4,  5,  4,  6,  7,  7,  6,\n",
       "        7,  6,  4,  5,  5,  7,  7,  2,  6,  6,  3,  5,  5,  7,  3,  2,  5,\n",
       "        4,  6,  3,  4,  7,  4,  5,  3,  5,  4,  3,  5,  6,  5,  5,  4,  5,\n",
       "        7,  5,  4,  2,  4,  4,  6,  4,  7,  4,  5,  4,  7,  7,  4,  5,  6,\n",
       "        4,  9,  7,  4,  6,  5,  4,  3,  4,  2,  4,  6,  5,  5,  5,  6,  5,\n",
       "        4,  7,  4,  5,  4,  5,  6,  7,  7,  4,  4,  5,  6,  6,  5,  4,  6,\n",
       "        7,  5,  4,  6,  2,  6,  5,  6,  2,  4,  6,  3,  6,  5,  4,  3,  4,\n",
       "        4,  7,  4,  6,  6,  3,  6,  3,  4,  6,  7,  5,  3,  8, 10,  5,  6,\n",
       "        5,  4,  6,  5,  5,  5,  5,  4,  8,  5,  6,  5,  6,  7,  6,  5,  3,\n",
       "        2,  7,  6,  4,  4,  8,  5,  4,  2,  5,  7,  8,  4,  8,  5,  5,  5,\n",
       "        4,  4,  3,  8,  3,  3,  8,  4,  4,  4,  3,  5,  7,  6,  4,  4,  6,\n",
       "        3,  4,  5,  4,  6,  6,  5,  5,  8,  6,  4,  4, 10,  4,  6,  6,  6,\n",
       "        4,  4,  5,  8,  4,  8,  4,  4,  4,  5,  8,  4,  7,  8,  5,  5,  4,\n",
       "        7,  4,  8,  3,  2,  2,  8,  2,  3,  5,  6,  4,  6,  4,  4,  6,  5,\n",
       "        3,  6,  4,  6,  6,  4,  3,  5,  4,  7,  4,  5,  4,  2,  6,  2,  6,\n",
       "        1,  6,  4,  6,  6,  5,  3,  5,  6,  4,  2,  5,  5,  6,  3,  5,  7,\n",
       "        4,  7,  4,  8,  4,  5,  7,  4,  6,  7,  1,  5,  5,  5,  7,  7,  7,\n",
       "        6,  5,  4,  4,  5,  6,  5,  3,  6,  7,  7, 10,  6,  6,  3,  5,  5,\n",
       "        6,  7,  7,  4,  4,  5,  6,  2,  6,  7,  5,  6,  2,  7,  1,  5,  5,\n",
       "        6,  5,  9,  6,  6,  6,  6,  3,  2,  6,  5,  5,  7,  3,  3,  8,  4,\n",
       "        6,  5,  3,  7,  2,  6,  5,  4,  5,  5,  6,  2,  2,  7,  4,  3,  4,\n",
       "        5,  3,  5,  7,  8,  6,  6,  5,  4,  3,  6,  3,  4,  5,  2,  4,  5,\n",
       "        6,  3,  3,  6,  8,  3,  5,  6,  4,  6,  6,  5,  5,  6,  4,  5,  4,\n",
       "        6,  2,  5,  2,  5,  4,  6,  6,  5,  6,  5,  4,  8,  5,  4,  5,  6,\n",
       "        5,  4,  4,  6,  7,  3,  4,  3,  4,  5,  4,  3,  5,  4,  5,  5,  7,\n",
       "        6,  7,  4,  8,  6,  6,  5,  7,  5,  5,  1,  6,  3,  6,  6,  6,  4,\n",
       "        7,  6,  5,  5,  3,  5,  5,  4,  2,  7,  8,  7,  2,  3,  7,  6,  4,\n",
       "        5,  6,  3,  6,  4,  8,  6,  6,  5,  8,  4,  5,  6,  7,  6,  5,  3,\n",
       "        2,  3,  7,  5,  5,  6,  7,  7,  8,  6,  7,  5,  3,  5,  4,  7,  6,\n",
       "        7,  6,  4,  6,  2,  5,  7,  4,  7,  5,  7,  4,  4,  4,  8,  5,  6,\n",
       "        4,  5,  4,  4,  4,  5,  8,  4,  8,  7,  3,  4,  7,  7,  3,  4,  6,\n",
       "        5,  3,  4,  6,  3,  4,  3,  8,  2,  7,  8,  4,  4,  6,  4,  6,  5,\n",
       "        3,  6,  5,  7,  4,  5,  6,  5,  5,  2,  5,  6,  7,  4,  2,  4,  7,\n",
       "        7,  7,  4,  4,  6,  5,  4,  6,  3,  6,  5,  4,  4,  4,  5,  6,  6,\n",
       "        7,  8,  7,  5,  5,  7,  5,  5,  6,  5,  4,  6,  5,  4,  8,  5,  1,\n",
       "        6,  4,  7,  6,  6,  6,  7,  6,  6,  6,  5,  9,  3,  5,  7,  7,  3,\n",
       "        6,  5,  4,  3,  7,  4,  4,  8,  5,  6,  4,  4,  9,  6,  4,  7,  4,\n",
       "        4,  6,  6,  7,  4,  5,  5,  6,  3,  5,  4,  4,  6,  2,  4,  5,  8,\n",
       "        6,  6,  4,  7,  4,  5,  7,  3,  5,  6,  7,  4,  4,  3,  6,  5,  7,\n",
       "        3,  5,  6,  5,  7,  5,  4,  7,  5,  7,  5,  5,  7,  7,  4,  3,  6,\n",
       "        8,  4,  5,  5,  4,  3,  3,  6,  6,  6,  4,  3,  6,  8,  8,  3,  4,\n",
       "        4,  4,  6,  6,  6,  7,  2,  5,  5,  7,  2,  2,  5,  4,  7,  6,  5,\n",
       "        4,  6,  6,  5,  6,  5,  5,  7,  5,  5,  3,  7,  4,  5,  5,  7,  2,\n",
       "        5,  7,  6,  3,  5,  7,  4,  4,  8,  6,  6,  5,  3,  5,  4,  5,  7,\n",
       "        7,  5,  2,  8,  3,  6,  2,  5,  6,  3,  5,  4,  4,  5,  4,  5,  3,\n",
       "        3,  4,  4,  6,  8,  3,  6,  7,  1,  3,  3,  5,  6,  7,  5,  8,  4,\n",
       "        4,  4,  8,  6,  7,  4,  7,  5,  4,  7,  5,  7,  6,  5,  3,  4,  5,\n",
       "        3,  3,  3,  3,  5,  4,  6,  6,  8,  4,  8,  7,  7,  7,  5,  3,  5,\n",
       "        4,  4,  3,  4,  7,  6,  6,  3,  5,  6,  8,  6,  6,  5,  5,  7,  5,\n",
       "        5,  3,  6,  4,  6,  5,  6,  4,  5,  6,  6,  3,  4,  6,  3,  4,  5,\n",
       "        7,  7,  6,  7,  3,  5,  6,  4,  6,  3,  1,  8,  5,  5,  6,  5,  5,\n",
       "        7,  6,  4,  5,  5,  3,  6,  4,  3,  3,  6,  3,  8,  2,  7,  5,  5,\n",
       "        5,  3, 10,  2,  3,  6,  6,  5,  5,  6,  2,  5,  4,  5,  6,  5,  2,\n",
       "        6,  3,  3,  5,  4,  9,  4,  3,  4,  5,  4,  4,  6,  3,  7,  7,  7,\n",
       "        7,  5,  5,  6,  3,  6,  5,  5,  6,  4,  5,  3,  5,  6,  8,  5,  4,\n",
       "        3,  4,  5,  4,  5,  4,  4,  7, 10,  4,  5,  5,  7,  6,  7,  3,  7,\n",
       "        3,  5,  6,  6,  3,  5,  5,  5,  8,  5,  3,  6,  5,  4])"
      ]
     },
     "execution_count": 4,
     "metadata": {},
     "output_type": "execute_result"
    }
   ],
   "source": [
    ">>> n, p = 10, .5  # n= number of trials, p = probability of each trial\n",
    ">>> s = np.random.binomial(n, p, 1000)\n",
    "# s = result of flipping a coin 10 times (either heads/tails), tested 1000 times.\n",
    "s"
   ]
  },
  {
   "cell_type": "code",
   "execution_count": 7,
   "id": "8fe40af3-3888-43e1-b568-79455b06910f",
   "metadata": {},
   "outputs": [
    {
     "data": {
      "text/plain": [
       "(array([  7.,  47., 110., 206., 239., 206., 126.,  48.,   6.,   5.]),\n",
       " array([ 1. ,  1.9,  2.8,  3.7,  4.6,  5.5,  6.4,  7.3,  8.2,  9.1, 10. ]),\n",
       " <BarContainer object of 10 artists>)"
      ]
     },
     "execution_count": 7,
     "metadata": {},
     "output_type": "execute_result"
    },
    {
     "data": {
      "image/png": "[encoded data removed]",
      "text/plain": [
       "<Figure size 432x288 with 1 Axes>"
      ]
     },
     "metadata": {
      "needs_background": "light"
     },
     "output_type": "display_data"
    }
   ],
   "source": [
    "# Plotted\n",
    "plt.hist(s)"
   ]
  },
  {
   "cell_type": "markdown",
   "id": "cfc10383-cce8-4e84-97fc-67526791a7fa",
   "metadata": {},
   "source": [
    "A real world example. A company drills 9 wild-cat oil exploration wells, each with an estimated probability of success of 0.1. All nine wells fail. What is the probability of that happening?\n",
    "\n",
    "Let’s do 20,000 trials of the model, and count the number that generate zero positive results."
   ]
  },
  {
   "cell_type": "code",
   "execution_count": 8,
   "id": "871fd73d-6ad0-42bf-90c8-b9f25f86fdaa",
   "metadata": {},
   "outputs": [
    {
     "data": {
      "text/plain": [
       "0.38245"
      ]
     },
     "execution_count": 8,
     "metadata": {},
     "output_type": "execute_result"
    }
   ],
   "source": [
    "sum(np.random.binomial(9, 0.1, 20000) == 0)/20000."
   ]
  },
  {
   "cell_type": "code",
   "execution_count": 14,
   "id": "38e41200-e3a5-4c91-8bc4-f71671db08a8",
   "metadata": {},
   "outputs": [
    {
     "data": {
      "text/plain": [
       "(array([7801.,    0., 7695.,    0., 3432.,    0.,  889.,    0.,  169.,\n",
       "          14.]),\n",
       " array([0. , 0.5, 1. , 1.5, 2. , 2.5, 3. , 3.5, 4. , 4.5, 5. ]),\n",
       " <BarContainer object of 10 artists>)"
      ]
     },
     "execution_count": 14,
     "metadata": {},
     "output_type": "execute_result"
    },
    {
     "data": {
      "image/png": "[encoded data removed]",
      "text/plain": [
       "<Figure size 432x288 with 1 Axes>"
      ]
     },
     "metadata": {
      "needs_background": "light"
     },
     "output_type": "display_data"
    }
   ],
   "source": [
    "# to visualise that\n",
    "a = np.random.binomial(9, 0.1, 20000)\n",
    "plt.hist(a)"
   ]
  },
  {
   "cell_type": "markdown",
   "id": "1cc6ec4f-336b-4da7-9874-4a78062e3473",
   "metadata": {},
   "source": [
    "## Poisson Distribution"
   ]
  },
  {
   "cell_type": "markdown",
   "id": "9e8cb571-a502-4984-ae8d-fa5caada1d6f",
   "metadata": {},
   "source": [
    "Not quite sure what this is about! :)\n",
    "\n",
    "Link to documentation - https://numpy.org/doc/stable/reference/random/generated/numpy.random.Generator.poisson.html#numpy.random.Generator.poisson"
   ]
  },
  {
   "cell_type": "code",
   "execution_count": 23,
   "id": "c519a58e-281f-4062-8aba-db6afa5f8647",
   "metadata": {},
   "outputs": [
    {
     "data": {
      "text/plain": [
       "(array([ 383.,  863., 3161., 1766., 2507.,  677.,  510.,   79.,   47.,\n",
       "           7.]),\n",
       " array([ 0. ,  1.5,  3. ,  4.5,  6. ,  7.5,  9. , 10.5, 12. , 13.5, 15. ]),\n",
       " <BarContainer object of 10 artists>)"
      ]
     },
     "execution_count": 23,
     "metadata": {},
     "output_type": "execute_result"
    },
    {
     "data": {
      "image/png": "[encoded data removed]",
      "text/plain": [
       "<Figure size 432x288 with 1 Axes>"
      ]
     },
     "metadata": {
      "needs_background": "light"
     },
     "output_type": "display_data"
    }
   ],
   "source": [
    "rng = np.random.default_rng()\n",
    "s = rng.poisson(5, 10000)\n",
    "plt.hist(s)"
   ]
  },
  {
   "cell_type": "markdown",
   "id": "6d0d8f66-db9a-4060-a545-0ae356dd7405",
   "metadata": {
    "tags": []
   },
   "source": [
    "## Exponential Distribution"
   ]
  },
  {
   "cell_type": "markdown",
   "id": "adfc38b5-fe29-4ab4-b3ad-1aa045d1cdce",
   "metadata": {},
   "source": [
    "Link to documentation - https://numpy.org/doc/stable/reference/random/generated/numpy.random.Generator.exponential.html#numpy.random.Generator.exponential"
   ]
  },
  {
   "cell_type": "code",
   "execution_count": 24,
   "id": "fec8ff76-699b-48cb-befc-d4335ef54b81",
   "metadata": {},
   "outputs": [
    {
     "data": {
      "image/png": "[encoded data removed]",
      "text/plain": [
       "<Figure size 432x288 with 1 Axes>"
      ]
     },
     "metadata": {
      "needs_background": "light"
     },
     "output_type": "display_data"
    }
   ],
   "source": [
    "gfg = np.random.exponential(3.45, 10000)\n",
    "  \n",
    "count, bins, ignored = plt.hist(gfg, 14, density = True)\n",
    "plt.show()"
   ]
  },
  {
   "cell_type": "markdown",
   "id": "9ca85cc7-cc04-42e0-8bdb-ea8212a462f6",
   "metadata": {},
   "source": [
    "## The use of seeds in generating pseudorandom numbers"
   ]
  },
  {
   "cell_type": "markdown",
   "id": "3d1280c7-99fa-4aac-9fdc-4495287b325d",
   "metadata": {
    "tags": []
   },
   "source": [
    "https://www.sharpsightlabs.com/blog/numpy-random-seed/\n",
    "\n",
    "https://towardsdatascience.com/stop-using-numpy-random-seed-581a9972805f"
   ]
  },
  {
   "cell_type": "markdown",
   "id": "4391bc34-d2bf-4ae5-b5e2-e38310c54be6",
   "metadata": {},
   "source": [
    "# END"
   ]
  }
 ],
 "metadata": {
  "kernelspec": {
   "display_name": "Python 3",
   "language": "python",
   "name": "python3"
  },
  "language_info": {
   "codemirror_mode": {
    "name": "ipython",
    "version": 3
   },
   "file_extension": ".py",
   "mimetype": "text/x-python",
   "name": "python",
   "nbconvert_exporter": "python",
   "pygments_lexer": "ipython3",
   "version": "3.8.8"
  }
 },
 "nbformat": 4,
 "nbformat_minor": 5
}
