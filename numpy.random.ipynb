{
 "cells": [
  {
   "cell_type": "markdown",
   "id": "6623e8f0-7eff-44bc-859d-cea9221cc5b3",
   "metadata": {
    "tags": []
   },
   "source": [
    "# Programming for Data Analysis\n",
    "## Autumn 2021 Assignment\n",
    "___"
   ]
  },
  {
   "cell_type": "markdown",
   "id": "c5c284f5-f76b-4797-8bd9-9dd4efa77f83",
   "metadata": {},
   "source": [
    "<br>\n",
    "\n",
    "![NumPy_logo](Images/NumPy_logo.png)"
   ]
  },
  {
   "cell_type": "markdown",
   "id": "689c09c2-8041-43be-8f2e-db494a843c77",
   "metadata": {
    "tags": []
   },
   "source": [
    "<br>\n",
    "\n",
    "## numpy.random "
   ]
  },
  {
   "cell_type": "markdown",
   "id": "01a628ea-6740-46d6-920b-9c9a958cc700",
   "metadata": {
    "tags": []
   },
   "source": [
    "**numpy.random** is a module within the bigger NumPy package which allows us to sample **pseudo-random** numbers and gives us a range of tools to implement them. Although there already is a random module in the Python standard library, numpy.random adds much extra functionality in particular in relation to arrays and has the ability to draw from a lot more statistical distributions. Computers can't really 'do random' - they need a set of instructions to produce an output - so programs like numpy.random use algorithims to generate random numbers. Thus they are not truly random but pseudo-random. This also means they are predictable and also reproducible with is of much benefit when running experimental code."
   ]
  },
  {
   "cell_type": "markdown",
   "id": "287339eb-9bbd-486d-aec7-95bb599b95af",
   "metadata": {},
   "source": [
    "**CHECK**\n",
    "\n",
    ">The new infrastructure takes a different approach to producing random numbers from the RandomState object. Random number generation is separated into two components, a bit generator and a random generator.\n",
    "\n",
    ">The BitGenerator has a limited set of responsibilities. It manages state and provides functions to produce random doubles and random unsigned 32- and 64-bit values.\n",
    "\n",
    ">The random generator takes the bit generator-provided stream and transforms them into more useful distributions, e.g., simulated normal random values. This structure allows alternative bit generators to be used with little code duplication.\n",
    "\n",
    ">The Generator is the user-facing object that is nearly identical to the legacy RandomState. It accepts a bit generator instance as an argument. The default is currently PCG64 but this may change in future versions. As a convenience NumPy provides the default_rng function to hide these details:"
   ]
  },
  {
   "cell_type": "code",
   "execution_count": null,
   "id": "1019e16a-6532-4155-a6b7-0c4723c3833b",
   "metadata": {},
   "outputs": [],
   "source": []
  },
  {
   "cell_type": "markdown",
   "id": "58cff7cc-4acc-4e48-a504-c2e04458ce61",
   "metadata": {},
   "source": [
    "<br> \n",
    "\n",
    "### NumPy"
   ]
  },
  {
   "cell_type": "markdown",
   "id": "421d0b6b-6a99-47ff-9b57-224699df15f8",
   "metadata": {},
   "source": [
    "NumPy is the primary python library for working with arrays. The name itself comes from Numerical Python, and it has become the fundamental package for scientific computing and also the foundation for many other analytic libraries in the python language.\n",
    "\n",
    "> \"NumPy ... is a library for the Python programming language, adding support for large, multi-dimensional arrays and matrices, along with a large collection of high-level mathematical functions to operate on these arrays.\"  \n",
    "https://en.wikipedia.org/wiki/NumPy"
   ]
  },
  {
   "cell_type": "markdown",
   "id": "b729c74e-b846-4f5f-94b7-051ba888df2f",
   "metadata": {
    "tags": []
   },
   "source": [
    "<br>\n",
    "\n",
    "### Simple random data"
   ]
  },
  {
   "cell_type": "markdown",
   "id": "b8206da7-c04e-4799-ad2e-49d051aed9f5",
   "metadata": {},
   "source": [
    "The numpy.random module has been updated recently so I will mostly be concentrating on the newer version and methods. All of the older methods are still supported, and I may be using some of them to demonstrate some aspects of the library. We begin by importing numpy, as per comvention and economy of space as **np**."
   ]
  },
  {
   "cell_type": "code",
   "execution_count": 78,
   "id": "c081eb61-1dfd-4939-8ada-33a91ac4f2ac",
   "metadata": {},
   "outputs": [],
   "source": [
    "# importing NumPy\n",
    "import numpy as np\n",
    "\n",
    "# importing matplotlib.pyplot for plotting and visualisations\n",
    "import matplotlib.pyplot as plt\n",
    "\n",
    "import pandas as pd\n",
    "\n",
    "import seaborn as sns\n",
    "\n",
    "# Creating a default figure size\n",
    "plt.rcParams['figure.figsize']=[12,8]"
   ]
  },
  {
   "cell_type": "markdown",
   "id": "9c1931ff-8665-4a4b-a3e3-fbee111d9b08",
   "metadata": {},
   "source": [
    "Numpy creates random numbers through the use of a **BitGenerator** and a **Generator** - the BitGenerator generates random sequences of bits which are transformed into values by the generator using a variety of distributions.\n",
    "We can create a new constructor using the **default_rng** method to get a new instance of a generator.  "
   ]
  },
  {
   "cell_type": "code",
   "execution_count": 2,
   "id": "00b83316-4fe8-40ca-8ba0-4d4b629addd3",
   "metadata": {},
   "outputs": [
    {
     "data": {
      "text/plain": [
       "Generator(PCG64) at 0x7F9627727820"
      ]
     },
     "execution_count": 2,
     "metadata": {},
     "output_type": "execute_result"
    }
   ],
   "source": [
    "# using default_rng() to get a new random number generator\n",
    "rng = np.random.default_rng()\n",
    "rng"
   ]
  },
  {
   "cell_type": "markdown",
   "id": "b60e7042-2576-4492-af8b-69950eddceaa",
   "metadata": {},
   "source": [
    "The default bitgenerator is PCG64 which is a 128-bit implementation of **O’Neill’s permutation congruential generator**.  \n",
    "> \"PCG is a family of simple fast space-efficient statistically good algorithms for random number generation. Unlike many general-purpose RNGs, they are also hard to predict.\"  \n",
    "https://www.pcg-random.org/index.html"
   ]
  },
  {
   "cell_type": "markdown",
   "id": "d6868e14-e315-44fb-952b-f9ebed3aec75",
   "metadata": {
    "tags": []
   },
   "source": [
    "We can pass a seed to the generator or let the computer pull a number from the operating system. More about that later!"
   ]
  },
  {
   "cell_type": "markdown",
   "id": "612dbef5-35cb-45a2-9d9d-4420557730df",
   "metadata": {},
   "source": [
    "<br>\n",
    "\n",
    "**numpy.random.default_rng.random** returns floating point numbers. If no value is passed we get one randomly generated float. If one value is passed we get an array of that length, and if a second value is passed (with extra brackets) we get a 2D array with those parameters."
   ]
  },
  {
   "cell_type": "code",
   "execution_count": 3,
   "id": "493a50f4-0857-46ec-a648-e7226f019f54",
   "metadata": {},
   "outputs": [
    {
     "name": "stdout",
     "output_type": "stream",
     "text": [
      "0.39233004147860573\n"
     ]
    }
   ],
   "source": [
    "# returns a single float\n",
    "x = rng.random()\n",
    "print(x)"
   ]
  },
  {
   "cell_type": "code",
   "execution_count": 4,
   "id": "1ecadc8e-69dd-4e96-aa23-8f2cf3e29fad",
   "metadata": {},
   "outputs": [
    {
     "name": "stdout",
     "output_type": "stream",
     "text": [
      "[8.84870823e-01 2.33542698e-01 9.15348589e-05]\n"
     ]
    }
   ],
   "source": [
    "# returns an array of 3 floats\n",
    "y = rng.random(3)\n",
    "print(y)"
   ]
  },
  {
   "cell_type": "code",
   "execution_count": 5,
   "id": "bcea859e-c7d1-4c18-baf5-f6fa843d1939",
   "metadata": {},
   "outputs": [
    {
     "name": "stdout",
     "output_type": "stream",
     "text": [
      "[[0.86012868 0.70124707 0.17958204]\n",
      " [0.93789894 0.46678551 0.30878016]\n",
      " [0.51304172 0.64439694 0.22519548]]\n"
     ]
    }
   ],
   "source": [
    "# returns an array of 3x3 floats\n",
    "z = rng.random((3,3))\n",
    "print(z)"
   ]
  },
  {
   "cell_type": "markdown",
   "id": "1d34ff8d-62b3-4e71-bb88-9a14524a6a1e",
   "metadata": {},
   "source": [
    "<br>\n",
    "\n",
    "**numpy.random.default_rng.integers** returns integers. If we pass 1 value, that will be the upper limit and non inclusive. 0 is the default lower limit. If we pass 2 values, the first will be the lower limit and the 2nd the upper. 3 values, and the third will be the amount of numbers creating an array."
   ]
  },
  {
   "cell_type": "code",
   "execution_count": 6,
   "id": "34fe8104-1410-439f-a774-209fa16845ec",
   "metadata": {},
   "outputs": [
    {
     "name": "stdout",
     "output_type": "stream",
     "text": [
      "9\n"
     ]
    }
   ],
   "source": [
    "# returns an integer between 0-9\n",
    "x = rng.integers(10)\n",
    "print(x)"
   ]
  },
  {
   "cell_type": "code",
   "execution_count": 7,
   "id": "be8ec535-562f-4319-962a-54cb857a127b",
   "metadata": {},
   "outputs": [
    {
     "name": "stdout",
     "output_type": "stream",
     "text": [
      "6\n"
     ]
    }
   ],
   "source": [
    "y = rng.integers(3,10)\n",
    "print(y)"
   ]
  },
  {
   "cell_type": "code",
   "execution_count": 8,
   "id": "80efb068-14ba-44b4-a112-777410e2e1f6",
   "metadata": {},
   "outputs": [
    {
     "name": "stdout",
     "output_type": "stream",
     "text": [
      "[2 6 8 4 6 3 4 3 9 3 2 3 8 8 3 2 5 4 6 8]\n"
     ]
    }
   ],
   "source": [
    "# returns an array of 20 numbers between 2-9\n",
    "z = rng.integers(2,10,20)\n",
    "print(z)"
   ]
  },
  {
   "cell_type": "markdown",
   "id": "9e6894f9-ea2e-454b-9204-668060698d8b",
   "metadata": {},
   "source": [
    "For all of the above code, if we rerun it we will get different results each time. If we want reproducible results we need to pass in a **seed**. We will look at this in more detail later."
   ]
  },
  {
   "cell_type": "markdown",
   "id": "467bb82f-09ee-4f90-9d61-9803e2f243e5",
   "metadata": {},
   "source": [
    "<br>\n",
    "\n",
    "#### Permutations"
   ]
  },
  {
   "cell_type": "markdown",
   "id": "8085a9b5-f27d-41de-b0c9-0afd9f2b9ece",
   "metadata": {},
   "source": [
    "<br>\n",
    "\n",
    "Within the numpy.random library there are many methods we can use to randomly manipulate the generated or given data. **permutation()** and **shuffle()** both rearrange the order of an array. The main difference is that permutation creates a new array while shuffle alters the original array."
   ]
  },
  {
   "cell_type": "code",
   "execution_count": 9,
   "id": "c5fc44ef-f574-4b76-a144-84f4c0ded34e",
   "metadata": {},
   "outputs": [
    {
     "data": {
      "text/plain": [
       "array([6, 2, 4, 1, 9, 7, 3, 8, 5])"
      ]
     },
     "execution_count": 9,
     "metadata": {},
     "output_type": "execute_result"
    }
   ],
   "source": [
    "# creating an array of numbers 1 to 10\n",
    "arr = np.array([1, 2, 3, 4, 5, 6, 7, 8, 9])\n",
    "\n",
    "# random permutation\n",
    "rng.permutation(arr)"
   ]
  },
  {
   "cell_type": "code",
   "execution_count": 10,
   "id": "75cda6ab-b41d-4ee5-b98a-bd6dc68e9145",
   "metadata": {},
   "outputs": [
    {
     "data": {
      "text/plain": [
       "array([1, 2, 3, 4, 5, 6, 7, 8, 9])"
      ]
     },
     "execution_count": 10,
     "metadata": {},
     "output_type": "execute_result"
    }
   ],
   "source": [
    "# the original array is intact\n",
    "arr"
   ]
  },
  {
   "cell_type": "code",
   "execution_count": 11,
   "id": "7d6f1b72-3f94-43a8-bb5c-66a3c7726450",
   "metadata": {},
   "outputs": [
    {
     "data": {
      "text/plain": [
       "array([6, 5, 7, 4, 9, 8, 3, 2, 1])"
      ]
     },
     "execution_count": 11,
     "metadata": {},
     "output_type": "execute_result"
    }
   ],
   "source": [
    "# 'shuffles' the array and alters the original\n",
    "rng.shuffle(arr)\n",
    "arr"
   ]
  },
  {
   "cell_type": "markdown",
   "id": "ef84722e-e5a5-47f5-b0a2-7ef0791c6504",
   "metadata": {},
   "source": [
    "We can use permutation to create a random array from a range"
   ]
  },
  {
   "cell_type": "code",
   "execution_count": 12,
   "id": "74f1489f-fdd0-4421-af8b-c44af5efdf76",
   "metadata": {},
   "outputs": [
    {
     "name": "stdout",
     "output_type": "stream",
     "text": [
      "[ 0  8 19 12 14 13  5  2  6 18 10  4  3 11  9 16 17  7  1 15]\n"
     ]
    }
   ],
   "source": [
    "# creates a permutation of the numbers 0-19\n",
    "print(rng.permutation(20))"
   ]
  },
  {
   "cell_type": "markdown",
   "id": "ce99ffa9-289b-4789-8d49-7c2fc9008a22",
   "metadata": {},
   "source": [
    "We can also use it on 2 dimensional arrays. Interestingly it maintains the numbers and order within each row and only rearranges the actual rows. If we add the parameter axis=1 we can permutate within the rows also"
   ]
  },
  {
   "cell_type": "code",
   "execution_count": 13,
   "id": "755ebb94-b013-49f8-b38f-a87cf3ce8f0a",
   "metadata": {},
   "outputs": [
    {
     "name": "stdout",
     "output_type": "stream",
     "text": [
      "[[ 0  1  2  3]\n",
      " [ 4  5  6  7]\n",
      " [ 8  9 10 11]]\n"
     ]
    }
   ],
   "source": [
    "# creates 12 numbers and shapes them into a 3x4 arrany\n",
    "array = np.arange(12).reshape((3, 4))\n",
    "\n",
    "# prints the array\n",
    "print(array)"
   ]
  },
  {
   "cell_type": "code",
   "execution_count": 14,
   "id": "46fda685-6e62-409b-bfad-9b53d60e7938",
   "metadata": {},
   "outputs": [
    {
     "data": {
      "text/plain": [
       "array([[ 0,  1,  2,  3],\n",
       "       [ 8,  9, 10, 11],\n",
       "       [ 4,  5,  6,  7]])"
      ]
     },
     "execution_count": 14,
     "metadata": {},
     "output_type": "execute_result"
    }
   ],
   "source": [
    "# permutates the 2D array - rows only\n",
    "rng.permutation(array)"
   ]
  },
  {
   "cell_type": "code",
   "execution_count": 15,
   "id": "fd7881a5-1678-4da0-b724-a215da60bff1",
   "metadata": {},
   "outputs": [
    {
     "data": {
      "text/plain": [
       "array([[ 2,  1,  0,  3],\n",
       "       [ 6,  5,  4,  7],\n",
       "       [10,  9,  8, 11]])"
      ]
     },
     "execution_count": 15,
     "metadata": {},
     "output_type": "execute_result"
    }
   ],
   "source": [
    "# permutates the 2D array - rows and within rows\n",
    "rng.permutation(array, axis=1)"
   ]
  },
  {
   "cell_type": "code",
   "execution_count": 16,
   "id": "0187993c-24e8-4e74-8cfc-49abc9fd69dd",
   "metadata": {},
   "outputs": [
    {
     "data": {
      "text/plain": [
       "array([[ 0,  1,  2,  3],\n",
       "       [ 4,  5,  6,  7],\n",
       "       [ 8,  9, 10, 11]])"
      ]
     },
     "execution_count": 16,
     "metadata": {},
     "output_type": "execute_result"
    }
   ],
   "source": [
    "# just to confirm the original array is intact\n",
    "array"
   ]
  },
  {
   "cell_type": "markdown",
   "id": "d71ef031-8bb9-4f42-8992-672afcd397e6",
   "metadata": {
    "tags": []
   },
   "source": [
    "We can do the same using the shuffle method - again the main difference being shuffle alters the original array."
   ]
  },
  {
   "cell_type": "code",
   "execution_count": 17,
   "id": "57926963-9fc3-41f8-afd5-b54dd6742aaa",
   "metadata": {},
   "outputs": [
    {
     "data": {
      "text/plain": [
       "array([[ 2,  3,  1,  0],\n",
       "       [ 6,  7,  5,  4],\n",
       "       [10, 11,  9,  8]])"
      ]
     },
     "execution_count": 17,
     "metadata": {},
     "output_type": "execute_result"
    }
   ],
   "source": [
    "# shuffles the array\n",
    "rng.shuffle(array, axis=1)\n",
    "array"
   ]
  },
  {
   "cell_type": "code",
   "execution_count": 18,
   "id": "d84a1417-f804-4614-a840-465c6f681e80",
   "metadata": {},
   "outputs": [
    {
     "data": {
      "text/plain": [
       "array([[ 2,  3,  1,  0],\n",
       "       [ 6,  7,  5,  4],\n",
       "       [10, 11,  9,  8]])"
      ]
     },
     "execution_count": 18,
     "metadata": {},
     "output_type": "execute_result"
    }
   ],
   "source": [
    "# just to confirm the array is now altered\n",
    "array"
   ]
  },
  {
   "cell_type": "markdown",
   "id": "e7d3fc00-f11a-4793-b37e-6dc04b5d8b83",
   "metadata": {},
   "source": [
    "<br>\n",
    "\n",
    "A few other interesting methods available to us"
   ]
  },
  {
   "cell_type": "markdown",
   "id": "5a3d9e7e-9e13-44d0-8af0-2b8398b04827",
   "metadata": {},
   "source": [
    "**numpy.random.default_rng.choice** generates a random sample from a given array. The first value in brackets is the upper range, while the 2nd is the number of values returned."
   ]
  },
  {
   "cell_type": "code",
   "execution_count": 19,
   "id": "f1800315-bbb7-4265-b2d5-542095a20939",
   "metadata": {},
   "outputs": [
    {
     "data": {
      "text/plain": [
       "array([ 4,  6, 14, 19, 20, 15,  9])"
      ]
     },
     "execution_count": 19,
     "metadata": {},
     "output_type": "execute_result"
    }
   ],
   "source": [
    "# choose 7 numbers at random from the range 0-39\n",
    "rng.choice(40, 7)"
   ]
  },
  {
   "cell_type": "markdown",
   "id": "8a2aa3ef-7dcf-4236-af70-680bed3228fb",
   "metadata": {},
   "source": [
    "**numpy.random.default_rng.bytes** returns random bytes"
   ]
  },
  {
   "cell_type": "code",
   "execution_count": 20,
   "id": "8ff7a373-3870-4543-bc36-fe7635c45ccd",
   "metadata": {},
   "outputs": [
    {
     "data": {
      "text/plain": [
       "b'\\x86\\x084_:%\\x88\\x1d\\xb1Y'"
      ]
     },
     "execution_count": 20,
     "metadata": {},
     "output_type": "execute_result"
    }
   ],
   "source": [
    "# returns 10 random bytes!\n",
    "rng.bytes(10)"
   ]
  },
  {
   "cell_type": "markdown",
   "id": "f921fc40-26b0-46fb-9006-d1634ba4768a",
   "metadata": {},
   "source": [
    "<br>\n",
    "\n",
    "## Distributions\n",
    "___"
   ]
  },
  {
   "cell_type": "markdown",
   "id": "9135a0dd-281f-47d7-81f6-ca3a3c6317fc",
   "metadata": {},
   "source": [
    "Probability distributions are how values are distributed within a given range or criteria. I will go through several of the more common examples."
   ]
  },
  {
   "cell_type": "markdown",
   "id": "138b7dff-5e49-400e-bced-36f7e040b686",
   "metadata": {},
   "source": [
    "### Uniform Distribution\n",
    "\n",
    "This is where each event has an equal chance of occurring, such as rolling a single dice or choosing a particular playing card from the deck.\n",
    "The basic syntax is as follows - the default parameters are 0.0 and 1.0 so the following code will return a floating point number between those two values. The uniform distribution dictates that the value has an equal chance of falling at any point between the 2."
   ]
  },
  {
   "cell_type": "code",
   "execution_count": 21,
   "id": "01da8bcf-55e6-4076-a5ce-a178949cef92",
   "metadata": {},
   "outputs": [
    {
     "data": {
      "text/plain": [
       "0.4408004867604157"
      ]
     },
     "execution_count": 21,
     "metadata": {},
     "output_type": "execute_result"
    }
   ],
   "source": [
    "# return a floating point number between 0.0 and 1.0\n",
    "x = rng.uniform()\n",
    "x"
   ]
  },
  {
   "cell_type": "markdown",
   "id": "feeae8b6-1536-4028-ba3a-b0229fbc41ac",
   "metadata": {},
   "source": [
    "We can pass some parameters in then"
   ]
  },
  {
   "cell_type": "code",
   "execution_count": 22,
   "id": "460fca72-8c2f-4147-9447-297dc7ab1ac9",
   "metadata": {},
   "outputs": [
    {
     "data": {
      "text/plain": [
       "2.3639482697842245"
      ]
     },
     "execution_count": 22,
     "metadata": {},
     "output_type": "execute_result"
    }
   ],
   "source": [
    "# returns a floating point number between 0.0 and 4.0\n",
    "x = rng.uniform(4)\n",
    "x"
   ]
  },
  {
   "cell_type": "code",
   "execution_count": 23,
   "id": "edc76369-705d-49e8-bfd4-ddba9120d464",
   "metadata": {},
   "outputs": [
    {
     "data": {
      "text/plain": [
       "3.9626383648491372"
      ]
     },
     "execution_count": 23,
     "metadata": {},
     "output_type": "execute_result"
    }
   ],
   "source": [
    "# return a floating point number between 3.0 and 4.0\n",
    "x = rng.uniform(3,4)\n",
    "x"
   ]
  },
  {
   "cell_type": "code",
   "execution_count": 24,
   "id": "54e28bde-e211-4323-b549-8956307f1307",
   "metadata": {
    "tags": []
   },
   "outputs": [
    {
     "data": {
      "text/plain": [
       "array([[13.79742632, 11.86907119, 12.70558639],\n",
       "       [14.39581689, 13.81458617, 11.45401242],\n",
       "       [11.10534035, 10.0016337 , 10.3574149 ],\n",
       "       [12.0622185 , 12.16650332, 13.53359257]])"
      ]
     },
     "execution_count": 24,
     "metadata": {},
     "output_type": "execute_result"
    }
   ],
   "source": [
    "# returns a 2D array of floating point numbers between 10.0 and 15.0\n",
    "x = rng.uniform(10, 15, size=(4, 3))\n",
    "x"
   ]
  },
  {
   "cell_type": "markdown",
   "id": "fa1eac7d-1759-4f38-b63f-49be51c9aec1",
   "metadata": {},
   "source": [
    "<br>\n",
    "\n",
    "#### Sample size"
   ]
  },
  {
   "cell_type": "markdown",
   "id": "6c05e3a4-9209-4e84-9f34-b6eabda31732",
   "metadata": {},
   "source": [
    "The following code creates various sizes of arrays of values between 0 and 100. In theory there's an equal chance for each value to occur but this only becomes obvious when we increase the smaple size. The set of plots below demonstrate that clearly. The final plot which has a sample of 1 million values is nearly a straight line."
   ]
  },
  {
   "cell_type": "code",
   "execution_count": 25,
   "id": "8428efb4-fbc3-4e67-b625-09d830b86deb",
   "metadata": {
    "tags": []
   },
   "outputs": [],
   "source": [
    "# looking at the difference the sample size makes\n",
    "x = rng.integers(100, size = 10)\n",
    "y = rng.integers(100, size = 100)\n",
    "z = rng.integers(100, size = 1000)\n",
    "a = rng.integers(100, size = 10000)\n",
    "b = rng.integers(100, size = 100000)\n",
    "c = rng.integers(100, size = 1000000)"
   ]
  },
  {
   "cell_type": "code",
   "execution_count": 26,
   "id": "53baa821-cebd-4f0c-9a2a-bb4f06285526",
   "metadata": {},
   "outputs": [
    {
     "data": {
      "image/png": "[encoded data removed]",
      "text/plain": [
       "<Figure size 864x576 with 6 Axes>"
      ]
     },
     "metadata": {
      "needs_background": "light"
     },
     "output_type": "display_data"
    }
   ],
   "source": [
    "# plt.subplots(3,2) creates 3 rows and 2 columns of plots\n",
    "# axs[0,0] etc. specifies where this plot goes in the arrangement\n",
    "fig, axs = plt.subplots(3,2)\n",
    "axs[0,0].hist(x, bins=100)\n",
    "axs[0,0].set_title('Sample Size 10')\n",
    "axs[0,1].hist(y, bins=100)\n",
    "axs[0,1].set_title('Sample Size 100')\n",
    "axs[1,0].hist(z, bins=100)\n",
    "axs[1,0].set_title('Sample Size 1000')\n",
    "axs[1,1].hist(a, bins=100)\n",
    "axs[1,1].set_title('Sample Size 10000')\n",
    "axs[2,0].hist(b, bins=100)\n",
    "axs[2,0].set_title('Sample Size 100000')\n",
    "axs[2,1].hist(c, bins=100)\n",
    "axs[2,1].set_title('Sample Size 1000000')\n",
    "# creates space between each of the subplots\n",
    "fig.tight_layout()"
   ]
  },
  {
   "cell_type": "markdown",
   "id": "ecb18530-5252-4f59-9254-aa274fe5b294",
   "metadata": {
    "tags": []
   },
   "source": [
    "Another example below, this time specifying a lower minus value. As above if no lower value is set then zero is the default."
   ]
  },
  {
   "cell_type": "code",
   "execution_count": 27,
   "id": "8937d59d-3910-4abb-9768-2e4788f7ce6c",
   "metadata": {
    "scrolled": true,
    "tags": []
   },
   "outputs": [
    {
     "data": {
      "text/plain": [
       "array([-0.17821287, -0.17644771, -0.66060056, -0.5777792 , -0.17874132,\n",
       "       -0.13228173, -0.20237419, -0.64950883, -0.7023206 , -0.54687382,\n",
       "       -0.24977286, -0.60835179, -0.7248333 , -0.65419686, -0.78689131,\n",
       "       -0.95147288, -0.4502328 , -0.78051431, -0.08374291, -0.63543905,\n",
       "       -0.93537885, -0.50088785, -0.75769612, -0.94151205, -0.75484363,\n",
       "       -0.59920288, -0.62024561, -0.3265755 , -0.75671326, -0.03397467,\n",
       "       -0.19986673, -0.69810274, -0.24463115, -0.94379415, -0.31267019,\n",
       "       -0.93624945, -0.99164612, -0.85428811, -0.83581063, -0.34217468,\n",
       "       -0.46994175, -0.87242077, -0.43614375, -0.23521426, -0.11198068,\n",
       "       -0.93516111, -0.72323049, -0.76491127, -0.78915329, -0.38620704,\n",
       "       -0.83335201, -0.8510402 , -0.33706021, -0.63425774, -0.91012377,\n",
       "       -0.7011835 , -0.48331491, -0.83978793, -0.37816059, -0.05199905,\n",
       "       -0.2746717 , -0.97039768, -0.91277149, -0.10958869, -0.78171163,\n",
       "       -0.38974769, -0.242052  , -0.51775895, -0.96479587, -0.86128035,\n",
       "       -0.81744298, -0.92352774, -0.64513979, -0.55087628, -0.17156555,\n",
       "       -0.51309496, -0.46820484, -0.49127628, -0.58702705, -0.57930219,\n",
       "       -0.73575502, -0.94235812, -0.68976415, -0.97698676, -0.95938503,\n",
       "       -0.68407176, -0.82360209, -0.86286517, -0.26067266, -0.17127653,\n",
       "       -0.6694811 , -0.29327936, -0.543139  , -0.35182608, -0.20153224,\n",
       "       -0.17932207, -0.59966595, -0.81326093, -0.14956274, -0.30100373,\n",
       "       -0.21209211, -0.52108298, -0.60907342, -0.62733347, -0.41630072,\n",
       "       -0.27376966, -0.71865473, -0.00669718, -0.27725829, -0.99955148,\n",
       "       -0.16535116, -0.49077971, -0.17291857, -0.77327791, -0.35901445,\n",
       "       -0.12967831, -0.32058252, -0.24355642, -0.28574496, -0.01970674,\n",
       "       -0.80175376, -0.86827267, -0.44274335, -0.87219059, -0.43032759,\n",
       "       -0.22699571, -0.01137655, -0.79079962, -0.05032469, -0.58072168,\n",
       "       -0.13296251, -0.46641783, -0.79435127, -0.08031215, -0.94966399,\n",
       "       -0.20261883, -0.64427586, -0.77455703, -0.23694295, -0.24020116,\n",
       "       -0.76867929, -0.46304173, -0.5369445 , -0.70782484, -0.42693474,\n",
       "       -0.4993186 , -0.98904715, -0.63185305, -0.21589327, -0.0108876 ,\n",
       "       -0.11659751, -0.47454806, -0.53713732, -0.73407864, -0.17257875,\n",
       "       -0.28547506, -0.79796202, -0.97648029, -0.09548037, -0.61764989,\n",
       "       -0.07250634, -0.86620603, -0.25649138, -0.38690026, -0.30877063,\n",
       "       -0.5905278 , -0.19364151, -0.89703475, -0.14928735, -0.59183445,\n",
       "       -0.414749  , -0.47260245, -0.04254276, -0.66475502, -0.51193291,\n",
       "       -0.01682537, -0.49914092, -0.79003896, -0.61018717, -0.80840332,\n",
       "       -0.9815294 , -0.36801939, -0.17532129, -0.71455355, -0.29507728,\n",
       "       -0.00707394, -0.97578266, -0.28067112, -0.27937671, -0.0586187 ,\n",
       "       -0.41630187, -0.57327539, -0.60526045, -0.87572584, -0.15774094,\n",
       "       -0.73213841, -0.33268876, -0.54425826, -0.70290768, -0.2361135 ,\n",
       "       -0.70191901, -0.86565787, -0.85421845, -0.39341584, -0.28141383,\n",
       "       -0.84496749, -0.28061117, -0.94026595, -0.80820896, -0.81732161,\n",
       "       -0.59536516, -0.74381837, -0.2513231 , -0.76786812, -0.59942887,\n",
       "       -0.34189325, -0.18424527, -0.85576622, -0.65596752, -0.93887855,\n",
       "       -0.36796528, -0.48958455, -0.0178687 , -0.69605314, -0.90811485,\n",
       "       -0.66792227, -0.22818997, -0.22809166, -0.70006254, -0.78420694,\n",
       "       -0.5448576 , -0.64907071, -0.26499286, -0.89595041, -0.03049836,\n",
       "       -0.94131217, -0.80955148, -0.79828542, -0.31197126, -0.50149612,\n",
       "       -0.85247166, -0.50590854, -0.40978355, -0.24958136, -0.89815148,\n",
       "       -0.46996689, -0.60366589, -0.97951174, -0.22708885, -0.38639886,\n",
       "       -0.06507634, -0.01690599, -0.45361271, -0.73151666, -0.47874527,\n",
       "       -0.96311903, -0.85265668, -0.17047005, -0.347314  , -0.53432952,\n",
       "       -0.61191011, -0.11849293, -0.3665495 , -0.03233606, -0.06771983,\n",
       "       -0.75605563, -0.68732564, -0.18659963, -0.14875995, -0.97733917,\n",
       "       -0.59272926, -0.25818571, -0.61702912, -0.34842925, -0.51418689,\n",
       "       -0.9746737 , -0.68131312, -0.41779235, -0.95713531, -0.04741841,\n",
       "       -0.33701881, -0.17980218, -0.37398843, -0.1469948 , -0.70525338,\n",
       "       -0.60660763, -0.41662433, -0.94248128, -0.48592304, -0.32475557,\n",
       "       -0.82603907, -0.09030537, -0.96993889, -0.84760637, -0.60542452,\n",
       "       -0.62685488, -0.23542294, -0.43233362, -0.70484721, -0.91133808,\n",
       "       -0.1276036 , -0.53954999, -0.14701711, -0.3471134 , -0.50997099,\n",
       "       -0.88551412, -0.15515554, -0.96131807, -0.13796708, -0.90112355,\n",
       "       -0.96457538, -0.60319118, -0.02210862, -0.07839912, -0.37584612,\n",
       "       -0.34900478, -0.08395413, -0.35445875, -0.01863358, -0.49685576,\n",
       "       -0.76489899, -0.92827749, -0.66368958, -0.5154714 , -0.86625738,\n",
       "       -0.6875843 , -0.50924383, -0.13676883, -0.16061078, -0.08436051,\n",
       "       -0.36225242, -0.99083546, -0.35050398, -0.6994088 , -0.81934825,\n",
       "       -0.25612017, -0.54393088, -0.35955202, -0.06664867, -0.66515525,\n",
       "       -0.84175858, -0.36393038, -0.25650599, -0.52992848, -0.92307922,\n",
       "       -0.45927289, -0.60839255, -0.11499566, -0.29374649, -0.95648505,\n",
       "       -0.24220234, -0.90733468, -0.12792078, -0.48916679, -0.56084073,\n",
       "       -0.0883716 , -0.70568992, -0.70852522, -0.88792161, -0.15764628,\n",
       "       -0.24218208, -0.35972888, -0.87023673, -0.09817043, -0.84525849,\n",
       "       -0.6553392 , -0.18239034, -0.88979377, -0.4246803 , -0.11595829,\n",
       "       -0.35140172, -0.25370934, -0.23165407, -0.29226147, -0.51878364,\n",
       "       -0.23788569, -0.31541334, -0.92115613, -0.66806609, -0.93139014,\n",
       "       -0.17398991, -0.56183326, -0.65167841, -0.08213427, -0.75875272,\n",
       "       -0.73262065, -0.21854318, -0.28491364, -0.56242987, -0.91633049,\n",
       "       -0.05690339, -0.35321423, -0.39623646, -0.75233875, -0.73870025,\n",
       "       -0.94319907, -0.53714397, -0.02103027, -0.17736117, -0.1734428 ,\n",
       "       -0.28423833, -0.95742983, -0.33314062, -0.46084696, -0.42990807,\n",
       "       -0.03466417, -0.33375279, -0.83702928, -0.6019041 , -0.49415165,\n",
       "       -0.23435494, -0.76941712, -0.23716829, -0.2013075 , -0.8100076 ,\n",
       "       -0.98459575, -0.49023445, -0.45789125, -0.13021263, -0.39657292,\n",
       "       -0.3200537 , -0.54011546, -0.20662312, -0.39140272, -0.0244404 ,\n",
       "       -0.11654585, -0.7672788 , -0.22674168, -0.47873382, -0.57871287,\n",
       "       -0.29257272, -0.27252707, -0.2616743 , -0.46008465, -0.38433268,\n",
       "       -0.71956019, -0.41164883, -0.44447286, -0.39116679, -0.15886075,\n",
       "       -0.12733498, -0.58880556, -0.94675889, -0.63671232, -0.49556647,\n",
       "       -0.47681644, -0.55821544, -0.56722503, -0.80306667, -0.3953244 ,\n",
       "       -0.03650172, -0.28961683, -0.77770934, -0.14477053, -0.52253607,\n",
       "       -0.85992417, -0.65353162, -0.69555616, -0.61911768, -0.75783514,\n",
       "       -0.74865806, -0.3118433 , -0.51065656, -0.82988696, -0.0738345 ,\n",
       "       -0.83266785, -0.18695181, -0.21609725, -0.28236589, -0.44573213,\n",
       "       -0.12778672, -0.96723774, -0.37309207, -0.06266106, -0.2371413 ,\n",
       "       -0.12857826, -0.70325131, -0.51681899, -0.90096071, -0.91237553,\n",
       "       -0.2396644 , -0.55653398, -0.26324327, -0.83895466, -0.48393513,\n",
       "       -0.27412023, -0.70148365, -0.92972953, -0.85980381, -0.36768072,\n",
       "       -0.67727827, -0.07520377, -0.72309896, -0.99134279, -0.68047046,\n",
       "       -0.6007445 , -0.01127748, -0.97055382, -0.56977494, -0.83383486,\n",
       "       -0.13994174, -0.65356708, -0.83437467, -0.37281419, -0.27486455,\n",
       "       -0.02446312, -0.72767881, -0.33093928, -0.22073992, -0.1186279 ,\n",
       "       -0.2283577 , -0.56402449, -0.83539312, -0.10530016, -0.31266495,\n",
       "       -0.98335164, -0.94902117, -0.86579516, -0.02391806, -0.77100674,\n",
       "       -0.3193462 , -0.17858864, -0.1602048 , -0.74558693, -0.01053114,\n",
       "       -0.63982292, -0.4202362 , -0.87123352, -0.52172558, -0.65922258,\n",
       "       -0.33692989, -0.22975471, -0.01494569, -0.69097796, -0.04034666,\n",
       "       -0.69778242, -0.29960888, -0.51307709, -0.41633648, -0.37641433,\n",
       "       -0.15162576, -0.62352451, -0.77490828, -0.83262818, -0.66915348,\n",
       "       -0.36428393, -0.32368097, -0.27817705, -0.52045896, -0.79526285,\n",
       "       -0.23949823, -0.00867657, -0.47439832, -0.51964977, -0.63726419,\n",
       "       -0.3939684 , -0.00528439, -0.21253591, -0.46086584, -0.14376041,\n",
       "       -0.96048296, -0.50573466, -0.01327788, -0.58143507, -0.28779021,\n",
       "       -0.80971916, -0.48039359, -0.11190687, -0.36846259, -0.44367297,\n",
       "       -0.45590259, -0.40286002, -0.93556895, -0.10127827, -0.7087236 ,\n",
       "       -0.95141598, -0.68863198, -0.11586485, -0.13432395, -0.67211717,\n",
       "       -0.80918451, -0.29251444, -0.25454222, -0.20419438, -0.50491542,\n",
       "       -0.76190475, -0.5100515 , -0.39432032, -0.2271199 , -0.9923809 ,\n",
       "       -0.96786165, -0.48904073, -0.51326973, -0.77521985, -0.70208226,\n",
       "       -0.52599823, -0.45557336, -0.94386672, -0.70101341, -0.90890406,\n",
       "       -0.73248884, -0.67988827, -0.21662734, -0.24685138, -0.70288619,\n",
       "       -0.17409395, -0.18618474, -0.6454461 , -0.51961918, -0.12761112,\n",
       "       -0.61294855, -0.13874392, -0.60289381, -0.18778291, -0.93502217,\n",
       "       -0.16736276, -0.49429019, -0.92535279, -0.9931705 , -0.03938379,\n",
       "       -0.62077871, -0.00475782, -0.1855522 , -0.82508823, -0.20814119,\n",
       "       -0.69411154, -0.94546389, -0.94676142, -0.09815673, -0.98615685,\n",
       "       -0.24668323, -0.27529599, -0.59625604, -0.09684274, -0.86822182,\n",
       "       -0.5506394 , -0.65967055, -0.59363691, -0.722185  , -0.84765044,\n",
       "       -0.66224859, -0.20003848, -0.73779429, -0.99909139, -0.49298034,\n",
       "       -0.70710402, -0.07296759, -0.27331007, -0.43058784, -0.78958685,\n",
       "       -0.90531026, -0.97075062, -0.92209648, -0.37401049, -0.08921002,\n",
       "       -0.94219731, -0.70508147, -0.64211051, -0.1575277 , -0.59873439,\n",
       "       -0.77372255, -0.51942154, -0.30524258, -0.69267039, -0.21466299,\n",
       "       -0.12007044, -0.11731212, -0.48290703, -0.89532058, -0.50816035,\n",
       "       -0.69738698, -0.31009586, -0.71000275, -0.95168279, -0.21487968,\n",
       "       -0.83585843, -0.627801  , -0.13532608, -0.21825801, -0.6866171 ,\n",
       "       -0.21168519, -0.94939046, -0.28544692, -0.48105566, -0.33503433,\n",
       "       -0.57334258, -0.17052077, -0.33643885, -0.1954421 , -0.25325696,\n",
       "       -0.59334471, -0.49948966, -0.45390323, -0.9722697 , -0.47711997,\n",
       "       -0.67208113, -0.04126584, -0.64582157, -0.82298402, -0.78277913,\n",
       "       -0.66056936, -0.62456591, -0.96714846, -0.24197774, -0.65907705,\n",
       "       -0.70233149, -0.74294119, -0.20754797, -0.44693435, -0.14647545,\n",
       "       -0.01399347, -0.82928363, -0.58252511, -0.59571991, -0.94795081,\n",
       "       -0.76196615, -0.05298182, -0.23591077, -0.06708133, -0.24534509,\n",
       "       -0.91698709, -0.03217219, -0.05410554, -0.06952475, -0.5949322 ,\n",
       "       -0.44746509, -0.39245671, -0.67353885, -0.62108097, -0.49193911,\n",
       "       -0.80382803, -0.27015609, -0.5879368 , -0.02725142, -0.12166071,\n",
       "       -0.3536455 , -0.96373495, -0.52422698, -0.0501721 , -0.31046574,\n",
       "       -0.16585355, -0.81077534, -0.56721785, -0.53696576, -0.0414021 ,\n",
       "       -0.98645045, -0.75674025, -0.38153695, -0.97503998, -0.44256866,\n",
       "       -0.65990891, -0.89858117, -0.25924295, -0.84811   , -0.30820721,\n",
       "       -0.73438427, -0.0305146 , -0.30456756, -0.76376496, -0.86381028,\n",
       "       -0.21425877, -0.74396049, -0.68690518, -0.53530828, -0.40604653,\n",
       "       -0.08197611, -0.08092897, -0.37272948, -0.80220727, -0.72390374,\n",
       "       -0.02317124, -0.15739504, -0.70752906, -0.6794789 , -0.97330367,\n",
       "       -0.8578423 , -0.03555991, -0.89157617, -0.75164479, -0.69562396,\n",
       "       -0.67765939, -0.19812651, -0.19047371, -0.84556189, -0.49621766,\n",
       "       -0.08217962, -0.49307514, -0.49086432, -0.85096413, -0.90286922,\n",
       "       -0.38218214, -0.87677369, -0.03696213, -0.18596816, -0.524257  ,\n",
       "       -0.33724886, -0.9166418 , -0.72694108, -0.07598178, -0.13027358,\n",
       "       -0.02018748, -0.95010772, -0.53721094, -0.53079967, -0.76335134,\n",
       "       -0.04036042, -0.69412799, -0.37798281, -0.23660509, -0.48810825,\n",
       "       -0.57754991, -0.14937591, -0.58299474, -0.63556195, -0.80499241,\n",
       "       -0.95716608, -0.12324992, -0.94880069, -0.24023015, -0.02382229,\n",
       "       -0.59567398, -0.55527313, -0.02795615, -0.31407867, -0.41516276,\n",
       "       -0.76230105, -0.14597112, -0.13001039, -0.81846054, -0.92186338,\n",
       "       -0.90900022, -0.39471786, -0.45700367, -0.65498299, -0.33033025,\n",
       "       -0.76352743, -0.16132632, -0.51428664, -0.34526883, -0.74881743,\n",
       "       -0.18501104, -0.4949054 , -0.20024407, -0.15148644, -0.97952408,\n",
       "       -0.88341635, -0.55656244, -0.65827431, -0.76497547, -0.48068634,\n",
       "       -0.65067751, -0.09703174, -0.06138521, -0.31673227, -0.56685294,\n",
       "       -0.39209837, -0.67612811, -0.84610083, -0.23638311, -0.67912143,\n",
       "       -0.09241274, -0.79481059, -0.40378907, -0.39364406, -0.51573049,\n",
       "       -0.93073797, -0.83601868, -0.98489756, -0.48295037, -0.80501364,\n",
       "       -0.62687437, -0.62047095, -0.46904529, -0.60510856, -0.44254994,\n",
       "       -0.74589035, -0.07550754, -0.26142083, -0.30931311, -0.57874313,\n",
       "       -0.60595421, -0.76862766, -0.71445579, -0.63767378, -0.76752912,\n",
       "       -0.02146649, -0.32590458, -0.38842768, -0.08760735, -0.31567702,\n",
       "       -0.39252372, -0.03869303, -0.56044845, -0.95215422, -0.48410347,\n",
       "       -0.25587163, -0.01634952, -0.22334399, -0.7485872 , -0.60733358,\n",
       "       -0.20461536, -0.98672423, -0.8356564 , -0.05901668, -0.2047566 ,\n",
       "       -0.72200712, -0.33052279, -0.41954671, -0.10275878, -0.83019167,\n",
       "       -0.75034659, -0.87057665, -0.62779143, -0.08401514, -0.91522986,\n",
       "       -0.39374477, -0.49021858, -0.8072815 , -0.14374184, -0.75323443,\n",
       "       -0.80423763, -0.95881105, -0.28873568, -0.01318957, -0.89708751,\n",
       "       -0.48966033, -0.18094581, -0.18284386, -0.68176511, -0.10666317,\n",
       "       -0.551573  , -0.1199405 , -0.9154016 , -0.47393646, -0.25127193,\n",
       "       -0.61440543, -0.48910499, -0.67113524, -0.31114056, -0.21510341,\n",
       "       -0.59699045, -0.57648273, -0.15412317, -0.76114859, -0.12064682,\n",
       "       -0.91142356, -0.89552092, -0.4151302 , -0.50019195, -0.28184574,\n",
       "       -0.23274582, -0.90738523, -0.35940944, -0.12553906, -0.08573615,\n",
       "       -0.16166045, -0.79991026, -0.44633867, -0.52581705, -0.78573454,\n",
       "       -0.97117042, -0.18340507, -0.38015466, -0.63871695, -0.07520819,\n",
       "       -0.76554289, -0.89737949, -0.0148526 , -0.05528328, -0.88288344,\n",
       "       -0.70793911, -0.58775159, -0.35174369, -0.10268799, -0.10579832,\n",
       "       -0.39326829, -0.88204038, -0.32979618, -0.7581696 , -0.61888387,\n",
       "       -0.10868604, -0.63034575, -0.50185565, -0.32631306, -0.92553574,\n",
       "       -0.67789523, -0.77106846, -0.59348726, -0.57032128, -0.73370183,\n",
       "       -0.01941411, -0.81293157, -0.82690416, -0.8804221 , -0.37960897,\n",
       "       -0.38380996, -0.76836793, -0.07206197, -0.88863447, -0.43793752])"
      ]
     },
     "execution_count": 27,
     "metadata": {},
     "output_type": "execute_result"
    }
   ],
   "source": [
    "# range is -1 to 0, and we're getting 1000 numbers\n",
    "np.random.uniform(-1,0,1000)"
   ]
  },
  {
   "cell_type": "code",
   "execution_count": 28,
   "id": "28163bef-d7b8-4380-b65d-dd8833ae8259",
   "metadata": {},
   "outputs": [
    {
     "data": {
      "text/plain": [
       "[<matplotlib.lines.Line2D at 0x7f9628edc670>]"
      ]
     },
     "execution_count": 28,
     "metadata": {},
     "output_type": "execute_result"
    },
    {
     "data": {
      "image/png": "[encoded data removed]",
      "text/plain": [
       "<Figure size 864x576 with 1 Axes>"
      ]
     },
     "metadata": {
      "needs_background": "light"
     },
     "output_type": "display_data"
    }
   ],
   "source": [
    "# visualise\n",
    "y = np.random.uniform(-1,0,1000)\n",
    "count, bins, ignored = plt.hist(y, 15, density=True)\n",
    "plt.plot(bins, np.ones_like(bins), linewidth=2, color='r') # include a red line to show the average"
   ]
  },
  {
   "cell_type": "code",
   "execution_count": 29,
   "id": "88a21cde-75db-40eb-a978-a960fb65eac4",
   "metadata": {},
   "outputs": [
    {
     "data": {
      "text/plain": [
       "[<matplotlib.lines.Line2D at 0x7f9629553730>]"
      ]
     },
     "execution_count": 29,
     "metadata": {},
     "output_type": "execute_result"
    },
    {
     "data": {
      "image/png": "[encoded data removed]",
      "text/plain": [
       "<Figure size 864x576 with 1 Axes>"
      ]
     },
     "metadata": {
      "needs_background": "light"
     },
     "output_type": "display_data"
    }
   ],
   "source": [
    "# the more times we run it the flatter the line at the top\n",
    "x = np.random.uniform(-1,0,100000)\n",
    "\n",
    "count, bins, ignored = plt.hist(x, 15, density=True)\n",
    "plt.plot(bins, np.ones_like(bins), linewidth=2, color='r')"
   ]
  },
  {
   "cell_type": "markdown",
   "id": "76f2d4d0-ab81-4bb0-9be0-55872b5bd9b8",
   "metadata": {
    "tags": []
   },
   "source": [
    "## Normal distribution"
   ]
  },
  {
   "cell_type": "markdown",
   "id": "a0cb97c6-986e-4508-93e4-34b1377f6874",
   "metadata": {},
   "source": [
    "![Normal_Dist](Images/standardNormal2.png)"
   ]
  },
  {
   "cell_type": "markdown",
   "id": "9c710487-d3d5-4198-9789-5f73c9dff81a",
   "metadata": {},
   "source": [
    "Normal distribution represents the behavior of most of the situations in the universe - that's why it’s called a “normal” distribution. I guess! Also know as Standard Normal, Gaussian Distribution or Bell Curve, it is one of the widest used distributions. It represents things like IQ Scores and heartbeats among others.  \n",
    "The parameters are as follows:\n",
    "1) mean - peak of the bell curve\n",
    "2) standard deviation - distance from the mean\n",
    "3) size - shape of the array  \n",
    "\n",
    "If no paremters are passed a single value will be returned using a mean of 0 and standard deviation of 1"
   ]
  },
  {
   "cell_type": "code",
   "execution_count": 30,
   "id": "5a79b451-9807-4505-b865-1af89e8efffc",
   "metadata": {},
   "outputs": [
    {
     "data": {
      "text/plain": [
       "1.0950960355662893"
      ]
     },
     "execution_count": 30,
     "metadata": {},
     "output_type": "execute_result"
    }
   ],
   "source": [
    "# returns a random normally distributed number using a mean of 0 and SD of 1\n",
    "rng.standard_normal()"
   ]
  },
  {
   "cell_type": "code",
   "execution_count": 54,
   "id": "b13f14cf-8eb7-40c0-aa4a-e608eeed1898",
   "metadata": {},
   "outputs": [
    {
     "data": {
      "text/plain": [
       "array([ 0.00403027,  0.22552511,  0.58298831, -2.09625588])"
      ]
     },
     "execution_count": 54,
     "metadata": {},
     "output_type": "execute_result"
    }
   ],
   "source": [
    "# returns an aray of 4 random normally distributed numbers using a mean of 0 and SD of 1\n",
    "rng.standard_normal(4)"
   ]
  },
  {
   "cell_type": "code",
   "execution_count": 33,
   "id": "6c0fc4d1-64c8-4b82-90ea-a2fe65c505fc",
   "metadata": {},
   "outputs": [
    {
     "data": {
      "text/plain": [
       "(array([  10.,   56.,  344., 1037., 2176., 2743., 2186., 1044.,  341.,\n",
       "          63.]),\n",
       " array([-373.9836672 , -304.16364087, -234.34361454, -164.52358822,\n",
       "         -94.70356189,  -24.88353556,   44.93649077,  114.7565171 ,\n",
       "         184.57654343,  254.39656975,  324.21659608]),\n",
       " <BarContainer object of 10 artists>)"
      ]
     },
     "execution_count": 33,
     "metadata": {},
     "output_type": "execute_result"
    },
    {
     "data": {
      "image/png": "[encoded data removed]",
      "text/plain": [
       "<Figure size 864x576 with 1 Axes>"
      ]
     },
     "metadata": {
      "needs_background": "light"
     },
     "output_type": "display_data"
    }
   ],
   "source": [
    "# creates a histogram for z\n",
    "plt.hist(z)"
   ]
  },
  {
   "cell_type": "markdown",
   "id": "b101265f-b675-4155-83a9-9cdbc3dd253f",
   "metadata": {},
   "source": [
    "We can do a similar demonstration to above to show how the sample size affects the outcome. We use the default paramters of mean=0 and SD=1 and create arrays between 10 and 1,000,000. Again the higher the smaple size the more perfect the bell shaped curve. "
   ]
  },
  {
   "cell_type": "code",
   "execution_count": 61,
   "id": "c4854913-d21d-49e9-8286-3b02f7436565",
   "metadata": {},
   "outputs": [],
   "source": [
    "x = rng.standard_normal(10)\n",
    "y = rng.standard_normal(100)\n",
    "z = rng.standard_normal(1000)\n",
    "a = rng.standard_normal(10000)\n",
    "b = rng.standard_normal(100000)\n",
    "c = rng.standard_normal(1000000)"
   ]
  },
  {
   "cell_type": "code",
   "execution_count": 62,
   "id": "89c5bd7a-cc62-4922-a981-d35e1ca0ceca",
   "metadata": {},
   "outputs": [
    {
     "data": {
      "image/png": "[encoded data removed]",
      "text/plain": [
       "<Figure size 864x576 with 6 Axes>"
      ]
     },
     "metadata": {
      "needs_background": "light"
     },
     "output_type": "display_data"
    }
   ],
   "source": [
    "# plt.subplots(3,2) creates 3 rows and 2 columns of plots\n",
    "# axs[0,0] etc. specifies where this plot goes in the arrangement\n",
    "fig, axs = plt.subplots(3,2)\n",
    "axs[0,0].hist(x, bins=100)\n",
    "axs[0,0].set_title('Sample Size 10')\n",
    "axs[0,1].hist(y, bins=100)\n",
    "axs[0,1].set_title('Sample Size 100')\n",
    "axs[1,0].hist(z, bins=100)\n",
    "axs[1,0].set_title('Sample Size 1000')\n",
    "axs[1,1].hist(a, bins=100)\n",
    "axs[1,1].set_title('Sample Size 10000')\n",
    "axs[2,0].hist(b, bins=100)\n",
    "axs[2,0].set_title('Sample Size 100000')\n",
    "axs[2,1].hist(c, bins=100)\n",
    "axs[2,1].set_title('Sample Size 1000000')\n",
    "# creates space between each of the subplots\n",
    "fig.tight_layout()"
   ]
  },
  {
   "cell_type": "markdown",
   "id": "2a93c8bf-c236-4a63-9592-f1ab327a9a03",
   "metadata": {
    "tags": []
   },
   "source": [
    "## Binomial Distribution"
   ]
  },
  {
   "cell_type": "markdown",
   "id": "3b63ed8c-d59f-4805-b51d-2d741520f24d",
   "metadata": {
    "tags": []
   },
   "source": [
    "Binomial distribution is when we're dealing with only 2 outcomes. These can be equal such as a coin toss as demomstrated below. Or if we know the probability of an outcome we can insert that as in the second example.\n",
    "\n",
    "Link to documentation - https://numpy.org/doc/stable/reference/random/generated/numpy.random.Generator.binomial.html#numpy.random.Generator.binomial"
   ]
  },
  {
   "cell_type": "markdown",
   "id": "43aa5576-d665-48f2-98c7-5736eda23edd",
   "metadata": {},
   "source": [
    "#### coin toss"
   ]
  },
  {
   "cell_type": "code",
   "execution_count": 63,
   "id": "921420a5-22e5-41cd-8adb-558194c7ac3d",
   "metadata": {
    "scrolled": true,
    "tags": []
   },
   "outputs": [
    {
     "data": {
      "text/plain": [
       "array([7, 4, 8, 4, 6, 4, 6, 6, 4, 8, 8, 7, 5, 3, 8, 3, 4, 7, 5, 4, 6, 6,\n",
       "       6, 3, 6, 7, 7, 7, 5, 2, 3, 6, 5, 8, 5, 6, 5, 7, 7, 3, 5, 5, 5, 5,\n",
       "       4, 5, 4, 6, 6, 7, 2, 3, 8, 2, 6, 5, 4, 3, 5, 5, 6, 7, 7, 5, 5, 5,\n",
       "       6, 5, 5, 4, 3, 6, 3, 4, 3, 8, 5, 9, 5, 5, 3, 6, 6, 5, 3, 0, 7, 6,\n",
       "       2, 7, 5, 1, 6, 2, 6, 8, 5, 1, 4, 4, 5, 5, 5, 5, 5, 5, 7, 4, 4, 5,\n",
       "       6, 4, 3, 5, 6, 5, 6, 5, 4, 7, 2, 5, 5, 5, 3, 3, 3, 6, 3, 6, 4, 5,\n",
       "       7, 6, 5, 6, 4, 5, 4, 4, 4, 4, 5, 5, 5, 4, 2, 5, 5, 4, 7, 6, 4, 3,\n",
       "       3, 4, 9, 2, 5, 5, 4, 7, 6, 4, 5, 2, 4, 4, 7, 2, 6, 6, 5, 5, 4, 7,\n",
       "       5, 4, 4, 6, 8, 5, 2, 6, 4, 5, 6, 6, 6, 7, 4, 5, 6, 5, 7, 8, 7, 7,\n",
       "       3, 6, 4, 7, 6, 8, 5, 5, 6, 3, 9, 5, 3, 6, 7, 6, 5, 3, 9, 7, 4, 6,\n",
       "       6, 7, 3, 6, 6, 4, 5, 6, 4, 6, 7, 4, 6, 9, 4, 6, 5, 7, 3, 3, 5, 6,\n",
       "       7, 6, 5, 6, 7, 4, 6, 4, 6, 6, 7, 6, 8, 6, 7, 5, 5, 4, 4, 5, 6, 3,\n",
       "       7, 6, 9, 4, 6, 4, 6, 4, 6, 8, 7, 3, 6, 5, 7, 6, 6, 3, 7, 0, 3, 5,\n",
       "       6, 7, 4, 6, 5, 3, 5, 4, 6, 2, 6, 6, 5, 4, 7, 5, 5, 8, 4, 7, 4, 3,\n",
       "       4, 6, 7, 4, 6, 5, 4, 5, 4, 2, 8, 6, 1, 7, 6, 6, 5, 2, 7, 5, 4, 5,\n",
       "       8, 6, 7, 4, 5, 8, 4, 7, 5, 4, 7, 8, 7, 3, 2, 6, 4, 5, 3, 4, 3, 4,\n",
       "       2, 4, 6, 6, 6, 5, 6, 6, 7, 3, 5, 6, 6, 5, 4, 6, 7, 2, 6, 6, 4, 6,\n",
       "       3, 3, 4, 7, 6, 4, 7, 3, 5, 7, 7, 4, 5, 4, 3, 4, 7, 7, 8, 6, 4, 5,\n",
       "       4, 8, 7, 5, 2, 4, 4, 5, 3, 4, 6, 4, 4, 6, 7, 6, 7, 4, 5, 2, 6, 5,\n",
       "       6, 7, 3, 7, 6, 5, 6, 7, 6, 4, 8, 4, 6, 4, 7, 3, 4, 6, 4, 6, 4, 5,\n",
       "       5, 8, 5, 4, 3, 4, 8, 2, 5, 4, 3, 6, 4, 2, 5, 4, 4, 4, 7, 4, 5, 3,\n",
       "       6, 6, 6, 6, 5, 6, 7, 6, 3, 4, 6, 6, 3, 5, 6, 4, 4, 6, 3, 4, 4, 5,\n",
       "       6, 6, 5, 7, 5, 5, 6, 4, 3, 6, 6, 8, 6, 8, 6, 7, 7, 4, 4, 4, 3, 3,\n",
       "       7, 5, 4, 5, 3, 5, 3, 4, 5, 7, 7, 5, 3, 5, 8, 3, 3, 5, 7, 5, 6, 5,\n",
       "       5, 7, 5, 7, 4, 3, 4, 4, 5, 6, 5, 2, 2, 5, 5, 5, 2, 8, 5, 5, 5, 8,\n",
       "       5, 4, 4, 6, 2, 5, 4, 6, 3, 5, 6, 5, 4, 9, 6, 5, 5, 8, 3, 5, 4, 5,\n",
       "       5, 6, 5, 0, 5, 6, 2, 7, 4, 4, 6, 6, 9, 4, 4, 3, 5, 6, 5, 6, 5, 3,\n",
       "       5, 4, 5, 5, 5, 5, 4, 3, 5, 1, 5, 4, 4, 5, 7, 6, 7, 3, 4, 5, 7, 4,\n",
       "       6, 4, 7, 7, 5, 6, 8, 2, 4, 7, 2, 3, 4, 9, 5, 2, 8, 4, 6, 7, 2, 5,\n",
       "       4, 5, 5, 6, 4, 7, 4, 4, 5, 4, 7, 7, 6, 3, 6, 4, 5, 7, 8, 3, 6, 4,\n",
       "       5, 2, 4, 4, 3, 1, 4, 4, 6, 2, 6, 4, 4, 4, 7, 7, 7, 3, 5, 6, 3, 4,\n",
       "       4, 7, 4, 9, 6, 6, 6, 3, 5, 6, 7, 3, 6, 7, 4, 3, 6, 4, 6, 7, 4, 5,\n",
       "       5, 4, 3, 7, 6, 6, 5, 2, 5, 7, 6, 5, 6, 5, 7, 6, 3, 5, 5, 8, 3, 3,\n",
       "       5, 5, 4, 5, 5, 4, 4, 5, 4, 6, 4, 4, 5, 5, 5, 7, 7, 4, 6, 8, 4, 6,\n",
       "       3, 3, 1, 6, 2, 5, 5, 6, 4, 5, 4, 6, 2, 3, 8, 7, 4, 4, 5, 8, 6, 6,\n",
       "       4, 5, 8, 2, 7, 3, 6, 4, 3, 8, 4, 6, 6, 5, 2, 6, 3, 7, 3, 7, 9, 3,\n",
       "       6, 4, 1, 5, 7, 4, 5, 4, 5, 6, 4, 5, 3, 6, 3, 6, 4, 2, 3, 8, 4, 8,\n",
       "       7, 2, 4, 8, 2, 4, 3, 4, 6, 6, 7, 4, 3, 5, 6, 6, 8, 4, 5, 4, 4, 3,\n",
       "       4, 7, 6, 3, 6, 6, 4, 4, 4, 4, 2, 6, 3, 5, 6, 3, 4, 5, 5, 4, 4, 2,\n",
       "       5, 6, 6, 5, 7, 5, 3, 6, 3, 6, 6, 6, 7, 5, 7, 6, 7, 6, 7, 4, 5, 3,\n",
       "       4, 3, 5, 5, 6, 6, 4, 7, 1, 7, 5, 4, 2, 4, 4, 6, 4, 3, 6, 8, 7, 4,\n",
       "       9, 7, 6, 7, 4, 5, 9, 6, 4, 8, 3, 4, 5, 3, 5, 7, 6, 3, 6, 3, 4, 5,\n",
       "       5, 6, 2, 4, 7, 8, 7, 6, 5, 1, 4, 4, 7, 6, 2, 5, 6, 7, 6, 7, 5, 5,\n",
       "       7, 6, 6, 6, 3, 4, 4, 4, 5, 3, 5, 5, 8, 4, 5, 5, 4, 6, 1, 6, 6, 7,\n",
       "       5, 5, 7, 7, 7, 6, 7, 7, 6, 4, 4, 4, 6, 5, 4, 8, 5, 6, 4, 5, 6, 3,\n",
       "       7, 7, 4, 7, 8, 3, 8, 1, 3, 7])"
      ]
     },
     "execution_count": 63,
     "metadata": {},
     "output_type": "execute_result"
    }
   ],
   "source": [
    "# n = number of trials, p = probability of each trial\n",
    "n, p = 10, .5\n",
    "# s = result of flipping a coin 10 times (either heads/tails), tested 1000 times.\n",
    "s = rng.binomial(n, p, 1000)\n",
    "s"
   ]
  },
  {
   "cell_type": "code",
   "execution_count": 36,
   "id": "8fe40af3-3888-43e1-b568-79455b06910f",
   "metadata": {},
   "outputs": [
    {
     "data": {
      "text/plain": [
       "(array([  1.,   4.,  42., 103., 232., 250., 196., 123.,  38.,  11.]),\n",
       " array([ 0.,  1.,  2.,  3.,  4.,  5.,  6.,  7.,  8.,  9., 10.]),\n",
       " <BarContainer object of 10 artists>)"
      ]
     },
     "execution_count": 36,
     "metadata": {},
     "output_type": "execute_result"
    },
    {
     "data": {
      "image/png": "[encoded data removed]",
      "text/plain": [
       "<Figure size 864x576 with 1 Axes>"
      ]
     },
     "metadata": {
      "needs_background": "light"
     },
     "output_type": "display_data"
    }
   ],
   "source": [
    "# Plotted\n",
    "plt.hist(s)"
   ]
  },
  {
   "cell_type": "markdown",
   "id": "cfc10383-cce8-4e84-97fc-67526791a7fa",
   "metadata": {},
   "source": [
    "A real world example. A company drills 9 wild-cat oil exploration wells, each with an estimated probability of success of 0.1. All nine wells fail. What is the probability of that happening?\n",
    "\n",
    "Let’s do 20,000 trials of the model, and count the number that generate zero positive results."
   ]
  },
  {
   "cell_type": "code",
   "execution_count": 37,
   "id": "871fd73d-6ad0-42bf-90c8-b9f25f86fdaa",
   "metadata": {},
   "outputs": [
    {
     "data": {
      "text/plain": [
       "0.383"
      ]
     },
     "execution_count": 37,
     "metadata": {},
     "output_type": "execute_result"
    }
   ],
   "source": [
    "sum(np.random.binomial(9, 0.1, 20000) == 0)/20000."
   ]
  },
  {
   "cell_type": "code",
   "execution_count": 38,
   "id": "38e41200-e3a5-4c91-8bc4-f71671db08a8",
   "metadata": {},
   "outputs": [
    {
     "data": {
      "text/plain": [
       "(array([7.797e+03, 7.689e+03, 0.000e+00, 3.486e+03, 0.000e+00, 8.830e+02,\n",
       "        1.320e+02, 0.000e+00, 1.200e+01, 1.000e+00]),\n",
       " array([0. , 0.6, 1.2, 1.8, 2.4, 3. , 3.6, 4.2, 4.8, 5.4, 6. ]),\n",
       " <BarContainer object of 10 artists>)"
      ]
     },
     "execution_count": 38,
     "metadata": {},
     "output_type": "execute_result"
    },
    {
     "data": {
      "image/png": "[encoded data removed]",
      "text/plain": [
       "<Figure size 864x576 with 1 Axes>"
      ]
     },
     "metadata": {
      "needs_background": "light"
     },
     "output_type": "display_data"
    }
   ],
   "source": [
    "# to visualise that\n",
    "a = np.random.binomial(9, 0.1, 20000)\n",
    "plt.hist(a)"
   ]
  },
  {
   "cell_type": "markdown",
   "id": "1cc6ec4f-336b-4da7-9874-4a78062e3473",
   "metadata": {},
   "source": [
    "## Poisson Distribution"
   ]
  },
  {
   "cell_type": "markdown",
   "id": "9d518a69-c5d6-49d2-a7dd-f173feb646bf",
   "metadata": {},
   "source": [
    "Poisson Distribution can be used to simulate number of 'events' occuring in specific intervals when the average freqency rate is known and is not dependent on the previous occurances. The basic syntax is demonstrated below where the first parameter is the average number of events and the second the amount of values returned. \n",
    "The following is a good example from wikipedia:  \n",
    ">\"... a call center receives an average of 180 calls per hour, 24 hours a day. The calls are independent; receiving one does not change the probability of when the next one will arrive. The number of calls received during any minute has a Poisson probability distribution: the most likely numbers are 2 and 3 but 1 and 4 are also likely and there is a small probability of it being as low as zero and a very small probability it could be 10.  \n",
    "https://en.wikipedia.org/wiki/Poisson_distribution"
   ]
  },
  {
   "cell_type": "code",
   "execution_count": 64,
   "id": "52490c78-1e68-4bb6-a0a3-80d396029c80",
   "metadata": {
    "tags": []
   },
   "outputs": [
    {
     "data": {
      "text/plain": [
       "array([2, 6, 2, 9, 6, 5, 8, 3, 7, 5])"
      ]
     },
     "execution_count": 64,
     "metadata": {},
     "output_type": "execute_result"
    }
   ],
   "source": [
    "# 5 is average number of events, 10 is the amount returned\n",
    "rng.poisson(5,10)"
   ]
  },
  {
   "cell_type": "markdown",
   "id": "1c6c2e70-6481-4ff2-bcdc-9745f6b1e9fc",
   "metadata": {},
   "source": [
    "I'm going to try and simulate people going to the pub between 6pm and 11.30 on the 14th November! Obviously there are many other factors which may influence this but this will show the code!"
   ]
  },
  {
   "cell_type": "code",
   "execution_count": 76,
   "id": "73611cd7-941a-4b60-8eda-96263f02b215",
   "metadata": {},
   "outputs": [
    {
     "data": {
      "text/plain": [
       "DatetimeIndex(['2021-11-14 18:00:00', '2021-11-14 18:15:00',\n",
       "               '2021-11-14 18:30:00', '2021-11-14 18:45:00',\n",
       "               '2021-11-14 19:00:00', '2021-11-14 19:15:00',\n",
       "               '2021-11-14 19:30:00', '2021-11-14 19:45:00',\n",
       "               '2021-11-14 20:00:00', '2021-11-14 20:15:00',\n",
       "               '2021-11-14 20:30:00', '2021-11-14 20:45:00',\n",
       "               '2021-11-14 21:00:00', '2021-11-14 21:15:00',\n",
       "               '2021-11-14 21:30:00', '2021-11-14 21:45:00',\n",
       "               '2021-11-14 22:00:00', '2021-11-14 22:15:00',\n",
       "               '2021-11-14 22:30:00', '2021-11-14 22:45:00',\n",
       "               '2021-11-14 23:00:00', '2021-11-14 23:15:00',\n",
       "               '2021-11-14 23:30:00'],\n",
       "              dtype='datetime64[ns]', freq='15T')"
      ]
     },
     "execution_count": 76,
     "metadata": {},
     "output_type": "execute_result"
    }
   ],
   "source": [
    "# creates the range and time interval\n",
    "range = pd.date_range(\"18:00\", \"23:30\", freq=\"15min\")\n",
    "range"
   ]
  },
  {
   "cell_type": "code",
   "execution_count": 100,
   "id": "e65abd82-830e-4147-baa6-a68f77ee94fc",
   "metadata": {
    "scrolled": true,
    "tags": []
   },
   "outputs": [
    {
     "data": {
      "text/html": [
       "<div>\n",
       "<style scoped>\n",
       "    .dataframe tbody tr th:only-of-type {\n",
       "        vertical-align: middle;\n",
       "    }\n",
       "\n",
       "    .dataframe tbody tr th {\n",
       "        vertical-align: top;\n",
       "    }\n",
       "\n",
       "    .dataframe thead th {\n",
       "        text-align: right;\n",
       "    }\n",
       "</style>\n",
       "<table border=\"1\" class=\"dataframe\">\n",
       "  <thead>\n",
       "    <tr style=\"text-align: right;\">\n",
       "      <th></th>\n",
       "      <th>New Punters</th>\n",
       "    </tr>\n",
       "  </thead>\n",
       "  <tbody>\n",
       "    <tr>\n",
       "      <th>2021-11-14 18:00:00</th>\n",
       "      <td>18</td>\n",
       "    </tr>\n",
       "    <tr>\n",
       "      <th>2021-11-14 18:15:00</th>\n",
       "      <td>20</td>\n",
       "    </tr>\n",
       "    <tr>\n",
       "      <th>2021-11-14 18:30:00</th>\n",
       "      <td>18</td>\n",
       "    </tr>\n",
       "    <tr>\n",
       "      <th>2021-11-14 18:45:00</th>\n",
       "      <td>25</td>\n",
       "    </tr>\n",
       "    <tr>\n",
       "      <th>2021-11-14 19:00:00</th>\n",
       "      <td>24</td>\n",
       "    </tr>\n",
       "    <tr>\n",
       "      <th>2021-11-14 19:15:00</th>\n",
       "      <td>15</td>\n",
       "    </tr>\n",
       "    <tr>\n",
       "      <th>2021-11-14 19:30:00</th>\n",
       "      <td>22</td>\n",
       "    </tr>\n",
       "    <tr>\n",
       "      <th>2021-11-14 19:45:00</th>\n",
       "      <td>26</td>\n",
       "    </tr>\n",
       "    <tr>\n",
       "      <th>2021-11-14 20:00:00</th>\n",
       "      <td>15</td>\n",
       "    </tr>\n",
       "    <tr>\n",
       "      <th>2021-11-14 20:15:00</th>\n",
       "      <td>19</td>\n",
       "    </tr>\n",
       "    <tr>\n",
       "      <th>2021-11-14 20:30:00</th>\n",
       "      <td>18</td>\n",
       "    </tr>\n",
       "    <tr>\n",
       "      <th>2021-11-14 20:45:00</th>\n",
       "      <td>25</td>\n",
       "    </tr>\n",
       "    <tr>\n",
       "      <th>2021-11-14 21:00:00</th>\n",
       "      <td>23</td>\n",
       "    </tr>\n",
       "    <tr>\n",
       "      <th>2021-11-14 21:15:00</th>\n",
       "      <td>18</td>\n",
       "    </tr>\n",
       "    <tr>\n",
       "      <th>2021-11-14 21:30:00</th>\n",
       "      <td>24</td>\n",
       "    </tr>\n",
       "    <tr>\n",
       "      <th>2021-11-14 21:45:00</th>\n",
       "      <td>26</td>\n",
       "    </tr>\n",
       "    <tr>\n",
       "      <th>2021-11-14 22:00:00</th>\n",
       "      <td>20</td>\n",
       "    </tr>\n",
       "    <tr>\n",
       "      <th>2021-11-14 22:15:00</th>\n",
       "      <td>18</td>\n",
       "    </tr>\n",
       "    <tr>\n",
       "      <th>2021-11-14 22:30:00</th>\n",
       "      <td>12</td>\n",
       "    </tr>\n",
       "    <tr>\n",
       "      <th>2021-11-14 22:45:00</th>\n",
       "      <td>17</td>\n",
       "    </tr>\n",
       "    <tr>\n",
       "      <th>2021-11-14 23:00:00</th>\n",
       "      <td>16</td>\n",
       "    </tr>\n",
       "    <tr>\n",
       "      <th>2021-11-14 23:15:00</th>\n",
       "      <td>32</td>\n",
       "    </tr>\n",
       "    <tr>\n",
       "      <th>2021-11-14 23:30:00</th>\n",
       "      <td>26</td>\n",
       "    </tr>\n",
       "  </tbody>\n",
       "</table>\n",
       "</div>"
      ],
      "text/plain": [
       "                     New Punters\n",
       "2021-11-14 18:00:00           18\n",
       "2021-11-14 18:15:00           20\n",
       "2021-11-14 18:30:00           18\n",
       "2021-11-14 18:45:00           25\n",
       "2021-11-14 19:00:00           24\n",
       "2021-11-14 19:15:00           15\n",
       "2021-11-14 19:30:00           22\n",
       "2021-11-14 19:45:00           26\n",
       "2021-11-14 20:00:00           15\n",
       "2021-11-14 20:15:00           19\n",
       "2021-11-14 20:30:00           18\n",
       "2021-11-14 20:45:00           25\n",
       "2021-11-14 21:00:00           23\n",
       "2021-11-14 21:15:00           18\n",
       "2021-11-14 21:30:00           24\n",
       "2021-11-14 21:45:00           26\n",
       "2021-11-14 22:00:00           20\n",
       "2021-11-14 22:15:00           18\n",
       "2021-11-14 22:30:00           12\n",
       "2021-11-14 22:45:00           17\n",
       "2021-11-14 23:00:00           16\n",
       "2021-11-14 23:15:00           32\n",
       "2021-11-14 23:30:00           26"
      ]
     },
     "execution_count": 100,
     "metadata": {},
     "output_type": "execute_result"
    }
   ],
   "source": [
    "# new dataframe with random poisson distributed data to simulate pub punters\n",
    "# 20 is the average number of admissions per 30min interval\n",
    "punters = rng.poisson(20, len(range))\n",
    "\n",
    "# index is timeseries created above\n",
    "punterSchedule = pd.DataFrame(punters, index=range,columns=['New Punters'])\n",
    "punterSchedule"
   ]
  },
  {
   "cell_type": "markdown",
   "id": "edda3d89-98c8-4c70-a45d-fe0f4a1e014b",
   "metadata": {},
   "source": [
    "The lineplot below uses seaborn to visualise this"
   ]
  },
  {
   "cell_type": "code",
   "execution_count": 101,
   "id": "7ae59c9b-7447-4a09-8e2a-ca372ffa86fc",
   "metadata": {},
   "outputs": [
    {
     "data": {
      "text/plain": [
       "<AxesSubplot:ylabel='New Punters'>"
      ]
     },
     "execution_count": 101,
     "metadata": {},
     "output_type": "execute_result"
    },
    {
     "data": {
      "image/png": "[encoded data removed]",
      "text/plain": [
       "<Figure size 864x576 with 1 Axes>"
      ]
     },
     "metadata": {},
     "output_type": "display_data"
    }
   ],
   "source": [
    "# creates a lineplot\n",
    "sns.set(style=\"darkgrid\")\n",
    "sns.lineplot(x=range, y='New Punters', data = punterSchedule)"
   ]
  },
  {
   "cell_type": "markdown",
   "id": "6d0d8f66-db9a-4060-a545-0ae356dd7405",
   "metadata": {
    "tags": []
   },
   "source": [
    "<br>\n",
    "\n",
    "## Exponential Distribution"
   ]
  },
  {
   "cell_type": "markdown",
   "id": "35ab0339-cc44-4001-9547-71147f6205c9",
   "metadata": {},
   "source": [
    "The exponential distribution is a continuous distribution that is commonly used to measure the expected time for an event to occur, or time until the next event. \n",
    "There are 2 parameters:  \n",
    "1) scale - inverse of rate - defaults is 1.0.\n",
    "2) size - The shape of the returned array."
   ]
  },
  {
   "cell_type": "code",
   "execution_count": 105,
   "id": "93689c20-5fe4-43a8-8b36-65bb25fb27a2",
   "metadata": {},
   "outputs": [
    {
     "data": {
      "text/plain": [
       "array([1.27474118, 1.04190084, 4.56727199, 0.93664705, 0.22768663,\n",
       "       0.28416514, 1.51386324, 4.06804403, 0.84003045, 5.43533461])"
      ]
     },
     "execution_count": 105,
     "metadata": {},
     "output_type": "execute_result"
    }
   ],
   "source": [
    "rng.exponential(2, 10)"
   ]
  },
  {
   "cell_type": "code",
   "execution_count": 106,
   "id": "fec8ff76-699b-48cb-befc-d4335ef54b81",
   "metadata": {},
   "outputs": [
    {
     "data": {
      "image/png": "[encoded data removed]",
      "text/plain": [
       "<Figure size 864x576 with 1 Axes>"
      ]
     },
     "metadata": {},
     "output_type": "display_data"
    }
   ],
   "source": [
    "x = rng.exponential(3.45, 10000)\n",
    "  \n",
    "count, bins, ignored = plt.hist(x, 40, density = True)\n",
    "plt.show()"
   ]
  },
  {
   "cell_type": "markdown",
   "id": "9ca85cc7-cc04-42e0-8bdb-ea8212a462f6",
   "metadata": {},
   "source": [
    "<br>\n",
    "\n",
    "## The use of seeds in generating pseudorandom numbers"
   ]
  },
  {
   "cell_type": "markdown",
   "id": "db7d1bd0-eac8-4041-86b8-2923578405b7",
   "metadata": {
    "tags": []
   },
   "source": [
    ">\"Pseudorandomness is a sample of numbers that look close to random, but were generated using a deterministic process.\"\n",
    "https://machinelearningmastery.com/how-to-generate-random-numbers-in-python/"
   ]
  },
  {
   "cell_type": "markdown",
   "id": "d3324d4f-5a0b-41df-877e-24010299940b",
   "metadata": {},
   "source": [
    "<br>\n",
    "\n",
    "As mentioned above, numbers returned using numpy.random module are not truly random at all. In fact computers dont't really do random that well! They are what is known as pseudo-random numbers - basically numbers that appear to be random but actually aren't. They are predetermined using algorithims, one of the benefits of which is that they are repeatable and reproducible which aids in all sorts of investigative coding and testing.\n",
    "The seed is what numpy uses to generate the 'random' numbers - if we pass the seed to the NumPy pseudo-random number generator, every time we run the code we get the same result. Or we can let numpy generate one, and we won't get the same results each time. The following code demonstrates both situations."
   ]
  },
  {
   "cell_type": "code",
   "execution_count": 48,
   "id": "edc5dea8-94f7-427b-b9a5-7b62a1d63e71",
   "metadata": {},
   "outputs": [
    {
     "name": "stdout",
     "output_type": "stream",
     "text": [
      "[5 0 3 3 7]\n",
      "[5 0 3 3 7]\n",
      "[5 0 3 3 7]\n"
     ]
    }
   ],
   "source": [
    "# Every time we run this code we will get the same array\n",
    "np.random.seed(0)\n",
    "print(np.random.randint(10, size = 5))\n",
    "np.random.seed(0)\n",
    "print(np.random.randint(10, size = 5))\n",
    "np.random.seed(0)\n",
    "print(np.random.randint(10, size = 5))"
   ]
  },
  {
   "cell_type": "code",
   "execution_count": 49,
   "id": "b57c1890-f3e6-46c6-83ba-4db7a3d5011c",
   "metadata": {},
   "outputs": [
    {
     "name": "stdout",
     "output_type": "stream",
     "text": [
      "[9 3 5 2 4]\n",
      "[7 6 8 8 1]\n",
      "[6 7 7 8 1]\n"
     ]
    }
   ],
   "source": [
    "# Whereas every time we run this code we will get a different array\n",
    "print(np.random.randint(10, size = 5))\n",
    "print(np.random.randint(10, size = 5))\n",
    "print(np.random.randint(10, size = 5))"
   ]
  },
  {
   "cell_type": "markdown",
   "id": "d7e24f34-62ed-4dbf-ba7a-72e0ba4be8e3",
   "metadata": {},
   "source": [
    "The actual number passed to the seed function doesn't really matter, but we need to be aware that changing the number will change the output. The following code demonstrates this:"
   ]
  },
  {
   "cell_type": "code",
   "execution_count": 50,
   "id": "b51d2487-16e3-48b1-9a17-e168301b455e",
   "metadata": {},
   "outputs": [
    {
     "name": "stdout",
     "output_type": "stream",
     "text": [
      "0.5488135039273248\n",
      "0.417022004702574\n",
      "0.18067424190977754\n"
     ]
    }
   ],
   "source": [
    "# The first 2 of these will always produce will always produce the same float but different from each other\n",
    "np.random.seed(0)\n",
    "print(np.random.random())\n",
    "\n",
    "np.random.seed(1)\n",
    "print(np.random.random())\n",
    "\n",
    "# This will always produce a different number\n",
    "np.random.seed()\n",
    "print(np.random.random())"
   ]
  },
  {
   "cell_type": "markdown",
   "id": "eae8390a-d72d-4284-809a-b1e90a5d483f",
   "metadata": {},
   "source": [
    "The seed function can be used in conjunction with all of the other functions and wrappers already mentioned above, and is essential if your results need to be reproducible and shareable.\n",
    "\n",
    "https://www.sharpsightlabs.com/blog/numpy-random-seed/\n",
    "\n",
    "https://towardsdatascience.com/stop-using-numpy-random-seed-581a9972805f"
   ]
  },
  {
   "cell_type": "markdown",
   "id": "f3c5c398-f26f-48e1-be17-35d138755cb6",
   "metadata": {},
   "source": [
    "## Sources/Links"
   ]
  },
  {
   "cell_type": "markdown",
   "id": "62fb86ea-9962-4687-8856-96e9351cf9b6",
   "metadata": {},
   "source": [
    "NumPy - https://en.wikipedia.org/wiki/NumPy  \n",
    "https://numpy.org/doc/stable/user/whatisnumpy.html  \n",
    "https://pythonguides.com/python-numpy-random/  \n",
    "https://realpython.com/python-random/#prngs-for-arrays-numpyrandom  \n",
    "https://www.w3schools.com/python/numpy/numpy_random.asp  \n",
    "https://numpy.org/doc/stable/reference/random/index.html  \n",
    "https://numpy.org/doc/stable/reference/random/generator.html  \n",
    "https://numpy.org/doc/stable/reference/random/index.html#random-quick-start  \n",
    "https://numpy.org/doc/stable/reference/random/generated/numpy.random.Generator.choice.html#numpy.random.Generator.choice  \n",
    "https://numpy.org/doc/stable/reference/random/generated/numpy.random.Generator.permutation.html#numpy.random.Generator.permutation  \n",
    "Shuffle - https://numpy.org/doc/stable/reference/random/generated/numpy.random.Generator.shuffle.html#numpy.random.Generator.shuffle   \n",
    "Link to documentation - https://numpy.org/doc/1.16/reference/routines.random.html <br>\n",
    "Poisson Distribution - https://numpy.org/doc/stable/reference/random/generated/numpy.random.Generator.poisson.html#numpy.random.Generator.poisson  \n",
    "Exponential Distribution - https://numpy.org/doc/stable/reference/random/generated/numpy.random.Generator.exponential.html#numpy.random.Generator.exponential\n",
    "Normal Distribution - https://numpy.org/doc/stable/reference/random/generated/numpy.random.Generator.normal.html#numpy.random.Generator.normal  \n",
    "new stuff here - https://numpy.org/doc/stable/reference/random/index.html?highlight=random%20sampling%20numpy%20random#module-numpy.random  \n",
    "https://numpy.org/doc/stable/reference/random/generated/numpy.random.Generator.uniform.html#numpy.random.Generator.uniform  \n",
    "https://www.sharpsightlabs.com/blog/numpy-random-seed/"
   ]
  },
  {
   "cell_type": "code",
   "execution_count": null,
   "id": "04e64890-85c4-4155-9255-7077ce832608",
   "metadata": {},
   "outputs": [],
   "source": []
  },
  {
   "cell_type": "markdown",
   "id": "4391bc34-d2bf-4ae5-b5e2-e38310c54be6",
   "metadata": {},
   "source": [
    "# END"
   ]
  }
 ],
 "metadata": {
  "kernelspec": {
   "display_name": "Python 3",
   "language": "python",
   "name": "python3"
  },
  "language_info": {
   "codemirror_mode": {
    "name": "ipython",
    "version": 3
   },
   "file_extension": ".py",
   "mimetype": "text/x-python",
   "name": "python",
   "nbconvert_exporter": "python",
   "pygments_lexer": "ipython3",
   "version": "3.8.8"
  }
 },
 "nbformat": 4,
 "nbformat_minor": 5
}
