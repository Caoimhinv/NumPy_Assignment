{
 "cells": [
  {
   "cell_type": "markdown",
   "id": "6623e8f0-7eff-44bc-859d-cea9221cc5b3",
   "metadata": {
    "tags": []
   },
   "source": [
    "# Programming for Data Analysis\n",
    "## Autumn 2021 Assignment\n",
    "___"
   ]
  },
  {
   "cell_type": "markdown",
   "id": "8778e54c-d0c8-43a0-9635-4195840c50d5",
   "metadata": {},
   "source": [
    "##### **student_name:** Caoimhin Vallely  \n",
    "##### **student_number:** G00398568\n",
    "___"
   ]
  },
  {
   "cell_type": "markdown",
   "id": "75db5ef2-169b-4eb6-af8e-92a2c404d94d",
   "metadata": {},
   "source": [
    "#### Table of contents\n",
    "1. [Introduction](#Introduction)\n",
    "2. [NumPy](#NumPy)\n",
    "3. [numpy.random](#numpy.random)\n",
    "4. [Random Generator](#Random_Generator)\n",
    "5. [Permutations](#Permutations)\n",
    "6. [Uniform Distribution](#Uniform_Distribution)\n",
    "7. [Normal Distribution](#Normal_Distribution)\n",
    "8. [Binomial Distribution](#Binomial_Distribution)\n",
    "9. [Poisson Distribution](#Poisson_Distribution)\n",
    "10. [Exponential Distribution](#Exponential_Distribution)\n",
    "11. [Seeds](#Seeds)\n",
    "12. [References](#References)"
   ]
  },
  {
   "cell_type": "markdown",
   "id": "054df6c6-6ddb-4c57-82f2-2c56150c229a",
   "metadata": {},
   "source": [
    "## Introduction <a name=\"Introduction\"></a>"
   ]
  },
  {
   "cell_type": "markdown",
   "id": "452796f9-a419-467c-a7b8-54cfe6f38607",
   "metadata": {},
   "source": [
    "This assignment concerns the python package **numpy.random**. It will give an overview of the package, then discuss some of its main uses and functions including random number generation, permutations, and probability distributions."
   ]
  },
  {
   "cell_type": "markdown",
   "id": "c5c284f5-f76b-4797-8bd9-9dd4efa77f83",
   "metadata": {},
   "source": [
    "![NumPy_logo](Images/NumPy_logo.png)"
   ]
  },
  {
   "cell_type": "markdown",
   "id": "58cff7cc-4acc-4e48-a504-c2e04458ce61",
   "metadata": {},
   "source": [
    "### NumPy <a name=\"NumPy\"></a>\n",
    "[NumPy official documentation](https://numpy.org/doc/stable/user/whatisnumpy.html)"
   ]
  },
  {
   "cell_type": "markdown",
   "id": "421d0b6b-6a99-47ff-9b57-224699df15f8",
   "metadata": {},
   "source": [
    "NumPy is the primary python library for working with arrays. The name itself comes from Numerical Python, and it has become the fundamental package for scientific computing and also the foundation for many other analytic libraries in the python language.\n",
    "\n",
    "> \"NumPy ... is a library for the Python programming language, adding support for large, multi-dimensional arrays and matrices, along with a large collection of high-level mathematical functions to operate on these arrays.\"  \n",
    "https://en.wikipedia.org/wiki/NumPy\n",
    "\n",
    "NumPy was developed from 2 early packages called Numeric and Numarray by Travis Oliphant in 2005. As it's an open-source project, there have been many contributors over the years.  "
   ]
  },
  {
   "cell_type": "markdown",
   "id": "689c09c2-8041-43be-8f2e-db494a843c77",
   "metadata": {
    "tags": []
   },
   "source": [
    "<br>\n",
    "\n",
    "### numpy.random <a name=\"numpy.random\"></a>\n",
    "[numpy.random official documentation](https://numpy.org/doc/stable/reference/random/index.html?highlight=random%20sampling%20numpy%20random#module-numpy.random)"
   ]
  },
  {
   "cell_type": "markdown",
   "id": "01a628ea-6740-46d6-920b-9c9a958cc700",
   "metadata": {
    "tags": []
   },
   "source": [
    "**numpy.random** is a module within the NumPy package which allows us to generate **pseudo-random** numbers and gives us a range of tools to manipulate them. Although there already is a random module in the Python standard library, numpy.random adds much extra functionality in particular in relation to arrays and has the ability to draw from a lot more statistical distributions. Computers can't really 'do random' - they need a set of instructions to produce an output - so programs like numpy.random use algorithims to generate random numbers. Thus they are not truly random but pseudo-random. This also means they are predictable and reproducible with is of much benefit when creating and testing code.  \n",
    "The numpy.random module has been updated recently so I will be concentrating on the newer version and methods. All of the older methods are still supported however."
   ]
  },
  {
   "cell_type": "markdown",
   "id": "b8206da7-c04e-4799-ad2e-49d051aed9f5",
   "metadata": {},
   "source": [
    "___\n",
    "\n",
    "We begin by importing NumPy and all of the other libraries we are going to be using in the presentation. As per convention and economy of space each is shortened as **np**, **plt**, etc."
   ]
  },
  {
   "cell_type": "code",
   "execution_count": 1,
   "id": "c081eb61-1dfd-4939-8ada-33a91ac4f2ac",
   "metadata": {},
   "outputs": [],
   "source": [
    "# importing NumPy\n",
    "import numpy as np\n",
    "\n",
    "# importing matplotlib.pyplot for plotting and visualisations\n",
    "import matplotlib.pyplot as plt\n",
    "\n",
    "# for data analysis\n",
    "import pandas as pd\n",
    "\n",
    "# for plotting and visualisations\n",
    "import seaborn as sns"
   ]
  },
  {
   "cell_type": "code",
   "execution_count": 2,
   "id": "7d16c778-de32-4d36-aecb-ad100244419f",
   "metadata": {},
   "outputs": [
    {
     "name": "stdout",
     "output_type": "stream",
     "text": [
      "['Solarize_Light2', '_classic_test_patch', 'bmh', 'classic', 'dark_background', 'fast', 'fivethirtyeight', 'ggplot', 'grayscale', 'seaborn', 'seaborn-bright', 'seaborn-colorblind', 'seaborn-dark', 'seaborn-dark-palette', 'seaborn-darkgrid', 'seaborn-deep', 'seaborn-muted', 'seaborn-notebook', 'seaborn-paper', 'seaborn-pastel', 'seaborn-poster', 'seaborn-talk', 'seaborn-ticks', 'seaborn-white', 'seaborn-whitegrid', 'tableau-colorblind10']\n"
     ]
    }
   ],
   "source": [
    "# prints the styles available in matplotlib.pyplot\n",
    "print(plt.style.available)"
   ]
  },
  {
   "cell_type": "markdown",
   "id": "de06c2a4-02e1-4a22-8a9b-ba249a6a746a",
   "metadata": {},
   "source": [
    "Here we set the style and size for the matplotlib.pyplot visualisations."
   ]
  },
  {
   "cell_type": "code",
   "execution_count": 3,
   "id": "15180dc1-1eb8-4c9a-a3be-9cc1d09db488",
   "metadata": {},
   "outputs": [],
   "source": [
    "# set global style for all plots\n",
    "plt.style.use('tableau-colorblind10')\n",
    "\n",
    "# set global plot size\n",
    "plt.rcParams['figure.figsize'] = (12,8)"
   ]
  },
  {
   "cell_type": "markdown",
   "id": "9c1931ff-8665-4a4b-a3e3-fbee111d9b08",
   "metadata": {},
   "source": [
    "<br>\n",
    "\n",
    "### Random Generator <a name=\"Random_Generator\"></a>\n",
    "[Random Generator official documentation](https://numpy.org/doc/stable/reference/random/generator.html)  \n",
    "\n",
    "\n",
    "NumPy creates random numbers through the use of a **BitGenerator** and a **Generator** - the BitGenerator generates random sequences of bits which are transformed into values by the generator using a variety of probability distributions. We can create a new constructor using the **default_rng** method to get a new instance of a generator.   \n"
   ]
  },
  {
   "cell_type": "code",
   "execution_count": 4,
   "id": "00b83316-4fe8-40ca-8ba0-4d4b629addd3",
   "metadata": {},
   "outputs": [
    {
     "data": {
      "text/plain": [
       "Generator(PCG64) at 0x7FD53B830820"
      ]
     },
     "execution_count": 4,
     "metadata": {},
     "output_type": "execute_result"
    }
   ],
   "source": [
    "# using default_rng() to get a new random number generator\n",
    "rng = np.random.default_rng()\n",
    "rng"
   ]
  },
  {
   "cell_type": "markdown",
   "id": "b60e7042-2576-4492-af8b-69950eddceaa",
   "metadata": {},
   "source": [
    "The default bitgenerator is PCG64 which is a 128-bit implementation of **O’Neill’s permutation congruential generator**.  \n",
    "> \"PCG is a family of simple fast space-efficient statistically good algorithms for random number generation. Unlike many general-purpose RNGs, they are also hard to predict.\"  \n",
    "https://www.pcg-random.org/index.html"
   ]
  },
  {
   "cell_type": "markdown",
   "id": "d6868e14-e315-44fb-952b-f9ebed3aec75",
   "metadata": {
    "tags": []
   },
   "source": [
    "We can pass a seed to the generator or let the computer pull a number from the operating system. More about that later!"
   ]
  },
  {
   "cell_type": "markdown",
   "id": "612dbef5-35cb-45a2-9d9d-4420557730df",
   "metadata": {},
   "source": [
    "<br>\n",
    "\n",
    "**numpy.random.default_rng.random** returns floating point numbers. If no value is passed we get one randomly generated float between 0 and 1. If one value is passed we get an array of that length, and if a second value is passed (with extra brackets) we get a 2D array with those parameters."
   ]
  },
  {
   "cell_type": "code",
   "execution_count": 5,
   "id": "493a50f4-0857-46ec-a648-e7226f019f54",
   "metadata": {},
   "outputs": [
    {
     "data": {
      "text/plain": [
       "0.4111335001515545"
      ]
     },
     "execution_count": 5,
     "metadata": {},
     "output_type": "execute_result"
    }
   ],
   "source": [
    "# returns a single float\n",
    "rng.random()"
   ]
  },
  {
   "cell_type": "code",
   "execution_count": 6,
   "id": "1ecadc8e-69dd-4e96-aa23-8f2cf3e29fad",
   "metadata": {},
   "outputs": [
    {
     "data": {
      "text/plain": [
       "array([0.70275322, 0.83146017, 0.77364222])"
      ]
     },
     "execution_count": 6,
     "metadata": {},
     "output_type": "execute_result"
    }
   ],
   "source": [
    "# returns an array of 3 floats\n",
    "rng.random(3)"
   ]
  },
  {
   "cell_type": "code",
   "execution_count": 7,
   "id": "bcea859e-c7d1-4c18-baf5-f6fa843d1939",
   "metadata": {},
   "outputs": [
    {
     "data": {
      "text/plain": [
       "array([[0.16686779, 0.25004339, 0.10245566],\n",
       "       [0.38459854, 0.60249036, 0.57442277],\n",
       "       [0.71293808, 0.3322118 , 0.95442044]])"
      ]
     },
     "execution_count": 7,
     "metadata": {},
     "output_type": "execute_result"
    }
   ],
   "source": [
    "# returns an array of 3x3 floats\n",
    "rng.random((3,3))"
   ]
  },
  {
   "cell_type": "markdown",
   "id": "1d34ff8d-62b3-4e71-bb88-9a14524a6a1e",
   "metadata": {},
   "source": [
    "<br>\n",
    "\n",
    "**numpy.random.default_rng.integers** returns integers. We need to pass at least 1 value which will be the upper limit and non inclusive. 0 is the default lower limit. If we pass 2 values, the first will be the lower limit and the 2nd the upper. 3 values, and the third will be the amount of numbers creating an array."
   ]
  },
  {
   "cell_type": "code",
   "execution_count": 8,
   "id": "34fe8104-1410-439f-a774-209fa16845ec",
   "metadata": {},
   "outputs": [
    {
     "data": {
      "text/plain": [
       "1"
      ]
     },
     "execution_count": 8,
     "metadata": {},
     "output_type": "execute_result"
    }
   ],
   "source": [
    "# returns an integer between 0-9\n",
    "rng.integers(10)"
   ]
  },
  {
   "cell_type": "code",
   "execution_count": 9,
   "id": "be8ec535-562f-4319-962a-54cb857a127b",
   "metadata": {},
   "outputs": [
    {
     "data": {
      "text/plain": [
       "5"
      ]
     },
     "execution_count": 9,
     "metadata": {},
     "output_type": "execute_result"
    }
   ],
   "source": [
    "rng.integers(3, 10)"
   ]
  },
  {
   "cell_type": "code",
   "execution_count": 10,
   "id": "80efb068-14ba-44b4-a112-777410e2e1f6",
   "metadata": {},
   "outputs": [
    {
     "data": {
      "text/plain": [
       "array([7, 2, 2, 3, 3, 9, 5, 3, 6, 2, 4, 3, 8, 6, 4, 5, 8, 9, 9, 7])"
      ]
     },
     "execution_count": 10,
     "metadata": {},
     "output_type": "execute_result"
    }
   ],
   "source": [
    "# returns an array of 20 numbers between 2-9\n",
    "rng.integers(2, 10, 20)"
   ]
  },
  {
   "cell_type": "markdown",
   "id": "9e6894f9-ea2e-454b-9204-668060698d8b",
   "metadata": {},
   "source": [
    "For all of the above code, if we rerun it we will get different results each time. If we want reproducible results we need to pass in a **seed**. We will look at this in more detail later."
   ]
  },
  {
   "cell_type": "markdown",
   "id": "467bb82f-09ee-4f90-9d61-9803e2f243e5",
   "metadata": {},
   "source": [
    "<br>\n",
    "\n",
    "### Permutations <a name=\"Permutations\"></a> \n",
    "[Permutation official documentation](https://numpy.org/doc/stable/reference/random/generated/numpy.random.Generator.permutation.html#numpy.random.Generator.permutation)  \n",
    "[Shuffle official documentation](https://numpy.org/doc/stable/reference/random/generated/numpy.random.Generator.shuffle.html#numpy.random.Generator.shuffle)\n",
    "\n"
   ]
  },
  {
   "cell_type": "markdown",
   "id": "8085a9b5-f27d-41de-b0c9-0afd9f2b9ece",
   "metadata": {},
   "source": [
    "<br>\n",
    "\n",
    "Within the numpy.random library there are many methods we can use to randomly manipulate the generated or given data. **permutation()** and **shuffle()** both rearrange the order of an array. The main difference is that 'permutation' creates a new array while 'shuffle' alters the original array."
   ]
  },
  {
   "cell_type": "code",
   "execution_count": 11,
   "id": "c5fc44ef-f574-4b76-a144-84f4c0ded34e",
   "metadata": {},
   "outputs": [
    {
     "data": {
      "text/plain": [
       "array([1, 9, 7, 3, 8, 4, 2, 6, 5])"
      ]
     },
     "execution_count": 11,
     "metadata": {},
     "output_type": "execute_result"
    }
   ],
   "source": [
    "# creating an array of numbers 1 to 10\n",
    "arr = np.array([1, 2, 3, 4, 5, 6, 7, 8, 9])\n",
    "\n",
    "# random permutation\n",
    "rng.permutation(arr)"
   ]
  },
  {
   "cell_type": "code",
   "execution_count": 12,
   "id": "75cda6ab-b41d-4ee5-b98a-bd6dc68e9145",
   "metadata": {},
   "outputs": [
    {
     "data": {
      "text/plain": [
       "array([1, 2, 3, 4, 5, 6, 7, 8, 9])"
      ]
     },
     "execution_count": 12,
     "metadata": {},
     "output_type": "execute_result"
    }
   ],
   "source": [
    "# the original array is intact\n",
    "arr"
   ]
  },
  {
   "cell_type": "code",
   "execution_count": 13,
   "id": "7d6f1b72-3f94-43a8-bb5c-66a3c7726450",
   "metadata": {},
   "outputs": [
    {
     "data": {
      "text/plain": [
       "array([4, 1, 5, 3, 7, 8, 6, 2, 9])"
      ]
     },
     "execution_count": 13,
     "metadata": {},
     "output_type": "execute_result"
    }
   ],
   "source": [
    "# 'shuffles' the array and alters the original\n",
    "rng.shuffle(arr)\n",
    "arr"
   ]
  },
  {
   "cell_type": "markdown",
   "id": "ef84722e-e5a5-47f5-b0a2-7ef0791c6504",
   "metadata": {},
   "source": [
    "We can use permutation to create a random array from a range"
   ]
  },
  {
   "cell_type": "code",
   "execution_count": 14,
   "id": "74f1489f-fdd0-4421-af8b-c44af5efdf76",
   "metadata": {},
   "outputs": [
    {
     "name": "stdout",
     "output_type": "stream",
     "text": [
      "[ 6  4 18  2  1 15 19 11  0 16  5 17  8 14 12  9 10  3  7 13]\n"
     ]
    }
   ],
   "source": [
    "# creates a permutation of the numbers 0-19\n",
    "print(rng.permutation(20))"
   ]
  },
  {
   "cell_type": "markdown",
   "id": "ce99ffa9-289b-4789-8d49-7c2fc9008a22",
   "metadata": {},
   "source": [
    "We can also use it on 2 dimensional arrays. Interestingly it maintains the numbers and order within each row and only rearranges the actual rows. If we add the parameter axis=1 we can permutate within the rows also"
   ]
  },
  {
   "cell_type": "code",
   "execution_count": 15,
   "id": "755ebb94-b013-49f8-b38f-a87cf3ce8f0a",
   "metadata": {},
   "outputs": [
    {
     "data": {
      "text/plain": [
       "array([[ 0,  1,  2,  3],\n",
       "       [ 4,  5,  6,  7],\n",
       "       [ 8,  9, 10, 11]])"
      ]
     },
     "execution_count": 15,
     "metadata": {},
     "output_type": "execute_result"
    }
   ],
   "source": [
    "# creates 12 numbers and shapes them into a 3x4 arrany\n",
    "array = np.arange(12).reshape((3, 4))\n",
    "array"
   ]
  },
  {
   "cell_type": "code",
   "execution_count": 16,
   "id": "46fda685-6e62-409b-bfad-9b53d60e7938",
   "metadata": {},
   "outputs": [
    {
     "data": {
      "text/plain": [
       "array([[ 0,  1,  2,  3],\n",
       "       [ 4,  5,  6,  7],\n",
       "       [ 8,  9, 10, 11]])"
      ]
     },
     "execution_count": 16,
     "metadata": {},
     "output_type": "execute_result"
    }
   ],
   "source": [
    "# permutates the 2D array - rows only\n",
    "rng.permutation(array)"
   ]
  },
  {
   "cell_type": "code",
   "execution_count": 17,
   "id": "fd7881a5-1678-4da0-b724-a215da60bff1",
   "metadata": {},
   "outputs": [
    {
     "data": {
      "text/plain": [
       "array([[ 0,  1,  3,  2],\n",
       "       [ 4,  5,  7,  6],\n",
       "       [ 8,  9, 11, 10]])"
      ]
     },
     "execution_count": 17,
     "metadata": {},
     "output_type": "execute_result"
    }
   ],
   "source": [
    "# permutates the 2D array - rows and within rows\n",
    "rng.permutation(array, axis=1)"
   ]
  },
  {
   "cell_type": "code",
   "execution_count": 18,
   "id": "0187993c-24e8-4e74-8cfc-49abc9fd69dd",
   "metadata": {},
   "outputs": [
    {
     "data": {
      "text/plain": [
       "array([[ 0,  1,  2,  3],\n",
       "       [ 4,  5,  6,  7],\n",
       "       [ 8,  9, 10, 11]])"
      ]
     },
     "execution_count": 18,
     "metadata": {},
     "output_type": "execute_result"
    }
   ],
   "source": [
    "# just to confirm the original array is intact\n",
    "array"
   ]
  },
  {
   "cell_type": "markdown",
   "id": "d71ef031-8bb9-4f42-8992-672afcd397e6",
   "metadata": {
    "tags": []
   },
   "source": [
    "We can do the same using the shuffle method - again the main difference being shuffle alters the original array."
   ]
  },
  {
   "cell_type": "code",
   "execution_count": 19,
   "id": "57926963-9fc3-41f8-afd5-b54dd6742aaa",
   "metadata": {},
   "outputs": [
    {
     "data": {
      "text/plain": [
       "array([[ 2,  1,  3,  0],\n",
       "       [ 6,  5,  7,  4],\n",
       "       [10,  9, 11,  8]])"
      ]
     },
     "execution_count": 19,
     "metadata": {},
     "output_type": "execute_result"
    }
   ],
   "source": [
    "# shuffles the array\n",
    "rng.shuffle(array, axis=1)\n",
    "array"
   ]
  },
  {
   "cell_type": "code",
   "execution_count": 20,
   "id": "d84a1417-f804-4614-a840-465c6f681e80",
   "metadata": {},
   "outputs": [
    {
     "data": {
      "text/plain": [
       "array([[ 2,  1,  3,  0],\n",
       "       [ 6,  5,  7,  4],\n",
       "       [10,  9, 11,  8]])"
      ]
     },
     "execution_count": 20,
     "metadata": {},
     "output_type": "execute_result"
    }
   ],
   "source": [
    "# just to confirm the array is now altered\n",
    "array"
   ]
  },
  {
   "cell_type": "markdown",
   "id": "e7d3fc00-f11a-4793-b37e-6dc04b5d8b83",
   "metadata": {},
   "source": [
    "<br>\n",
    "\n",
    "A few other interesting methods available to us"
   ]
  },
  {
   "cell_type": "markdown",
   "id": "5a3d9e7e-9e13-44d0-8af0-2b8398b04827",
   "metadata": {},
   "source": [
    "**numpy.random.default_rng.choice** generates a random sample from a given array. The first value in brackets is the upper range, while the 2nd is the number of values returned.  \n",
    "[official documentation](https://numpy.org/doc/stable/reference/random/generated/numpy.random.Generator.choice.html#numpy.random.Generator.choice)"
   ]
  },
  {
   "cell_type": "code",
   "execution_count": 21,
   "id": "f1800315-bbb7-4265-b2d5-542095a20939",
   "metadata": {},
   "outputs": [
    {
     "data": {
      "text/plain": [
       "array([31,  8, 21, 15, 32, 37, 29, 27,  1, 15, 29, 15,  0, 29, 32])"
      ]
     },
     "execution_count": 21,
     "metadata": {},
     "output_type": "execute_result"
    }
   ],
   "source": [
    "# choose 7 numbers at random from the range 0-39\n",
    "rng.choice(40, 15)"
   ]
  },
  {
   "cell_type": "markdown",
   "id": "dabb9be3-fb44-455b-a700-f079455141ba",
   "metadata": {},
   "source": [
    "We can also use **choice()** for strings and other data types."
   ]
  },
  {
   "cell_type": "code",
   "execution_count": 22,
   "id": "aa010b4c-dde6-47c2-bcd0-9a60f09f8ae8",
   "metadata": {},
   "outputs": [
    {
     "data": {
      "text/plain": [
       "array(['vodka', 'vodka'], dtype='<U7')"
      ]
     },
     "execution_count": 22,
     "metadata": {},
     "output_type": "execute_result"
    }
   ],
   "source": [
    "# create a list of strings\n",
    "list_1 = [\"gin\", \"whiskey\", \"vodka\", \"rum\", \"tequila\", \"brandy\"]\n",
    "\n",
    "# choose 2 items from the list\n",
    "rng.choice(list_1, size=2)"
   ]
  },
  {
   "cell_type": "markdown",
   "id": "40717a82-0a8d-4fdd-a0dd-22f380555977",
   "metadata": {},
   "source": [
    "We can 'weight' the probability for each item in the list. So below the 6th item in the list is 5 times more likely to be returned than the others."
   ]
  },
  {
   "cell_type": "code",
   "execution_count": 23,
   "id": "ea1a300c-6e80-46bf-b0eb-1fb518bb12c9",
   "metadata": {},
   "outputs": [
    {
     "data": {
      "text/plain": [
       "array(['brandy', 'brandy', 'tequila', 'gin', 'whiskey', 'brandy'],\n",
       "      dtype='<U7')"
      ]
     },
     "execution_count": 23,
     "metadata": {},
     "output_type": "execute_result"
    }
   ],
   "source": [
    "# we can pass in the probability for each item favoring one over the others\n",
    "rng.choice(list_1, p=[0.1, 0.1, 0.1, 0.1, 0.1, 0.5], size=6)"
   ]
  },
  {
   "cell_type": "markdown",
   "id": "8a2aa3ef-7dcf-4236-af70-680bed3228fb",
   "metadata": {},
   "source": [
    "**numpy.random.default_rng.bytes** returns random bytes"
   ]
  },
  {
   "cell_type": "code",
   "execution_count": 67,
   "id": "8ff7a373-3870-4543-bc36-fe7635c45ccd",
   "metadata": {},
   "outputs": [
    {
     "data": {
      "text/plain": [
       "b' \\x10\\x11\\x94\\xbc\\xe3\\xa5\\x19\\xe7\\xf2'"
      ]
     },
     "execution_count": 67,
     "metadata": {},
     "output_type": "execute_result"
    }
   ],
   "source": [
    "# returns 10 random bytes\n",
    "rng.bytes(10)"
   ]
  },
  {
   "cell_type": "markdown",
   "id": "90be6620-9a44-4da4-8439-4a1d570afeb4",
   "metadata": {},
   "source": [
    "<br>\n",
    "\n",
    "### simple guessing game"
   ]
  },
  {
   "cell_type": "markdown",
   "id": "aca73774-09aa-4170-89d8-96189ccfe070",
   "metadata": {},
   "source": [
    "A little game using numpy.random!"
   ]
  },
  {
   "cell_type": "code",
   "execution_count": 25,
   "id": "169fbf8d-3878-4e14-9391-65a91cfe98f8",
   "metadata": {},
   "outputs": [
    {
     "name": "stdin",
     "output_type": "stream",
     "text": [
      "Pick a number between 1 and 10:  3\n"
     ]
    },
    {
     "name": "stdout",
     "output_type": "stream",
     "text": [
      "Unlucky - you guessed wrong!\n"
     ]
    }
   ],
   "source": [
    "# Generate a random integer between 1 and 10\n",
    "randomNumber = rng.integers(1,10)\n",
    "# Ask the player to pick a number\n",
    "yourChoice = int(input(\"Pick a number between 1 and 10: \"))\n",
    "# Compare the numbers\n",
    "if randomNumber == yourChoice:\n",
    "    # If correct\n",
    "    print(\"Well done - you guessed right\")\n",
    "else:\n",
    "    # otherwise\n",
    "    print(\"Unlucky - you guessed wrong!\")"
   ]
  },
  {
   "cell_type": "markdown",
   "id": "7ed911c5-019c-4bff-a5a5-28b0ef4c321e",
   "metadata": {},
   "source": [
    "### "
   ]
  },
  {
   "cell_type": "markdown",
   "id": "f921fc40-26b0-46fb-9006-d1634ba4768a",
   "metadata": {},
   "source": [
    "<br>\n",
    "\n",
    "## Distributions\n",
    "___"
   ]
  },
  {
   "cell_type": "markdown",
   "id": "9135a0dd-281f-47d7-81f6-ca3a3c6317fc",
   "metadata": {},
   "source": [
    "Probability distributions are how values are distributed within a given range or criteria. I will go through several of the more common examples."
   ]
  },
  {
   "cell_type": "markdown",
   "id": "138b7dff-5e49-400e-bced-36f7e040b686",
   "metadata": {
    "tags": []
   },
   "source": [
    "### Uniform Distribution <a name=\"Uniform_Distribution\"></a>\n",
    "[Uniform Distribution official documentation](https://numpy.org/doc/stable/reference/random/generated/numpy.random.Generator.uniform.html#numpy.random.Generator.uniform)"
   ]
  },
  {
   "cell_type": "markdown",
   "id": "803cda47-4fe4-4921-b5f2-014a08611136",
   "metadata": {},
   "source": [
    "![Dice](Images/dice.jpeg)"
   ]
  },
  {
   "cell_type": "markdown",
   "id": "51229059-1816-4d8e-8f6b-f9956404ca21",
   "metadata": {},
   "source": [
    "This is where each event has an equal chance of occurring, such as rolling a single dice or choosing a particular playing card from the deck.  \n",
    "The default parameters are 0.0 and 1.0, with the upper value being non-inclusive. The uniform distribution dictates that the returned value has an equal chance of falling at any point between the 2 parameters."
   ]
  },
  {
   "cell_type": "code",
   "execution_count": 26,
   "id": "01da8bcf-55e6-4076-a5ce-a178949cef92",
   "metadata": {},
   "outputs": [
    {
     "data": {
      "text/plain": [
       "0.15652606512412504"
      ]
     },
     "execution_count": 26,
     "metadata": {},
     "output_type": "execute_result"
    }
   ],
   "source": [
    "# return a floating point number between 0.0 and 1.0 (not including 1)\n",
    "rng.uniform()"
   ]
  },
  {
   "cell_type": "markdown",
   "id": "feeae8b6-1536-4028-ba3a-b0229fbc41ac",
   "metadata": {},
   "source": [
    "We can pass some parameters in then. One value specifies the upper limit (non-inclusive)"
   ]
  },
  {
   "cell_type": "code",
   "execution_count": 27,
   "id": "460fca72-8c2f-4147-9447-297dc7ab1ac9",
   "metadata": {},
   "outputs": [
    {
     "data": {
      "text/plain": [
       "3.9378577676181497"
      ]
     },
     "execution_count": 27,
     "metadata": {},
     "output_type": "execute_result"
    }
   ],
   "source": [
    "# returns a floating point number between 0.0 and 4.0\n",
    "rng.uniform(4)"
   ]
  },
  {
   "cell_type": "markdown",
   "id": "08a90bfd-1aeb-4c8b-b246-482f3e0e180c",
   "metadata": {},
   "source": [
    "When we pass 2 values, the first is the lower limit (inclusive) and the second the upper (non-inclusive)."
   ]
  },
  {
   "cell_type": "code",
   "execution_count": 28,
   "id": "edc76369-705d-49e8-bfd4-ddba9120d464",
   "metadata": {},
   "outputs": [
    {
     "data": {
      "text/plain": [
       "3.3505335694847647"
      ]
     },
     "execution_count": 28,
     "metadata": {},
     "output_type": "execute_result"
    }
   ],
   "source": [
    "# return a floating point number between 3.0 and 4.0\n",
    "rng.uniform(3,4)"
   ]
  },
  {
   "cell_type": "markdown",
   "id": "277aac14-4663-4091-b4ee-27272a7ee1bf",
   "metadata": {},
   "source": [
    "We can create a 2D array using the **size** parameter."
   ]
  },
  {
   "cell_type": "code",
   "execution_count": 29,
   "id": "54e28bde-e211-4323-b549-8956307f1307",
   "metadata": {
    "tags": []
   },
   "outputs": [
    {
     "data": {
      "text/plain": [
       "array([[13.94044025, 14.55728655, 14.20295145],\n",
       "       [11.06574169, 14.36510533, 13.70686474],\n",
       "       [11.46769075, 11.44378091, 10.69734288],\n",
       "       [14.49437683, 10.56790624, 13.236769  ]])"
      ]
     },
     "execution_count": 29,
     "metadata": {},
     "output_type": "execute_result"
    }
   ],
   "source": [
    "# returns a 2D (4x3) array of floating point numbers between 10.0 and 15.0\n",
    "rng.uniform(10, 15, size=(4, 3))"
   ]
  },
  {
   "cell_type": "markdown",
   "id": "a39d6b2c-abea-4520-b8b9-897968da3c92",
   "metadata": {},
   "source": [
    "We can expand this and display the results on a grid plot. We can see the results spread evenly all over the grid"
   ]
  },
  {
   "cell_type": "code",
   "execution_count": 30,
   "id": "a2eda09d-81ac-4bca-a396-82e306d97c44",
   "metadata": {},
   "outputs": [
    {
     "data": {
      "text/plain": [
       "[<matplotlib.lines.Line2D at 0x7fd53e194af0>]"
      ]
     },
     "execution_count": 30,
     "metadata": {},
     "output_type": "execute_result"
    },
    {
     "data": {
      "image/png": "[encoded data removed]",
      "text/plain": [
       "<Figure size 864x576 with 1 Axes>"
      ]
     },
     "metadata": {
      "needs_background": "light"
     },
     "output_type": "display_data"
    }
   ],
   "source": [
    "# 1000 numbers between 1 and 1000. We specify red dots as markers\n",
    "plt.plot(rng.uniform(1,1000, size=1000), 'r.')"
   ]
  },
  {
   "cell_type": "markdown",
   "id": "fa1eac7d-1759-4f38-b63f-49be51c9aec1",
   "metadata": {},
   "source": [
    "<br>\n",
    "\n",
    "#### Sample size"
   ]
  },
  {
   "cell_type": "markdown",
   "id": "6c05e3a4-9209-4e84-9f34-b6eabda31732",
   "metadata": {},
   "source": [
    "It's easier to appreciate uniform distribution when we increase the sample size as above. The following code creates various sizes of arrays of values between 0 and 100. In theory there's an equal chance for each value to occur but this only becomes obvious when we increase the sample size. The set of plots below demonstrate that clearly. The final plot which has a sample of 1 million values is nearly a straight line.  "
   ]
  },
  {
   "cell_type": "code",
   "execution_count": 31,
   "id": "8428efb4-fbc3-4e67-b625-09d830b86deb",
   "metadata": {
    "tags": []
   },
   "outputs": [],
   "source": [
    "# looking at the difference the sample size makes\n",
    "x = rng.integers(100, size = 10)\n",
    "y = rng.integers(100, size = 100)\n",
    "z = rng.integers(100, size = 1000)\n",
    "a = rng.integers(100, size = 10000)\n",
    "b = rng.integers(100, size = 100000)\n",
    "c = rng.integers(100, size = 1000000)"
   ]
  },
  {
   "cell_type": "code",
   "execution_count": 32,
   "id": "53baa821-cebd-4f0c-9a2a-bb4f06285526",
   "metadata": {},
   "outputs": [
    {
     "data": {
      "image/png": "[encoded data removed]",
      "text/plain": [
       "<Figure size 864x576 with 6 Axes>"
      ]
     },
     "metadata": {
      "needs_background": "light"
     },
     "output_type": "display_data"
    }
   ],
   "source": [
    "# plt.subplots(3,2) creates 3 rows and 2 columns of plots\n",
    "# axs[0,0] etc. specifies where this plot goes in the arrangement\n",
    "fig, axs = plt.subplots(3,2)\n",
    "axs[0,0].hist(x, bins=100)\n",
    "axs[0,0].set_title('Sample Size 10')\n",
    "axs[0,1].hist(y, bins=100)\n",
    "axs[0,1].set_title('Sample Size 100')\n",
    "axs[1,0].hist(z, bins=100)\n",
    "axs[1,0].set_title('Sample Size 1000')\n",
    "axs[1,1].hist(a, bins=100)\n",
    "axs[1,1].set_title('Sample Size 10000')\n",
    "axs[2,0].hist(b, bins=100)\n",
    "axs[2,0].set_title('Sample Size 100000')\n",
    "axs[2,1].hist(c, bins=100)\n",
    "axs[2,1].set_title('Sample Size 1000000')\n",
    "# creates space between each of the subplots\n",
    "fig.tight_layout()"
   ]
  },
  {
   "cell_type": "markdown",
   "id": "76f2d4d0-ab81-4bb0-9be0-55872b5bd9b8",
   "metadata": {
    "tags": []
   },
   "source": [
    "<br>\n",
    "\n",
    "### Normal Distribution <a name=\"Normal_Distribution\"></a>\n",
    "[Normal distribution official documentation](https://numpy.org/doc/stable/reference/random/generated/numpy.random.Generator.normal.html#numpy.random.Generator.normal)"
   ]
  },
  {
   "cell_type": "markdown",
   "id": "9c710487-d3d5-4198-9789-5f73c9dff81a",
   "metadata": {},
   "source": [
    "Normal distribution represents the behavior of most situations in the universe - that's why it’s called a “normal” distribution I guess! It's also known as Gaussian Distribution or Bell Curve, and is one of the widest used probability distributions. It represents things like IQ Scores, heartbeats, people's heights and weights, among others.   \n",
    "\n",
    "The parameters are as follows:\n",
    "1. loc - mean - peak of the bell curve\n",
    "2. scale - standard deviation - distance from the mean\n",
    "3. size - shape of the array   \n",
    "\n",
    "We use the **numpy.random.normal()** function. If no paremters are passed, a single value will be returned using a mean of 0 and standard deviation of 1. This is actually known as standard normal distribution and numpy.random has a separate **standard_random()** function which only takes a size as a parameter and leaves the mean and standard at 0 and 1 respectively.  "
   ]
  },
  {
   "cell_type": "code",
   "execution_count": 33,
   "id": "b2600ee5-ab77-47a1-bba6-e4f2c422ae5c",
   "metadata": {},
   "outputs": [
    {
     "data": {
      "text/plain": [
       "-0.22797033390865762"
      ]
     },
     "execution_count": 33,
     "metadata": {},
     "output_type": "execute_result"
    }
   ],
   "source": [
    "rng.normal()"
   ]
  },
  {
   "cell_type": "markdown",
   "id": "512ad858-57cb-4557-ae1a-50645e9d7800",
   "metadata": {},
   "source": [
    "Here we'll create an array using standard_normal()."
   ]
  },
  {
   "cell_type": "code",
   "execution_count": 34,
   "id": "b13f14cf-8eb7-40c0-aa4a-e608eeed1898",
   "metadata": {
    "scrolled": true,
    "tags": []
   },
   "outputs": [
    {
     "data": {
      "text/plain": [
       "array([ 0.20096178,  1.09156505,  0.01123197, -0.06949824, -0.25357435,\n",
       "       -1.18241248,  0.31746367, -1.59624686, -0.92506731, -0.66973727,\n",
       "       -0.69922461, -0.55905703, -0.00267701, -0.86760129,  0.90737383,\n",
       "       -0.18124972, -1.99149047,  0.05572279,  0.94132758, -0.09537955,\n",
       "       -1.34622206,  0.01906488, -0.7029571 , -1.0650204 ,  0.85123353,\n",
       "       -0.18220047, -0.882093  ,  1.33233141, -2.40787075, -0.56977775,\n",
       "        0.04312596,  1.10197122, -0.24606093, -1.27310036, -0.83015245,\n",
       "       -0.51821614, -1.07962972, -0.93456963, -0.66872866,  1.76736522])"
      ]
     },
     "execution_count": 34,
     "metadata": {},
     "output_type": "execute_result"
    }
   ],
   "source": [
    "# returns an array of 40 random normally distributed numbers using a mean of 0 and SD of 1\n",
    "rng.standard_normal(40)"
   ]
  },
  {
   "cell_type": "code",
   "execution_count": 35,
   "id": "7acf0a3b-0f05-4caa-8570-4bafd3d2cd59",
   "metadata": {
    "scrolled": true,
    "tags": []
   },
   "outputs": [
    {
     "data": {
      "text/plain": [
       "array([4.26808113, 5.01685386, 2.91257757, 5.89550396, 5.00180226,\n",
       "       4.06562665, 4.35380415, 4.4109604 , 5.43075199, 4.89460263,\n",
       "       1.73318479, 3.6727466 , 3.50854873, 4.72068754, 3.85861928,\n",
       "       3.92086549, 4.19170241, 2.97284817, 4.73789768, 4.35546094,\n",
       "       3.74854504, 4.84365505, 4.98319051, 4.02738398, 5.59898243,\n",
       "       3.40482951, 1.91849086, 4.836816  , 4.44218434, 5.24667552,\n",
       "       3.07480723, 4.63270423, 5.23178214, 4.41283531, 5.09943098,\n",
       "       3.96246713, 5.38518002, 2.06679963, 3.40444801, 2.82116566,\n",
       "       4.95207517, 5.15588817, 4.29507608, 2.03816132, 4.48343146,\n",
       "       0.9907895 , 3.90758347, 4.18246128, 4.9247328 , 4.92075515,\n",
       "       3.98890366, 3.43741514, 5.57968636, 3.57664602, 3.94481083,\n",
       "       4.40534647, 3.82319066, 4.95452001, 4.16771675, 3.78128385,\n",
       "       5.00144903, 5.22430842, 4.6542954 , 3.31599275, 4.19163564,\n",
       "       3.73224138, 5.00737236, 4.73159655, 3.4501646 , 4.83175819,\n",
       "       3.16914698, 4.23692166, 4.33064012, 3.64510673, 3.96915338,\n",
       "       4.01335957, 4.43236346, 4.78190503, 4.32374519, 4.93634384,\n",
       "       3.69547692, 3.77040727, 3.74273602, 3.13900933, 3.57095942,\n",
       "       5.02071344, 1.96491914, 2.51524094, 4.63860266, 5.85561123,\n",
       "       3.65187185, 3.37292721, 3.14239788, 5.06034543, 5.22659393,\n",
       "       1.98642289, 3.4786937 , 2.49215029, 4.49854309, 4.65101709])"
      ]
     },
     "execution_count": 35,
     "metadata": {},
     "output_type": "execute_result"
    }
   ],
   "source": [
    "# specifying the mean as 4.0\n",
    "z = rng.normal(loc=4, size=100)\n",
    "z"
   ]
  },
  {
   "cell_type": "markdown",
   "id": "a1207773-981e-4c6e-be4e-974b3548df4f",
   "metadata": {},
   "source": [
    "Similar to what we did with the uniform distribution, we can visualise the normal distribution on a grid."
   ]
  },
  {
   "cell_type": "code",
   "execution_count": 36,
   "id": "2d5280ec-afa1-42b3-9734-2a249ffb5e1f",
   "metadata": {},
   "outputs": [
    {
     "data": {
      "text/plain": [
       "[<matplotlib.lines.Line2D at 0x7fd53ef05b80>]"
      ]
     },
     "execution_count": 36,
     "metadata": {},
     "output_type": "execute_result"
    },
    {
     "data": {
      "image/png": "[encoded data removed]",
      "text/plain": [
       "<Figure size 864x576 with 1 Axes>"
      ]
     },
     "metadata": {
      "needs_background": "light"
     },
     "output_type": "display_data"
    }
   ],
   "source": [
    "# standard normal distribution generation for 1000 samples\n",
    "normal = rng.standard_normal(size=1000)\n",
    "\n",
    "# draws a straight red line across the mean value - 0 in this case\n",
    "plt.hlines(0, 0, 1000, colors='r') # baseline \n",
    "\n",
    "# plots the normal values on a grid with blue dots\n",
    "plt.plot(normal, 'b.', alpha=0.5)"
   ]
  },
  {
   "cell_type": "markdown",
   "id": "264d4a46-d8d5-4fd0-9ad5-bc4b574ee79b",
   "metadata": {},
   "source": [
    "Or on a histogram"
   ]
  },
  {
   "cell_type": "code",
   "execution_count": 37,
   "id": "b6949f7f-ac43-4db8-a831-d58644bc9980",
   "metadata": {},
   "outputs": [
    {
     "data": {
      "image/png": "[encoded data removed]",
      "text/plain": [
       "<Figure size 864x576 with 1 Axes>"
      ]
     },
     "metadata": {},
     "output_type": "display_data"
    }
   ],
   "source": [
    "# creates a histogram for z\n",
    "sns.set_style(\"darkgrid\")\n",
    "sns.histplot(z).set_title(\"Normal Distribution\");"
   ]
  },
  {
   "cell_type": "markdown",
   "id": "2c838f37-4a76-4de3-9f9f-74dfdcf1d13b",
   "metadata": {},
   "source": [
    "We can increase the bin size to smooth things out a little."
   ]
  },
  {
   "cell_type": "code",
   "execution_count": 38,
   "id": "6c0fc4d1-64c8-4b82-90ea-a2fe65c505fc",
   "metadata": {},
   "outputs": [
    {
     "data": {
      "image/png": "[encoded data removed]",
      "text/plain": [
       "<Figure size 864x576 with 1 Axes>"
      ]
     },
     "metadata": {},
     "output_type": "display_data"
    }
   ],
   "source": [
    "# histplot with bin size specified\n",
    "sns.set_style(\"darkgrid\")\n",
    "sns.histplot(z, bins=30).set_title(\"Normal Distribution with bin size reduced\");"
   ]
  },
  {
   "cell_type": "markdown",
   "id": "93f76469-e545-4989-add5-46556d6e48b6",
   "metadata": {},
   "source": [
    "Here we can look at the difference changing the loc or mean makes"
   ]
  },
  {
   "cell_type": "code",
   "execution_count": 39,
   "id": "93867eb3-7173-43c2-bdf7-2a88c229d4ff",
   "metadata": {},
   "outputs": [
    {
     "data": {
      "image/png": "[encoded data removed]",
      "text/plain": [
       "<Figure size 864x576 with 1 Axes>"
      ]
     },
     "metadata": {},
     "output_type": "display_data"
    }
   ],
   "source": [
    "# looking at changing the loc (mean)\n",
    "x = rng.normal(loc=1.0, size=100)\n",
    "y = rng.normal(loc=3.0, size=100)\n",
    "fig, ax = plt.subplots()\n",
    "\n",
    "# plotting both on the same axis\n",
    "# alpha is transparency\n",
    "plt.title(\"Normal Distributions with different locs\") \n",
    "ax.hist(x, bins=10, alpha=0.5)\n",
    "ax.hist(y, bins=10, alpha=0.5);"
   ]
  },
  {
   "cell_type": "markdown",
   "id": "ca2e4a06-ebb8-4026-8e3e-31c2e92ced66",
   "metadata": {},
   "source": [
    "Here we can look at the difference changing the scale or standard deviation makes"
   ]
  },
  {
   "cell_type": "code",
   "execution_count": 40,
   "id": "7545a314-36a3-4193-8d65-58c8b94b6454",
   "metadata": {},
   "outputs": [
    {
     "data": {
      "image/png": "[encoded data removed]",
      "text/plain": [
       "<Figure size 864x576 with 1 Axes>"
      ]
     },
     "metadata": {},
     "output_type": "display_data"
    }
   ],
   "source": [
    "# looking at changing the scale\n",
    "x = rng.normal(scale=0.5, size=1000)\n",
    "y = rng.normal(scale=0.1, size=1000)\n",
    "fig, ax = plt.subplots()\n",
    "\n",
    "# plotting both on the same axis\n",
    "# alpha is transparency\n",
    "plt.title(\"Normal Distributions with different scales\") \n",
    "ax.hist(x, bins=30, alpha=0.5, density=True)\n",
    "ax.hist(y, bins=30, alpha=0.5, density=True);"
   ]
  },
  {
   "cell_type": "markdown",
   "id": "f45bd248-1165-4152-894f-3ccaf2284093",
   "metadata": {},
   "source": [
    "KDE - kernal density estimation is a useful tool in visualing normal distributions. It smooths out the curves by estimating all of the values in between."
   ]
  },
  {
   "cell_type": "code",
   "execution_count": 41,
   "id": "69d51dff-80e7-4d21-94b5-e0541cfa62e9",
   "metadata": {},
   "outputs": [
    {
     "data": {
      "text/plain": [
       "Text(0.5, 1.0, 'Normal Distribution with KDE')"
      ]
     },
     "execution_count": 41,
     "metadata": {},
     "output_type": "execute_result"
    },
    {
     "data": {
      "image/png": "[encoded data removed]",
      "text/plain": [
       "<Figure size 864x576 with 1 Axes>"
      ]
     },
     "metadata": {},
     "output_type": "display_data"
    }
   ],
   "source": [
    "# https://seaborn.pydata.org/generated/seaborn.kdeplot.html\n",
    "sns.set_style(\"darkgrid\")\n",
    "sns.kdeplot(data=z, fill=True).set_title('Normal Distribution with KDE')"
   ]
  },
  {
   "cell_type": "markdown",
   "id": "b101265f-b675-4155-83a9-9cdbc3dd253f",
   "metadata": {},
   "source": [
    "We can do a similar demonstration to above to show how the sample size affects the outcome. We use the default paramters of mean=0 and SD=1 and create arrays between 10 and 1,000,000. Again the higher the sample size the more perfect the bell shaped curve. "
   ]
  },
  {
   "cell_type": "code",
   "execution_count": 42,
   "id": "c4854913-d21d-49e9-8286-3b02f7436565",
   "metadata": {},
   "outputs": [],
   "source": [
    "x = rng.standard_normal(10)\n",
    "y = rng.standard_normal(100)\n",
    "z = rng.standard_normal(1000)\n",
    "a = rng.standard_normal(10000)\n",
    "b = rng.standard_normal(100000)\n",
    "c = rng.standard_normal(1000000)"
   ]
  },
  {
   "cell_type": "code",
   "execution_count": 43,
   "id": "89c5bd7a-cc62-4922-a981-d35e1ca0ceca",
   "metadata": {},
   "outputs": [
    {
     "data": {
      "image/png": "[encoded data removed]",
      "text/plain": [
       "<Figure size 864x576 with 6 Axes>"
      ]
     },
     "metadata": {},
     "output_type": "display_data"
    }
   ],
   "source": [
    "# plt.subplots(3,2) creates 3 rows and 2 columns of plots\n",
    "# axs[0,0] etc. specifies where this plot goes in the arrangement\n",
    "fig, axs = plt.subplots(3,2)\n",
    "axs[0,0].hist(x, bins=100)\n",
    "axs[0,0].set_title('Sample Size 10')\n",
    "axs[0,1].hist(y, bins=100)\n",
    "axs[0,1].set_title('Sample Size 100')\n",
    "axs[1,0].hist(z, bins=100)\n",
    "axs[1,0].set_title('Sample Size 1000')\n",
    "axs[1,1].hist(a, bins=100)\n",
    "axs[1,1].set_title('Sample Size 10000')\n",
    "axs[2,0].hist(b, bins=100)\n",
    "axs[2,0].set_title('Sample Size 100000')\n",
    "axs[2,1].hist(c, bins=100)\n",
    "axs[2,1].set_title('Sample Size 1000000')\n",
    "# creates space between each of the subplots\n",
    "fig.tight_layout()"
   ]
  },
  {
   "cell_type": "markdown",
   "id": "2a93c8bf-c236-4a63-9592-f1ab327a9a03",
   "metadata": {
    "tags": []
   },
   "source": [
    "<br>\n",
    "\n",
    "### Binomial Distribution <a name=\"Binomial_Distribution\"></a> \n",
    "[Binomial Distribution official documentation](https://numpy.org/doc/stable/reference/random/generated/numpy.random.Generator.binomial.html#numpy.random.Generator.binomial)"
   ]
  },
  {
   "cell_type": "markdown",
   "id": "3b63ed8c-d59f-4805-b51d-2d741520f24d",
   "metadata": {
    "tags": []
   },
   "source": [
    "Binomial distribution is when we're dealing with only 2 outcomes. These can be equal (0.5) such as a coin toss as demomstrated below, or any probability inserted as a parameter.  \n",
    "The syntax is demonstrated below where n = the number of trials and and p = the probability of success for either outcome."
   ]
  },
  {
   "cell_type": "code",
   "execution_count": 44,
   "id": "4e74b9da-8af6-4ce1-84ce-eef2e6f37c79",
   "metadata": {},
   "outputs": [
    {
     "data": {
      "text/plain": [
       "1"
      ]
     },
     "execution_count": 44,
     "metadata": {},
     "output_type": "execute_result"
    }
   ],
   "source": [
    "# simple example which returns either 0 or 1\n",
    "rng.binomial(n=1, p=0.5)"
   ]
  },
  {
   "cell_type": "markdown",
   "id": "43aa5576-d665-48f2-98c7-5736eda23edd",
   "metadata": {},
   "source": [
    "#### Coin toss simulation"
   ]
  },
  {
   "cell_type": "markdown",
   "id": "041a7205-fb56-4133-a6cd-290db8dc7dde",
   "metadata": {},
   "source": [
    "![Coin_toss](Images/coinToss4.jpg)"
   ]
  },
  {
   "cell_type": "markdown",
   "id": "b65a1684-a745-4578-ad0e-7f43ec36edb1",
   "metadata": {},
   "source": [
    "The following code simulates tossing a coin 1000 times with the results shown in a bar chart"
   ]
  },
  {
   "cell_type": "code",
   "execution_count": 45,
   "id": "921420a5-22e5-41cd-8adb-558194c7ac3d",
   "metadata": {
    "scrolled": true,
    "tags": []
   },
   "outputs": [
    {
     "data": {
      "text/plain": [
       "array([0, 1, 1, 1, 0, 1, 1, 1, 0, 0, 0, 1, 1, 1, 0, 1, 0, 1, 1, 1, 0, 0,\n",
       "       1, 1, 0, 1, 1, 0, 0, 0, 0, 1, 1, 1, 0, 0, 0, 1, 0, 1, 1, 0, 1, 1,\n",
       "       0, 0, 0, 0, 0, 1, 1, 1, 1, 1, 1, 1, 1, 0, 1, 1, 1, 0, 1, 0, 1, 0,\n",
       "       1, 1, 1, 0, 0, 1, 1, 1, 1, 1, 0, 1, 0, 0, 0, 0, 0, 0, 0, 0, 0, 0,\n",
       "       1, 1, 0, 0, 0, 0, 1, 0, 1, 1, 0, 1, 0, 0, 1, 1, 0, 1, 1, 0, 0, 1,\n",
       "       0, 1, 1, 1, 0, 1, 1, 0, 1, 0, 1, 0, 1, 0, 1, 1, 0, 1, 1, 1, 0, 0,\n",
       "       1, 1, 1, 0, 1, 1, 0, 0, 0, 1, 1, 0, 1, 0, 0, 0, 0, 1, 1, 0, 1, 0,\n",
       "       1, 1, 1, 0, 1, 0, 1, 1, 1, 0, 0, 1, 0, 0, 1, 0, 1, 1, 1, 1, 1, 0,\n",
       "       1, 1, 1, 0, 0, 0, 0, 1, 1, 1, 0, 1, 0, 0, 0, 0, 0, 1, 1, 1, 0, 1,\n",
       "       1, 0, 1, 1, 0, 1, 1, 0, 1, 0, 0, 1, 1, 0, 0, 1, 0, 0, 1, 1, 1, 1,\n",
       "       0, 1, 0, 0, 0, 1, 1, 1, 0, 0, 1, 0, 0, 0, 1, 0, 1, 1, 1, 0, 0, 1,\n",
       "       0, 0, 0, 1, 1, 0, 1, 0, 0, 1, 0, 0, 0, 1, 1, 0, 0, 0, 1, 0, 1, 0,\n",
       "       0, 1, 0, 1, 1, 0, 1, 1, 1, 0, 0, 1, 0, 1, 0, 1, 0, 1, 1, 1, 0, 0,\n",
       "       1, 1, 0, 1, 1, 0, 0, 0, 0, 1, 1, 1, 0, 1, 0, 0, 0, 1, 1, 0, 0, 0,\n",
       "       1, 0, 0, 1, 0, 0, 0, 1, 1, 1, 0, 1, 1, 1, 1, 0, 0, 1, 0, 1, 1, 0,\n",
       "       0, 1, 0, 0, 1, 0, 0, 1, 1, 0, 1, 1, 0, 0, 0, 1, 1, 1, 1, 1, 1, 0,\n",
       "       1, 1, 0, 0, 1, 1, 1, 0, 0, 0, 1, 0, 1, 1, 1, 0, 0, 1, 1, 0, 0, 0,\n",
       "       1, 1, 1, 0, 1, 0, 0, 0, 1, 1, 0, 0, 0, 0, 0, 1, 0, 0, 1, 1, 1, 1,\n",
       "       0, 0, 1, 1, 1, 0, 1, 0, 0, 1, 0, 1, 1, 0, 0, 1, 0, 0, 0, 1, 1, 0,\n",
       "       0, 0, 0, 1, 0, 0, 1, 1, 1, 1, 0, 1, 0, 0, 0, 0, 0, 1, 1, 0, 0, 1,\n",
       "       1, 0, 0, 0, 0, 1, 1, 1, 0, 1, 1, 1, 0, 1, 0, 1, 1, 0, 0, 0, 0, 0,\n",
       "       0, 0, 0, 0, 1, 1, 1, 0, 0, 0, 1, 1, 0, 0, 1, 0, 1, 0, 1, 0, 0, 0,\n",
       "       0, 1, 0, 0, 1, 0, 0, 1, 0, 1, 1, 1, 0, 1, 1, 1, 0, 0, 1, 1, 1, 1,\n",
       "       0, 0, 0, 0, 0, 1, 1, 0, 1, 1, 1, 1, 0, 1, 1, 1, 0, 1, 1, 1, 1, 1,\n",
       "       0, 1, 1, 1, 1, 1, 0, 0, 1, 1, 0, 0, 1, 1, 0, 0, 1, 0, 1, 1, 1, 1,\n",
       "       1, 1, 1, 1, 1, 1, 1, 0, 0, 0, 0, 1, 1, 1, 1, 1, 1, 0, 0, 0, 1, 0,\n",
       "       0, 0, 1, 0, 0, 1, 0, 0, 0, 1, 1, 0, 0, 0, 0, 0, 0, 1, 1, 1, 0, 0,\n",
       "       0, 1, 0, 1, 0, 0, 0, 1, 0, 0, 1, 0, 1, 0, 1, 0, 1, 1, 0, 1, 1, 1,\n",
       "       1, 1, 0, 0, 0, 1, 0, 1, 1, 1, 1, 0, 1, 1, 0, 0, 0, 1, 0, 0, 0, 1,\n",
       "       0, 1, 0, 0, 0, 1, 1, 0, 0, 1, 0, 1, 1, 0, 1, 0, 1, 0, 0, 1, 1, 0,\n",
       "       1, 1, 0, 0, 0, 1, 1, 0, 1, 0, 0, 1, 0, 0, 1, 1, 0, 0, 0, 1, 1, 1,\n",
       "       0, 0, 1, 0, 1, 1, 1, 0, 1, 1, 0, 0, 1, 0, 1, 0, 1, 0, 0, 0, 1, 0,\n",
       "       1, 0, 0, 0, 0, 0, 0, 1, 1, 0, 1, 1, 1, 0, 0, 1, 0, 1, 1, 1, 1, 1,\n",
       "       0, 1, 1, 1, 1, 0, 0, 1, 0, 0, 1, 0, 0, 1, 1, 1, 1, 1, 0, 1, 0, 1,\n",
       "       0, 0, 0, 1, 0, 0, 0, 1, 0, 1, 0, 0, 1, 0, 1, 1, 1, 1, 0, 0, 1, 1,\n",
       "       1, 1, 0, 0, 1, 0, 0, 0, 1, 0, 0, 0, 1, 0, 1, 1, 1, 0, 0, 0, 0, 1,\n",
       "       0, 1, 1, 1, 1, 0, 0, 0, 1, 0, 1, 1, 0, 1, 0, 0, 1, 0, 1, 0, 0, 0,\n",
       "       0, 0, 1, 0, 0, 0, 0, 0, 1, 1, 0, 1, 1, 0, 1, 0, 0, 1, 0, 1, 0, 1,\n",
       "       0, 1, 1, 0, 0, 0, 1, 1, 1, 0, 0, 1, 1, 0, 0, 1, 0, 1, 0, 0, 1, 1,\n",
       "       1, 0, 1, 1, 0, 0, 1, 1, 0, 1, 1, 1, 1, 1, 1, 0, 1, 1, 0, 0, 1, 1,\n",
       "       1, 0, 0, 1, 1, 0, 1, 0, 0, 1, 0, 0, 1, 1, 0, 0, 0, 0, 0, 0, 1, 0,\n",
       "       1, 1, 1, 0, 1, 1, 0, 1, 1, 0, 0, 0, 0, 1, 1, 1, 1, 1, 0, 0, 1, 1,\n",
       "       0, 1, 0, 0, 1, 1, 0, 1, 0, 0, 0, 1, 1, 1, 0, 1, 1, 1, 1, 1, 0, 1,\n",
       "       1, 0, 1, 0, 1, 0, 1, 0, 1, 0, 1, 0, 1, 0, 0, 0, 1, 0, 0, 1, 1, 1,\n",
       "       0, 1, 1, 1, 1, 1, 1, 1, 1, 1, 0, 0, 1, 0, 1, 0, 1, 0, 0, 1, 1, 1,\n",
       "       1, 0, 1, 1, 1, 1, 1, 1, 0, 0])"
      ]
     },
     "execution_count": 45,
     "metadata": {},
     "output_type": "execute_result"
    }
   ],
   "source": [
    "# n = number of trials, p = probability of success for each trial\n",
    "# s = result of tossing the coin 1000 times\n",
    "s = rng.binomial(n=1, p=0.5, size=1000)\n",
    "s"
   ]
  },
  {
   "cell_type": "markdown",
   "id": "c4106941-512c-4278-9cdf-1d4436d85213",
   "metadata": {},
   "source": [
    "Obviously this should create an even amount for each result"
   ]
  },
  {
   "cell_type": "code",
   "execution_count": 46,
   "id": "94f39ac6-c60a-4038-8160-aaffd58d8ff5",
   "metadata": {},
   "outputs": [
    {
     "data": {
      "text/plain": [
       "<BarContainer object of 2 artists>"
      ]
     },
     "execution_count": 46,
     "metadata": {},
     "output_type": "execute_result"
    },
    {
     "data": {
      "image/png": "[encoded data removed]",
      "text/plain": [
       "<Figure size 864x576 with 1 Axes>"
      ]
     },
     "metadata": {},
     "output_type": "display_data"
    }
   ],
   "source": [
    "# creating a bar chart to visualise the results\n",
    "plt.title(\"Results for heads and tails\") \n",
    "plt.bar(['Heads', 'Tails'], [s.size - s.sum(), s.sum()])"
   ]
  },
  {
   "cell_type": "markdown",
   "id": "fadeda22-741e-49c9-b8a8-a281ae593134",
   "metadata": {},
   "source": [
    "We're going to change the probability slightly here by using the example of drawing a heart from a deck of cards. There's a 1 in 4 chance of that happening so we insert 0.25 into the code and run it 1000 times."
   ]
  },
  {
   "cell_type": "code",
   "execution_count": 47,
   "id": "2f6ef50c-bca7-4a5b-bba1-98e0724282ed",
   "metadata": {},
   "outputs": [],
   "source": [
    "# change the probability to 0.25 to simulate choosing a heart from a deck of cards!\n",
    "s = rng.binomial(n=1, p=0.25, size=1000)"
   ]
  },
  {
   "cell_type": "markdown",
   "id": "805c9e50-f570-4788-bf49-d7978515cdc5",
   "metadata": {},
   "source": [
    "We're going to visualise that using seaborn this time. A bit prettier!"
   ]
  },
  {
   "cell_type": "code",
   "execution_count": 48,
   "id": "ce2d8683-dccb-4df1-974e-48ddd2b423f0",
   "metadata": {
    "tags": []
   },
   "outputs": [
    {
     "data": {
      "text/plain": [
       "Text(0.5, 1.0, 'Results for not-hearts and hearts')"
      ]
     },
     "execution_count": 48,
     "metadata": {},
     "output_type": "execute_result"
    },
    {
     "data": {
      "image/png": "[encoded data removed]",
      "text/plain": [
       "<Figure size 864x576 with 1 Axes>"
      ]
     },
     "metadata": {},
     "output_type": "display_data"
    }
   ],
   "source": [
    "unique, counts = np.unique(s, return_counts=True)\n",
    "sns.set_theme()\n",
    "sns.barplot(x=unique, y=counts).set_title(\"Results for not-hearts and hearts\")"
   ]
  },
  {
   "cell_type": "code",
   "execution_count": null,
   "id": "c5d2eba2-ffde-4404-85ed-eb11776003ed",
   "metadata": {},
   "outputs": [],
   "source": []
  },
  {
   "cell_type": "markdown",
   "id": "f31db8a6-9ff3-411f-9415-3a23fc0994c3",
   "metadata": {},
   "source": [
    "Back to the coins! This simulates tossing the coin 10 times and counting the success of either heads or tails, then repeating that 1000 times."
   ]
  },
  {
   "cell_type": "code",
   "execution_count": 49,
   "id": "3baa917a-b2df-4906-ba04-ef15f986b140",
   "metadata": {
    "scrolled": true,
    "tags": []
   },
   "outputs": [
    {
     "data": {
      "text/plain": [
       "array([ 4,  6,  6,  3,  6,  5,  4,  4,  4,  6,  4,  4,  5,  5,  4,  2,  5,\n",
       "        7,  3,  7,  5,  6,  5,  4,  5,  5,  4,  4,  6,  3,  9,  4,  7,  5,\n",
       "        5,  2,  5,  4,  1,  5,  3,  4,  4,  5,  6,  5,  7,  3,  6,  3,  2,\n",
       "        8,  5,  5,  6,  2,  6,  6,  5,  5,  6,  6,  4,  4,  3,  5,  7,  6,\n",
       "        5,  5,  2,  4,  4,  6,  6,  5,  5,  4,  7,  5,  6,  6,  5,  4,  7,\n",
       "        6,  3,  6,  4,  6,  5,  8,  4,  2,  3,  6,  4,  6,  6,  6,  3,  3,\n",
       "       10,  3,  7,  4,  8,  5,  4,  8,  5,  5,  5,  4,  4,  7,  2,  2,  6,\n",
       "        2,  7,  5,  2,  7,  5,  3,  4,  5,  8,  7,  2,  5,  6,  5,  5,  5,\n",
       "        6,  4,  6,  5,  3,  5,  4,  2,  3,  6,  7,  6,  2,  7,  4,  5,  5,\n",
       "        4,  7,  6,  5,  6,  7,  1,  4,  7,  6,  5,  4,  7,  7,  4,  5,  4,\n",
       "        4,  6,  4,  7,  7,  6,  6,  5,  6,  3,  4,  4,  6,  7,  6,  7,  5,\n",
       "        8,  5,  4,  7,  6,  5,  7,  5,  5,  7,  7,  3,  6,  4,  6,  6,  3,\n",
       "        5,  4,  6,  7,  5,  7,  6,  3,  2,  4,  6,  6,  5,  5,  4,  4,  3,\n",
       "        8,  5,  3,  5,  5,  5,  3,  5,  4,  6,  3,  7,  3,  5,  6,  3,  7,\n",
       "        3,  7,  4,  5,  5,  5,  7,  6,  6,  6,  5,  4,  5,  6,  4,  7,  4,\n",
       "        5,  4,  7,  7,  7,  3,  4,  3,  6,  4,  5,  4,  4,  3,  3,  6,  6,\n",
       "        4,  8,  5,  6,  7,  5,  2,  4,  6,  7,  4,  4,  4,  7,  5,  5,  5,\n",
       "        8,  5,  3,  2,  7,  4,  4,  8,  3,  3,  5,  5,  8,  7,  5,  2,  8,\n",
       "        3,  6,  4,  6,  9,  9,  4,  5,  5,  9,  5,  9,  4,  5,  5,  4,  7,\n",
       "        4,  6,  9,  3,  6,  4,  4,  4,  5,  8,  5,  6,  5,  7,  4,  5,  2,\n",
       "        6,  6,  6,  6,  7,  5,  5,  3,  6,  3,  6,  5,  8,  3,  5,  3,  4,\n",
       "        4,  4,  2,  6,  4,  5,  7,  6,  4,  6,  4,  6,  3,  5,  2,  3,  4,\n",
       "        6,  8,  7,  5,  6,  5,  6,  3,  8,  4,  4,  6,  6,  5,  6,  5,  6,\n",
       "        6,  2,  7,  5,  4,  4,  8,  6,  6,  5,  4,  5,  6,  2,  5,  5,  4,\n",
       "        6,  4,  2,  6,  5,  7,  4,  4,  5,  6,  3,  3,  8,  3,  1,  1,  4,\n",
       "        5,  5,  5,  5,  6,  6,  5,  6,  4,  7,  3,  4,  3,  7,  6,  6,  4,\n",
       "        7,  5,  3,  3,  5,  5,  5,  8,  4,  8,  3,  6,  7,  6,  6,  4,  6,\n",
       "        6,  3,  6,  6,  6,  6,  6,  4,  4,  2,  7,  3,  5,  6,  1,  4,  6,\n",
       "        7,  5,  4,  6,  6,  5,  6,  7,  7,  5,  3,  5,  5,  8,  4,  3,  5,\n",
       "        8,  5,  7,  6,  4,  5,  4,  3,  5,  6,  5,  4,  5,  3,  5,  5,  1,\n",
       "        5,  8,  3,  4,  6,  3,  5,  5,  7,  5,  6,  7,  4,  8,  3,  9,  7,\n",
       "        4,  6,  5,  4,  7,  5,  3,  7,  4,  5,  6,  7,  6,  3,  4,  2,  6,\n",
       "        6,  5,  4,  5,  6,  5,  2,  6,  5,  6,  4,  4,  5,  6,  2,  7,  3,\n",
       "        3,  8,  8,  5,  9,  9,  6,  8,  6,  7,  6,  6,  4,  5,  7,  4,  5,\n",
       "        5,  7,  6,  6,  2,  6,  2,  3,  3,  3,  6,  7,  6,  8,  3,  5,  5,\n",
       "        5,  8,  2,  5,  2,  5,  7,  5,  5,  6,  6,  5,  4,  5,  7,  5,  4,\n",
       "        6,  3,  7,  5,  4,  6,  5,  6,  4,  6,  6,  4,  5,  4,  3,  6,  6,\n",
       "        7,  4,  2,  6,  7,  5,  7,  6,  5,  6,  6,  6,  4,  8,  6,  6,  6,\n",
       "        4,  7,  2,  4,  8,  5,  5,  5,  5,  6,  9,  7,  6,  2,  6,  6,  3,\n",
       "        4,  6,  5,  3,  5,  5,  4,  8,  5,  5,  5,  6,  8,  6,  4,  3,  5,\n",
       "        6,  4,  6,  5,  5,  8,  7,  4,  4,  3,  3,  6,  4,  7,  5,  5,  5,\n",
       "        6,  6,  5,  3,  5,  4,  7,  8,  3,  3,  6,  6,  8,  4,  5,  5,  7,\n",
       "        5,  6,  4,  7,  4,  7,  3,  4,  3,  4,  3,  6,  5,  4,  6,  5,  6,\n",
       "        5,  4,  7,  5,  7,  3,  4,  6,  5,  5,  3,  1,  3,  6,  8,  3,  4,\n",
       "        6,  8,  6,  8,  5,  7,  4,  4,  2,  6,  1,  7,  7,  4,  5,  5,  7,\n",
       "        5,  7,  5,  5,  5,  3,  4,  4,  5,  6,  4,  4,  4,  6,  6,  3,  6,\n",
       "        3,  7,  9,  5,  5,  8,  5,  5,  5,  8,  5,  4,  8,  7,  6,  4,  6,\n",
       "        3,  7,  6,  6,  5,  4,  5,  8,  6,  5,  7,  5,  4,  5,  6,  4,  4,\n",
       "        7,  5,  6,  5,  4,  2,  5,  6,  3,  4,  5,  6,  6,  4,  5,  3,  7,\n",
       "        6,  5,  7,  5,  7,  5,  6,  4,  8,  8,  4,  5,  6,  3,  3,  4,  8,\n",
       "        6,  2,  6,  6,  5,  4,  9,  5,  7,  5,  5,  5,  4,  5,  3,  6,  5,\n",
       "        3,  3,  4,  6,  7,  7,  9,  6,  4,  5,  5,  6,  6,  5,  9,  4,  3,\n",
       "        6,  4,  6,  5,  5,  6,  5,  6,  5,  5,  5,  5,  5,  6,  4,  5,  7,\n",
       "        1,  4,  5,  5,  5,  7,  4,  3,  6,  4,  8,  7,  4,  6,  3,  6,  4,\n",
       "        5,  6,  6,  4,  6,  3,  4,  5,  7,  7,  4,  5,  6,  7,  6,  3,  8,\n",
       "        9,  5,  6,  4,  4,  5,  4,  5,  3,  7,  2,  7,  7,  4,  6,  5,  3,\n",
       "        5,  6,  9,  4,  6,  5,  5,  6,  6,  5,  6,  4,  6,  7,  4,  7,  6,\n",
       "        2,  7,  8,  5,  4,  5,  2,  6,  2,  7,  3,  4,  6,  4,  1,  5,  7,\n",
       "        5,  7,  5,  5,  5,  3,  7,  4,  4,  2,  7,  7,  6,  7])"
      ]
     },
     "execution_count": 49,
     "metadata": {},
     "output_type": "execute_result"
    }
   ],
   "source": [
    "u = rng.binomial(n=10, p=0.5, size=1000)\n",
    "u"
   ]
  },
  {
   "cell_type": "markdown",
   "id": "64167967-3b01-4c34-a915-b0cef88e93e7",
   "metadata": {},
   "source": [
    "We plot this using a bar chart, but first we have to isolate the unique values using NumPy's **unique** function, and the counts for each."
   ]
  },
  {
   "cell_type": "code",
   "execution_count": 50,
   "id": "13ef9d24-9d41-455b-84ad-a849e5c1e929",
   "metadata": {},
   "outputs": [
    {
     "data": {
      "text/plain": [
       "array([ 1,  2,  3,  4,  5,  6,  7,  8,  9, 10])"
      ]
     },
     "execution_count": 50,
     "metadata": {},
     "output_type": "execute_result"
    }
   ],
   "source": [
    "unique, counts = np.unique(u, return_counts=True)\n",
    "unique"
   ]
  },
  {
   "cell_type": "code",
   "execution_count": 51,
   "id": "a6112be1-d369-40f1-9067-e8398a03572d",
   "metadata": {},
   "outputs": [
    {
     "data": {
      "text/plain": [
       "Text(0.5, 1.0, 'Results for 10 coin tosses, 1000 times')"
      ]
     },
     "execution_count": 51,
     "metadata": {},
     "output_type": "execute_result"
    },
    {
     "data": {
      "image/png": "[encoded data removed]",
      "text/plain": [
       "<Figure size 864x576 with 1 Axes>"
      ]
     },
     "metadata": {},
     "output_type": "display_data"
    }
   ],
   "source": [
    "# creating a barplot\n",
    "sns.set_style(\"darkgrid\")\n",
    "sns.barplot(x=unique,y=counts).set_title(\"Results for 10 coin tosses, 1000 times\") "
   ]
  },
  {
   "cell_type": "markdown",
   "id": "b1c70311-824d-4d65-92f9-825190f468fb",
   "metadata": {},
   "source": [
    "Interestingly it looks very like a normal distribution!\n",
    "\n",
    "___\n",
    "<br>"
   ]
  },
  {
   "cell_type": "markdown",
   "id": "0e1c0feb-c2e0-4313-962d-e8f179ab6a14",
   "metadata": {},
   "source": [
    "<br>\n",
    "\n",
    "![Piano](Images/piano4.jpg)"
   ]
  },
  {
   "cell_type": "markdown",
   "id": "cfc10383-cce8-4e84-97fc-67526791a7fa",
   "metadata": {},
   "source": [
    "A contrived real world example from my other life! A blind man walks into a room with a piano and randomly plays a note - what are the chances of him **not** playing a C? There are 11 Cs out of 88 notes so that is a probability of 1/8 or 0.125. What is the probability of him missing the C if he repeats it 5 times?  \n",
    "We do 10000 trials of the model, and count the number that generate zero positive results."
   ]
  },
  {
   "cell_type": "code",
   "execution_count": 52,
   "id": "871fd73d-6ad0-42bf-90c8-b9f25f86fdaa",
   "metadata": {},
   "outputs": [
    {
     "data": {
      "text/plain": [
       "0.5143"
      ]
     },
     "execution_count": 52,
     "metadata": {},
     "output_type": "execute_result"
    }
   ],
   "source": [
    "# 5 trials, .125 probability, repeated 10000 times\n",
    "sum(rng.binomial(5, 0.125, 10000) == 0)/10000."
   ]
  },
  {
   "cell_type": "code",
   "execution_count": 53,
   "id": "38e41200-e3a5-4c91-8bc4-f71671db08a8",
   "metadata": {},
   "outputs": [
    {
     "data": {
      "image/png": "[encoded data removed]",
      "text/plain": [
       "<Figure size 864x576 with 1 Axes>"
      ]
     },
     "metadata": {},
     "output_type": "display_data"
    }
   ],
   "source": [
    "# to visualise that\n",
    "a = rng.binomial(5, 0.125, 10000)\n",
    "unique, counts = np.unique(a, return_counts=True)\n",
    "sns.set_style(\"darkgrid\")\n",
    "sns.barplot(x=unique, y=counts).set_title(\"Results for blind man missing the note C\");"
   ]
  },
  {
   "cell_type": "markdown",
   "id": "1cc6ec4f-336b-4da7-9874-4a78062e3473",
   "metadata": {},
   "source": [
    "___\n",
    "\n",
    "<br>\n",
    "\n",
    "### Poisson Distribution <a name=\"Poisson_Distribution\"></a>\n",
    "[Poisson Distribution official documentation](https://numpy.org/doc/stable/reference/random/generated/numpy.random.Generator.poisson.html#numpy.random.Generator.poisson)"
   ]
  },
  {
   "cell_type": "markdown",
   "id": "9d518a69-c5d6-49d2-a7dd-f173feb646bf",
   "metadata": {},
   "source": [
    "Poisson Distribution can be used to simulate number of 'events' occuring in specific intervals when the average freqency rate is known and is not dependent on the previous occurances. The following is a good example from wikipedia:  \n",
    ">\"... a call center receives an average of 180 calls per hour, 24 hours a day. The calls are independent; receiving one does not change the probability of when the next one will arrive. The number of calls received during any minute has a Poisson probability distribution: the most likely numbers are 2 and 3 but 1 and 4 are also likely and there is a small probability of it being as low as zero and a very small probability it could be 10.  \n",
    "https://en.wikipedia.org/wiki/Poisson_distribution"
   ]
  },
  {
   "cell_type": "markdown",
   "id": "abffad72-208f-4f78-91fd-cc83d5b5ac6f",
   "metadata": {},
   "source": [
    "The basic syntax is demonstrated below where the first parameter is the average number of events and the second the amount of values returned. "
   ]
  },
  {
   "cell_type": "code",
   "execution_count": 54,
   "id": "52490c78-1e68-4bb6-a0a3-80d396029c80",
   "metadata": {
    "tags": []
   },
   "outputs": [
    {
     "data": {
      "text/plain": [
       "array([7, 3, 3, 5, 3, 2, 3, 7, 5, 5])"
      ]
     },
     "execution_count": 54,
     "metadata": {},
     "output_type": "execute_result"
    }
   ],
   "source": [
    "# 5 is average number of events, 10 is the amount returned\n",
    "rng.poisson(5,10)"
   ]
  },
  {
   "cell_type": "markdown",
   "id": "1c6c2e70-6481-4ff2-bcdc-9745f6b1e9fc",
   "metadata": {},
   "source": [
    "I'm going to try and simulate people going to the pub between 6pm and 11.30 today! Obviously there are many other factors which may influence this but this will show the code!"
   ]
  },
  {
   "cell_type": "code",
   "execution_count": 55,
   "id": "73611cd7-941a-4b60-8eda-96263f02b215",
   "metadata": {},
   "outputs": [
    {
     "data": {
      "text/plain": [
       "DatetimeIndex(['2021-11-20 18:00:00', '2021-11-20 18:15:00',\n",
       "               '2021-11-20 18:30:00', '2021-11-20 18:45:00',\n",
       "               '2021-11-20 19:00:00', '2021-11-20 19:15:00',\n",
       "               '2021-11-20 19:30:00', '2021-11-20 19:45:00',\n",
       "               '2021-11-20 20:00:00', '2021-11-20 20:15:00',\n",
       "               '2021-11-20 20:30:00', '2021-11-20 20:45:00',\n",
       "               '2021-11-20 21:00:00', '2021-11-20 21:15:00',\n",
       "               '2021-11-20 21:30:00', '2021-11-20 21:45:00',\n",
       "               '2021-11-20 22:00:00', '2021-11-20 22:15:00',\n",
       "               '2021-11-20 22:30:00', '2021-11-20 22:45:00',\n",
       "               '2021-11-20 23:00:00', '2021-11-20 23:15:00',\n",
       "               '2021-11-20 23:30:00'],\n",
       "              dtype='datetime64[ns]', freq='15T')"
      ]
     },
     "execution_count": 55,
     "metadata": {},
     "output_type": "execute_result"
    }
   ],
   "source": [
    "# creates the range and time interval\n",
    "range = pd.date_range(\"18:00\", \"23:30\", freq=\"15min\")\n",
    "range"
   ]
  },
  {
   "cell_type": "code",
   "execution_count": 56,
   "id": "e65abd82-830e-4147-baa6-a68f77ee94fc",
   "metadata": {
    "scrolled": true,
    "tags": []
   },
   "outputs": [
    {
     "data": {
      "text/html": [
       "<div>\n",
       "<style scoped>\n",
       "    .dataframe tbody tr th:only-of-type {\n",
       "        vertical-align: middle;\n",
       "    }\n",
       "\n",
       "    .dataframe tbody tr th {\n",
       "        vertical-align: top;\n",
       "    }\n",
       "\n",
       "    .dataframe thead th {\n",
       "        text-align: right;\n",
       "    }\n",
       "</style>\n",
       "<table border=\"1\" class=\"dataframe\">\n",
       "  <thead>\n",
       "    <tr style=\"text-align: right;\">\n",
       "      <th></th>\n",
       "      <th>New Punters</th>\n",
       "    </tr>\n",
       "  </thead>\n",
       "  <tbody>\n",
       "    <tr>\n",
       "      <th>2021-11-20 18:00:00</th>\n",
       "      <td>27</td>\n",
       "    </tr>\n",
       "    <tr>\n",
       "      <th>2021-11-20 18:15:00</th>\n",
       "      <td>22</td>\n",
       "    </tr>\n",
       "    <tr>\n",
       "      <th>2021-11-20 18:30:00</th>\n",
       "      <td>23</td>\n",
       "    </tr>\n",
       "    <tr>\n",
       "      <th>2021-11-20 18:45:00</th>\n",
       "      <td>17</td>\n",
       "    </tr>\n",
       "    <tr>\n",
       "      <th>2021-11-20 19:00:00</th>\n",
       "      <td>17</td>\n",
       "    </tr>\n",
       "    <tr>\n",
       "      <th>2021-11-20 19:15:00</th>\n",
       "      <td>22</td>\n",
       "    </tr>\n",
       "    <tr>\n",
       "      <th>2021-11-20 19:30:00</th>\n",
       "      <td>19</td>\n",
       "    </tr>\n",
       "    <tr>\n",
       "      <th>2021-11-20 19:45:00</th>\n",
       "      <td>23</td>\n",
       "    </tr>\n",
       "    <tr>\n",
       "      <th>2021-11-20 20:00:00</th>\n",
       "      <td>21</td>\n",
       "    </tr>\n",
       "    <tr>\n",
       "      <th>2021-11-20 20:15:00</th>\n",
       "      <td>22</td>\n",
       "    </tr>\n",
       "    <tr>\n",
       "      <th>2021-11-20 20:30:00</th>\n",
       "      <td>19</td>\n",
       "    </tr>\n",
       "    <tr>\n",
       "      <th>2021-11-20 20:45:00</th>\n",
       "      <td>17</td>\n",
       "    </tr>\n",
       "    <tr>\n",
       "      <th>2021-11-20 21:00:00</th>\n",
       "      <td>19</td>\n",
       "    </tr>\n",
       "    <tr>\n",
       "      <th>2021-11-20 21:15:00</th>\n",
       "      <td>16</td>\n",
       "    </tr>\n",
       "    <tr>\n",
       "      <th>2021-11-20 21:30:00</th>\n",
       "      <td>24</td>\n",
       "    </tr>\n",
       "    <tr>\n",
       "      <th>2021-11-20 21:45:00</th>\n",
       "      <td>16</td>\n",
       "    </tr>\n",
       "    <tr>\n",
       "      <th>2021-11-20 22:00:00</th>\n",
       "      <td>18</td>\n",
       "    </tr>\n",
       "    <tr>\n",
       "      <th>2021-11-20 22:15:00</th>\n",
       "      <td>24</td>\n",
       "    </tr>\n",
       "    <tr>\n",
       "      <th>2021-11-20 22:30:00</th>\n",
       "      <td>16</td>\n",
       "    </tr>\n",
       "    <tr>\n",
       "      <th>2021-11-20 22:45:00</th>\n",
       "      <td>30</td>\n",
       "    </tr>\n",
       "    <tr>\n",
       "      <th>2021-11-20 23:00:00</th>\n",
       "      <td>24</td>\n",
       "    </tr>\n",
       "    <tr>\n",
       "      <th>2021-11-20 23:15:00</th>\n",
       "      <td>18</td>\n",
       "    </tr>\n",
       "    <tr>\n",
       "      <th>2021-11-20 23:30:00</th>\n",
       "      <td>18</td>\n",
       "    </tr>\n",
       "  </tbody>\n",
       "</table>\n",
       "</div>"
      ],
      "text/plain": [
       "                     New Punters\n",
       "2021-11-20 18:00:00           27\n",
       "2021-11-20 18:15:00           22\n",
       "2021-11-20 18:30:00           23\n",
       "2021-11-20 18:45:00           17\n",
       "2021-11-20 19:00:00           17\n",
       "2021-11-20 19:15:00           22\n",
       "2021-11-20 19:30:00           19\n",
       "2021-11-20 19:45:00           23\n",
       "2021-11-20 20:00:00           21\n",
       "2021-11-20 20:15:00           22\n",
       "2021-11-20 20:30:00           19\n",
       "2021-11-20 20:45:00           17\n",
       "2021-11-20 21:00:00           19\n",
       "2021-11-20 21:15:00           16\n",
       "2021-11-20 21:30:00           24\n",
       "2021-11-20 21:45:00           16\n",
       "2021-11-20 22:00:00           18\n",
       "2021-11-20 22:15:00           24\n",
       "2021-11-20 22:30:00           16\n",
       "2021-11-20 22:45:00           30\n",
       "2021-11-20 23:00:00           24\n",
       "2021-11-20 23:15:00           18\n",
       "2021-11-20 23:30:00           18"
      ]
     },
     "execution_count": 56,
     "metadata": {},
     "output_type": "execute_result"
    }
   ],
   "source": [
    "# new dataframe with random poisson distributed data to simulate pub punters\n",
    "# 20 is the average number of admissions per 30min interval\n",
    "punters = rng.poisson(20, len(range))\n",
    "\n",
    "# index is timeseries created above\n",
    "punterSchedule = pd.DataFrame(punters, index=range, columns=['New Punters'])\n",
    "punterSchedule"
   ]
  },
  {
   "cell_type": "markdown",
   "id": "edda3d89-98c8-4c70-a45d-fe0f4a1e014b",
   "metadata": {},
   "source": [
    "The lineplot below uses seaborn to visualise this"
   ]
  },
  {
   "cell_type": "code",
   "execution_count": 57,
   "id": "7ae59c9b-7447-4a09-8e2a-ca372ffa86fc",
   "metadata": {},
   "outputs": [
    {
     "data": {
      "text/plain": [
       "[Text(0.5, 0, 'Date (MM/DD) - Hour'),\n",
       " Text(0, 0.5, 'Number of punters'),\n",
       " Text(0.5, 1.0, 'Poisson Distribution of people entering the pub this evening')]"
      ]
     },
     "execution_count": 57,
     "metadata": {},
     "output_type": "execute_result"
    },
    {
     "data": {
      "image/png": "[encoded data removed]",
      "text/plain": [
       "<Figure size 864x576 with 1 Axes>"
      ]
     },
     "metadata": {},
     "output_type": "display_data"
    }
   ],
   "source": [
    "# dark grid style\n",
    "sns.set(style=\"darkgrid\")\n",
    "\n",
    "# rotates the x tick labels\n",
    "plt.xticks(rotation=45)\n",
    "# creates a seaborn lineplot\n",
    "barSim = sns.lineplot(x=range, y='New Punters', data = punterSchedule)\n",
    "barSim.set(xlabel='Date (MM/DD) - Hour', ylabel='Number of punters', \n",
    "           title='Poisson Distribution of people entering the pub this evening')"
   ]
  },
  {
   "cell_type": "markdown",
   "id": "6d0d8f66-db9a-4060-a545-0ae356dd7405",
   "metadata": {
    "tags": []
   },
   "source": [
    "<br>\n",
    "\n",
    "### Exponential Distribution <a name=\"Exponential_Distribution\"></a>\n",
    "[Exponential Distribution official documentation](https://numpy.org/doc/stable/reference/random/generated/numpy.random.Generator.exponential.html#numpy.random.Generator.exponential)"
   ]
  },
  {
   "cell_type": "markdown",
   "id": "e3732401-d218-48ab-be3d-baf5badfaece",
   "metadata": {},
   "source": [
    "![Exponential_distribution](Images/exponential-distribution-function-example_dt13le.png)"
   ]
  },
  {
   "cell_type": "markdown",
   "id": "35ab0339-cc44-4001-9547-71147f6205c9",
   "metadata": {},
   "source": [
    "Exponential distribution is a continuous distribution that is commonly used to measure the expected time for an event to occur, or time until the next event. For example, the amount of time, beginning now, until a volcano errupts. They are commonly used in calculations of product reliability, or the length of time a product lasts.  \n",
    "It is closely linked with Poisson distribution in that it can describe\n",
    ">*\"the time between events in a Poisson point process, i.e., a process in which events occur continuously and independently at a constant average rate.\"* https://www.datacamp.com/community/tutorials/probability-distributions-python\n",
    "\n",
    "There are 2 optional parameters:  \n",
    "1) scale\n",
    "2) size"
   ]
  },
  {
   "cell_type": "markdown",
   "id": "571fe682-3fd8-4ff7-b401-0ff91cd78ef1",
   "metadata": {},
   "source": [
    "If no parameter is passed we get a single value from an exponential distribution. The default value for scale is 0."
   ]
  },
  {
   "cell_type": "code",
   "execution_count": 58,
   "id": "93689c20-5fe4-43a8-8b36-65bb25fb27a2",
   "metadata": {},
   "outputs": [
    {
     "data": {
      "text/plain": [
       "0.9621161583497617"
      ]
     },
     "execution_count": 58,
     "metadata": {},
     "output_type": "execute_result"
    }
   ],
   "source": [
    "rng.exponential()"
   ]
  },
  {
   "cell_type": "code",
   "execution_count": 59,
   "id": "c1b1f54c-4583-4365-8282-73a1b500a5db",
   "metadata": {},
   "outputs": [
    {
     "data": {
      "text/plain": [
       "array([8.18351235, 1.07308673, 0.04794703, ..., 4.66761972, 2.91396111,\n",
       "       1.43727555])"
      ]
     },
     "execution_count": 59,
     "metadata": {},
     "output_type": "execute_result"
    }
   ],
   "source": [
    "# scale of 3 (time period) and size 10000 (amount of trials)\n",
    "x = rng.exponential(3, 10000)\n",
    "x"
   ]
  },
  {
   "cell_type": "code",
   "execution_count": 60,
   "id": "fec8ff76-699b-48cb-befc-d4335ef54b81",
   "metadata": {},
   "outputs": [
    {
     "data": {
      "text/plain": [
       "Text(0.5, 1.0, 'Exponential Distribution')"
      ]
     },
     "execution_count": 60,
     "metadata": {},
     "output_type": "execute_result"
    },
    {
     "data": {
      "image/png": "[encoded data removed]",
      "text/plain": [
       "<Figure size 864x576 with 1 Axes>"
      ]
     },
     "metadata": {},
     "output_type": "display_data"
    }
   ],
   "source": [
    "# histogram to visualise this\n",
    "plt.hist(x, 40, density = True)\n",
    "plt.title(\"Exponential Distribution\") "
   ]
  },
  {
   "cell_type": "code",
   "execution_count": 61,
   "id": "c4bbe7e0-481a-4e6e-ac89-4cc0e755f5c8",
   "metadata": {},
   "outputs": [
    {
     "data": {
      "image/png": "[encoded data removed]",
      "text/plain": [
       "<Figure size 864x576 with 1 Axes>"
      ]
     },
     "metadata": {},
     "output_type": "display_data"
    }
   ],
   "source": [
    "# scale of 2, and running the experiment 10000 times twice!\n",
    "y = rng.exponential(2, [10000, 2])\n",
    "\n",
    "# each trial is represented by a different colour\n",
    "plt.title(\"Exponential Distribution x 2\") \n",
    "plt.hist(y, bins=40, alpha=0.8, rwidth=1);"
   ]
  },
  {
   "cell_type": "markdown",
   "id": "9ca85cc7-cc04-42e0-8bdb-ea8212a462f6",
   "metadata": {
    "tags": []
   },
   "source": [
    "<br>\n",
    "\n",
    "## The use of seeds in generating pseudorandom numbers <a name=\"Seeds\"></a>\n",
    "\n",
    "[Random generator official documentation](https://numpy.org/doc/stable/reference/random/generator.html)"
   ]
  },
  {
   "cell_type": "markdown",
   "id": "db7d1bd0-eac8-4041-86b8-2923578405b7",
   "metadata": {
    "tags": []
   },
   "source": [
    ">\"Pseudorandomness is a sample of numbers that look close to random, but were generated using a deterministic process.\"\n",
    "https://machinelearningmastery.com/how-to-generate-random-numbers-in-python/"
   ]
  },
  {
   "cell_type": "markdown",
   "id": "d0343915-d32f-4b38-91f1-6a1bbd7ff4f6",
   "metadata": {},
   "source": [
    "![Seeds](Images/seeds4.jpg)"
   ]
  },
  {
   "cell_type": "markdown",
   "id": "d3324d4f-5a0b-41df-877e-24010299940b",
   "metadata": {},
   "source": [
    "<br>\n",
    "\n",
    "As mentioned above, numbers returned using the numpy.random module are not truly random at all. In fact computers dont't really do random that well at all! They are what is known as pseudo-random numbers - basically numbers that appear to be random but actually aren't. They are predetermined using algorithims, one of the benefits of which is that they are repeatable and reproducible which aids in all sorts of investigative coding and testing. \n",
    "The seed is what numpy uses to generate the 'random' numbers - if we pass the seed to the NumPy pseudo-random number generator, every time we run the code we get the same result. If we let numpy generate its own seed, by pulling *\"unpredictable entropy ... from the OS\"* we will get different results each time we run the code. The seed as a value is never returned, but rather used as a starting point to generate new numbers or sequences of numbers.\n",
    "The code below demonstrates both situations.  \n",
    "First a look at the basic syntax. Again this is an updated method - the legacy method **numpy.random.seed** still functions but is not recommended."
   ]
  },
  {
   "cell_type": "code",
   "execution_count": 62,
   "id": "bd879e66-3eda-4e14-b45d-373eef98de19",
   "metadata": {},
   "outputs": [
    {
     "name": "stdout",
     "output_type": "stream",
     "text": [
      "27\n",
      "24\n"
     ]
    }
   ],
   "source": [
    "# we put the seed in the random generator\n",
    "rng2 = np.random.default_rng(12345)\n",
    "\n",
    "# returns an integer from 0 to 39 which will be the same every time the code is run\n",
    "print(rng2.integers(40))\n",
    "\n",
    "# returns an integer from 0 to 39 which will be different every time the code is run\n",
    "print(rng.integers(40))"
   ]
  },
  {
   "cell_type": "code",
   "execution_count": 63,
   "id": "ff61dcc8-4891-4d4c-b7b5-4bc724e23132",
   "metadata": {},
   "outputs": [
    {
     "name": "stdout",
     "output_type": "stream",
     "text": [
      "[6 2 7 3 2]\n",
      "[7 6 6 9 3]\n",
      "[8 3 5 5 2]\n"
     ]
    }
   ],
   "source": [
    "# Every time we run this code we will get the same array\n",
    "rng2 = np.random.default_rng(12345)\n",
    "print(rng2.integers(10, size = 5))\n",
    "print(rng2.integers(10, size = 5))\n",
    "print(rng2.integers(10, size = 5))"
   ]
  },
  {
   "cell_type": "code",
   "execution_count": 64,
   "id": "223db0ee-1c45-4e99-9e07-189d192b9ebd",
   "metadata": {},
   "outputs": [
    {
     "name": "stdout",
     "output_type": "stream",
     "text": [
      "[1 2 6 6 9]\n",
      "[7 2 9 9 7]\n",
      "[6 1 0 2 4]\n"
     ]
    }
   ],
   "source": [
    "# Every time we run this code we will get a different array\n",
    "print(rng2.integers(10, size = 5))\n",
    "print(rng2.integers(10, size = 5))\n",
    "print(rng2.integers(10, size = 5))"
   ]
  },
  {
   "cell_type": "markdown",
   "id": "d7e24f34-62ed-4dbf-ba7a-72e0ba4be8e3",
   "metadata": {},
   "source": [
    "The actual number passed to the seed function doesn't really matter, but we need to be aware that changing the number will change the output. The following code demonstrates this:"
   ]
  },
  {
   "cell_type": "code",
   "execution_count": 65,
   "id": "b51d2487-16e3-48b1-9a17-e168301b455e",
   "metadata": {},
   "outputs": [
    {
     "name": "stdout",
     "output_type": "stream",
     "text": [
      "0.6369616873214543\n",
      "0.5118216247002567\n",
      "0.1903533990130628\n"
     ]
    }
   ],
   "source": [
    "# The first 2 of these will always produce will always produce the same float but different from each other\n",
    "rng2 = np.random.default_rng(0)\n",
    "print(rng2.random())\n",
    "\n",
    "rng2 = np.random.default_rng(1)\n",
    "print(rng2.random())\n",
    "\n",
    "# This will always produce a different number\n",
    "rng2 = np.random.default_rng()\n",
    "print(rng2.random())"
   ]
  },
  {
   "cell_type": "markdown",
   "id": "eae8390a-d72d-4284-809a-b1e90a5d483f",
   "metadata": {},
   "source": [
    "The seed function can be used in conjunction with all of the other functions and wrappers already mentioned above, and is essential if your results need to be reproducible and shareable.\n",
    "\n",
    "___\n"
   ]
  },
  {
   "cell_type": "markdown",
   "id": "0448350a-1696-42db-a98c-2a6a2f3654b2",
   "metadata": {},
   "source": [
    "### Guessing game 2.0"
   ]
  },
  {
   "cell_type": "markdown",
   "id": "5748f21d-d379-4c67-be2e-94e7526fbc10",
   "metadata": {},
   "source": [
    "An upgrade to the guessing game! This time the answer will remain the same whereas in the previous example there'd be a a different answer each time! (**clue: try 7!**)"
   ]
  },
  {
   "cell_type": "code",
   "execution_count": 66,
   "id": "7cd5efb5-20c9-4ca7-bd69-955444a8b884",
   "metadata": {},
   "outputs": [
    {
     "name": "stdin",
     "output_type": "stream",
     "text": [
      "Pick a number between 1 and 10:  2\n"
     ]
    },
    {
     "name": "stdout",
     "output_type": "stream",
     "text": [
      "Unlucky - you guessed wrong!\n"
     ]
    }
   ],
   "source": [
    "# Generate a random integer between 1 and 10\n",
    "rng3 = np.random.default_rng(5)\n",
    "randomNumber = rng3.integers(1,10)\n",
    "# Ask the player to pick a number\n",
    "yourChoice = int(input(\"Pick a number between 1 and 10: \"))\n",
    "# Compare the numbers\n",
    "if randomNumber == yourChoice:\n",
    "    # If correct\n",
    "    print(\"Well done - you guessed right!\")\n",
    "else:\n",
    "    # otherwise\n",
    "    print(\"Unlucky - you guessed wrong!\")"
   ]
  },
  {
   "cell_type": "markdown",
   "id": "f3c5c398-f26f-48e1-be17-35d138755cb6",
   "metadata": {},
   "source": [
    "___\n",
    "***\n",
    "\n",
    "## References <a name=\"References\"></a>\n",
    "___"
   ]
  },
  {
   "cell_type": "markdown",
   "id": "62fb86ea-9962-4687-8856-96e9351cf9b6",
   "metadata": {},
   "source": [
    "#### General\n",
    "\n",
    "[NumPy - Wikipedia](https://en.wikipedia.org/wiki/NumPy)\n",
    "\n",
    "[Python NumPy Random, by Bijay Kumar](https://pythonguides.com/python-numpy-random/)\n",
    "\n",
    "[Random Numbers in NumPy - www.w3schools.com](https://www.w3schools.com/python/numpy/numpy_random.asp)\n",
    "\n",
    "[How to Generate Random Numbers in Python, by Jason Brownlee](https://machinelearningmastery.com/how-to-generate-random-numbers-in-python/)\n",
    "\n",
    "[Markdown guide - Basic syntax](https://www.markdownguide.org/basic-syntax/)\n",
    "\n",
    "#### Official NumPy documentation pages\n",
    "\n",
    "[What is NumPy?](https://numpy.org/doc/stable/user/whatisnumpy.html)\n",
    "\n",
    "[numpy.random](https://numpy.org/doc/stable/reference/random/index.html?highlight=random%20sampling%20numpy%20random#module-numpy.random)\n",
    "\n",
    "[Random Generator](https://numpy.org/doc/stable/reference/random/generator.html)\n",
    "\n",
    "[Choice](https://numpy.org/doc/stable/reference/random/generated/numpy.random.Generator.choice.html#numpy.random.Generator.choice)\n",
    "\n",
    "[Permutation](https://numpy.org/doc/stable/reference/random/generated/numpy.random.Generator.permutation.html#numpy.random.Generator.permutation)\n",
    "\n",
    "[Shuffle](https://numpy.org/doc/stable/reference/random/generated/numpy.random.Generator.shuffle.html#numpy.random.Generator.shuffle)\n",
    "\n",
    "[Uniform Distribution](https://numpy.org/doc/stable/reference/random/generated/numpy.random.Generator.uniform.html#numpy.random.Generator.uniform)\n",
    "\n",
    "[Normal Distribution](https://numpy.org/doc/stable/reference/random/generated/numpy.random.Generator.normal.html#numpy.random.Generator.normal)\n",
    "\n",
    "[Binomial Distribution](https://numpy.org/doc/stable/reference/random/generated/numpy.random.Generator.binomial.html#numpy.random.Generator.binomial)\n",
    "\n",
    "[Poisson Distribution](https://numpy.org/doc/stable/reference/random/generated/numpy.random.Generator.poisson.html#numpy.random.Generator.poisson)\n",
    "\n",
    "[Exponential Distribution](https://numpy.org/doc/stable/reference/random/generated/numpy.random.Generator.exponential.html#numpy.random.Generator.exponential)\n",
    "\n",
    "#### Plotting\n",
    "[seaborn barplots](https://seaborn.pydata.org/generated/seaborn.barplot.html)\n",
    "\n",
    "[Controlling figure aesthetics - Seaborn](https://seaborn.pydata.org/tutorial/aesthetics.html)\n",
    "\n",
    "[rotate tick labels in seaborn](https://www.geeksforgeeks.org/rotate-axis-tick-labels-in-seaborn-and-matplotlib/)"
   ]
  },
  {
   "cell_type": "markdown",
   "id": "4391bc34-d2bf-4ae5-b5e2-e38310c54be6",
   "metadata": {},
   "source": [
    "# END"
   ]
  }
 ],
 "metadata": {
  "kernelspec": {
   "display_name": "Python 3",
   "language": "python",
   "name": "python3"
  },
  "language_info": {
   "codemirror_mode": {
    "name": "ipython",
    "version": 3
   },
   "file_extension": ".py",
   "mimetype": "text/x-python",
   "name": "python",
   "nbconvert_exporter": "python",
   "pygments_lexer": "ipython3",
   "version": "3.8.8"
  }
 },
 "nbformat": 4,
 "nbformat_minor": 5
}
