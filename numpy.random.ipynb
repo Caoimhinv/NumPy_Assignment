{
 "cells": [
  {
   "cell_type": "markdown",
   "id": "6623e8f0-7eff-44bc-859d-cea9221cc5b3",
   "metadata": {
    "tags": []
   },
   "source": [
    "# Programming for Data Analysis\n",
    "## Autumn 2021 Assignment\n",
    "___"
   ]
  },
  {
   "cell_type": "markdown",
   "id": "c5c284f5-f76b-4797-8bd9-9dd4efa77f83",
   "metadata": {},
   "source": [
    "<br>\n",
    "\n",
    "![NumPy_logo](Images/NumPy_logo.png)"
   ]
  },
  {
   "cell_type": "markdown",
   "id": "689c09c2-8041-43be-8f2e-db494a843c77",
   "metadata": {
    "tags": []
   },
   "source": [
    "<br>\n",
    "\n",
    "## numpy.random "
   ]
  },
  {
   "cell_type": "markdown",
   "id": "01a628ea-6740-46d6-920b-9c9a958cc700",
   "metadata": {
    "tags": []
   },
   "source": [
    "**numpy.random** is a module within the bigger NumPy package which allows us to sample **pseudo-random** numbers and gives us a range of tools to implement them. Although there already is a random module in the Python standard library, numpy.random adds much extra functionality in particular in relation to arrays and has the ability to draw from a lot more statistical distributions. Computers can't really 'do random' - they need a set of instructions to produce an output - so programs like numpy.random use algorithims to generate random numbers. Thus they are not truly random but pseudo-random. This also means they are predictable and also reproducible with is of much benefit when running experimental code."
   ]
  },
  {
   "cell_type": "markdown",
   "id": "287339eb-9bbd-486d-aec7-95bb599b95af",
   "metadata": {},
   "source": [
    "**CHECK**\n",
    "\n",
    ">The new infrastructure takes a different approach to producing random numbers from the RandomState object. Random number generation is separated into two components, a bit generator and a random generator.\n",
    "\n",
    ">The BitGenerator has a limited set of responsibilities. It manages state and provides functions to produce random doubles and random unsigned 32- and 64-bit values.\n",
    "\n",
    ">The random generator takes the bit generator-provided stream and transforms them into more useful distributions, e.g., simulated normal random values. This structure allows alternative bit generators to be used with little code duplication.\n",
    "\n",
    ">The Generator is the user-facing object that is nearly identical to the legacy RandomState. It accepts a bit generator instance as an argument. The default is currently PCG64 but this may change in future versions. As a convenience NumPy provides the default_rng function to hide these details:"
   ]
  },
  {
   "cell_type": "code",
   "execution_count": null,
   "id": "1019e16a-6532-4155-a6b7-0c4723c3833b",
   "metadata": {},
   "outputs": [],
   "source": []
  },
  {
   "cell_type": "markdown",
   "id": "58cff7cc-4acc-4e48-a504-c2e04458ce61",
   "metadata": {},
   "source": [
    "<br> \n",
    "\n",
    "### NumPy"
   ]
  },
  {
   "cell_type": "markdown",
   "id": "421d0b6b-6a99-47ff-9b57-224699df15f8",
   "metadata": {},
   "source": [
    "NumPy is the primary python library for working with arrays. The name itself comes from Numerical Python, and it has become the fundamental package for scientific computing and also the foundation for many other analytic libraries in the python language.\n",
    "\n",
    "> \"NumPy ... is a library for the Python programming language, adding support for large, multi-dimensional arrays and matrices, along with a large collection of high-level mathematical functions to operate on these arrays.\"  \n",
    "https://en.wikipedia.org/wiki/NumPy"
   ]
  },
  {
   "cell_type": "markdown",
   "id": "b729c74e-b846-4f5f-94b7-051ba888df2f",
   "metadata": {
    "tags": []
   },
   "source": [
    "<br>\n",
    "\n",
    "### Simple random data"
   ]
  },
  {
   "cell_type": "markdown",
   "id": "b8206da7-c04e-4799-ad2e-49d051aed9f5",
   "metadata": {},
   "source": [
    "The numpy.random module has been updated recently so I will mostly be concentrating on the newer version and methods. All of the older methods are still supported, and I may be using some of them to demonstrate some aspects of the library. We begin by importing numpy, as per comvention and economy of space as **np**."
   ]
  },
  {
   "cell_type": "code",
   "execution_count": 1,
   "id": "c081eb61-1dfd-4939-8ada-33a91ac4f2ac",
   "metadata": {},
   "outputs": [],
   "source": [
    "# importing NumPy\n",
    "import numpy as np\n",
    "\n",
    "# importing matplotlib.pyplot for plotting and visualisations\n",
    "import matplotlib.pyplot as plt\n",
    "\n",
    "import pandas as pd\n",
    "\n",
    "import seaborn as sns"
   ]
  },
  {
   "cell_type": "code",
   "execution_count": 2,
   "id": "7d16c778-de32-4d36-aecb-ad100244419f",
   "metadata": {},
   "outputs": [
    {
     "name": "stdout",
     "output_type": "stream",
     "text": [
      "['Solarize_Light2', '_classic_test_patch', 'bmh', 'classic', 'dark_background', 'fast', 'fivethirtyeight', 'ggplot', 'grayscale', 'seaborn', 'seaborn-bright', 'seaborn-colorblind', 'seaborn-dark', 'seaborn-dark-palette', 'seaborn-darkgrid', 'seaborn-deep', 'seaborn-muted', 'seaborn-notebook', 'seaborn-paper', 'seaborn-pastel', 'seaborn-poster', 'seaborn-talk', 'seaborn-ticks', 'seaborn-white', 'seaborn-whitegrid', 'tableau-colorblind10']\n"
     ]
    }
   ],
   "source": [
    "print(plt.style.available)"
   ]
  },
  {
   "cell_type": "code",
   "execution_count": 3,
   "id": "15180dc1-1eb8-4c9a-a3be-9cc1d09db488",
   "metadata": {},
   "outputs": [],
   "source": [
    "# set global style for all plots\n",
    "plt.style.use('classic')\n",
    "\n",
    "# set global plot size\n",
    "plt.rcParams['figure.figsize'] = (12,8)"
   ]
  },
  {
   "cell_type": "markdown",
   "id": "9c1931ff-8665-4a4b-a3e3-fbee111d9b08",
   "metadata": {},
   "source": [
    "Numpy creates random numbers through the use of a **BitGenerator** and a **Generator** - the BitGenerator generates random sequences of bits which are transformed into values by the generator using a variety of distributions.\n",
    "We can create a new constructor using the **default_rng** method to get a new instance of a generator.  "
   ]
  },
  {
   "cell_type": "code",
   "execution_count": 4,
   "id": "00b83316-4fe8-40ca-8ba0-4d4b629addd3",
   "metadata": {},
   "outputs": [
    {
     "data": {
      "text/plain": [
       "Generator(PCG64) at 0x7FDA8E8199E0"
      ]
     },
     "execution_count": 4,
     "metadata": {},
     "output_type": "execute_result"
    }
   ],
   "source": [
    "# using default_rng() to get a new random number generator\n",
    "rng = np.random.default_rng()\n",
    "rng"
   ]
  },
  {
   "cell_type": "markdown",
   "id": "b60e7042-2576-4492-af8b-69950eddceaa",
   "metadata": {},
   "source": [
    "The default bitgenerator is PCG64 which is a 128-bit implementation of **O’Neill’s permutation congruential generator**.  \n",
    "> \"PCG is a family of simple fast space-efficient statistically good algorithms for random number generation. Unlike many general-purpose RNGs, they are also hard to predict.\"  \n",
    "https://www.pcg-random.org/index.html"
   ]
  },
  {
   "cell_type": "markdown",
   "id": "d6868e14-e315-44fb-952b-f9ebed3aec75",
   "metadata": {
    "tags": []
   },
   "source": [
    "We can pass a seed to the generator or let the computer pull a number from the operating system. More about that later!"
   ]
  },
  {
   "cell_type": "markdown",
   "id": "612dbef5-35cb-45a2-9d9d-4420557730df",
   "metadata": {},
   "source": [
    "<br>\n",
    "\n",
    "**numpy.random.default_rng.random** returns floating point numbers. If no value is passed we get one randomly generated float. If one value is passed we get an array of that length, and if a second value is passed (with extra brackets) we get a 2D array with those parameters."
   ]
  },
  {
   "cell_type": "code",
   "execution_count": 5,
   "id": "493a50f4-0857-46ec-a648-e7226f019f54",
   "metadata": {},
   "outputs": [
    {
     "name": "stdout",
     "output_type": "stream",
     "text": [
      "0.95443885598135\n"
     ]
    }
   ],
   "source": [
    "# returns a single float\n",
    "x = rng.random()\n",
    "print(x)"
   ]
  },
  {
   "cell_type": "code",
   "execution_count": 6,
   "id": "1ecadc8e-69dd-4e96-aa23-8f2cf3e29fad",
   "metadata": {},
   "outputs": [
    {
     "name": "stdout",
     "output_type": "stream",
     "text": [
      "[0.68506999 0.48222733 0.18335163]\n"
     ]
    }
   ],
   "source": [
    "# returns an array of 3 floats\n",
    "y = rng.random(3)\n",
    "print(y)"
   ]
  },
  {
   "cell_type": "code",
   "execution_count": 7,
   "id": "bcea859e-c7d1-4c18-baf5-f6fa843d1939",
   "metadata": {},
   "outputs": [
    {
     "name": "stdout",
     "output_type": "stream",
     "text": [
      "[[0.43386611 0.26583944 0.10606735]\n",
      " [0.48606379 0.47333974 0.2409817 ]\n",
      " [0.90669497 0.45177159 0.6288308 ]]\n"
     ]
    }
   ],
   "source": [
    "# returns an array of 3x3 floats\n",
    "z = rng.random((3,3))\n",
    "print(z)"
   ]
  },
  {
   "cell_type": "markdown",
   "id": "1d34ff8d-62b3-4e71-bb88-9a14524a6a1e",
   "metadata": {},
   "source": [
    "<br>\n",
    "\n",
    "**numpy.random.default_rng.integers** returns integers. If we pass 1 value, that will be the upper limit and non inclusive. 0 is the default lower limit. If we pass 2 values, the first will be the lower limit and the 2nd the upper. 3 values, and the third will be the amount of numbers creating an array."
   ]
  },
  {
   "cell_type": "code",
   "execution_count": 8,
   "id": "34fe8104-1410-439f-a774-209fa16845ec",
   "metadata": {},
   "outputs": [
    {
     "name": "stdout",
     "output_type": "stream",
     "text": [
      "0\n"
     ]
    }
   ],
   "source": [
    "# returns an integer between 0-9\n",
    "x = rng.integers(10)\n",
    "print(x)"
   ]
  },
  {
   "cell_type": "code",
   "execution_count": 9,
   "id": "be8ec535-562f-4319-962a-54cb857a127b",
   "metadata": {},
   "outputs": [
    {
     "name": "stdout",
     "output_type": "stream",
     "text": [
      "4\n"
     ]
    }
   ],
   "source": [
    "y = rng.integers(3,10)\n",
    "print(y)"
   ]
  },
  {
   "cell_type": "code",
   "execution_count": 10,
   "id": "80efb068-14ba-44b4-a112-777410e2e1f6",
   "metadata": {},
   "outputs": [
    {
     "name": "stdout",
     "output_type": "stream",
     "text": [
      "[8 8 6 8 9 4 5 2 4 4 6 6 2 2 3 2 9 6 4 4]\n"
     ]
    }
   ],
   "source": [
    "# returns an array of 20 numbers between 2-9\n",
    "z = rng.integers(2,10,20)\n",
    "print(z)"
   ]
  },
  {
   "cell_type": "markdown",
   "id": "9e6894f9-ea2e-454b-9204-668060698d8b",
   "metadata": {},
   "source": [
    "For all of the above code, if we rerun it we will get different results each time. If we want reproducible results we need to pass in a **seed**. We will look at this in more detail later."
   ]
  },
  {
   "cell_type": "markdown",
   "id": "467bb82f-09ee-4f90-9d61-9803e2f243e5",
   "metadata": {},
   "source": [
    "<br>\n",
    "\n",
    "#### Permutations"
   ]
  },
  {
   "cell_type": "markdown",
   "id": "8085a9b5-f27d-41de-b0c9-0afd9f2b9ece",
   "metadata": {},
   "source": [
    "<br>\n",
    "\n",
    "Within the numpy.random library there are many methods we can use to randomly manipulate the generated or given data. **permutation()** and **shuffle()** both rearrange the order of an array. The main difference is that permutation creates a new array while shuffle alters the original array."
   ]
  },
  {
   "cell_type": "code",
   "execution_count": 11,
   "id": "c5fc44ef-f574-4b76-a144-84f4c0ded34e",
   "metadata": {},
   "outputs": [
    {
     "data": {
      "text/plain": [
       "array([7, 9, 8, 3, 2, 5, 1, 6, 4])"
      ]
     },
     "execution_count": 11,
     "metadata": {},
     "output_type": "execute_result"
    }
   ],
   "source": [
    "# creating an array of numbers 1 to 10\n",
    "arr = np.array([1, 2, 3, 4, 5, 6, 7, 8, 9])\n",
    "\n",
    "# random permutation\n",
    "rng.permutation(arr)"
   ]
  },
  {
   "cell_type": "code",
   "execution_count": 12,
   "id": "75cda6ab-b41d-4ee5-b98a-bd6dc68e9145",
   "metadata": {},
   "outputs": [
    {
     "data": {
      "text/plain": [
       "array([1, 2, 3, 4, 5, 6, 7, 8, 9])"
      ]
     },
     "execution_count": 12,
     "metadata": {},
     "output_type": "execute_result"
    }
   ],
   "source": [
    "# the original array is intact\n",
    "arr"
   ]
  },
  {
   "cell_type": "code",
   "execution_count": 13,
   "id": "7d6f1b72-3f94-43a8-bb5c-66a3c7726450",
   "metadata": {},
   "outputs": [
    {
     "data": {
      "text/plain": [
       "array([6, 1, 3, 8, 7, 5, 2, 9, 4])"
      ]
     },
     "execution_count": 13,
     "metadata": {},
     "output_type": "execute_result"
    }
   ],
   "source": [
    "# 'shuffles' the array and alters the original\n",
    "rng.shuffle(arr)\n",
    "arr"
   ]
  },
  {
   "cell_type": "markdown",
   "id": "ef84722e-e5a5-47f5-b0a2-7ef0791c6504",
   "metadata": {},
   "source": [
    "We can use permutation to create a random array from a range"
   ]
  },
  {
   "cell_type": "code",
   "execution_count": 14,
   "id": "74f1489f-fdd0-4421-af8b-c44af5efdf76",
   "metadata": {},
   "outputs": [
    {
     "name": "stdout",
     "output_type": "stream",
     "text": [
      "[16  9  1 12  7  0 17  3  4  8 18 14  5  6 15  2 13 11 19 10]\n"
     ]
    }
   ],
   "source": [
    "# creates a permutation of the numbers 0-19\n",
    "print(rng.permutation(20))"
   ]
  },
  {
   "cell_type": "markdown",
   "id": "ce99ffa9-289b-4789-8d49-7c2fc9008a22",
   "metadata": {},
   "source": [
    "We can also use it on 2 dimensional arrays. Interestingly it maintains the numbers and order within each row and only rearranges the actual rows. If we add the parameter axis=1 we can permutate within the rows also"
   ]
  },
  {
   "cell_type": "code",
   "execution_count": 15,
   "id": "755ebb94-b013-49f8-b38f-a87cf3ce8f0a",
   "metadata": {},
   "outputs": [
    {
     "name": "stdout",
     "output_type": "stream",
     "text": [
      "[[ 0  1  2  3]\n",
      " [ 4  5  6  7]\n",
      " [ 8  9 10 11]]\n"
     ]
    }
   ],
   "source": [
    "# creates 12 numbers and shapes them into a 3x4 arrany\n",
    "array = np.arange(12).reshape((3, 4))\n",
    "\n",
    "# prints the array\n",
    "print(array)"
   ]
  },
  {
   "cell_type": "code",
   "execution_count": 16,
   "id": "46fda685-6e62-409b-bfad-9b53d60e7938",
   "metadata": {},
   "outputs": [
    {
     "data": {
      "text/plain": [
       "array([[ 8,  9, 10, 11],\n",
       "       [ 0,  1,  2,  3],\n",
       "       [ 4,  5,  6,  7]])"
      ]
     },
     "execution_count": 16,
     "metadata": {},
     "output_type": "execute_result"
    }
   ],
   "source": [
    "# permutates the 2D array - rows only\n",
    "rng.permutation(array)"
   ]
  },
  {
   "cell_type": "code",
   "execution_count": 17,
   "id": "fd7881a5-1678-4da0-b724-a215da60bff1",
   "metadata": {},
   "outputs": [
    {
     "data": {
      "text/plain": [
       "array([[ 2,  3,  0,  1],\n",
       "       [ 6,  7,  4,  5],\n",
       "       [10, 11,  8,  9]])"
      ]
     },
     "execution_count": 17,
     "metadata": {},
     "output_type": "execute_result"
    }
   ],
   "source": [
    "# permutates the 2D array - rows and within rows\n",
    "rng.permutation(array, axis=1)"
   ]
  },
  {
   "cell_type": "code",
   "execution_count": 18,
   "id": "0187993c-24e8-4e74-8cfc-49abc9fd69dd",
   "metadata": {},
   "outputs": [
    {
     "data": {
      "text/plain": [
       "array([[ 0,  1,  2,  3],\n",
       "       [ 4,  5,  6,  7],\n",
       "       [ 8,  9, 10, 11]])"
      ]
     },
     "execution_count": 18,
     "metadata": {},
     "output_type": "execute_result"
    }
   ],
   "source": [
    "# just to confirm the original array is intact\n",
    "array"
   ]
  },
  {
   "cell_type": "markdown",
   "id": "d71ef031-8bb9-4f42-8992-672afcd397e6",
   "metadata": {
    "tags": []
   },
   "source": [
    "We can do the same using the shuffle method - again the main difference being shuffle alters the original array."
   ]
  },
  {
   "cell_type": "code",
   "execution_count": 19,
   "id": "57926963-9fc3-41f8-afd5-b54dd6742aaa",
   "metadata": {},
   "outputs": [
    {
     "data": {
      "text/plain": [
       "array([[ 2,  3,  0,  1],\n",
       "       [ 6,  7,  4,  5],\n",
       "       [10, 11,  8,  9]])"
      ]
     },
     "execution_count": 19,
     "metadata": {},
     "output_type": "execute_result"
    }
   ],
   "source": [
    "# shuffles the array\n",
    "rng.shuffle(array, axis=1)\n",
    "array"
   ]
  },
  {
   "cell_type": "code",
   "execution_count": 20,
   "id": "d84a1417-f804-4614-a840-465c6f681e80",
   "metadata": {},
   "outputs": [
    {
     "data": {
      "text/plain": [
       "array([[ 2,  3,  0,  1],\n",
       "       [ 6,  7,  4,  5],\n",
       "       [10, 11,  8,  9]])"
      ]
     },
     "execution_count": 20,
     "metadata": {},
     "output_type": "execute_result"
    }
   ],
   "source": [
    "# just to confirm the array is now altered\n",
    "array"
   ]
  },
  {
   "cell_type": "markdown",
   "id": "e7d3fc00-f11a-4793-b37e-6dc04b5d8b83",
   "metadata": {},
   "source": [
    "<br>\n",
    "\n",
    "A few other interesting methods available to us"
   ]
  },
  {
   "cell_type": "markdown",
   "id": "5a3d9e7e-9e13-44d0-8af0-2b8398b04827",
   "metadata": {},
   "source": [
    "**numpy.random.default_rng.choice** generates a random sample from a given array. The first value in brackets is the upper range, while the 2nd is the number of values returned."
   ]
  },
  {
   "cell_type": "code",
   "execution_count": 21,
   "id": "f1800315-bbb7-4265-b2d5-542095a20939",
   "metadata": {},
   "outputs": [
    {
     "data": {
      "text/plain": [
       "array([21, 14, 16, 21, 32, 15, 13])"
      ]
     },
     "execution_count": 21,
     "metadata": {},
     "output_type": "execute_result"
    }
   ],
   "source": [
    "# choose 7 numbers at random from the range 0-39\n",
    "rng.choice(40, 7)"
   ]
  },
  {
   "cell_type": "markdown",
   "id": "8a2aa3ef-7dcf-4236-af70-680bed3228fb",
   "metadata": {},
   "source": [
    "**numpy.random.default_rng.bytes** returns random bytes"
   ]
  },
  {
   "cell_type": "code",
   "execution_count": 22,
   "id": "8ff7a373-3870-4543-bc36-fe7635c45ccd",
   "metadata": {},
   "outputs": [
    {
     "data": {
      "text/plain": [
       "b'B\\xa1\\xcd\\x843\\x0f\\xb7LY\\xb8'"
      ]
     },
     "execution_count": 22,
     "metadata": {},
     "output_type": "execute_result"
    }
   ],
   "source": [
    "# returns 10 random bytes!\n",
    "rng.bytes(10)"
   ]
  },
  {
   "cell_type": "markdown",
   "id": "f921fc40-26b0-46fb-9006-d1634ba4768a",
   "metadata": {},
   "source": [
    "<br>\n",
    "\n",
    "## Distributions\n",
    "___"
   ]
  },
  {
   "cell_type": "markdown",
   "id": "9135a0dd-281f-47d7-81f6-ca3a3c6317fc",
   "metadata": {},
   "source": [
    "Probability distributions are how values are distributed within a given range or criteria. I will go through several of the more common examples."
   ]
  },
  {
   "cell_type": "markdown",
   "id": "138b7dff-5e49-400e-bced-36f7e040b686",
   "metadata": {},
   "source": [
    "### Uniform Distribution\n",
    "\n",
    "This is where each event has an equal chance of occurring, such as rolling a single dice or choosing a particular playing card from the deck.\n",
    "The basic syntax is as follows - the default parameters are 0.0 and 1.0 so the following code will return a floating point number between those two values. The uniform distribution dictates that the value has an equal chance of falling at any point between the 2, although upper limit is non-inclusive."
   ]
  },
  {
   "cell_type": "code",
   "execution_count": 23,
   "id": "01da8bcf-55e6-4076-a5ce-a178949cef92",
   "metadata": {},
   "outputs": [
    {
     "data": {
      "text/plain": [
       "0.5110719807082205"
      ]
     },
     "execution_count": 23,
     "metadata": {},
     "output_type": "execute_result"
    }
   ],
   "source": [
    "# return a floating point number between 0.0 and 1.0 (not including 1)\n",
    "rng.uniform()"
   ]
  },
  {
   "cell_type": "markdown",
   "id": "feeae8b6-1536-4028-ba3a-b0229fbc41ac",
   "metadata": {},
   "source": [
    "We can pass some parameters in then"
   ]
  },
  {
   "cell_type": "code",
   "execution_count": 24,
   "id": "460fca72-8c2f-4147-9447-297dc7ab1ac9",
   "metadata": {},
   "outputs": [
    {
     "data": {
      "text/plain": [
       "2.6405471680914063"
      ]
     },
     "execution_count": 24,
     "metadata": {},
     "output_type": "execute_result"
    }
   ],
   "source": [
    "# returns a floating point number between 0.0 and 4.0\n",
    "x = rng.uniform(4)\n",
    "x"
   ]
  },
  {
   "cell_type": "code",
   "execution_count": 25,
   "id": "edc76369-705d-49e8-bfd4-ddba9120d464",
   "metadata": {},
   "outputs": [
    {
     "data": {
      "text/plain": [
       "3.020345717683377"
      ]
     },
     "execution_count": 25,
     "metadata": {},
     "output_type": "execute_result"
    }
   ],
   "source": [
    "# return a floating point number between 3.0 and 4.0\n",
    "x = rng.uniform(3,4)\n",
    "x"
   ]
  },
  {
   "cell_type": "code",
   "execution_count": 26,
   "id": "54e28bde-e211-4323-b549-8956307f1307",
   "metadata": {
    "tags": []
   },
   "outputs": [
    {
     "data": {
      "text/plain": [
       "array([[14.77053886, 14.4029982 , 11.61568721],\n",
       "       [13.86226288, 10.86749744, 11.37923089],\n",
       "       [14.78768999, 11.6878392 , 14.48245187],\n",
       "       [14.60625472, 11.60819779, 12.38369383]])"
      ]
     },
     "execution_count": 26,
     "metadata": {},
     "output_type": "execute_result"
    }
   ],
   "source": [
    "# returns a 2D (4x3) array of floating point numbers between 10.0 and 15.0\n",
    "x = rng.uniform(10, 15, size=(4, 3))\n",
    "x"
   ]
  },
  {
   "cell_type": "markdown",
   "id": "fa1eac7d-1759-4f38-b63f-49be51c9aec1",
   "metadata": {},
   "source": [
    "<br>\n",
    "\n",
    "#### Sample size"
   ]
  },
  {
   "cell_type": "markdown",
   "id": "6c05e3a4-9209-4e84-9f34-b6eabda31732",
   "metadata": {},
   "source": [
    "The following code creates various sizes of arrays of values between 0 and 100. In theory there's an equal chance for each value to occur but this only becomes obvious when we increase the smaple size. The set of plots below demonstrate that clearly. The final plot which has a sample of 1 million values is nearly a straight line."
   ]
  },
  {
   "cell_type": "code",
   "execution_count": 27,
   "id": "8428efb4-fbc3-4e67-b625-09d830b86deb",
   "metadata": {
    "tags": []
   },
   "outputs": [],
   "source": [
    "# looking at the difference the sample size makes\n",
    "x = rng.integers(100, size = 10)\n",
    "y = rng.integers(100, size = 100)\n",
    "z = rng.integers(100, size = 1000)\n",
    "a = rng.integers(100, size = 10000)\n",
    "b = rng.integers(100, size = 100000)\n",
    "c = rng.integers(100, size = 1000000)"
   ]
  },
  {
   "cell_type": "code",
   "execution_count": 28,
   "id": "53baa821-cebd-4f0c-9a2a-bb4f06285526",
   "metadata": {},
   "outputs": [
    {
     "data": {
      "image/png": "[encoded data removed]",
      "text/plain": [
       "<Figure size 960x640 with 6 Axes>"
      ]
     },
     "metadata": {},
     "output_type": "display_data"
    }
   ],
   "source": [
    "# plt.subplots(3,2) creates 3 rows and 2 columns of plots\n",
    "# axs[0,0] etc. specifies where this plot goes in the arrangement\n",
    "fig, axs = plt.subplots(3,2)\n",
    "axs[0,0].hist(x, bins=100)\n",
    "axs[0,0].set_title('Sample Size 10')\n",
    "axs[0,1].hist(y, bins=100)\n",
    "axs[0,1].set_title('Sample Size 100')\n",
    "axs[1,0].hist(z, bins=100)\n",
    "axs[1,0].set_title('Sample Size 1000')\n",
    "axs[1,1].hist(a, bins=100)\n",
    "axs[1,1].set_title('Sample Size 10000')\n",
    "axs[2,0].hist(b, bins=100)\n",
    "axs[2,0].set_title('Sample Size 100000')\n",
    "axs[2,1].hist(c, bins=100)\n",
    "axs[2,1].set_title('Sample Size 1000000')\n",
    "# creates space between each of the subplots\n",
    "fig.tight_layout()"
   ]
  },
  {
   "cell_type": "markdown",
   "id": "ecb18530-5252-4f59-9254-aa274fe5b294",
   "metadata": {
    "tags": []
   },
   "source": [
    "Another example below, this time specifying a lower minus value. As above if no lower value is set then zero is the default."
   ]
  },
  {
   "cell_type": "code",
   "execution_count": 29,
   "id": "8937d59d-3910-4abb-9768-2e4788f7ce6c",
   "metadata": {
    "scrolled": true,
    "tags": []
   },
   "outputs": [
    {
     "data": {
      "text/plain": [
       "array([-9.58122568e-01, -7.71133377e-01, -8.41710913e-01, -7.46432006e-01,\n",
       "       -6.15561152e-01, -4.10957412e-01, -4.64126028e-01, -3.83537101e-02,\n",
       "       -2.51498329e-01, -3.37677613e-01, -1.47944865e-01, -3.83512188e-01,\n",
       "       -2.71226734e-01, -7.78827618e-01, -7.98484513e-01, -8.35679844e-01,\n",
       "       -3.39754874e-02, -5.44845531e-01, -8.58971369e-01, -3.13918305e-01,\n",
       "       -9.43429285e-01, -1.28185902e-01, -4.53632061e-01, -1.92602081e-01,\n",
       "       -1.44894351e-01, -9.72282042e-01, -2.68608947e-01, -3.29348455e-01,\n",
       "       -6.76536579e-01, -2.04384377e-01, -1.75362817e-01, -8.01904415e-01,\n",
       "       -9.04209193e-01, -8.63987337e-01, -3.75208819e-01, -8.19792336e-01,\n",
       "       -2.03364908e-02, -6.90973523e-02, -5.35161541e-01, -8.47265247e-01,\n",
       "       -4.23103778e-01, -4.92563322e-01, -3.44192287e-01, -7.49681291e-01,\n",
       "       -6.10123410e-01, -3.75850035e-01, -8.15704051e-01, -8.03773590e-01,\n",
       "       -9.85605703e-01, -5.39508756e-01, -6.18918401e-01, -7.53755010e-02,\n",
       "       -9.31345387e-01, -2.85216044e-01, -2.84090770e-01, -5.19526653e-01,\n",
       "       -4.64099157e-01, -9.93799275e-01, -6.01699267e-01, -4.71190607e-01,\n",
       "       -4.76499914e-01, -7.38153001e-01, -4.73872339e-02, -2.75734809e-01,\n",
       "       -6.22802736e-01, -5.74091556e-01, -2.15827979e-01, -1.48196108e-01,\n",
       "       -2.45355392e-01, -6.51221670e-01, -2.29334804e-02, -3.36876646e-02,\n",
       "       -3.63184958e-01, -7.52166548e-01, -6.08446097e-01, -5.12726640e-01,\n",
       "       -3.64941246e-01, -8.97665836e-01, -6.78416992e-02, -5.31948005e-01,\n",
       "       -8.45478587e-02, -1.31854812e-01, -4.86225058e-01, -4.22453450e-01,\n",
       "       -5.41989490e-02, -8.06719302e-02, -3.37160437e-01, -9.59156092e-01,\n",
       "       -5.58004901e-01, -7.92996237e-01, -2.55330227e-01, -1.85368880e-01,\n",
       "       -6.73162038e-01, -5.64613300e-01, -7.59256397e-01, -4.19369263e-02,\n",
       "       -2.72098701e-04, -7.91616147e-01, -6.00733033e-01, -6.37875426e-01,\n",
       "       -2.31143528e-01, -6.61192330e-01, -2.02841007e-01, -1.08508178e-02,\n",
       "       -6.12789124e-01, -5.53582169e-01, -3.69919313e-01, -7.42570718e-01,\n",
       "       -3.45669768e-01, -4.59939786e-01, -4.29182044e-01, -1.60083796e-01,\n",
       "       -9.74180094e-01, -6.47261237e-01, -5.91399787e-01, -2.37776674e-01,\n",
       "       -1.16811571e-01, -7.21441499e-02, -8.08273464e-01, -1.54338899e-01,\n",
       "       -5.26529909e-01, -7.64569034e-01, -8.22461872e-01, -5.65152860e-01,\n",
       "       -3.89686230e-01, -6.80797599e-01, -1.51191949e-02, -6.69020077e-01,\n",
       "       -6.14774396e-01, -3.93154194e-01, -5.61179160e-01, -1.29766523e-02,\n",
       "       -2.50965735e-01, -6.88212061e-01, -4.58889337e-01, -4.26288413e-01,\n",
       "       -5.20544146e-02, -3.55185839e-01, -9.06590235e-01, -3.21122667e-01,\n",
       "       -4.43218298e-01, -8.78129113e-01, -1.51421893e-01, -5.06916116e-02,\n",
       "       -2.94324571e-01, -2.18887930e-02, -5.30225252e-01, -9.25286016e-01,\n",
       "       -6.43758425e-01, -9.04022090e-01, -7.13587416e-01, -4.50403991e-01,\n",
       "       -6.97162642e-01, -8.79550095e-01, -3.53924585e-01, -9.27063879e-01,\n",
       "       -2.64285911e-01, -2.17050103e-01, -6.96068069e-01, -3.31937348e-01,\n",
       "       -7.49746950e-01, -8.56968259e-01, -3.31208636e-01, -3.94036193e-01,\n",
       "       -4.89252429e-01, -8.18168682e-01, -6.79623519e-01, -2.43127289e-01,\n",
       "       -4.41764328e-01, -3.92857290e-01, -9.53578522e-01, -1.77210237e-01,\n",
       "       -1.64179416e-01, -7.99120928e-01, -3.40507989e-01, -2.08037012e-01,\n",
       "       -9.46396213e-01, -2.17132129e-01, -6.24304338e-01, -1.24561519e-01,\n",
       "       -2.79099642e-01, -2.38900286e-01, -1.88683734e-01, -2.90149025e-01,\n",
       "       -4.31366156e-01, -3.28090643e-01, -3.86801325e-01, -7.14379039e-01,\n",
       "       -5.90983267e-01, -5.50047944e-01, -6.56506902e-01, -5.86079885e-01,\n",
       "       -4.91529660e-01, -7.55625105e-01, -4.63931608e-01, -7.87005764e-01,\n",
       "       -7.33070650e-01, -5.10947634e-01, -5.68679192e-01, -2.62322448e-01,\n",
       "       -9.92030849e-01, -4.43184596e-01, -9.73978606e-01, -9.64648978e-01,\n",
       "       -7.80678853e-01, -6.92991389e-01, -5.61003170e-01, -2.75661625e-01,\n",
       "       -3.91345505e-01, -7.24851413e-01, -1.44946353e-01, -6.39102438e-01,\n",
       "       -5.77819641e-01, -9.79694690e-02, -8.58059065e-01, -3.72665700e-01,\n",
       "       -9.77551883e-01, -5.14005450e-01, -4.09941646e-01, -6.09332068e-01,\n",
       "       -7.91876272e-01, -1.29199281e-01, -9.66806802e-02, -3.38532350e-01,\n",
       "       -3.84384375e-01, -8.74334340e-01, -8.19670094e-01, -3.72921345e-01,\n",
       "       -4.78430989e-01, -9.14451352e-01, -6.57061034e-01, -3.64274350e-01,\n",
       "       -1.55945112e-01, -1.58675783e-01, -2.91764863e-01, -7.53017723e-01,\n",
       "       -8.81854626e-03, -2.09082598e-02, -6.99651910e-01, -2.87086716e-01,\n",
       "       -1.25386548e-01, -1.19870242e-01, -6.25097892e-02, -9.90860691e-01,\n",
       "       -9.46906890e-01, -5.64157646e-01, -2.32656149e-01, -1.40121470e-01,\n",
       "       -6.30745973e-01, -8.00916486e-01, -9.88424606e-01, -6.29036246e-01,\n",
       "       -1.01811805e-01, -6.29958257e-01, -7.34881852e-01, -5.31714909e-01,\n",
       "       -2.96527903e-02, -1.96124587e-01, -6.08265561e-01, -4.40525778e-01,\n",
       "       -6.92830664e-01, -7.40808342e-01, -4.96110297e-01, -5.60241756e-01,\n",
       "       -7.95020213e-01, -6.35485637e-01, -4.10148935e-01, -1.66920942e-01,\n",
       "       -9.93192960e-01, -2.32860516e-02, -7.82445781e-04, -1.73996987e-01,\n",
       "       -8.54145165e-01, -7.04727309e-01, -4.71710721e-01, -7.55077689e-01,\n",
       "       -7.01045718e-01, -7.76958013e-02, -8.63839708e-01, -6.61446402e-01,\n",
       "       -5.91590780e-01, -4.62905090e-01, -8.07525840e-01, -6.95376084e-02,\n",
       "       -6.74385979e-01, -1.54471207e-01, -2.90640283e-01, -5.89480403e-01,\n",
       "       -4.74935776e-01, -3.25396953e-03, -3.86337829e-01, -2.24956786e-01,\n",
       "       -2.70731611e-01, -5.24913618e-01, -1.03164656e-01, -9.85335219e-01,\n",
       "       -7.82742626e-01, -5.82878107e-01, -4.02876844e-01, -3.48802685e-01,\n",
       "       -7.56411223e-01, -8.58049127e-01, -6.10243933e-01, -5.75522471e-01,\n",
       "       -6.39897816e-01, -2.89964545e-01, -3.90115620e-01, -6.52635028e-01,\n",
       "       -7.18208151e-01, -9.20950033e-01, -6.41747904e-01, -5.96995146e-01,\n",
       "       -9.33452980e-01, -2.97249805e-02, -5.88262443e-01, -9.10687242e-01,\n",
       "       -3.84000883e-01, -5.21988761e-01, -4.76505375e-01, -4.01032433e-01,\n",
       "       -8.68216777e-01, -5.11598353e-01, -4.73225337e-01, -8.12038747e-02,\n",
       "       -8.89997633e-01, -2.16615744e-01, -2.91374360e-01, -9.12346498e-01,\n",
       "       -6.99729778e-02, -6.10869046e-01, -8.69946426e-01, -6.74824752e-01,\n",
       "       -7.01877859e-01, -1.12530161e-01, -4.99863690e-02, -2.98855372e-01,\n",
       "       -6.90374048e-01, -1.15008551e-01, -9.41938384e-03, -3.82433557e-01,\n",
       "       -4.93548523e-01, -1.06261945e-01, -3.63374325e-01, -2.70739129e-01,\n",
       "       -3.99774177e-01, -2.09350802e-01, -5.20304610e-01, -9.25268196e-02,\n",
       "       -5.64949217e-01, -9.80041244e-01, -5.55920775e-01, -9.64574769e-02,\n",
       "       -8.33087508e-01, -7.51433942e-01, -1.59381665e-01, -4.51360991e-01,\n",
       "       -4.20901039e-01, -4.79215192e-01, -7.89532398e-01, -8.18859464e-01,\n",
       "       -5.00277201e-01, -3.74582496e-01, -7.78204650e-01, -9.57707429e-01,\n",
       "       -6.21285901e-02, -9.67897626e-01, -8.54497458e-01, -7.14047388e-01,\n",
       "       -7.62653010e-01, -4.62462994e-01, -8.44508570e-01, -7.45632394e-01,\n",
       "       -6.94197291e-01, -5.25354829e-02, -4.34195538e-02, -4.25244219e-01,\n",
       "       -6.95934517e-01, -1.51635299e-01, -2.45904386e-01, -3.41188722e-01,\n",
       "       -6.99296030e-01, -1.61446382e-01, -4.83919235e-01, -5.00409095e-01,\n",
       "       -2.09210840e-03, -8.37650756e-01, -9.85486786e-02, -7.16342954e-01,\n",
       "       -4.24870030e-01, -6.32722296e-01, -9.92528085e-01, -3.88475633e-01,\n",
       "       -6.52695833e-01, -2.45991599e-01, -4.74274857e-02, -4.30072179e-01,\n",
       "       -5.34043462e-01, -8.31429228e-01, -2.98188567e-01, -7.66016294e-01,\n",
       "       -4.28233699e-02, -9.80533748e-01, -2.02674105e-01, -1.96960610e-01,\n",
       "       -2.88512543e-01, -2.32268780e-02, -1.80459056e-01, -1.05345408e-01,\n",
       "       -9.59266426e-01, -8.71496052e-01, -4.33266961e-01, -9.75634165e-01,\n",
       "       -5.56795945e-01, -6.98723187e-01, -4.03430393e-01, -2.83164212e-02,\n",
       "       -4.16136525e-01, -9.87485882e-01, -3.22985845e-01, -5.84442249e-01,\n",
       "       -1.04090199e-01, -9.21768689e-01, -5.21776466e-01, -4.18362406e-01,\n",
       "       -9.04169546e-01, -8.71087966e-01, -1.27190265e-01, -5.46493637e-01,\n",
       "       -3.52547751e-01, -8.12769766e-01, -2.35310829e-01, -5.32460124e-01,\n",
       "       -9.78629362e-01, -9.14212361e-01, -9.37378015e-01, -5.13727770e-01,\n",
       "       -9.16775162e-01, -3.12233467e-01, -5.42144066e-01, -9.16686035e-01,\n",
       "       -2.23451867e-01, -4.88125674e-01, -4.06515716e-01, -4.53617024e-02,\n",
       "       -8.36078458e-01, -8.71219035e-01, -3.43005598e-01, -1.76357367e-01,\n",
       "       -7.08778447e-02, -5.53725743e-01, -8.00531515e-01, -3.55528157e-01,\n",
       "       -3.83167060e-01, -5.36592935e-02, -8.19986961e-01, -9.88796158e-01,\n",
       "       -2.62731765e-01, -4.10921506e-01, -9.00218841e-01, -2.22703615e-01,\n",
       "       -7.39271792e-01, -9.62089484e-01, -5.32473354e-02, -9.86937753e-01,\n",
       "       -6.06469528e-01, -2.51338917e-01, -6.17439660e-01, -1.35605629e-01,\n",
       "       -3.73795244e-01, -3.67403411e-01, -4.61794066e-01, -8.68417526e-01,\n",
       "       -7.63943362e-01, -2.42560070e-01, -1.27892913e-01, -4.39221638e-01,\n",
       "       -8.59544869e-01, -6.81236352e-01, -3.27617429e-01, -1.54993024e-01,\n",
       "       -8.91825741e-01, -7.05601024e-01, -8.03037816e-01, -9.45543687e-01,\n",
       "       -5.28242144e-01, -5.90986540e-01, -5.11917578e-01, -9.62112101e-01,\n",
       "       -8.18426961e-01, -8.39598042e-01, -5.84553759e-01, -3.43253699e-01,\n",
       "       -6.90682926e-01, -1.78381244e-01, -5.30413615e-01, -4.08788866e-02,\n",
       "       -4.81115327e-01, -5.58873250e-01, -1.62554707e-01, -6.74584789e-01,\n",
       "       -8.57008511e-01, -6.50980783e-01, -9.65513273e-01, -7.07753623e-01,\n",
       "       -8.24460290e-01, -9.18597690e-01, -8.75563897e-01, -5.52078300e-01,\n",
       "       -1.70738655e-01, -4.28404373e-01, -8.80083012e-01, -2.79707057e-03,\n",
       "       -9.84852013e-01, -9.49492983e-01, -3.39903519e-01, -6.76039448e-01,\n",
       "       -5.80050692e-02, -2.53198211e-01, -9.28599048e-01, -4.83362154e-01,\n",
       "       -8.48997535e-01, -8.93250212e-01, -5.60374009e-01, -6.52900881e-01,\n",
       "       -7.38947577e-01, -3.71321285e-01, -7.90452717e-01, -5.24664390e-01,\n",
       "       -7.30266824e-01, -3.30080585e-01, -8.62119409e-01, -4.06682427e-02,\n",
       "       -9.19255242e-01, -1.42763421e-01, -3.34400211e-01, -3.83184805e-01,\n",
       "       -2.33937677e-01, -6.73723297e-02, -8.54094311e-01, -5.34432374e-01,\n",
       "       -3.99296399e-01, -7.85864756e-01, -1.16113226e-01, -9.88252410e-01,\n",
       "       -5.75308064e-01, -3.83353133e-01, -3.14127783e-01, -8.49120135e-01,\n",
       "       -1.71705702e-01, -2.38396081e-01, -2.59846700e-01, -5.91842351e-01,\n",
       "       -3.75610962e-01, -6.89285608e-01, -9.07554806e-01, -6.22916172e-02,\n",
       "       -2.58346476e-01, -1.46963135e-01, -3.01484874e-01, -9.19394489e-01,\n",
       "       -9.98893180e-01, -6.04186984e-03, -8.40470735e-01, -4.92588479e-01,\n",
       "       -4.37507475e-01, -4.21737398e-01, -6.02937889e-01, -7.50505528e-02,\n",
       "       -4.19552513e-01, -9.86398525e-01, -2.87744138e-01, -7.94979969e-01,\n",
       "       -4.91147680e-01, -7.94475715e-01, -4.63935554e-01, -5.63146817e-01,\n",
       "       -2.34101499e-01, -2.81348701e-02, -1.88053502e-01, -7.96817355e-01,\n",
       "       -5.80929963e-01, -7.32740846e-01, -9.77200809e-01, -1.90735663e-01,\n",
       "       -5.17827360e-01, -2.06985555e-01, -4.93065422e-01, -5.79940747e-01,\n",
       "       -2.86796564e-01, -6.14942357e-01, -6.91136619e-01, -1.57066948e-01,\n",
       "       -4.57908134e-01, -7.65907959e-01, -6.63240606e-01, -6.95272269e-01,\n",
       "       -9.94866076e-01, -3.36027569e-01, -9.00368716e-01, -4.08232449e-01,\n",
       "       -9.84556372e-01, -4.65878686e-01, -5.21636134e-01, -8.88292658e-01,\n",
       "       -1.25839860e-01, -1.59481560e-01, -6.40456212e-01, -8.86948378e-01,\n",
       "       -8.17631887e-01, -6.10076932e-01, -1.40419272e-01, -1.32449379e-01,\n",
       "       -8.54633295e-01, -4.61296580e-01, -1.10174217e-01, -9.97691516e-01,\n",
       "       -8.10815159e-01, -5.91212106e-01, -6.80179004e-01, -4.73865913e-01,\n",
       "       -9.57734857e-02, -2.39182615e-01, -4.94854913e-01, -6.52386729e-01,\n",
       "       -9.34976466e-02, -8.99395737e-01, -1.91862747e-01, -3.57586676e-01,\n",
       "       -7.70747981e-02, -2.16740094e-02, -5.62045954e-01, -8.60846065e-01,\n",
       "       -9.61974760e-01, -4.97811656e-01, -2.39977768e-02, -6.55048320e-02,\n",
       "       -6.47364007e-01, -7.48429556e-01, -8.92094583e-01, -1.45176195e-01,\n",
       "       -8.66055322e-01, -4.94159418e-01, -2.02349430e-01, -1.88357752e-01,\n",
       "       -2.21860938e-01, -7.56490752e-01, -2.11860667e-01, -4.06108299e-01,\n",
       "       -1.17607149e-01, -7.74565512e-01, -9.58355775e-01, -6.09033712e-01,\n",
       "       -2.72090178e-01, -1.24508479e-01, -2.75083964e-01, -2.14224340e-01,\n",
       "       -2.77446661e-01, -9.55198324e-01, -1.74109416e-01, -4.21663273e-01,\n",
       "       -8.88719699e-01, -3.14847526e-01, -4.01645279e-01, -8.79574148e-01,\n",
       "       -9.80987305e-01, -3.91793459e-01, -6.16914109e-01, -2.62993630e-01,\n",
       "       -4.52836304e-01, -9.65161622e-01, -9.15768092e-01, -4.60656027e-01,\n",
       "       -5.65159100e-01, -8.34741704e-01, -9.05832693e-01, -5.85561793e-01,\n",
       "       -5.65575966e-02, -5.95986108e-01, -8.67028343e-01, -9.22892625e-01,\n",
       "       -4.48312278e-01, -1.73875609e-01, -8.86480695e-01, -7.55863325e-01,\n",
       "       -1.61581641e-01, -8.20955802e-01, -7.24994189e-01, -4.92105632e-01,\n",
       "       -1.45917441e-01, -7.34506733e-01, -8.11058392e-01, -8.30391624e-01,\n",
       "       -2.57657436e-01, -9.49693606e-01, -1.35327747e-01, -1.44289491e-02,\n",
       "       -7.14554106e-01, -3.44505372e-02, -4.46106795e-01, -8.38982011e-01,\n",
       "       -7.61332113e-01, -4.46799525e-01, -9.96439072e-01, -5.05060577e-01,\n",
       "       -2.62964243e-01, -6.22298717e-02, -7.28896757e-01, -7.58096930e-01,\n",
       "       -9.33144382e-01, -3.05288601e-01, -2.82507657e-01, -8.56266777e-01,\n",
       "       -4.73858985e-01, -7.11837731e-01, -5.30342238e-01, -2.35601518e-01,\n",
       "       -2.61115833e-01, -8.29193505e-02, -3.23758159e-01, -1.15511169e-01,\n",
       "       -9.90530769e-01, -8.93366296e-01, -3.72410550e-01, -6.05630272e-01,\n",
       "       -4.80262472e-01, -9.56740603e-01, -7.52871995e-01, -3.67092802e-01,\n",
       "       -8.56104572e-01, -2.54359164e-01, -6.91651927e-03, -5.66689243e-01,\n",
       "       -3.75947952e-01, -7.82524021e-01, -2.11949937e-01, -8.91699179e-01,\n",
       "       -4.78724383e-01, -4.65212939e-01, -4.63654495e-01, -3.32822389e-01,\n",
       "       -9.75838886e-01, -6.44343650e-02, -9.04529094e-01, -9.53377876e-01,\n",
       "       -9.46882351e-01, -7.55721165e-01, -7.11795458e-01, -9.77787665e-01,\n",
       "       -3.93779106e-01, -6.26461010e-01, -5.74758260e-01, -1.82943063e-01,\n",
       "       -9.55532687e-01, -9.48184630e-01, -5.60356382e-01, -9.73825998e-02,\n",
       "       -8.46158563e-01, -2.21045607e-01, -8.64279573e-01, -9.00663524e-01,\n",
       "       -3.35336553e-01, -1.13399333e-01, -3.36110575e-01, -1.00602750e-01,\n",
       "       -8.83285752e-01, -9.19943575e-01, -1.66688179e-01, -7.46580609e-03,\n",
       "       -9.94925072e-01, -9.42297145e-01, -2.24997262e-01, -9.84754214e-01,\n",
       "       -9.09109152e-02, -3.06594269e-01, -3.19061951e-01, -6.67308363e-01,\n",
       "       -2.86654160e-01, -6.07660335e-01, -3.10488792e-01, -7.70790216e-01,\n",
       "       -5.13941039e-02, -1.68882952e-01, -9.75302802e-01, -1.85868492e-01,\n",
       "       -2.45949409e-01, -2.02696321e-01, -2.74120699e-01, -7.93306652e-01,\n",
       "       -1.99053111e-01, -5.05994781e-01, -3.77655252e-01, -4.76460952e-01,\n",
       "       -1.53862086e-01, -8.86415600e-01, -1.21539186e-02, -1.89411462e-01,\n",
       "       -9.70149344e-01, -8.69060302e-01, -6.00300220e-01, -2.88432242e-01,\n",
       "       -3.55632755e-01, -1.82355358e-01, -3.52781864e-01, -6.27525770e-01,\n",
       "       -3.79376297e-01, -3.22311818e-01, -6.05165046e-01, -3.72280920e-01,\n",
       "       -5.07223651e-01, -4.60278870e-01, -8.82840872e-02, -4.66422391e-01,\n",
       "       -5.39355501e-01, -6.72317272e-01, -6.64353451e-01, -2.11870289e-01,\n",
       "       -8.54389299e-01, -8.35460082e-01, -1.29698263e-02, -9.43612776e-01,\n",
       "       -4.22670308e-01, -3.86792549e-01, -5.35993209e-01, -9.21956253e-01,\n",
       "       -9.85177711e-01, -9.70711964e-01, -8.61921488e-01, -8.23905012e-01,\n",
       "       -2.11475476e-01, -4.01230125e-01, -6.66197066e-01, -1.11999378e-01,\n",
       "       -1.25637624e-01, -8.41675167e-01, -9.88563466e-01, -7.49232728e-02,\n",
       "       -1.67334698e-01, -2.14008426e-01, -1.76383007e-03, -1.93837529e-01,\n",
       "       -4.24282250e-01, -7.57496079e-01, -3.48535684e-01, -8.65305106e-01,\n",
       "       -9.21906721e-01, -9.14135732e-02, -7.89360676e-01, -5.38320397e-02,\n",
       "       -8.60471018e-01, -4.32056537e-01, -8.77213173e-01, -2.53438774e-01,\n",
       "       -6.29847138e-01, -3.80185570e-01, -8.12523202e-01, -7.26289816e-01,\n",
       "       -5.18604288e-01, -1.75574355e-01, -1.51433245e-01, -2.68402697e-01,\n",
       "       -7.95574843e-01, -7.48293819e-01, -5.58277621e-01, -3.07809861e-01,\n",
       "       -1.01805562e-02, -1.02602402e-01, -3.20876405e-02, -1.04797896e-01,\n",
       "       -5.07398223e-01, -8.29748636e-01, -2.44237780e-01, -9.37115331e-01,\n",
       "       -2.05425350e-01, -5.98774819e-01, -2.21911843e-01, -6.91751192e-01,\n",
       "       -6.25700251e-01, -3.90045625e-01, -8.00213325e-01, -9.44140336e-01,\n",
       "       -2.27301161e-01, -2.59747449e-01, -7.24261982e-01, -4.23203946e-01,\n",
       "       -6.12097426e-01, -9.00111106e-01, -1.29668084e-01, -1.04212848e-01,\n",
       "       -6.57238840e-01, -1.59396377e-01, -7.58862631e-02, -9.00828653e-01,\n",
       "       -7.96033369e-01, -2.43921063e-01, -9.52602512e-01, -8.34028260e-02,\n",
       "       -2.84303150e-01, -1.84102015e-01, -4.71376145e-01, -1.81518388e-01,\n",
       "       -9.32117319e-01, -7.90183651e-01, -1.18920690e-01, -1.97718832e-01,\n",
       "       -2.69763232e-01, -5.19353891e-01, -9.44954590e-01, -1.63406537e-01,\n",
       "       -2.09387324e-01, -4.29087207e-01, -8.18117850e-01, -8.05075170e-01,\n",
       "       -4.60300025e-01, -9.19873216e-01, -2.83667364e-01, -1.48006841e-01,\n",
       "       -3.89218113e-01, -7.10198832e-01, -3.95822608e-01, -2.45053851e-01,\n",
       "       -5.36590463e-01, -7.33215284e-01, -2.89949801e-01, -1.34251901e-01,\n",
       "       -5.81467852e-01, -4.72618360e-01, -1.59757554e-01, -8.36173475e-02,\n",
       "       -8.61520932e-01, -6.55681619e-02, -3.17102440e-01, -7.45221658e-02,\n",
       "       -9.26957531e-01, -2.70996827e-01, -8.40426743e-01, -4.49175163e-01,\n",
       "       -6.85968517e-01, -4.52965801e-01, -5.92369342e-01, -5.29608966e-01,\n",
       "       -6.01448112e-01, -6.87358227e-01, -7.53458622e-01, -9.56206436e-01,\n",
       "       -9.14358943e-02, -2.27534867e-01, -5.28587828e-01, -1.40866333e-01,\n",
       "       -1.17431286e-01, -8.57597001e-01, -9.15184072e-01, -3.72107307e-01,\n",
       "       -1.95629225e-01, -6.72770856e-01, -9.86726454e-01, -4.96806358e-01,\n",
       "       -6.38718979e-01, -5.62056513e-01, -1.59163274e-01, -9.53962105e-02,\n",
       "       -6.89378537e-01, -8.73518082e-02, -4.33512930e-01, -1.36651694e-01,\n",
       "       -4.73399323e-01, -5.12418225e-01, -7.53509529e-01, -5.68513175e-01,\n",
       "       -7.81918307e-01, -5.28257865e-01, -2.19648684e-01, -1.95691263e-01,\n",
       "       -7.02918411e-01, -4.36288525e-01, -4.04577145e-01, -2.17233443e-01,\n",
       "       -1.50948030e-01, -2.94654549e-02, -2.14873070e-01, -2.16634646e-01,\n",
       "       -8.50805816e-01, -3.19236009e-01, -8.84428826e-01, -9.72716705e-01,\n",
       "       -6.17235039e-01, -8.72063806e-01, -8.70834722e-01, -1.23432904e-01,\n",
       "       -5.36185650e-01, -6.25360148e-01, -3.57552903e-01, -3.25867256e-01,\n",
       "       -2.50844522e-01, -5.91868277e-01, -4.25643997e-01, -9.61653584e-02,\n",
       "       -1.53058022e-01, -2.56227846e-01, -7.88918129e-01, -5.43725900e-01])"
      ]
     },
     "execution_count": 29,
     "metadata": {},
     "output_type": "execute_result"
    }
   ],
   "source": [
    "# range is -1 to 0, and we're getting 1000 numbers\n",
    "y = np.random.uniform(-1,0,1000)\n",
    "y"
   ]
  },
  {
   "cell_type": "code",
   "execution_count": 30,
   "id": "28163bef-d7b8-4380-b65d-dd8833ae8259",
   "metadata": {},
   "outputs": [
    {
     "data": {
      "text/plain": [
       "[<matplotlib.lines.Line2D at 0x7fda91213370>]"
      ]
     },
     "execution_count": 30,
     "metadata": {},
     "output_type": "execute_result"
    },
    {
     "data": {
      "image/png": "[encoded data removed]",
      "text/plain": [
       "<Figure size 960x640 with 1 Axes>"
      ]
     },
     "metadata": {},
     "output_type": "display_data"
    }
   ],
   "source": [
    "# visualise\n",
    "count, bins, ignored = plt.hist(y, 15, density=True)\n",
    "plt.plot(bins, np.ones_like(bins), linewidth=2, color='r') # include a red line to show the average"
   ]
  },
  {
   "cell_type": "code",
   "execution_count": 31,
   "id": "88a21cde-75db-40eb-a978-a960fb65eac4",
   "metadata": {},
   "outputs": [
    {
     "data": {
      "text/plain": [
       "[<matplotlib.lines.Line2D at 0x7fda91b30f40>]"
      ]
     },
     "execution_count": 31,
     "metadata": {},
     "output_type": "execute_result"
    },
    {
     "data": {
      "image/png": "[encoded data removed]",
      "text/plain": [
       "<Figure size 960x640 with 1 Axes>"
      ]
     },
     "metadata": {},
     "output_type": "display_data"
    }
   ],
   "source": [
    "# the more times we run it the flatter the line at the top\n",
    "x = np.random.uniform(-1,0,100000)\n",
    "\n",
    "count, bins, ignored = plt.hist(x, 15, density=True)\n",
    "plt.plot(bins, np.ones_like(bins), linewidth=2, color='r')"
   ]
  },
  {
   "cell_type": "markdown",
   "id": "76f2d4d0-ab81-4bb0-9be0-55872b5bd9b8",
   "metadata": {
    "tags": []
   },
   "source": [
    "## Normal distribution"
   ]
  },
  {
   "cell_type": "markdown",
   "id": "a0cb97c6-986e-4508-93e4-34b1377f6874",
   "metadata": {},
   "source": [
    "![Normal_Dist](Images/standardNormal2.png)"
   ]
  },
  {
   "cell_type": "markdown",
   "id": "9c710487-d3d5-4198-9789-5f73c9dff81a",
   "metadata": {},
   "source": [
    "Normal distribution represents the behavior of most of the situations in the universe - that's why it’s called a “normal” distribution. I guess! Also know as Standard Normal, Gaussian Distribution or Bell Curve, it is one of the widest used distributions. It represents things like IQ Scores and heartbeats among others.  \n",
    "The parameters are as follows:\n",
    "1) mean - peak of the bell curve\n",
    "2) standard deviation - distance from the mean\n",
    "3) size - shape of the array  \n",
    "\n",
    "If no paremters are passed a single value will be returned using a mean of 0 and standard deviation of 1"
   ]
  },
  {
   "cell_type": "code",
   "execution_count": 32,
   "id": "b2600ee5-ab77-47a1-bba6-e4f2c422ae5c",
   "metadata": {},
   "outputs": [
    {
     "data": {
      "text/plain": [
       "-1.2760496206201453"
      ]
     },
     "execution_count": 32,
     "metadata": {},
     "output_type": "execute_result"
    }
   ],
   "source": [
    "rng.normal()"
   ]
  },
  {
   "cell_type": "markdown",
   "id": "512ad858-57cb-4557-ae1a-50645e9d7800",
   "metadata": {},
   "source": [
    "What is the difference between standard_normal and normal?"
   ]
  },
  {
   "cell_type": "code",
   "execution_count": 33,
   "id": "b13f14cf-8eb7-40c0-aa4a-e608eeed1898",
   "metadata": {
    "scrolled": true,
    "tags": []
   },
   "outputs": [
    {
     "data": {
      "text/plain": [
       "array([-0.24398701, -0.9653929 , -0.1935611 , -1.12198535,  0.50002692,\n",
       "       -1.02198289, -0.60858525, -1.30333914,  1.90155645,  1.34556039,\n",
       "       -0.45548861,  0.68428293, -0.84584276, -0.03433351,  1.01528027,\n",
       "        0.35858783,  0.07381984, -0.68821499,  1.01250212, -0.20798989,\n",
       "       -0.79130695,  1.19163253, -0.74396089,  1.41354587, -1.68405681,\n",
       "        0.86784357, -0.66784627, -0.3880131 ,  0.39325975, -1.20610786,\n",
       "        0.94089718,  0.77806167,  1.42990994,  1.72836895, -0.75652515,\n",
       "       -1.11362002, -0.50993632, -2.64663453, -0.6882413 , -1.23381157])"
      ]
     },
     "execution_count": 33,
     "metadata": {},
     "output_type": "execute_result"
    }
   ],
   "source": [
    "# returns an aray of 4 random normally distributed numbers using a mean of 0 and SD of 1\n",
    "rng.standard_normal(40)"
   ]
  },
  {
   "cell_type": "code",
   "execution_count": 34,
   "id": "7acf0a3b-0f05-4caa-8570-4bafd3d2cd59",
   "metadata": {
    "scrolled": true,
    "tags": []
   },
   "outputs": [
    {
     "data": {
      "text/plain": [
       "array([ 1.35049303e+00,  2.42505652e-01, -9.41079969e-01,  7.81640609e-02,\n",
       "        2.02607741e+00, -6.26058462e-01,  4.46270174e-01, -9.35984425e-01,\n",
       "       -7.66777636e-01, -3.41292117e-01, -9.94639846e-01, -1.42481833e+00,\n",
       "       -1.24117972e+00,  5.19560028e-01, -1.10139217e+00,  6.13725740e-01,\n",
       "        3.48081705e-01,  1.14541593e+00, -1.25181065e-01, -9.10570263e-01,\n",
       "       -1.09915609e+00, -1.68434189e-01,  7.35271662e-01, -2.97538239e-01,\n",
       "        3.47690687e-01,  4.74266822e-02, -1.41513209e+00, -6.78990536e-01,\n",
       "        2.61173790e-01,  2.20136771e-01,  4.79891232e-01, -9.03821642e-02,\n",
       "        9.56382211e-01, -7.02256412e-01,  5.11053740e-01,  2.58501287e-01,\n",
       "       -4.47347215e-01, -1.25207524e+00,  8.78087451e-01, -3.02894453e+00,\n",
       "       -2.57621671e-01, -3.18589380e-01,  6.27270765e-01, -2.08720698e-01,\n",
       "        9.29655154e-01,  2.62794435e+00, -8.94683730e-01, -4.09207657e-01,\n",
       "       -1.91751116e-01, -9.11872567e-01,  7.01862798e-01,  3.18053353e-01,\n",
       "       -5.77939342e-01,  6.30089589e-01,  2.55822145e+00,  5.01851881e-01,\n",
       "        1.01294224e+00,  5.03359004e-01, -1.37599441e+00, -1.44201896e+00,\n",
       "        5.49790105e-04, -3.20736825e-01, -6.63119241e-01,  4.06505645e-03,\n",
       "       -1.66438628e+00,  9.10123247e-01,  3.70706853e-01, -1.14623972e-01,\n",
       "       -1.02760846e+00,  4.48233677e-01,  6.34789963e-01, -1.61628802e+00,\n",
       "        1.92741529e+00,  4.41271913e-01, -6.76577758e-01, -7.03646911e-01,\n",
       "       -9.18132303e-01, -2.04543565e+00,  6.45871270e-01, -1.12567886e+00,\n",
       "        1.17329327e+00,  4.16268747e-01,  7.05195305e-02, -2.57845581e-01,\n",
       "        2.18588471e+00,  1.97456646e-01,  3.09289521e-01,  3.73210954e-01,\n",
       "        7.47642215e-01,  1.57670460e+00,  1.39993667e+00, -1.31229349e-01,\n",
       "        1.52039467e-01,  3.96200933e-02,  2.65510918e-02, -7.71712358e-01,\n",
       "       -1.63109279e-01, -8.48241195e-01, -2.43653090e+00,  4.69012851e-01])"
      ]
     },
     "execution_count": 34,
     "metadata": {},
     "output_type": "execute_result"
    }
   ],
   "source": [
    "# specifying the mean as 4.0\n",
    "z = rng.normal(size=100)\n",
    "z"
   ]
  },
  {
   "cell_type": "code",
   "execution_count": 35,
   "id": "b6949f7f-ac43-4db8-a831-d58644bc9980",
   "metadata": {},
   "outputs": [
    {
     "data": {
      "text/plain": [
       "(array([ 1.,  2.,  6., 16., 16., 24., 23.,  6.,  3.,  3.]),\n",
       " array([-3.02894453, -2.46325564, -1.89756676, -1.33187787, -0.76618898,\n",
       "        -0.20050009,  0.3651888 ,  0.93087769,  1.49656658,  2.06225546,\n",
       "         2.62794435]),\n",
       " <BarContainer object of 10 artists>)"
      ]
     },
     "execution_count": 35,
     "metadata": {},
     "output_type": "execute_result"
    },
    {
     "data": {
      "image/png": "[encoded data removed]",
      "text/plain": [
       "<Figure size 960x640 with 1 Axes>"
      ]
     },
     "metadata": {},
     "output_type": "display_data"
    }
   ],
   "source": [
    "# creates a histogram for z\n",
    "plt.hist(z)"
   ]
  },
  {
   "cell_type": "code",
   "execution_count": 36,
   "id": "6c0fc4d1-64c8-4b82-90ea-a2fe65c505fc",
   "metadata": {},
   "outputs": [
    {
     "data": {
      "text/plain": [
       "(array([ 1.,  0.,  1.,  1.,  2.,  4.,  5., 11.,  7.,  9., 14., 10., 17.,\n",
       "         6.,  4.,  2.,  1.,  2.,  1.,  2.]),\n",
       " array([-3.02894453, -2.74610009, -2.46325564, -2.1804112 , -1.89756676,\n",
       "        -1.61472231, -1.33187787, -1.04903342, -0.76618898, -0.48334453,\n",
       "        -0.20050009,  0.08234435,  0.3651888 ,  0.64803324,  0.93087769,\n",
       "         1.21372213,  1.49656658,  1.77941102,  2.06225546,  2.34509991,\n",
       "         2.62794435]),\n",
       " <BarContainer object of 20 artists>)"
      ]
     },
     "execution_count": 36,
     "metadata": {},
     "output_type": "execute_result"
    },
    {
     "data": {
      "image/png": "[encoded data removed]",
      "text/plain": [
       "<Figure size 960x640 with 1 Axes>"
      ]
     },
     "metadata": {},
     "output_type": "display_data"
    }
   ],
   "source": [
    "# specifies the bins which smoothes things out\n",
    "plt.hist(z, bins=20)"
   ]
  },
  {
   "cell_type": "code",
   "execution_count": 37,
   "id": "93867eb3-7173-43c2-bdf7-2a88c229d4ff",
   "metadata": {},
   "outputs": [
    {
     "data": {
      "image/png": "[encoded data removed]",
      "text/plain": [
       "<Figure size 960x640 with 1 Axes>"
      ]
     },
     "metadata": {},
     "output_type": "display_data"
    }
   ],
   "source": [
    "# looking at changing the loc (mean)\n",
    "x = rng.normal(loc=1.0, size=100)\n",
    "y = rng.normal(loc=3.0, size=100)\n",
    "fig, ax = plt.subplots()\n",
    "\n",
    "# plotting both on the same axis\n",
    "# alpha is transparency\n",
    "ax.hist(x, bins=10, alpha=0.5)\n",
    "ax.hist(y, bins=10, alpha=0.5);"
   ]
  },
  {
   "cell_type": "code",
   "execution_count": 38,
   "id": "7545a314-36a3-4193-8d65-58c8b94b6454",
   "metadata": {},
   "outputs": [
    {
     "data": {
      "image/png": "[encoded data removed]",
      "text/plain": [
       "<Figure size 960x640 with 1 Axes>"
      ]
     },
     "metadata": {},
     "output_type": "display_data"
    }
   ],
   "source": [
    "# looking at changing the scale (standard deviation)\n",
    "x = rng.normal(scale=0.5, size=1000)\n",
    "y = rng.normal(scale=0.1, size=1000)\n",
    "fig, ax = plt.subplots()\n",
    "\n",
    "# plotting both on the same axis\n",
    "# alpha is transparency\n",
    "ax.hist(x, bins=30, alpha=0.5, density=True)\n",
    "ax.hist(y, bins=30, alpha=0.5, density=True);"
   ]
  },
  {
   "cell_type": "code",
   "execution_count": 39,
   "id": "69d51dff-80e7-4d21-94b5-e0541cfa62e9",
   "metadata": {},
   "outputs": [
    {
     "data": {
      "text/plain": [
       "<AxesSubplot:ylabel='Density'>"
      ]
     },
     "execution_count": 39,
     "metadata": {},
     "output_type": "execute_result"
    },
    {
     "data": {
      "image/png": "[encoded data removed]",
      "text/plain": [
       "<Figure size 960x640 with 1 Axes>"
      ]
     },
     "metadata": {},
     "output_type": "display_data"
    }
   ],
   "source": [
    "# https://seaborn.pydata.org/generated/seaborn.kdeplot.html\n",
    "sns.kdeplot(data=z, fill=True)"
   ]
  },
  {
   "cell_type": "markdown",
   "id": "b101265f-b675-4155-83a9-9cdbc3dd253f",
   "metadata": {},
   "source": [
    "We can do a similar demonstration to above to show how the sample size affects the outcome. We use the default paramters of mean=0 and SD=1 and create arrays between 10 and 1,000,000. Again the higher the sample size the more perfect the bell shaped curve. "
   ]
  },
  {
   "cell_type": "code",
   "execution_count": 40,
   "id": "c4854913-d21d-49e9-8286-3b02f7436565",
   "metadata": {},
   "outputs": [],
   "source": [
    "x = rng.standard_normal(10)\n",
    "y = rng.standard_normal(100)\n",
    "z = rng.standard_normal(1000)\n",
    "a = rng.standard_normal(10000)\n",
    "b = rng.standard_normal(100000)\n",
    "c = rng.standard_normal(1000000)"
   ]
  },
  {
   "cell_type": "code",
   "execution_count": 41,
   "id": "89c5bd7a-cc62-4922-a981-d35e1ca0ceca",
   "metadata": {},
   "outputs": [
    {
     "data": {
      "image/png": "[encoded data removed]",
      "text/plain": [
       "<Figure size 960x640 with 6 Axes>"
      ]
     },
     "metadata": {},
     "output_type": "display_data"
    }
   ],
   "source": [
    "# plt.subplots(3,2) creates 3 rows and 2 columns of plots\n",
    "# axs[0,0] etc. specifies where this plot goes in the arrangement\n",
    "fig, axs = plt.subplots(3,2)\n",
    "axs[0,0].hist(x, bins=100)\n",
    "axs[0,0].set_title('Sample Size 10')\n",
    "axs[0,1].hist(y, bins=100)\n",
    "axs[0,1].set_title('Sample Size 100')\n",
    "axs[1,0].hist(z, bins=100)\n",
    "axs[1,0].set_title('Sample Size 1000')\n",
    "axs[1,1].hist(a, bins=100)\n",
    "axs[1,1].set_title('Sample Size 10000')\n",
    "axs[2,0].hist(b, bins=100)\n",
    "axs[2,0].set_title('Sample Size 100000')\n",
    "axs[2,1].hist(c, bins=100)\n",
    "axs[2,1].set_title('Sample Size 1000000')\n",
    "# creates space between each of the subplots\n",
    "fig.tight_layout()"
   ]
  },
  {
   "cell_type": "markdown",
   "id": "2a93c8bf-c236-4a63-9592-f1ab327a9a03",
   "metadata": {
    "tags": []
   },
   "source": [
    "## Binomial Distribution"
   ]
  },
  {
   "cell_type": "markdown",
   "id": "3b63ed8c-d59f-4805-b51d-2d741520f24d",
   "metadata": {
    "tags": []
   },
   "source": [
    "Binomial distribution is when we're dealing with only 2 outcomes. These can be equal (0.5) such as a coin toss as demomstrated below, or any probability inserted as a parameter.  \n",
    "The syntax is demonstrated below where n = the number of trials and and p = the probability of success for either outcome."
   ]
  },
  {
   "cell_type": "code",
   "execution_count": 42,
   "id": "4e74b9da-8af6-4ce1-84ce-eef2e6f37c79",
   "metadata": {},
   "outputs": [
    {
     "data": {
      "text/plain": [
       "0"
      ]
     },
     "execution_count": 42,
     "metadata": {},
     "output_type": "execute_result"
    }
   ],
   "source": [
    "# simple example which returns either 0 or 1\n",
    "rng.binomial(n=1, p=0.5)"
   ]
  },
  {
   "cell_type": "markdown",
   "id": "43aa5576-d665-48f2-98c7-5736eda23edd",
   "metadata": {},
   "source": [
    "#### Coin toss simulation"
   ]
  },
  {
   "cell_type": "markdown",
   "id": "b65a1684-a745-4578-ad0e-7f43ec36edb1",
   "metadata": {},
   "source": [
    "The following code simulates tossing a coin 1000 times with the results shown in a bar chart"
   ]
  },
  {
   "cell_type": "code",
   "execution_count": 43,
   "id": "921420a5-22e5-41cd-8adb-558194c7ac3d",
   "metadata": {
    "scrolled": true,
    "tags": []
   },
   "outputs": [
    {
     "data": {
      "text/plain": [
       "array([1, 0, 1, 1, 1, 0, 0, 1, 1, 1, 0, 0, 1, 0, 0, 1, 1, 1, 1, 0, 0, 0,\n",
       "       1, 1, 1, 1, 1, 1, 1, 1, 1, 1, 1, 0, 1, 1, 0, 1, 0, 1, 1, 1, 0, 1,\n",
       "       1, 1, 0, 0, 0, 1, 0, 0, 1, 1, 1, 1, 1, 1, 0, 0, 1, 0, 1, 1, 1, 0,\n",
       "       1, 1, 0, 1, 0, 0, 1, 1, 1, 0, 0, 1, 0, 0, 0, 0, 1, 0, 0, 1, 0, 1,\n",
       "       1, 1, 0, 0, 1, 0, 0, 0, 1, 1, 0, 0, 1, 0, 0, 0, 1, 0, 0, 1, 0, 0,\n",
       "       0, 1, 0, 0, 1, 0, 1, 0, 0, 0, 0, 1, 1, 1, 1, 1, 0, 1, 1, 1, 0, 1,\n",
       "       1, 0, 1, 1, 1, 0, 0, 1, 0, 1, 0, 0, 0, 1, 0, 1, 1, 0, 0, 0, 0, 0,\n",
       "       1, 1, 1, 0, 0, 0, 0, 1, 0, 0, 0, 0, 1, 0, 0, 1, 0, 0, 1, 0, 1, 0,\n",
       "       1, 0, 1, 0, 0, 1, 0, 1, 1, 1, 0, 1, 0, 0, 0, 1, 1, 1, 0, 1, 1, 0,\n",
       "       1, 1, 0, 0, 1, 1, 1, 1, 1, 1, 1, 0, 0, 1, 0, 1, 1, 1, 1, 0, 1, 1,\n",
       "       0, 0, 1, 1, 0, 0, 0, 0, 0, 1, 1, 1, 1, 0, 1, 1, 0, 0, 0, 0, 1, 0,\n",
       "       0, 0, 1, 1, 1, 1, 0, 1, 1, 0, 0, 1, 0, 0, 1, 1, 0, 0, 0, 1, 1, 0,\n",
       "       0, 1, 0, 0, 0, 0, 1, 0, 1, 0, 1, 1, 0, 1, 1, 0, 1, 1, 1, 0, 1, 0,\n",
       "       0, 0, 1, 0, 1, 1, 1, 0, 1, 0, 0, 1, 0, 1, 0, 1, 0, 1, 0, 1, 0, 1,\n",
       "       1, 0, 1, 0, 1, 0, 1, 0, 0, 0, 0, 1, 1, 0, 1, 1, 0, 1, 0, 1, 0, 0,\n",
       "       1, 0, 1, 1, 1, 0, 1, 1, 1, 0, 0, 1, 1, 0, 0, 0, 1, 1, 0, 0, 1, 1,\n",
       "       0, 0, 1, 0, 1, 1, 1, 0, 1, 0, 1, 1, 1, 1, 0, 0, 0, 0, 0, 0, 0, 0,\n",
       "       0, 0, 1, 0, 0, 0, 0, 0, 0, 1, 1, 1, 1, 0, 1, 0, 1, 1, 0, 1, 1, 1,\n",
       "       1, 0, 0, 1, 1, 1, 0, 0, 0, 1, 0, 0, 0, 1, 1, 1, 0, 0, 1, 0, 0, 1,\n",
       "       0, 0, 0, 0, 0, 0, 1, 0, 0, 1, 0, 0, 0, 0, 0, 0, 1, 0, 0, 0, 0, 0,\n",
       "       1, 1, 1, 1, 0, 1, 0, 1, 1, 0, 0, 1, 1, 1, 0, 1, 0, 1, 0, 0, 0, 0,\n",
       "       1, 1, 0, 1, 0, 1, 1, 0, 1, 1, 1, 0, 1, 1, 1, 0, 0, 0, 0, 1, 0, 1,\n",
       "       1, 1, 0, 1, 1, 0, 0, 0, 1, 1, 1, 1, 1, 0, 0, 0, 0, 0, 0, 0, 0, 0,\n",
       "       1, 0, 0, 0, 0, 1, 0, 0, 0, 1, 0, 1, 0, 0, 0, 1, 0, 0, 0, 0, 1, 1,\n",
       "       0, 0, 0, 0, 1, 0, 0, 0, 0, 0, 0, 1, 0, 0, 0, 0, 1, 0, 0, 1, 1, 1,\n",
       "       0, 1, 1, 0, 1, 0, 1, 1, 0, 1, 0, 1, 1, 0, 1, 0, 1, 1, 1, 0, 0, 1,\n",
       "       0, 0, 1, 0, 1, 0, 0, 0, 0, 0, 1, 0, 1, 0, 0, 0, 0, 0, 1, 1, 1, 0,\n",
       "       0, 1, 1, 1, 0, 1, 1, 0, 1, 0, 1, 1, 0, 0, 1, 0, 0, 1, 1, 1, 1, 1,\n",
       "       0, 1, 0, 1, 1, 1, 1, 1, 0, 1, 1, 1, 0, 0, 0, 1, 0, 0, 1, 1, 1, 1,\n",
       "       0, 0, 1, 0, 1, 1, 0, 1, 1, 0, 0, 0, 0, 0, 1, 1, 0, 1, 0, 1, 0, 0,\n",
       "       0, 1, 1, 0, 0, 0, 0, 1, 0, 1, 1, 1, 0, 0, 1, 0, 0, 1, 1, 1, 0, 1,\n",
       "       1, 1, 1, 0, 0, 0, 0, 1, 0, 0, 1, 0, 0, 0, 0, 0, 0, 1, 1, 0, 0, 0,\n",
       "       1, 0, 0, 1, 0, 0, 0, 0, 0, 1, 0, 1, 0, 0, 1, 1, 1, 0, 0, 0, 1, 1,\n",
       "       1, 0, 0, 1, 1, 0, 1, 1, 0, 0, 0, 0, 0, 1, 0, 0, 1, 0, 1, 1, 0, 1,\n",
       "       1, 1, 0, 1, 1, 0, 1, 1, 0, 0, 1, 0, 0, 1, 1, 0, 0, 1, 1, 1, 1, 0,\n",
       "       1, 0, 0, 0, 0, 0, 1, 1, 1, 1, 1, 1, 0, 1, 0, 1, 0, 1, 0, 1, 1, 1,\n",
       "       1, 1, 1, 0, 1, 0, 1, 0, 1, 0, 1, 1, 1, 0, 0, 0, 0, 1, 1, 1, 0, 1,\n",
       "       0, 1, 1, 1, 1, 1, 1, 1, 0, 0, 0, 1, 1, 1, 1, 0, 0, 1, 1, 0, 0, 0,\n",
       "       1, 0, 1, 0, 1, 0, 1, 1, 1, 0, 1, 0, 0, 1, 0, 0, 0, 0, 1, 1, 1, 1,\n",
       "       0, 0, 0, 1, 1, 0, 0, 0, 0, 1, 0, 0, 0, 1, 1, 1, 0, 0, 0, 0, 1, 0,\n",
       "       0, 1, 0, 1, 0, 0, 0, 1, 0, 0, 1, 1, 1, 0, 0, 0, 0, 1, 0, 1, 1, 0,\n",
       "       1, 1, 1, 1, 0, 0, 1, 0, 0, 1, 0, 1, 0, 0, 1, 0, 0, 1, 1, 0, 0, 0,\n",
       "       1, 0, 0, 0, 0, 1, 0, 0, 1, 0, 1, 1, 1, 1, 1, 0, 1, 1, 1, 0, 1, 1,\n",
       "       1, 0, 0, 1, 1, 0, 0, 0, 1, 1, 1, 0, 1, 0, 0, 0, 1, 1, 0, 1, 1, 1,\n",
       "       0, 0, 1, 1, 1, 1, 1, 1, 0, 0, 1, 0, 0, 1, 0, 0, 1, 1, 1, 0, 0, 0,\n",
       "       0, 0, 0, 1, 0, 1, 1, 1, 0, 0])"
      ]
     },
     "execution_count": 43,
     "metadata": {},
     "output_type": "execute_result"
    }
   ],
   "source": [
    "# n = number of trials, p = probability of success for each trial\n",
    "# s = result of tossing the coin 1000 times\n",
    "s = rng.binomial(n=1, p=0.5, size=1000)\n",
    "s"
   ]
  },
  {
   "cell_type": "code",
   "execution_count": 44,
   "id": "94f39ac6-c60a-4038-8160-aaffd58d8ff5",
   "metadata": {},
   "outputs": [
    {
     "data": {
      "text/plain": [
       "<BarContainer object of 2 artists>"
      ]
     },
     "execution_count": 44,
     "metadata": {},
     "output_type": "execute_result"
    },
    {
     "data": {
      "image/png": "[encoded data removed]",
      "text/plain": [
       "<Figure size 960x640 with 1 Axes>"
      ]
     },
     "metadata": {},
     "output_type": "display_data"
    }
   ],
   "source": [
    "plt.bar(['Heads', 'Tails'], [s.size - s.sum(), s.sum()])"
   ]
  },
  {
   "cell_type": "code",
   "execution_count": 45,
   "id": "ce2d8683-dccb-4df1-974e-48ddd2b423f0",
   "metadata": {},
   "outputs": [
    {
     "data": {
      "text/plain": [
       "<BarContainer object of 2 artists>"
      ]
     },
     "execution_count": 45,
     "metadata": {},
     "output_type": "execute_result"
    },
    {
     "data": {
      "image/png": "[encoded data removed]",
      "text/plain": [
       "<Figure size 960x640 with 1 Axes>"
      ]
     },
     "metadata": {},
     "output_type": "display_data"
    }
   ],
   "source": [
    "# change the probability to 0.25 to simulate choosing a heart from a deck of cards!\n",
    "s = rng.binomial(n=1, p=0.25, size=1000)\n",
    "plt.bar(['Not hearts', 'Hearts'], [s.size - s.sum(), s.sum()])"
   ]
  },
  {
   "cell_type": "markdown",
   "id": "f31db8a6-9ff3-411f-9415-3a23fc0994c3",
   "metadata": {},
   "source": [
    "Back to the coins! This simulates tossing the coin 10 times and counting the success of either heads or tails, then repeating that 1000 times."
   ]
  },
  {
   "cell_type": "code",
   "execution_count": 46,
   "id": "3baa917a-b2df-4906-ba04-ef15f986b140",
   "metadata": {
    "scrolled": true,
    "tags": []
   },
   "outputs": [
    {
     "data": {
      "text/plain": [
       "array([ 7,  9,  5,  3,  5,  1,  2,  6,  6,  3,  4,  5,  6,  3,  5,  3,  4,\n",
       "        5,  3,  7,  4,  3,  4,  8,  5,  6,  7,  4,  6,  4,  4,  5,  5,  5,\n",
       "        6,  6,  7,  7,  6,  4,  3,  4,  3,  1,  6,  3,  5,  3,  7,  4,  4,\n",
       "        4,  4,  4,  3,  7,  6,  5,  6,  7,  6,  6,  5,  5,  5,  7,  7,  5,\n",
       "        6,  5,  6,  4,  5,  5,  7,  7,  7,  1,  8,  4,  5,  6,  3,  7,  5,\n",
       "        3,  5,  5,  6,  6,  3,  8,  3,  7,  2,  3,  3,  5,  6,  2,  7,  6,\n",
       "        7,  2,  7,  5,  5,  6,  4,  5,  6,  3,  4,  5,  4,  5,  3,  4,  4,\n",
       "        6,  6,  5,  7,  5,  4,  4,  7,  6,  4,  4,  7,  5,  6,  6,  5,  7,\n",
       "        4,  4,  5,  6,  6,  5,  5,  7,  2,  2,  7,  7,  5,  3,  5,  4,  7,\n",
       "        4,  2,  6,  3,  4,  5,  5,  6,  6,  6,  7,  5,  4,  2,  5,  4,  9,\n",
       "        4,  5,  4,  5,  3,  6,  3,  6,  6,  4,  6,  5,  3,  4,  7,  6,  5,\n",
       "        5,  6,  1,  6,  2,  7,  4,  4,  3,  4,  4,  5,  5,  7,  5,  4,  6,\n",
       "        7,  7,  5,  8,  4,  5,  3,  7,  6,  7,  5,  6,  5,  3,  6,  3,  5,\n",
       "        7,  4,  7,  3,  4,  5,  7,  5,  3,  7,  4,  3,  6,  3,  5,  5,  5,\n",
       "        4,  4,  6,  3,  3,  2,  2,  4,  4,  5,  5,  7,  4,  2,  5,  5,  4,\n",
       "        4,  6,  4,  4,  6,  6,  7,  3,  6,  6,  6,  6,  3,  4,  1,  5,  5,\n",
       "        5,  4,  7,  7,  5,  4,  6,  5,  2,  5,  8, 10,  4,  7,  5,  2,  3,\n",
       "        4,  5,  4,  5,  5,  3,  2,  8,  3,  6,  6,  5,  6,  4,  5,  4,  4,\n",
       "        7,  8,  5,  4,  7,  6,  2,  7,  4,  5,  6,  7,  4,  8,  6,  8,  5,\n",
       "        5,  3,  5,  6,  6,  3,  6,  4,  5,  3,  2,  4,  4,  3,  3,  6,  3,\n",
       "        4,  4,  4,  3,  6,  4,  4,  5,  4,  4,  3,  8,  6,  5,  3,  5,  6,\n",
       "        7,  7,  4,  5,  6,  7,  5,  4,  4,  6,  6,  3,  5,  6,  6,  4,  4,\n",
       "        4,  6,  5,  1,  4,  9,  5,  5,  7,  7,  7,  5,  6,  5,  5,  3,  6,\n",
       "        6,  4,  3,  6,  5,  6,  5,  4,  4,  7,  4,  4,  6,  5,  5,  4,  4,\n",
       "        6,  6,  3,  7,  8,  2,  3,  8,  5,  5,  6,  4,  5,  7,  5,  6,  8,\n",
       "        6,  5,  4,  5,  4,  5,  3,  3,  4,  6,  4,  5,  5,  5,  5,  7,  5,\n",
       "        6,  3,  5,  4,  6,  4,  8,  6,  7,  4,  4,  6,  6,  4,  7,  6,  5,\n",
       "        4,  6,  4,  5,  5,  9,  5,  8,  4,  7,  8,  5,  5,  3,  6,  4,  8,\n",
       "        7,  2,  8,  6,  5,  4,  6,  5,  5,  6,  3,  6,  6,  6,  5,  7,  5,\n",
       "        4,  6,  4,  6,  4,  4,  3,  4,  5,  6,  3,  5,  3,  4,  6,  6,  5,\n",
       "        6,  4,  6,  4,  6,  4,  4,  6,  6,  2,  6,  5,  5,  4,  6,  5,  7,\n",
       "        6,  3,  8,  4,  2,  4,  4,  4,  8,  3,  3,  4,  2,  4,  4,  5,  7,\n",
       "        6,  4,  5,  5,  7,  6,  5,  3,  6,  4,  1,  7,  3,  5,  7,  3,  4,\n",
       "        4,  5,  5,  6,  4,  6,  2,  3,  5,  4,  7,  2,  6,  4,  5,  7,  3,\n",
       "        4,  6,  5,  5,  7,  4,  5,  5,  4,  7,  7,  5,  4,  7,  7,  7,  4,\n",
       "        1,  7,  6,  5,  6,  2,  5,  6,  4,  3,  7,  5,  5,  4,  8,  7,  2,\n",
       "        6,  6,  6,  5,  5,  6,  9,  5,  5,  4,  4,  3,  3,  3,  6,  6,  6,\n",
       "        5,  6,  8,  6,  5,  7,  4,  6,  2,  6,  8,  2,  6,  7,  7,  7,  4,\n",
       "        5,  6,  4,  6,  6,  5,  4,  5,  7,  5,  6,  5,  2,  2,  6,  7,  7,\n",
       "        7,  8,  6,  6,  4,  5,  6,  6,  9,  4,  4,  5,  8,  4,  6,  4,  7,\n",
       "        9,  5,  5,  3,  5,  5,  4,  7,  5,  6,  8,  6,  9,  6,  7,  4,  7,\n",
       "        9,  7,  7,  6,  5,  9,  4,  4,  5,  5,  6,  6,  6,  5,  5,  5,  7,\n",
       "        7,  5,  5,  6,  6,  2,  5,  5,  8,  3,  5,  8,  3,  7,  5,  6,  6,\n",
       "        4,  4,  6,  6,  6,  4,  5,  8,  2,  5,  6,  6,  4,  6,  4,  5,  5,\n",
       "        7,  5,  6,  3,  6,  3,  3,  5,  6,  3,  4,  7,  6,  2,  2,  7,  5,\n",
       "        4,  4,  3,  5,  8,  5,  3,  7,  3,  4,  6,  6,  4,  4,  3,  4,  4,\n",
       "        3,  6,  4,  5,  4,  5,  4,  5,  5,  2,  6,  2,  1,  8,  3,  5,  4,\n",
       "        5,  2,  7,  3,  6,  4,  5,  7,  7,  4,  5,  3,  3,  2,  7,  5,  7,\n",
       "        7,  7,  3,  4,  5,  6,  4,  3,  8,  2,  3,  5,  5,  3,  5,  5,  7,\n",
       "        5,  5,  4,  5,  6,  4,  5,  7,  4,  5,  3,  4,  7,  8,  7,  6,  6,\n",
       "        6,  4,  6,  3,  7,  5,  4,  6,  3,  4,  2,  8,  7,  4,  6,  8,  8,\n",
       "        6,  4,  7,  3,  8,  5,  4,  6,  5,  6,  5,  7,  5,  6,  3,  4,  5,\n",
       "        6,  4,  5,  5,  8,  9,  7,  7,  6,  2,  7,  5,  6,  5,  3,  4,  5,\n",
       "        7,  4,  5,  4,  4,  3,  4,  6,  8,  8,  5,  5,  4,  6,  5,  7,  6,\n",
       "        6,  2,  4,  5,  4,  7,  6,  5,  4,  7,  6,  5,  5,  6,  4,  7,  5,\n",
       "        4,  6,  4,  2,  7,  5,  7,  5,  5,  7,  7,  2,  5,  4,  3,  5,  5,\n",
       "        3,  4,  3,  6,  9,  4,  4,  3,  6,  7,  8,  4,  4,  5,  5,  3,  5,\n",
       "        8,  6,  5,  8,  3,  6,  5,  4,  3,  5,  2,  5,  7,  5,  4,  8,  5,\n",
       "        3,  5,  4,  7,  5,  6,  4,  4,  5,  8,  3,  6,  9,  4])"
      ]
     },
     "execution_count": 46,
     "metadata": {},
     "output_type": "execute_result"
    }
   ],
   "source": [
    "u = rng.binomial(n=10, p=0.5, size=1000)\n",
    "u"
   ]
  },
  {
   "cell_type": "code",
   "execution_count": 47,
   "id": "13ef9d24-9d41-455b-84ad-a849e5c1e929",
   "metadata": {},
   "outputs": [
    {
     "data": {
      "text/plain": [
       "array([ 1,  2,  3,  4,  5,  6,  7,  8,  9, 10])"
      ]
     },
     "execution_count": 47,
     "metadata": {},
     "output_type": "execute_result"
    }
   ],
   "source": [
    "unique, counts = np.unique(u, return_counts=True)\n",
    "unique"
   ]
  },
  {
   "cell_type": "code",
   "execution_count": 48,
   "id": "fbaa9cf4-904d-47ff-9f8b-516ac7ae3ce8",
   "metadata": {},
   "outputs": [
    {
     "data": {
      "text/plain": [
       "array([  9,  45, 109, 209, 241, 199, 129,  45,  13,   1])"
      ]
     },
     "execution_count": 48,
     "metadata": {},
     "output_type": "execute_result"
    }
   ],
   "source": [
    "counts"
   ]
  },
  {
   "cell_type": "code",
   "execution_count": 49,
   "id": "a6112be1-d369-40f1-9067-e8398a03572d",
   "metadata": {},
   "outputs": [
    {
     "data": {
      "text/plain": [
       "<BarContainer object of 10 artists>"
      ]
     },
     "execution_count": 49,
     "metadata": {},
     "output_type": "execute_result"
    },
    {
     "data": {
      "image/png": "[encoded data removed]",
      "text/plain": [
       "<Figure size 960x640 with 1 Axes>"
      ]
     },
     "metadata": {},
     "output_type": "display_data"
    }
   ],
   "source": [
    "plt.bar(unique,counts)"
   ]
  },
  {
   "cell_type": "markdown",
   "id": "bdd30aa9-7b6b-4193-9040-a9e26ddfa972",
   "metadata": {},
   "source": [
    "Looks like a normal distribution!"
   ]
  },
  {
   "cell_type": "markdown",
   "id": "cfc10383-cce8-4e84-97fc-67526791a7fa",
   "metadata": {},
   "source": [
    "A contrived real world example from my other life! A blind man walks into a room with a piano and randomly plays a note - what are the chances of him not playing a C? There are 11 Cs out of 88 notes so that is a probability of 1/8 or 0.125. What is the probability of him missing the C if he repeats it 5 times?  \n",
    "We do 10000 trials of the model, and count the number that generate zero positive results."
   ]
  },
  {
   "cell_type": "code",
   "execution_count": 50,
   "id": "871fd73d-6ad0-42bf-90c8-b9f25f86fdaa",
   "metadata": {},
   "outputs": [
    {
     "data": {
      "text/plain": [
       "0.5095"
      ]
     },
     "execution_count": 50,
     "metadata": {},
     "output_type": "execute_result"
    }
   ],
   "source": [
    "sum(rng.binomial(5, 0.125, 10000) == 0)/10000."
   ]
  },
  {
   "cell_type": "code",
   "execution_count": 51,
   "id": "38e41200-e3a5-4c91-8bc4-f71671db08a8",
   "metadata": {},
   "outputs": [
    {
     "data": {
      "image/png": "[encoded data removed]",
      "text/plain": [
       "<Figure size 960x640 with 1 Axes>"
      ]
     },
     "metadata": {},
     "output_type": "display_data"
    }
   ],
   "source": [
    "# to visualise that\n",
    "a = rng.binomial(5, 0.125, 10000)\n",
    "plt.hist(a);"
   ]
  },
  {
   "cell_type": "markdown",
   "id": "1cc6ec4f-336b-4da7-9874-4a78062e3473",
   "metadata": {},
   "source": [
    "## Poisson Distribution"
   ]
  },
  {
   "cell_type": "markdown",
   "id": "9d518a69-c5d6-49d2-a7dd-f173feb646bf",
   "metadata": {},
   "source": [
    "Poisson Distribution can be used to simulate number of 'events' occuring in specific intervals when the average freqency rate is known and is not dependent on the previous occurances. The basic syntax is demonstrated below where the first parameter is the average number of events and the second the amount of values returned. \n",
    "The following is a good example from wikipedia:  \n",
    ">\"... a call center receives an average of 180 calls per hour, 24 hours a day. The calls are independent; receiving one does not change the probability of when the next one will arrive. The number of calls received during any minute has a Poisson probability distribution: the most likely numbers are 2 and 3 but 1 and 4 are also likely and there is a small probability of it being as low as zero and a very small probability it could be 10.  \n",
    "https://en.wikipedia.org/wiki/Poisson_distribution"
   ]
  },
  {
   "cell_type": "code",
   "execution_count": 52,
   "id": "52490c78-1e68-4bb6-a0a3-80d396029c80",
   "metadata": {
    "tags": []
   },
   "outputs": [
    {
     "data": {
      "text/plain": [
       "array([6, 2, 7, 6, 8, 8, 5, 6, 5, 4])"
      ]
     },
     "execution_count": 52,
     "metadata": {},
     "output_type": "execute_result"
    }
   ],
   "source": [
    "# 5 is average number of events, 10 is the amount returned\n",
    "rng.poisson(5,10)"
   ]
  },
  {
   "cell_type": "markdown",
   "id": "1c6c2e70-6481-4ff2-bcdc-9745f6b1e9fc",
   "metadata": {},
   "source": [
    "I'm going to try and simulate people going to the pub between 6pm and 11.30 on the 14th November! Obviously there are many other factors which may influence this but this will show the code!"
   ]
  },
  {
   "cell_type": "code",
   "execution_count": 53,
   "id": "73611cd7-941a-4b60-8eda-96263f02b215",
   "metadata": {},
   "outputs": [
    {
     "data": {
      "text/plain": [
       "DatetimeIndex(['2021-11-15 18:00:00', '2021-11-15 18:15:00',\n",
       "               '2021-11-15 18:30:00', '2021-11-15 18:45:00',\n",
       "               '2021-11-15 19:00:00', '2021-11-15 19:15:00',\n",
       "               '2021-11-15 19:30:00', '2021-11-15 19:45:00',\n",
       "               '2021-11-15 20:00:00', '2021-11-15 20:15:00',\n",
       "               '2021-11-15 20:30:00', '2021-11-15 20:45:00',\n",
       "               '2021-11-15 21:00:00', '2021-11-15 21:15:00',\n",
       "               '2021-11-15 21:30:00', '2021-11-15 21:45:00',\n",
       "               '2021-11-15 22:00:00', '2021-11-15 22:15:00',\n",
       "               '2021-11-15 22:30:00', '2021-11-15 22:45:00',\n",
       "               '2021-11-15 23:00:00', '2021-11-15 23:15:00',\n",
       "               '2021-11-15 23:30:00'],\n",
       "              dtype='datetime64[ns]', freq='15T')"
      ]
     },
     "execution_count": 53,
     "metadata": {},
     "output_type": "execute_result"
    }
   ],
   "source": [
    "# creates the range and time interval\n",
    "range = pd.date_range(\"18:00\", \"23:30\", freq=\"15min\")\n",
    "range"
   ]
  },
  {
   "cell_type": "code",
   "execution_count": 54,
   "id": "e65abd82-830e-4147-baa6-a68f77ee94fc",
   "metadata": {
    "scrolled": true,
    "tags": []
   },
   "outputs": [
    {
     "data": {
      "text/html": [
       "<div>\n",
       "<style scoped>\n",
       "    .dataframe tbody tr th:only-of-type {\n",
       "        vertical-align: middle;\n",
       "    }\n",
       "\n",
       "    .dataframe tbody tr th {\n",
       "        vertical-align: top;\n",
       "    }\n",
       "\n",
       "    .dataframe thead th {\n",
       "        text-align: right;\n",
       "    }\n",
       "</style>\n",
       "<table border=\"1\" class=\"dataframe\">\n",
       "  <thead>\n",
       "    <tr style=\"text-align: right;\">\n",
       "      <th></th>\n",
       "      <th>New Punters</th>\n",
       "    </tr>\n",
       "  </thead>\n",
       "  <tbody>\n",
       "    <tr>\n",
       "      <th>2021-11-15 18:00:00</th>\n",
       "      <td>13</td>\n",
       "    </tr>\n",
       "    <tr>\n",
       "      <th>2021-11-15 18:15:00</th>\n",
       "      <td>13</td>\n",
       "    </tr>\n",
       "    <tr>\n",
       "      <th>2021-11-15 18:30:00</th>\n",
       "      <td>21</td>\n",
       "    </tr>\n",
       "    <tr>\n",
       "      <th>2021-11-15 18:45:00</th>\n",
       "      <td>20</td>\n",
       "    </tr>\n",
       "    <tr>\n",
       "      <th>2021-11-15 19:00:00</th>\n",
       "      <td>16</td>\n",
       "    </tr>\n",
       "    <tr>\n",
       "      <th>2021-11-15 19:15:00</th>\n",
       "      <td>23</td>\n",
       "    </tr>\n",
       "    <tr>\n",
       "      <th>2021-11-15 19:30:00</th>\n",
       "      <td>21</td>\n",
       "    </tr>\n",
       "    <tr>\n",
       "      <th>2021-11-15 19:45:00</th>\n",
       "      <td>19</td>\n",
       "    </tr>\n",
       "    <tr>\n",
       "      <th>2021-11-15 20:00:00</th>\n",
       "      <td>19</td>\n",
       "    </tr>\n",
       "    <tr>\n",
       "      <th>2021-11-15 20:15:00</th>\n",
       "      <td>20</td>\n",
       "    </tr>\n",
       "    <tr>\n",
       "      <th>2021-11-15 20:30:00</th>\n",
       "      <td>18</td>\n",
       "    </tr>\n",
       "    <tr>\n",
       "      <th>2021-11-15 20:45:00</th>\n",
       "      <td>19</td>\n",
       "    </tr>\n",
       "    <tr>\n",
       "      <th>2021-11-15 21:00:00</th>\n",
       "      <td>16</td>\n",
       "    </tr>\n",
       "    <tr>\n",
       "      <th>2021-11-15 21:15:00</th>\n",
       "      <td>19</td>\n",
       "    </tr>\n",
       "    <tr>\n",
       "      <th>2021-11-15 21:30:00</th>\n",
       "      <td>24</td>\n",
       "    </tr>\n",
       "    <tr>\n",
       "      <th>2021-11-15 21:45:00</th>\n",
       "      <td>21</td>\n",
       "    </tr>\n",
       "    <tr>\n",
       "      <th>2021-11-15 22:00:00</th>\n",
       "      <td>19</td>\n",
       "    </tr>\n",
       "    <tr>\n",
       "      <th>2021-11-15 22:15:00</th>\n",
       "      <td>15</td>\n",
       "    </tr>\n",
       "    <tr>\n",
       "      <th>2021-11-15 22:30:00</th>\n",
       "      <td>31</td>\n",
       "    </tr>\n",
       "    <tr>\n",
       "      <th>2021-11-15 22:45:00</th>\n",
       "      <td>19</td>\n",
       "    </tr>\n",
       "    <tr>\n",
       "      <th>2021-11-15 23:00:00</th>\n",
       "      <td>28</td>\n",
       "    </tr>\n",
       "    <tr>\n",
       "      <th>2021-11-15 23:15:00</th>\n",
       "      <td>21</td>\n",
       "    </tr>\n",
       "    <tr>\n",
       "      <th>2021-11-15 23:30:00</th>\n",
       "      <td>16</td>\n",
       "    </tr>\n",
       "  </tbody>\n",
       "</table>\n",
       "</div>"
      ],
      "text/plain": [
       "                     New Punters\n",
       "2021-11-15 18:00:00           13\n",
       "2021-11-15 18:15:00           13\n",
       "2021-11-15 18:30:00           21\n",
       "2021-11-15 18:45:00           20\n",
       "2021-11-15 19:00:00           16\n",
       "2021-11-15 19:15:00           23\n",
       "2021-11-15 19:30:00           21\n",
       "2021-11-15 19:45:00           19\n",
       "2021-11-15 20:00:00           19\n",
       "2021-11-15 20:15:00           20\n",
       "2021-11-15 20:30:00           18\n",
       "2021-11-15 20:45:00           19\n",
       "2021-11-15 21:00:00           16\n",
       "2021-11-15 21:15:00           19\n",
       "2021-11-15 21:30:00           24\n",
       "2021-11-15 21:45:00           21\n",
       "2021-11-15 22:00:00           19\n",
       "2021-11-15 22:15:00           15\n",
       "2021-11-15 22:30:00           31\n",
       "2021-11-15 22:45:00           19\n",
       "2021-11-15 23:00:00           28\n",
       "2021-11-15 23:15:00           21\n",
       "2021-11-15 23:30:00           16"
      ]
     },
     "execution_count": 54,
     "metadata": {},
     "output_type": "execute_result"
    }
   ],
   "source": [
    "# new dataframe with random poisson distributed data to simulate pub punters\n",
    "# 20 is the average number of admissions per 30min interval\n",
    "punters = rng.poisson(20, len(range))\n",
    "\n",
    "# index is timeseries created above\n",
    "punterSchedule = pd.DataFrame(punters, index=range,columns=['New Punters'])\n",
    "punterSchedule"
   ]
  },
  {
   "cell_type": "markdown",
   "id": "edda3d89-98c8-4c70-a45d-fe0f4a1e014b",
   "metadata": {},
   "source": [
    "The lineplot below uses seaborn to visualise this"
   ]
  },
  {
   "cell_type": "code",
   "execution_count": 55,
   "id": "7ae59c9b-7447-4a09-8e2a-ca372ffa86fc",
   "metadata": {},
   "outputs": [
    {
     "data": {
      "text/plain": [
       "<AxesSubplot:ylabel='New Punters'>"
      ]
     },
     "execution_count": 55,
     "metadata": {},
     "output_type": "execute_result"
    },
    {
     "data": {
      "image/png": "[encoded data removed]",
      "text/plain": [
       "<Figure size 960x640 with 1 Axes>"
      ]
     },
     "metadata": {},
     "output_type": "display_data"
    }
   ],
   "source": [
    "# creates a lineplot\n",
    "sns.set(style=\"darkgrid\")\n",
    "sns.lineplot(x=range, y='New Punters', data = punterSchedule)"
   ]
  },
  {
   "cell_type": "markdown",
   "id": "6d0d8f66-db9a-4060-a545-0ae356dd7405",
   "metadata": {
    "tags": []
   },
   "source": [
    "<br>\n",
    "\n",
    "## Exponential Distribution"
   ]
  },
  {
   "cell_type": "markdown",
   "id": "35ab0339-cc44-4001-9547-71147f6205c9",
   "metadata": {},
   "source": [
    "The exponential distribution is a continuous distribution that is commonly used to measure the expected time for an event to occur, or time until the next event. \n",
    "There are 2 parameters:  \n",
    "1) scale - inverse of rate - defaults is 1.0.\n",
    "2) size - The shape of the returned array."
   ]
  },
  {
   "cell_type": "code",
   "execution_count": 56,
   "id": "93689c20-5fe4-43a8-8b36-65bb25fb27a2",
   "metadata": {},
   "outputs": [
    {
     "data": {
      "text/plain": [
       "array([0.19746352, 0.07451062, 0.12768371, 3.79459365, 1.18175376,\n",
       "       0.13017779, 0.62591223, 0.8423853 , 0.22780588, 2.95824333])"
      ]
     },
     "execution_count": 56,
     "metadata": {},
     "output_type": "execute_result"
    }
   ],
   "source": [
    "rng.exponential(2, 10)"
   ]
  },
  {
   "cell_type": "code",
   "execution_count": 57,
   "id": "fec8ff76-699b-48cb-befc-d4335ef54b81",
   "metadata": {},
   "outputs": [
    {
     "data": {
      "image/png": "[encoded data removed]",
      "text/plain": [
       "<Figure size 960x640 with 1 Axes>"
      ]
     },
     "metadata": {},
     "output_type": "display_data"
    }
   ],
   "source": [
    "x = rng.exponential(3.45, 10000)\n",
    "  \n",
    "count, bins, ignored = plt.hist(x, 40, density = True)\n",
    "plt.show()"
   ]
  },
  {
   "cell_type": "markdown",
   "id": "9ca85cc7-cc04-42e0-8bdb-ea8212a462f6",
   "metadata": {},
   "source": [
    "<br>\n",
    "\n",
    "## The use of seeds in generating pseudorandom numbers"
   ]
  },
  {
   "cell_type": "markdown",
   "id": "db7d1bd0-eac8-4041-86b8-2923578405b7",
   "metadata": {
    "tags": []
   },
   "source": [
    ">\"Pseudorandomness is a sample of numbers that look close to random, but were generated using a deterministic process.\"\n",
    "https://machinelearningmastery.com/how-to-generate-random-numbers-in-python/"
   ]
  },
  {
   "cell_type": "markdown",
   "id": "d3324d4f-5a0b-41df-877e-24010299940b",
   "metadata": {},
   "source": [
    "<br>\n",
    "\n",
    "As mentioned above, numbers returned using numpy.random module are not truly random at all. In fact computers dont't really do random that well! They are what is known as pseudo-random numbers - basically numbers that appear to be random but actually aren't. They are predetermined using algorithims, one of the benefits of which is that they are repeatable and reproducible which aids in all sorts of investigative coding and testing.\n",
    "The seed is what numpy uses to generate the 'random' numbers - if we pass the seed to the NumPy pseudo-random number generator, every time we run the code we get the same result. Or we can let numpy generate one, and we won't get the same results each time. The following code demonstrates both situations."
   ]
  },
  {
   "cell_type": "code",
   "execution_count": 58,
   "id": "edc5dea8-94f7-427b-b9a5-7b62a1d63e71",
   "metadata": {},
   "outputs": [
    {
     "name": "stdout",
     "output_type": "stream",
     "text": [
      "[5 0 3 3 7]\n",
      "[5 0 3 3 7]\n",
      "[5 0 3 3 7]\n"
     ]
    }
   ],
   "source": [
    "# Every time we run this code we will get the same array\n",
    "np.random.seed(0)\n",
    "print(np.random.randint(10, size = 5))\n",
    "np.random.seed(0)\n",
    "print(np.random.randint(10, size = 5))\n",
    "np.random.seed(0)\n",
    "print(np.random.randint(10, size = 5))"
   ]
  },
  {
   "cell_type": "code",
   "execution_count": 59,
   "id": "b57c1890-f3e6-46c6-83ba-4db7a3d5011c",
   "metadata": {},
   "outputs": [
    {
     "name": "stdout",
     "output_type": "stream",
     "text": [
      "[9 3 5 2 4]\n",
      "[7 6 8 8 1]\n",
      "[6 7 7 8 1]\n"
     ]
    }
   ],
   "source": [
    "# Whereas every time we run this code we will get a different array\n",
    "print(np.random.randint(10, size = 5))\n",
    "print(np.random.randint(10, size = 5))\n",
    "print(np.random.randint(10, size = 5))"
   ]
  },
  {
   "cell_type": "markdown",
   "id": "d7e24f34-62ed-4dbf-ba7a-72e0ba4be8e3",
   "metadata": {},
   "source": [
    "The actual number passed to the seed function doesn't really matter, but we need to be aware that changing the number will change the output. The following code demonstrates this:"
   ]
  },
  {
   "cell_type": "code",
   "execution_count": 60,
   "id": "b51d2487-16e3-48b1-9a17-e168301b455e",
   "metadata": {},
   "outputs": [
    {
     "name": "stdout",
     "output_type": "stream",
     "text": [
      "0.5488135039273248\n",
      "0.417022004702574\n",
      "0.6399656293173611\n"
     ]
    }
   ],
   "source": [
    "# The first 2 of these will always produce will always produce the same float but different from each other\n",
    "np.random.seed(0)\n",
    "print(np.random.random())\n",
    "\n",
    "np.random.seed(1)\n",
    "print(np.random.random())\n",
    "\n",
    "# This will always produce a different number\n",
    "np.random.seed()\n",
    "print(np.random.random())"
   ]
  },
  {
   "cell_type": "markdown",
   "id": "eae8390a-d72d-4284-809a-b1e90a5d483f",
   "metadata": {},
   "source": [
    "The seed function can be used in conjunction with all of the other functions and wrappers already mentioned above, and is essential if your results need to be reproducible and shareable.\n",
    "\n",
    "https://www.sharpsightlabs.com/blog/numpy-random-seed/\n",
    "\n",
    "https://towardsdatascience.com/stop-using-numpy-random-seed-581a9972805f"
   ]
  },
  {
   "cell_type": "markdown",
   "id": "f3c5c398-f26f-48e1-be17-35d138755cb6",
   "metadata": {},
   "source": [
    "## References/Sources/Links"
   ]
  },
  {
   "cell_type": "markdown",
   "id": "62fb86ea-9962-4687-8856-96e9351cf9b6",
   "metadata": {},
   "source": [
    "NumPy - https://en.wikipedia.org/wiki/NumPy  \n",
    "https://numpy.org/doc/stable/user/whatisnumpy.html  \n",
    "https://pythonguides.com/python-numpy-random/  \n",
    "https://realpython.com/python-random/#prngs-for-arrays-numpyrandom  \n",
    "https://www.w3schools.com/python/numpy/numpy_random.asp  \n",
    "https://numpy.org/doc/stable/reference/random/index.html  \n",
    "https://numpy.org/doc/stable/reference/random/generator.html  \n",
    "https://numpy.org/doc/stable/reference/random/index.html#random-quick-start  \n",
    "https://numpy.org/doc/stable/reference/random/generated/numpy.random.Generator.choice.html#numpy.random.Generator.choice  \n",
    "https://numpy.org/doc/stable/reference/random/generated/numpy.random.Generator.permutation.html#numpy.random.Generator.permutation  \n",
    "Shuffle - https://numpy.org/doc/stable/reference/random/generated/numpy.random.Generator.shuffle.html#numpy.random.Generator.shuffle   \n",
    "Link to documentation - https://numpy.org/doc/1.16/reference/routines.random.html <br>\n",
    "Poisson Distribution - https://numpy.org/doc/stable/reference/random/generated/numpy.random.Generator.poisson.html#numpy.random.Generator.poisson  \n",
    "Exponential Distribution - https://numpy.org/doc/stable/reference/random/generated/numpy.random.Generator.exponential.html#numpy.random.Generator.exponential\n",
    "Normal Distribution - https://numpy.org/doc/stable/reference/random/generated/numpy.random.Generator.normal.html#numpy.random.Generator.normal  \n",
    "new stuff here - https://numpy.org/doc/stable/reference/random/index.html?highlight=random%20sampling%20numpy%20random#module-numpy.random  \n",
    "https://numpy.org/doc/stable/reference/random/generated/numpy.random.Generator.uniform.html#numpy.random.Generator.uniform  \n",
    "https://www.sharpsightlabs.com/blog/numpy-random-seed/\n",
    "Link to binomial distribution documentation - https://numpy.org/doc/stable/reference/random/generated/numpy.random.Generator.binomial.html#numpy.random.Generator.binomial"
   ]
  },
  {
   "cell_type": "markdown",
   "id": "4391bc34-d2bf-4ae5-b5e2-e38310c54be6",
   "metadata": {},
   "source": [
    "# END"
   ]
  }
 ],
 "metadata": {
  "kernelspec": {
   "display_name": "Python 3",
   "language": "python",
   "name": "python3"
  },
  "language_info": {
   "codemirror_mode": {
    "name": "ipython",
    "version": 3
   },
   "file_extension": ".py",
   "mimetype": "text/x-python",
   "name": "python",
   "nbconvert_exporter": "python",
   "pygments_lexer": "ipython3",
   "version": "3.8.8"
  }
 },
 "nbformat": 4,
 "nbformat_minor": 5
}
