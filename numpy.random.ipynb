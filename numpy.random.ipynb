{
 "cells": [
  {
   "cell_type": "markdown",
   "id": "6623e8f0-7eff-44bc-859d-cea9221cc5b3",
   "metadata": {
    "tags": []
   },
   "source": [
    "# Programming for Data Analysis\n",
    "## Autumn 2021 Assignment\n",
    "___"
   ]
  },
  {
   "cell_type": "markdown",
   "id": "c5c284f5-f76b-4797-8bd9-9dd4efa77f83",
   "metadata": {},
   "source": [
    "<br>\n",
    "\n",
    "![NumPy_logo](Images/NumPy_logo.png)"
   ]
  },
  {
   "cell_type": "markdown",
   "id": "054df6c6-6ddb-4c57-82f2-2c56150c229a",
   "metadata": {},
   "source": [
    "## Introduction"
   ]
  },
  {
   "cell_type": "markdown",
   "id": "452796f9-a419-467c-a7b8-54cfe6f38607",
   "metadata": {},
   "source": [
    "This assignment deals with the python package **numpy.random**. It will give an overview of the package, then discuss some of its main components and functions including random number generation, permutations, and probability distributions."
   ]
  },
  {
   "cell_type": "markdown",
   "id": "58cff7cc-4acc-4e48-a504-c2e04458ce61",
   "metadata": {},
   "source": [
    "<br> \n",
    "\n",
    "### NumPy"
   ]
  },
  {
   "cell_type": "markdown",
   "id": "421d0b6b-6a99-47ff-9b57-224699df15f8",
   "metadata": {},
   "source": [
    "NumPy is the primary python library for working with arrays. The name itself comes from Numerical Python, and it has become the fundamental package for scientific computing and also the foundation for many other analytic libraries in the python language.\n",
    "\n",
    "> \"NumPy ... is a library for the Python programming language, adding support for large, multi-dimensional arrays and matrices, along with a large collection of high-level mathematical functions to operate on these arrays.\"  \n",
    "https://en.wikipedia.org/wiki/NumPy"
   ]
  },
  {
   "cell_type": "markdown",
   "id": "689c09c2-8041-43be-8f2e-db494a843c77",
   "metadata": {
    "tags": []
   },
   "source": [
    "<br>\n",
    "\n",
    "### numpy.random "
   ]
  },
  {
   "cell_type": "markdown",
   "id": "01a628ea-6740-46d6-920b-9c9a958cc700",
   "metadata": {
    "tags": []
   },
   "source": [
    "**numpy.random** is a module within the NumPy package which allows us to generate **pseudo-random** numbers and gives us a range of tools to manipulate them. Although there already is a random module in the Python standard library, numpy.random adds much extra functionality in particular in relation to arrays and has the ability to draw from a lot more statistical distributions. Computers can't really 'do random' - they need a set of instructions to produce an output - so programs like numpy.random use algorithims to generate random numbers. Thus they are not truly random but pseudo-random. This also means they are predictable and also reproducible with is of much benefit when running experimental code.  \n",
    "The numpy.random module has been updated recently so I will be concentrating on the newer version and methods. All of the older methods are still supported however."
   ]
  },
  {
   "cell_type": "markdown",
   "id": "b8206da7-c04e-4799-ad2e-49d051aed9f5",
   "metadata": {},
   "source": [
    "We begin by importing NumPy and all of the other libraries we are going to be using in the presentation. As per comvention and economy of space each is shortened as **np**, **plt**, etc."
   ]
  },
  {
   "cell_type": "code",
   "execution_count": 1,
   "id": "c081eb61-1dfd-4939-8ada-33a91ac4f2ac",
   "metadata": {},
   "outputs": [],
   "source": [
    "# importing NumPy\n",
    "import numpy as np\n",
    "\n",
    "# importing matplotlib.pyplot for plotting and visualisations\n",
    "import matplotlib.pyplot as plt\n",
    "\n",
    "# for data analysis\n",
    "import pandas as pd\n",
    "\n",
    "# for plotting and visualisations\n",
    "import seaborn as sns"
   ]
  },
  {
   "cell_type": "code",
   "execution_count": 2,
   "id": "7d16c778-de32-4d36-aecb-ad100244419f",
   "metadata": {},
   "outputs": [
    {
     "name": "stdout",
     "output_type": "stream",
     "text": [
      "['Solarize_Light2', '_classic_test_patch', 'bmh', 'classic', 'dark_background', 'fast', 'fivethirtyeight', 'ggplot', 'grayscale', 'seaborn', 'seaborn-bright', 'seaborn-colorblind', 'seaborn-dark', 'seaborn-dark-palette', 'seaborn-darkgrid', 'seaborn-deep', 'seaborn-muted', 'seaborn-notebook', 'seaborn-paper', 'seaborn-pastel', 'seaborn-poster', 'seaborn-talk', 'seaborn-ticks', 'seaborn-white', 'seaborn-whitegrid', 'tableau-colorblind10']\n"
     ]
    }
   ],
   "source": [
    "# prints the styles available in matplotlib.pyplot\n",
    "print(plt.style.available)"
   ]
  },
  {
   "cell_type": "code",
   "execution_count": 3,
   "id": "15180dc1-1eb8-4c9a-a3be-9cc1d09db488",
   "metadata": {},
   "outputs": [],
   "source": [
    "# set global style for all plots\n",
    "plt.style.use('_classic_test_patch')\n",
    "\n",
    "# set global plot size\n",
    "plt.rcParams['figure.figsize'] = (12,8)"
   ]
  },
  {
   "cell_type": "markdown",
   "id": "9c1931ff-8665-4a4b-a3e3-fbee111d9b08",
   "metadata": {},
   "source": [
    "<br>\n",
    "\n",
    "NumPy creates random numbers through the use of a **BitGenerator** and a **Generator** - the BitGenerator generates random sequences of bits which are transformed into values by the generator using a variety of distributions. We can create a new constructor using the **default_rng** method to get a new instance of a generator.  "
   ]
  },
  {
   "cell_type": "code",
   "execution_count": 4,
   "id": "00b83316-4fe8-40ca-8ba0-4d4b629addd3",
   "metadata": {},
   "outputs": [
    {
     "data": {
      "text/plain": [
       "Generator(PCG64) at 0x7FE977858820"
      ]
     },
     "execution_count": 4,
     "metadata": {},
     "output_type": "execute_result"
    }
   ],
   "source": [
    "# using default_rng() to get a new random number generator\n",
    "rng = np.random.default_rng()\n",
    "rng"
   ]
  },
  {
   "cell_type": "markdown",
   "id": "b60e7042-2576-4492-af8b-69950eddceaa",
   "metadata": {},
   "source": [
    "The default bitgenerator is PCG64 which is a 128-bit implementation of **O’Neill’s permutation congruential generator**.  \n",
    "> \"PCG is a family of simple fast space-efficient statistically good algorithms for random number generation. Unlike many general-purpose RNGs, they are also hard to predict.\"  \n",
    "https://www.pcg-random.org/index.html"
   ]
  },
  {
   "cell_type": "markdown",
   "id": "d6868e14-e315-44fb-952b-f9ebed3aec75",
   "metadata": {
    "tags": []
   },
   "source": [
    "We can pass a seed to the generator or let the computer pull a number from the operating system. More about that later!"
   ]
  },
  {
   "cell_type": "markdown",
   "id": "612dbef5-35cb-45a2-9d9d-4420557730df",
   "metadata": {},
   "source": [
    "<br>\n",
    "\n",
    "**numpy.random.default_rng.random** returns floating point numbers. If no value is passed we get one randomly generated float between 0 and 1. If one value is passed we get an array of that length, and if a second value is passed (with extra brackets) we get a 2D array with those parameters."
   ]
  },
  {
   "cell_type": "code",
   "execution_count": 5,
   "id": "493a50f4-0857-46ec-a648-e7226f019f54",
   "metadata": {},
   "outputs": [
    {
     "data": {
      "text/plain": [
       "0.9955566881951969"
      ]
     },
     "execution_count": 5,
     "metadata": {},
     "output_type": "execute_result"
    }
   ],
   "source": [
    "# returns a single float\n",
    "rng.random()"
   ]
  },
  {
   "cell_type": "code",
   "execution_count": 6,
   "id": "1ecadc8e-69dd-4e96-aa23-8f2cf3e29fad",
   "metadata": {},
   "outputs": [
    {
     "data": {
      "text/plain": [
       "array([0.0806421 , 0.73161333, 0.62433517])"
      ]
     },
     "execution_count": 6,
     "metadata": {},
     "output_type": "execute_result"
    }
   ],
   "source": [
    "# returns an array of 3 floats\n",
    "rng.random(3)"
   ]
  },
  {
   "cell_type": "code",
   "execution_count": 7,
   "id": "bcea859e-c7d1-4c18-baf5-f6fa843d1939",
   "metadata": {},
   "outputs": [
    {
     "data": {
      "text/plain": [
       "array([[0.49669472, 0.29249268, 0.59560068],\n",
       "       [0.82042282, 0.1953515 , 0.86211583],\n",
       "       [0.02731035, 0.43581236, 0.59946674]])"
      ]
     },
     "execution_count": 7,
     "metadata": {},
     "output_type": "execute_result"
    }
   ],
   "source": [
    "# returns an array of 3x3 floats\n",
    "rng.random((3,3))"
   ]
  },
  {
   "cell_type": "markdown",
   "id": "1d34ff8d-62b3-4e71-bb88-9a14524a6a1e",
   "metadata": {},
   "source": [
    "<br>\n",
    "\n",
    "**numpy.random.default_rng.integers** returns integers. If we pass 1 value, that will be the upper limit and non inclusive. 0 is the default lower limit. If we pass 2 values, the first will be the lower limit and the 2nd the upper. 3 values, and the third will be the amount of numbers creating an array."
   ]
  },
  {
   "cell_type": "code",
   "execution_count": 8,
   "id": "34fe8104-1410-439f-a774-209fa16845ec",
   "metadata": {},
   "outputs": [
    {
     "data": {
      "text/plain": [
       "3"
      ]
     },
     "execution_count": 8,
     "metadata": {},
     "output_type": "execute_result"
    }
   ],
   "source": [
    "# returns an integer between 0-9\n",
    "rng.integers(10)"
   ]
  },
  {
   "cell_type": "code",
   "execution_count": 9,
   "id": "be8ec535-562f-4319-962a-54cb857a127b",
   "metadata": {},
   "outputs": [
    {
     "data": {
      "text/plain": [
       "7"
      ]
     },
     "execution_count": 9,
     "metadata": {},
     "output_type": "execute_result"
    }
   ],
   "source": [
    "rng.integers(3,10)"
   ]
  },
  {
   "cell_type": "code",
   "execution_count": 10,
   "id": "80efb068-14ba-44b4-a112-777410e2e1f6",
   "metadata": {},
   "outputs": [
    {
     "data": {
      "text/plain": [
       "array([6, 3, 6, 2, 9, 7, 8, 7, 5, 6, 3, 8, 9, 6, 9, 8, 4, 8, 7, 2])"
      ]
     },
     "execution_count": 10,
     "metadata": {},
     "output_type": "execute_result"
    }
   ],
   "source": [
    "# returns an array of 20 numbers between 2-9\n",
    "rng.integers(2,10,20)"
   ]
  },
  {
   "cell_type": "markdown",
   "id": "9e6894f9-ea2e-454b-9204-668060698d8b",
   "metadata": {},
   "source": [
    "For all of the above code, if we rerun it we will get different results each time. If we want reproducible results we need to pass in a **seed**. We will look at this in more detail later."
   ]
  },
  {
   "cell_type": "markdown",
   "id": "467bb82f-09ee-4f90-9d61-9803e2f243e5",
   "metadata": {},
   "source": [
    "<br>\n",
    "\n",
    "#### Permutations"
   ]
  },
  {
   "cell_type": "markdown",
   "id": "8085a9b5-f27d-41de-b0c9-0afd9f2b9ece",
   "metadata": {},
   "source": [
    "<br>\n",
    "\n",
    "Within the numpy.random library there are many methods we can use to randomly manipulate the generated or given data. **permutation()** and **shuffle()** both rearrange the order of an array. The main difference is that permutation creates a new array while shuffle alters the original array."
   ]
  },
  {
   "cell_type": "code",
   "execution_count": 11,
   "id": "c5fc44ef-f574-4b76-a144-84f4c0ded34e",
   "metadata": {},
   "outputs": [
    {
     "data": {
      "text/plain": [
       "array([8, 7, 1, 3, 5, 6, 4, 9, 2])"
      ]
     },
     "execution_count": 11,
     "metadata": {},
     "output_type": "execute_result"
    }
   ],
   "source": [
    "# creating an array of numbers 1 to 10\n",
    "arr = np.array([1, 2, 3, 4, 5, 6, 7, 8, 9])\n",
    "\n",
    "# random permutation\n",
    "rng.permutation(arr)"
   ]
  },
  {
   "cell_type": "code",
   "execution_count": 12,
   "id": "75cda6ab-b41d-4ee5-b98a-bd6dc68e9145",
   "metadata": {},
   "outputs": [
    {
     "data": {
      "text/plain": [
       "array([1, 2, 3, 4, 5, 6, 7, 8, 9])"
      ]
     },
     "execution_count": 12,
     "metadata": {},
     "output_type": "execute_result"
    }
   ],
   "source": [
    "# the original array is intact\n",
    "arr"
   ]
  },
  {
   "cell_type": "code",
   "execution_count": 13,
   "id": "7d6f1b72-3f94-43a8-bb5c-66a3c7726450",
   "metadata": {},
   "outputs": [
    {
     "data": {
      "text/plain": [
       "array([3, 7, 5, 1, 4, 2, 9, 8, 6])"
      ]
     },
     "execution_count": 13,
     "metadata": {},
     "output_type": "execute_result"
    }
   ],
   "source": [
    "# 'shuffles' the array and alters the original\n",
    "rng.shuffle(arr)\n",
    "arr"
   ]
  },
  {
   "cell_type": "markdown",
   "id": "ef84722e-e5a5-47f5-b0a2-7ef0791c6504",
   "metadata": {},
   "source": [
    "We can use permutation to create a random array from a range"
   ]
  },
  {
   "cell_type": "code",
   "execution_count": 14,
   "id": "74f1489f-fdd0-4421-af8b-c44af5efdf76",
   "metadata": {},
   "outputs": [
    {
     "name": "stdout",
     "output_type": "stream",
     "text": [
      "[ 4  1 19  7 15  2  3  8 14  9 17 11 16  6 10  0  5 12 18 13]\n"
     ]
    }
   ],
   "source": [
    "# creates a permutation of the numbers 0-19\n",
    "print(rng.permutation(20))"
   ]
  },
  {
   "cell_type": "markdown",
   "id": "ce99ffa9-289b-4789-8d49-7c2fc9008a22",
   "metadata": {},
   "source": [
    "We can also use it on 2 dimensional arrays. Interestingly it maintains the numbers and order within each row and only rearranges the actual rows. If we add the parameter axis=1 we can permutate within the rows also"
   ]
  },
  {
   "cell_type": "code",
   "execution_count": 15,
   "id": "755ebb94-b013-49f8-b38f-a87cf3ce8f0a",
   "metadata": {},
   "outputs": [
    {
     "data": {
      "text/plain": [
       "array([[ 0,  1,  2,  3],\n",
       "       [ 4,  5,  6,  7],\n",
       "       [ 8,  9, 10, 11]])"
      ]
     },
     "execution_count": 15,
     "metadata": {},
     "output_type": "execute_result"
    }
   ],
   "source": [
    "# creates 12 numbers and shapes them into a 3x4 arrany\n",
    "array = np.arange(12).reshape((3, 4))\n",
    "array"
   ]
  },
  {
   "cell_type": "code",
   "execution_count": 16,
   "id": "46fda685-6e62-409b-bfad-9b53d60e7938",
   "metadata": {},
   "outputs": [
    {
     "data": {
      "text/plain": [
       "array([[ 8,  9, 10, 11],\n",
       "       [ 0,  1,  2,  3],\n",
       "       [ 4,  5,  6,  7]])"
      ]
     },
     "execution_count": 16,
     "metadata": {},
     "output_type": "execute_result"
    }
   ],
   "source": [
    "# permutates the 2D array - rows only\n",
    "rng.permutation(array)"
   ]
  },
  {
   "cell_type": "code",
   "execution_count": 17,
   "id": "fd7881a5-1678-4da0-b724-a215da60bff1",
   "metadata": {},
   "outputs": [
    {
     "data": {
      "text/plain": [
       "array([[ 1,  3,  2,  0],\n",
       "       [ 5,  7,  6,  4],\n",
       "       [ 9, 11, 10,  8]])"
      ]
     },
     "execution_count": 17,
     "metadata": {},
     "output_type": "execute_result"
    }
   ],
   "source": [
    "# permutates the 2D array - rows and within rows\n",
    "rng.permutation(array, axis=1)"
   ]
  },
  {
   "cell_type": "code",
   "execution_count": 18,
   "id": "0187993c-24e8-4e74-8cfc-49abc9fd69dd",
   "metadata": {},
   "outputs": [
    {
     "data": {
      "text/plain": [
       "array([[ 0,  1,  2,  3],\n",
       "       [ 4,  5,  6,  7],\n",
       "       [ 8,  9, 10, 11]])"
      ]
     },
     "execution_count": 18,
     "metadata": {},
     "output_type": "execute_result"
    }
   ],
   "source": [
    "# just to confirm the original array is intact\n",
    "array"
   ]
  },
  {
   "cell_type": "markdown",
   "id": "d71ef031-8bb9-4f42-8992-672afcd397e6",
   "metadata": {
    "tags": []
   },
   "source": [
    "We can do the same using the shuffle method - again the main difference being shuffle alters the original array."
   ]
  },
  {
   "cell_type": "code",
   "execution_count": 19,
   "id": "57926963-9fc3-41f8-afd5-b54dd6742aaa",
   "metadata": {},
   "outputs": [
    {
     "data": {
      "text/plain": [
       "array([[ 2,  0,  3,  1],\n",
       "       [ 6,  4,  7,  5],\n",
       "       [10,  8, 11,  9]])"
      ]
     },
     "execution_count": 19,
     "metadata": {},
     "output_type": "execute_result"
    }
   ],
   "source": [
    "# shuffles the array\n",
    "rng.shuffle(array, axis=1)\n",
    "array"
   ]
  },
  {
   "cell_type": "code",
   "execution_count": 20,
   "id": "d84a1417-f804-4614-a840-465c6f681e80",
   "metadata": {},
   "outputs": [
    {
     "data": {
      "text/plain": [
       "array([[ 2,  0,  3,  1],\n",
       "       [ 6,  4,  7,  5],\n",
       "       [10,  8, 11,  9]])"
      ]
     },
     "execution_count": 20,
     "metadata": {},
     "output_type": "execute_result"
    }
   ],
   "source": [
    "# just to confirm the array is now altered\n",
    "array"
   ]
  },
  {
   "cell_type": "markdown",
   "id": "e7d3fc00-f11a-4793-b37e-6dc04b5d8b83",
   "metadata": {},
   "source": [
    "<br>\n",
    "\n",
    "A few other interesting methods available to us"
   ]
  },
  {
   "cell_type": "markdown",
   "id": "5a3d9e7e-9e13-44d0-8af0-2b8398b04827",
   "metadata": {},
   "source": [
    "**numpy.random.default_rng.choice** generates a random sample from a given array. The first value in brackets is the upper range, while the 2nd is the number of values returned."
   ]
  },
  {
   "cell_type": "code",
   "execution_count": 21,
   "id": "f1800315-bbb7-4265-b2d5-542095a20939",
   "metadata": {},
   "outputs": [
    {
     "data": {
      "text/plain": [
       "array([ 9, 36,  7, 27, 18,  3, 21, 14, 22,  2, 14, 15, 18, 33, 33])"
      ]
     },
     "execution_count": 21,
     "metadata": {},
     "output_type": "execute_result"
    }
   ],
   "source": [
    "# choose 7 numbers at random from the range 0-39\n",
    "rng.choice(40, 15)"
   ]
  },
  {
   "cell_type": "markdown",
   "id": "8a2aa3ef-7dcf-4236-af70-680bed3228fb",
   "metadata": {},
   "source": [
    "**numpy.random.default_rng.bytes** returns random bytes"
   ]
  },
  {
   "cell_type": "code",
   "execution_count": 22,
   "id": "8ff7a373-3870-4543-bc36-fe7635c45ccd",
   "metadata": {},
   "outputs": [
    {
     "data": {
      "text/plain": [
       "b'\\x0eD\\xa3\\xd2\\x9e(\\x08\\xe2\\x16\\x05'"
      ]
     },
     "execution_count": 22,
     "metadata": {},
     "output_type": "execute_result"
    }
   ],
   "source": [
    "# returns 10 random bytes!\n",
    "rng.bytes(10)"
   ]
  },
  {
   "cell_type": "markdown",
   "id": "90be6620-9a44-4da4-8439-4a1d570afeb4",
   "metadata": {},
   "source": [
    "<br>\n",
    "\n",
    "### simple guessing game"
   ]
  },
  {
   "cell_type": "markdown",
   "id": "aca73774-09aa-4170-89d8-96189ccfe070",
   "metadata": {},
   "source": [
    "A little game for fun using numpy.random!"
   ]
  },
  {
   "cell_type": "code",
   "execution_count": 64,
   "id": "169fbf8d-3878-4e14-9391-65a91cfe98f8",
   "metadata": {},
   "outputs": [
    {
     "name": "stdin",
     "output_type": "stream",
     "text": [
      "Pick a number between 1 and 10:  10\n"
     ]
    },
    {
     "name": "stdout",
     "output_type": "stream",
     "text": [
      "Unlucky - you guessed wrong!\n"
     ]
    }
   ],
   "source": [
    "# Generate a random integer between 1 and 10\n",
    "randomNumber = rng.integers(1,10)\n",
    "# Ask the player to pick a number\n",
    "yourChoice = int(input(\"Pick a number between 1 and 10: \"))\n",
    "# Compare the numbers\n",
    "if compChoice == yourChoice:\n",
    "    # If correct\n",
    "    print(\"Well done - you guessed right\")\n",
    "else:\n",
    "    # otherwise\n",
    "    print(\"Unlucky - you guessed wrong!\")"
   ]
  },
  {
   "cell_type": "markdown",
   "id": "7ed911c5-019c-4bff-a5a5-28b0ef4c321e",
   "metadata": {},
   "source": [
    "### "
   ]
  },
  {
   "cell_type": "markdown",
   "id": "f921fc40-26b0-46fb-9006-d1634ba4768a",
   "metadata": {},
   "source": [
    "<br>\n",
    "\n",
    "## Distributions\n",
    "___"
   ]
  },
  {
   "cell_type": "markdown",
   "id": "9135a0dd-281f-47d7-81f6-ca3a3c6317fc",
   "metadata": {},
   "source": [
    "Probability distributions are how values are distributed within a given range or criteria. I will go through several of the more common examples."
   ]
  },
  {
   "cell_type": "markdown",
   "id": "138b7dff-5e49-400e-bced-36f7e040b686",
   "metadata": {
    "tags": []
   },
   "source": [
    "### Uniform Distribution"
   ]
  },
  {
   "cell_type": "markdown",
   "id": "803cda47-4fe4-4921-b5f2-014a08611136",
   "metadata": {},
   "source": [
    "![NumPy_logo](Images/dice.jpeg)"
   ]
  },
  {
   "cell_type": "markdown",
   "id": "51229059-1816-4d8e-8f6b-f9956404ca21",
   "metadata": {},
   "source": [
    "This is where each event has an equal chance of occurring, such as rolling a single dice or choosing a particular playing card from the deck.  \n",
    "The default parameters are 0.0 and 1.0, with the upper value being non-inclusive. The uniform distribution dictates that the returned value has an equal chance of falling at any point between the 2 parameters."
   ]
  },
  {
   "cell_type": "code",
   "execution_count": 25,
   "id": "01da8bcf-55e6-4076-a5ce-a178949cef92",
   "metadata": {},
   "outputs": [
    {
     "data": {
      "text/plain": [
       "4.4667966211608956e-05"
      ]
     },
     "execution_count": 25,
     "metadata": {},
     "output_type": "execute_result"
    }
   ],
   "source": [
    "# return a floating point number between 0.0 and 1.0 (not including 1)\n",
    "rng.uniform()"
   ]
  },
  {
   "cell_type": "markdown",
   "id": "feeae8b6-1536-4028-ba3a-b0229fbc41ac",
   "metadata": {},
   "source": [
    "We can pass some parameters in then. One value specifies the upper limit (non-inclusive)"
   ]
  },
  {
   "cell_type": "code",
   "execution_count": 26,
   "id": "460fca72-8c2f-4147-9447-297dc7ab1ac9",
   "metadata": {},
   "outputs": [
    {
     "data": {
      "text/plain": [
       "1.9817113234643147"
      ]
     },
     "execution_count": 26,
     "metadata": {},
     "output_type": "execute_result"
    }
   ],
   "source": [
    "# returns a floating point number between 0.0 and 4.0\n",
    "rng.uniform(4)"
   ]
  },
  {
   "cell_type": "markdown",
   "id": "08a90bfd-1aeb-4c8b-b246-482f3e0e180c",
   "metadata": {},
   "source": [
    "When we pass 2 values, the first is the lower limit (inclusive) and the second the upper (non-inclusive)."
   ]
  },
  {
   "cell_type": "code",
   "execution_count": 27,
   "id": "edc76369-705d-49e8-bfd4-ddba9120d464",
   "metadata": {},
   "outputs": [
    {
     "data": {
      "text/plain": [
       "3.6888736648218607"
      ]
     },
     "execution_count": 27,
     "metadata": {},
     "output_type": "execute_result"
    }
   ],
   "source": [
    "# return a floating point number between 3.0 and 4.0\n",
    "rng.uniform(3,4)"
   ]
  },
  {
   "cell_type": "markdown",
   "id": "277aac14-4663-4091-b4ee-27272a7ee1bf",
   "metadata": {},
   "source": [
    "We can create a 2D array using the **size** parameter."
   ]
  },
  {
   "cell_type": "code",
   "execution_count": 28,
   "id": "54e28bde-e211-4323-b549-8956307f1307",
   "metadata": {
    "tags": []
   },
   "outputs": [
    {
     "data": {
      "text/plain": [
       "array([[10.12310827, 12.83281298, 10.83701049],\n",
       "       [14.09339993, 13.34724712, 14.95767906],\n",
       "       [11.52349492, 10.82593016, 13.70121497],\n",
       "       [13.66466276, 14.48842988, 14.26714613]])"
      ]
     },
     "execution_count": 28,
     "metadata": {},
     "output_type": "execute_result"
    }
   ],
   "source": [
    "# returns a 2D (4x3) array of floating point numbers between 10.0 and 15.0\n",
    "rng.uniform(10, 15, size=(4, 3))"
   ]
  },
  {
   "cell_type": "markdown",
   "id": "fa1eac7d-1759-4f38-b63f-49be51c9aec1",
   "metadata": {},
   "source": [
    "<br>\n",
    "\n",
    "#### Sample size"
   ]
  },
  {
   "cell_type": "markdown",
   "id": "6c05e3a4-9209-4e84-9f34-b6eabda31732",
   "metadata": {},
   "source": [
    "It's difficult to appreciate uniform distribution unless we increase the sample size. The following code creates various sizes of arrays of values between 0 and 100. In theory there's an equal chance for each value to occur but this only becomes obvious when we increase the sample size. The set of plots below demonstrate that clearly. The final plot which has a sample of 1 million values is nearly a straight line.  "
   ]
  },
  {
   "cell_type": "code",
   "execution_count": 29,
   "id": "8428efb4-fbc3-4e67-b625-09d830b86deb",
   "metadata": {
    "tags": []
   },
   "outputs": [],
   "source": [
    "# looking at the difference the sample size makes\n",
    "x = rng.integers(100, size = 10)\n",
    "y = rng.integers(100, size = 100)\n",
    "z = rng.integers(100, size = 1000)\n",
    "a = rng.integers(100, size = 10000)\n",
    "b = rng.integers(100, size = 100000)\n",
    "c = rng.integers(100, size = 1000000)"
   ]
  },
  {
   "cell_type": "code",
   "execution_count": 30,
   "id": "53baa821-cebd-4f0c-9a2a-bb4f06285526",
   "metadata": {},
   "outputs": [
    {
     "data": {
      "image/png": "[encoded data removed]",
      "text/plain": [
       "<Figure size 864x576 with 6 Axes>"
      ]
     },
     "metadata": {
      "needs_background": "light"
     },
     "output_type": "display_data"
    }
   ],
   "source": [
    "# plt.subplots(3,2) creates 3 rows and 2 columns of plots\n",
    "# axs[0,0] etc. specifies where this plot goes in the arrangement\n",
    "fig, axs = plt.subplots(3,2)\n",
    "axs[0,0].hist(x, bins=100)\n",
    "axs[0,0].set_title('Sample Size 10')\n",
    "axs[0,1].hist(y, bins=100)\n",
    "axs[0,1].set_title('Sample Size 100')\n",
    "axs[1,0].hist(z, bins=100)\n",
    "axs[1,0].set_title('Sample Size 1000')\n",
    "axs[1,1].hist(a, bins=100)\n",
    "axs[1,1].set_title('Sample Size 10000')\n",
    "axs[2,0].hist(b, bins=100)\n",
    "axs[2,0].set_title('Sample Size 100000')\n",
    "axs[2,1].hist(c, bins=100)\n",
    "axs[2,1].set_title('Sample Size 1000000')\n",
    "# creates space between each of the subplots\n",
    "fig.tight_layout()"
   ]
  },
  {
   "cell_type": "markdown",
   "id": "76f2d4d0-ab81-4bb0-9be0-55872b5bd9b8",
   "metadata": {
    "tags": []
   },
   "source": [
    "<br>\n",
    "\n",
    "### Normal distribution"
   ]
  },
  {
   "cell_type": "markdown",
   "id": "a0cb97c6-986e-4508-93e4-34b1377f6874",
   "metadata": {},
   "source": [
    "![Normal_Dist](Images/normal-distribution-function-example_dmeldy.png)"
   ]
  },
  {
   "cell_type": "markdown",
   "id": "9c710487-d3d5-4198-9789-5f73c9dff81a",
   "metadata": {},
   "source": [
    "Normal distribution represents the behavior of most of the situations in the universe - that's why it’s called a “normal” distribution I guess! It's also known as Gaussian Distribution or Bell Curve, and is one of the widest used distributions. It represents things like IQ Scores and heartbeats among others.   \n",
    "The parameters are as follows:\n",
    "1) mean - peak of the bell curve\n",
    "2) standard deviation - distance from the mean\n",
    "3) size - shape of the array  \n",
    "\n",
    "We use the **numpy.random.normal()** function. If no paremters are passed, a single value will be returned using a mean of 0 and standard deviation of 1. This is actually known as standard normal distribution and numpy.random has a separate **standard_random()** function which only takes a size as a parameter and leaves the mean and standard at 0 and 1 respectively.  "
   ]
  },
  {
   "cell_type": "code",
   "execution_count": 31,
   "id": "b2600ee5-ab77-47a1-bba6-e4f2c422ae5c",
   "metadata": {},
   "outputs": [
    {
     "data": {
      "text/plain": [
       "-0.5386924966032309"
      ]
     },
     "execution_count": 31,
     "metadata": {},
     "output_type": "execute_result"
    }
   ],
   "source": [
    "rng.normal()"
   ]
  },
  {
   "cell_type": "markdown",
   "id": "512ad858-57cb-4557-ae1a-50645e9d7800",
   "metadata": {},
   "source": [
    "Here we'll create an array using standard_normal()."
   ]
  },
  {
   "cell_type": "code",
   "execution_count": 32,
   "id": "b13f14cf-8eb7-40c0-aa4a-e608eeed1898",
   "metadata": {
    "scrolled": true,
    "tags": []
   },
   "outputs": [
    {
     "data": {
      "text/plain": [
       "array([ 1.54302084,  0.96641653, -0.04010726, -0.3498332 ,  0.16735209,\n",
       "       -1.70284058, -0.46285312, -0.71876466,  0.34983208, -0.74075228,\n",
       "        0.48710964,  0.27968514,  0.57568363,  0.52961302,  0.33943842,\n",
       "       -1.10432741, -1.57380225,  0.8839873 ,  0.34027689,  0.45064356,\n",
       "        0.59346031, -0.86420494,  0.57404709, -1.20462302, -1.03450271,\n",
       "       -0.56119478,  1.34769127, -0.39111243, -0.21953657,  1.3368008 ,\n",
       "        1.54403343,  1.03550597,  1.55976456,  1.25501696,  0.13580917,\n",
       "        1.3093653 ,  1.07197262, -0.00823436,  0.8752932 , -0.71285266])"
      ]
     },
     "execution_count": 32,
     "metadata": {},
     "output_type": "execute_result"
    }
   ],
   "source": [
    "# returns an array of 40 random normally distributed numbers using a mean of 0 and SD of 1\n",
    "rng.standard_normal(40)"
   ]
  },
  {
   "cell_type": "code",
   "execution_count": 33,
   "id": "7acf0a3b-0f05-4caa-8570-4bafd3d2cd59",
   "metadata": {
    "scrolled": true,
    "tags": []
   },
   "outputs": [
    {
     "data": {
      "text/plain": [
       "array([3.8794624 , 2.53521876, 3.05040766, 2.99805595, 4.61607743,\n",
       "       4.8395202 , 4.28467789, 5.21337111, 3.43853886, 2.72637033,\n",
       "       2.94709953, 3.043007  , 4.06770857, 4.33441213, 5.06663295,\n",
       "       2.97291374, 3.21785185, 5.33919423, 2.29263836, 4.18810607,\n",
       "       3.36782276, 3.83744316, 4.50966789, 2.98267272, 5.76432129,\n",
       "       4.39782639, 3.12809221, 3.84314762, 3.58477841, 4.0130072 ,\n",
       "       3.86846251, 3.17926793, 4.97828659, 4.69458173, 4.35826432,\n",
       "       4.64813903, 3.7669247 , 2.66678936, 3.62142898, 3.4687519 ,\n",
       "       3.36729172, 3.09577096, 5.18316645, 3.71922743, 4.9956127 ,\n",
       "       6.01449396, 3.14525333, 4.04974008, 1.95956043, 3.87256774,\n",
       "       2.96672802, 3.82628291, 1.91812162, 3.27752501, 4.23067705,\n",
       "       4.36590499, 3.62713999, 5.72368999, 4.8326973 , 3.99670125,\n",
       "       4.74012746, 3.24184287, 3.67117399, 4.64468406, 3.66339508,\n",
       "       4.15492621, 5.4316903 , 4.25207873, 4.31373094, 3.32418802,\n",
       "       2.73019587, 4.70315887, 2.65366526, 3.8241373 , 3.12963218,\n",
       "       4.69765634, 3.45813771, 4.73059885, 3.9337512 , 3.54042157,\n",
       "       2.68039219, 4.27376444, 5.78129111, 4.14020553, 4.36651843,\n",
       "       5.3176431 , 4.49283505, 6.00135669, 5.44245224, 4.61658984,\n",
       "       3.09824421, 5.02298443, 6.36146711, 2.68563231, 3.1171958 ,\n",
       "       5.2634348 , 2.73987249, 4.5427795 , 4.37926239, 4.84871438])"
      ]
     },
     "execution_count": 33,
     "metadata": {},
     "output_type": "execute_result"
    }
   ],
   "source": [
    "# specifying the mean as 4.0\n",
    "z = rng.normal(loc=4, size=100)\n",
    "z"
   ]
  },
  {
   "cell_type": "code",
   "execution_count": 34,
   "id": "b6949f7f-ac43-4db8-a831-d58644bc9980",
   "metadata": {},
   "outputs": [
    {
     "data": {
      "image/png": "[encoded data removed]",
      "text/plain": [
       "<Figure size 864x576 with 1 Axes>"
      ]
     },
     "metadata": {
      "needs_background": "light"
     },
     "output_type": "display_data"
    }
   ],
   "source": [
    "# creates a histogram for z\n",
    "sns.histplot(z).set_title(\"Normal Distribution\");"
   ]
  },
  {
   "cell_type": "code",
   "execution_count": 35,
   "id": "6c0fc4d1-64c8-4b82-90ea-a2fe65c505fc",
   "metadata": {},
   "outputs": [
    {
     "data": {
      "image/png": "[encoded data removed]",
      "text/plain": [
       "<Figure size 864x576 with 1 Axes>"
      ]
     },
     "metadata": {
      "needs_background": "light"
     },
     "output_type": "display_data"
    }
   ],
   "source": [
    "# specifies the bins which smoothes things out\n",
    "# plt.title(\"Normal Distribution with bin size reduced\") \n",
    "# # plt.hist(z, bins=20);\n",
    "sns.histplot(z, bins=30).set_title(\"Normal Distribution with bin size reduced\");"
   ]
  },
  {
   "cell_type": "code",
   "execution_count": 36,
   "id": "93867eb3-7173-43c2-bdf7-2a88c229d4ff",
   "metadata": {},
   "outputs": [
    {
     "data": {
      "image/png": "[encoded data removed]",
      "text/plain": [
       "<Figure size 864x576 with 1 Axes>"
      ]
     },
     "metadata": {
      "needs_background": "light"
     },
     "output_type": "display_data"
    }
   ],
   "source": [
    "# looking at changing the loc (mean)\n",
    "x = rng.normal(loc=1.0, size=100)\n",
    "y = rng.normal(loc=3.0, size=100)\n",
    "fig, ax = plt.subplots()\n",
    "\n",
    "# plotting both on the same axis\n",
    "# alpha is transparency\n",
    "plt.title(\"Normal Distributions with different locs\") \n",
    "ax.hist(x, bins=10, alpha=0.5)\n",
    "ax.hist(y, bins=10, alpha=0.5);"
   ]
  },
  {
   "cell_type": "code",
   "execution_count": 37,
   "id": "7545a314-36a3-4193-8d65-58c8b94b6454",
   "metadata": {},
   "outputs": [
    {
     "data": {
      "image/png": "[encoded data removed]",
      "text/plain": [
       "<Figure size 864x576 with 1 Axes>"
      ]
     },
     "metadata": {
      "needs_background": "light"
     },
     "output_type": "display_data"
    }
   ],
   "source": [
    "# looking at changing the scale (standard deviation)\n",
    "x = rng.normal(scale=0.5, size=1000)\n",
    "y = rng.normal(scale=0.1, size=1000)\n",
    "fig, ax = plt.subplots()\n",
    "\n",
    "# plotting both on the same axis\n",
    "# alpha is transparency\n",
    "plt.title(\"Normal Distributions with different scales\") \n",
    "ax.hist(x, bins=30, alpha=0.5, density=True)\n",
    "ax.hist(y, bins=30, alpha=0.5, density=True);"
   ]
  },
  {
   "cell_type": "markdown",
   "id": "f45bd248-1165-4152-894f-3ccaf2284093",
   "metadata": {},
   "source": [
    "KDE - kernal density estimation is a useful tool in visualing normal distributions. It smooths out the curves by estimating all of the values in between."
   ]
  },
  {
   "cell_type": "code",
   "execution_count": 38,
   "id": "69d51dff-80e7-4d21-94b5-e0541cfa62e9",
   "metadata": {},
   "outputs": [
    {
     "data": {
      "text/plain": [
       "Text(0.5, 1.0, 'Normal Distribution with KDE')"
      ]
     },
     "execution_count": 38,
     "metadata": {},
     "output_type": "execute_result"
    },
    {
     "data": {
      "image/png": "[encoded data removed]",
      "text/plain": [
       "<Figure size 864x576 with 1 Axes>"
      ]
     },
     "metadata": {
      "needs_background": "light"
     },
     "output_type": "display_data"
    }
   ],
   "source": [
    "# https://seaborn.pydata.org/generated/seaborn.kdeplot.html\n",
    "sns.kdeplot(data=z, fill=True).set_title('Normal Distribution with KDE')"
   ]
  },
  {
   "cell_type": "markdown",
   "id": "b101265f-b675-4155-83a9-9cdbc3dd253f",
   "metadata": {},
   "source": [
    "We can do a similar demonstration to above to show how the sample size affects the outcome. We use the default paramters of mean=0 and SD=1 and create arrays between 10 and 1,000,000. Again the higher the sample size the more perfect the bell shaped curve. "
   ]
  },
  {
   "cell_type": "code",
   "execution_count": 39,
   "id": "c4854913-d21d-49e9-8286-3b02f7436565",
   "metadata": {},
   "outputs": [],
   "source": [
    "x = rng.standard_normal(10)\n",
    "y = rng.standard_normal(100)\n",
    "z = rng.standard_normal(1000)\n",
    "a = rng.standard_normal(10000)\n",
    "b = rng.standard_normal(100000)\n",
    "c = rng.standard_normal(1000000)"
   ]
  },
  {
   "cell_type": "code",
   "execution_count": 40,
   "id": "89c5bd7a-cc62-4922-a981-d35e1ca0ceca",
   "metadata": {},
   "outputs": [
    {
     "data": {
      "image/png": "[encoded data removed]",
      "text/plain": [
       "<Figure size 864x576 with 6 Axes>"
      ]
     },
     "metadata": {
      "needs_background": "light"
     },
     "output_type": "display_data"
    }
   ],
   "source": [
    "# plt.subplots(3,2) creates 3 rows and 2 columns of plots\n",
    "# axs[0,0] etc. specifies where this plot goes in the arrangement\n",
    "fig, axs = plt.subplots(3,2)\n",
    "axs[0,0].hist(x, bins=100)\n",
    "axs[0,0].set_title('Sample Size 10')\n",
    "axs[0,1].hist(y, bins=100)\n",
    "axs[0,1].set_title('Sample Size 100')\n",
    "axs[1,0].hist(z, bins=100)\n",
    "axs[1,0].set_title('Sample Size 1000')\n",
    "axs[1,1].hist(a, bins=100)\n",
    "axs[1,1].set_title('Sample Size 10000')\n",
    "axs[2,0].hist(b, bins=100)\n",
    "axs[2,0].set_title('Sample Size 100000')\n",
    "axs[2,1].hist(c, bins=100)\n",
    "axs[2,1].set_title('Sample Size 1000000')\n",
    "# creates space between each of the subplots\n",
    "fig.tight_layout()"
   ]
  },
  {
   "cell_type": "markdown",
   "id": "2a93c8bf-c236-4a63-9592-f1ab327a9a03",
   "metadata": {
    "tags": []
   },
   "source": [
    "<br>\n",
    "\n",
    "### Binomial Distribution"
   ]
  },
  {
   "cell_type": "markdown",
   "id": "3b63ed8c-d59f-4805-b51d-2d741520f24d",
   "metadata": {
    "tags": []
   },
   "source": [
    "Binomial distribution is when we're dealing with only 2 outcomes. These can be equal (0.5) such as a coin toss as demomstrated below, or any probability inserted as a parameter.  \n",
    "The syntax is demonstrated below where n = the number of trials and and p = the probability of success for either outcome."
   ]
  },
  {
   "cell_type": "code",
   "execution_count": 41,
   "id": "4e74b9da-8af6-4ce1-84ce-eef2e6f37c79",
   "metadata": {},
   "outputs": [
    {
     "data": {
      "text/plain": [
       "0"
      ]
     },
     "execution_count": 41,
     "metadata": {},
     "output_type": "execute_result"
    }
   ],
   "source": [
    "# simple example which returns either 0 or 1\n",
    "rng.binomial(n=1, p=0.5)"
   ]
  },
  {
   "cell_type": "markdown",
   "id": "43aa5576-d665-48f2-98c7-5736eda23edd",
   "metadata": {},
   "source": [
    "#### Coin toss simulation"
   ]
  },
  {
   "cell_type": "markdown",
   "id": "041a7205-fb56-4133-a6cd-290db8dc7dde",
   "metadata": {},
   "source": [
    "![NumPy_logo](Images/coinToss4.jpg)"
   ]
  },
  {
   "cell_type": "markdown",
   "id": "b65a1684-a745-4578-ad0e-7f43ec36edb1",
   "metadata": {},
   "source": [
    "The following code simulates tossing a coin 1000 times with the results shown in a bar chart"
   ]
  },
  {
   "cell_type": "code",
   "execution_count": 42,
   "id": "921420a5-22e5-41cd-8adb-558194c7ac3d",
   "metadata": {
    "scrolled": true,
    "tags": []
   },
   "outputs": [
    {
     "data": {
      "text/plain": [
       "array([1, 1, 0, 0, 0, 0, 1, 0, 1, 1, 1, 0, 0, 0, 1, 1, 0, 1, 0, 1, 1, 0,\n",
       "       0, 1, 1, 1, 0, 1, 1, 1, 1, 1, 1, 0, 0, 1, 1, 0, 0, 1, 0, 0, 0, 1,\n",
       "       1, 0, 0, 1, 0, 1, 1, 1, 1, 0, 1, 1, 1, 0, 1, 1, 1, 0, 1, 1, 0, 0,\n",
       "       0, 0, 0, 1, 1, 0, 0, 0, 1, 1, 1, 0, 1, 0, 1, 1, 0, 1, 0, 1, 1, 0,\n",
       "       0, 1, 1, 0, 0, 1, 0, 1, 0, 0, 0, 1, 0, 0, 0, 1, 1, 1, 1, 1, 0, 1,\n",
       "       0, 0, 1, 1, 1, 0, 1, 0, 1, 0, 1, 0, 1, 1, 1, 0, 0, 0, 0, 1, 0, 0,\n",
       "       1, 1, 1, 0, 1, 0, 0, 1, 1, 1, 1, 0, 0, 1, 1, 1, 0, 0, 1, 0, 1, 1,\n",
       "       0, 1, 0, 0, 1, 1, 0, 1, 0, 0, 1, 0, 1, 1, 1, 0, 0, 0, 1, 0, 0, 0,\n",
       "       0, 1, 1, 1, 0, 0, 1, 1, 0, 0, 1, 0, 1, 1, 1, 1, 1, 0, 1, 1, 1, 1,\n",
       "       1, 0, 1, 1, 0, 1, 1, 1, 0, 1, 0, 0, 0, 0, 0, 1, 1, 0, 0, 1, 1, 1,\n",
       "       0, 0, 1, 0, 0, 0, 0, 0, 1, 0, 0, 1, 0, 0, 0, 1, 1, 1, 1, 0, 1, 1,\n",
       "       1, 1, 0, 0, 1, 0, 0, 1, 1, 0, 1, 0, 1, 1, 0, 0, 1, 1, 1, 0, 1, 1,\n",
       "       0, 1, 0, 1, 1, 1, 1, 0, 1, 1, 1, 0, 1, 1, 1, 1, 0, 0, 0, 1, 0, 1,\n",
       "       0, 0, 0, 1, 0, 1, 1, 1, 0, 1, 1, 1, 0, 1, 0, 0, 0, 1, 0, 1, 0, 0,\n",
       "       1, 0, 0, 0, 1, 0, 1, 0, 0, 0, 1, 0, 1, 1, 0, 0, 1, 0, 0, 0, 0, 0,\n",
       "       0, 0, 1, 1, 0, 1, 0, 0, 0, 1, 0, 1, 0, 0, 1, 1, 0, 0, 1, 0, 1, 0,\n",
       "       0, 1, 1, 0, 0, 1, 1, 0, 0, 1, 1, 0, 0, 0, 0, 0, 1, 0, 1, 0, 0, 1,\n",
       "       1, 1, 0, 1, 1, 0, 0, 1, 1, 0, 0, 1, 0, 1, 0, 0, 1, 1, 0, 0, 0, 0,\n",
       "       0, 0, 1, 1, 1, 1, 0, 0, 1, 1, 1, 1, 0, 1, 0, 0, 1, 0, 0, 0, 0, 0,\n",
       "       1, 0, 0, 1, 1, 1, 1, 1, 1, 1, 1, 1, 0, 0, 1, 0, 0, 1, 0, 0, 1, 0,\n",
       "       1, 0, 1, 0, 0, 1, 1, 0, 1, 0, 1, 1, 0, 0, 0, 0, 0, 1, 0, 1, 1, 1,\n",
       "       1, 0, 0, 0, 1, 0, 0, 0, 0, 0, 1, 1, 0, 0, 0, 1, 0, 0, 1, 1, 1, 1,\n",
       "       0, 1, 0, 1, 0, 1, 1, 0, 0, 1, 0, 0, 1, 1, 0, 1, 1, 0, 0, 1, 1, 0,\n",
       "       0, 1, 0, 1, 1, 1, 1, 0, 0, 0, 1, 1, 0, 1, 0, 0, 1, 1, 0, 1, 1, 1,\n",
       "       1, 0, 0, 1, 1, 0, 1, 1, 1, 1, 0, 0, 0, 1, 1, 1, 0, 0, 0, 0, 1, 0,\n",
       "       0, 0, 1, 1, 0, 0, 0, 1, 1, 1, 0, 0, 1, 1, 1, 0, 1, 0, 1, 0, 0, 0,\n",
       "       0, 1, 1, 0, 0, 1, 1, 0, 0, 0, 1, 1, 0, 0, 1, 0, 0, 1, 0, 1, 0, 0,\n",
       "       0, 0, 1, 0, 1, 1, 1, 1, 1, 0, 1, 0, 1, 1, 0, 1, 0, 0, 1, 1, 1, 1,\n",
       "       1, 1, 0, 1, 1, 0, 0, 0, 1, 0, 1, 0, 0, 0, 0, 0, 0, 0, 0, 1, 0, 1,\n",
       "       1, 1, 1, 0, 0, 1, 0, 1, 0, 1, 0, 0, 1, 0, 0, 0, 0, 1, 1, 1, 0, 0,\n",
       "       1, 0, 1, 1, 0, 0, 1, 1, 1, 0, 0, 0, 0, 1, 0, 0, 0, 1, 0, 0, 1, 1,\n",
       "       0, 0, 0, 1, 1, 1, 1, 1, 1, 0, 1, 0, 0, 0, 1, 1, 0, 1, 0, 0, 1, 0,\n",
       "       0, 0, 1, 0, 1, 1, 1, 0, 1, 0, 1, 0, 0, 0, 0, 0, 1, 0, 1, 1, 0, 0,\n",
       "       1, 0, 1, 0, 1, 1, 0, 1, 0, 1, 0, 1, 1, 1, 1, 0, 0, 1, 0, 0, 1, 1,\n",
       "       0, 0, 0, 1, 1, 1, 1, 1, 0, 1, 1, 1, 0, 1, 1, 1, 1, 1, 1, 1, 0, 0,\n",
       "       1, 1, 1, 0, 1, 0, 0, 1, 0, 1, 1, 0, 1, 1, 1, 1, 1, 1, 0, 0, 0, 0,\n",
       "       0, 1, 0, 1, 1, 1, 1, 1, 0, 1, 0, 0, 1, 0, 0, 1, 1, 0, 0, 0, 1, 0,\n",
       "       1, 0, 1, 1, 0, 1, 0, 0, 0, 1, 1, 1, 1, 0, 1, 1, 1, 0, 1, 1, 1, 0,\n",
       "       1, 0, 1, 0, 1, 1, 0, 0, 1, 0, 1, 1, 0, 0, 0, 0, 1, 1, 0, 0, 1, 0,\n",
       "       1, 1, 0, 1, 0, 1, 0, 1, 0, 1, 0, 0, 0, 0, 1, 0, 1, 1, 1, 1, 1, 1,\n",
       "       1, 0, 0, 0, 1, 0, 0, 0, 1, 0, 0, 1, 1, 1, 1, 1, 1, 1, 1, 1, 0, 1,\n",
       "       1, 0, 1, 1, 1, 0, 0, 0, 1, 0, 1, 0, 0, 1, 1, 1, 0, 0, 0, 1, 1, 0,\n",
       "       1, 0, 0, 1, 1, 0, 0, 1, 0, 0, 1, 0, 0, 0, 1, 1, 1, 0, 1, 1, 0, 0,\n",
       "       0, 1, 1, 0, 1, 1, 0, 1, 0, 1, 0, 1, 1, 0, 1, 0, 1, 1, 0, 1, 1, 1,\n",
       "       1, 1, 0, 0, 1, 1, 1, 1, 0, 0, 0, 0, 1, 1, 1, 0, 1, 0, 1, 0, 0, 1,\n",
       "       1, 1, 0, 0, 1, 1, 1, 0, 1, 1])"
      ]
     },
     "execution_count": 42,
     "metadata": {},
     "output_type": "execute_result"
    }
   ],
   "source": [
    "# n = number of trials, p = probability of success for each trial\n",
    "# s = result of tossing the coin 1000 times\n",
    "s = rng.binomial(n=1, p=0.5, size=1000)\n",
    "s"
   ]
  },
  {
   "cell_type": "code",
   "execution_count": 43,
   "id": "94f39ac6-c60a-4038-8160-aaffd58d8ff5",
   "metadata": {},
   "outputs": [
    {
     "data": {
      "text/plain": [
       "<BarContainer object of 2 artists>"
      ]
     },
     "execution_count": 43,
     "metadata": {},
     "output_type": "execute_result"
    },
    {
     "data": {
      "image/png": "[encoded data removed]",
      "text/plain": [
       "<Figure size 864x576 with 1 Axes>"
      ]
     },
     "metadata": {
      "needs_background": "light"
     },
     "output_type": "display_data"
    }
   ],
   "source": [
    "# creating a bar chart to visualise the results\n",
    "plt.title(\"Results for heads and tails\") \n",
    "plt.bar(['Heads', 'Tails'], [s.size - s.sum(), s.sum()])"
   ]
  },
  {
   "cell_type": "markdown",
   "id": "fadeda22-741e-49c9-b8a8-a281ae593134",
   "metadata": {},
   "source": [
    "We're going to change the probability slightly here by using the example of drawing a heart from a deck of cards. There's a 1 in 4 chance of that happening so we insert 0.25 into the code and run it 1000 times."
   ]
  },
  {
   "cell_type": "code",
   "execution_count": 44,
   "id": "2f6ef50c-bca7-4a5b-bba1-98e0724282ed",
   "metadata": {},
   "outputs": [],
   "source": [
    "# change the probability to 0.25 to simulate choosing a heart from a deck of cards!\n",
    "s = rng.binomial(n=1, p=0.25, size=1000)"
   ]
  },
  {
   "cell_type": "markdown",
   "id": "805c9e50-f570-4788-bf49-d7978515cdc5",
   "metadata": {},
   "source": [
    "We're going to visualise that using seaborn this time. A bit prettier!"
   ]
  },
  {
   "cell_type": "code",
   "execution_count": 45,
   "id": "ce2d8683-dccb-4df1-974e-48ddd2b423f0",
   "metadata": {
    "jupyter": {
     "source_hidden": true
    },
    "tags": []
   },
   "outputs": [
    {
     "data": {
      "text/plain": [
       "Text(0.5, 1.0, 'Results for not-hearts and hearts')"
      ]
     },
     "execution_count": 45,
     "metadata": {},
     "output_type": "execute_result"
    },
    {
     "data": {
      "image/png": "[encoded data removed]",
      "text/plain": [
       "<Figure size 864x576 with 1 Axes>"
      ]
     },
     "metadata": {
      "needs_background": "light"
     },
     "output_type": "display_data"
    }
   ],
   "source": [
    "unique, counts = np.unique(s, return_counts=True)\n",
    "sns.barplot(x=unique, y=counts).set_title(\"Results for not-hearts and hearts\")"
   ]
  },
  {
   "cell_type": "code",
   "execution_count": null,
   "id": "c5d2eba2-ffde-4404-85ed-eb11776003ed",
   "metadata": {},
   "outputs": [],
   "source": []
  },
  {
   "cell_type": "markdown",
   "id": "f31db8a6-9ff3-411f-9415-3a23fc0994c3",
   "metadata": {},
   "source": [
    "Back to the coins! This simulates tossing the coin 10 times and counting the success of either heads or tails, then repeating that 1000 times."
   ]
  },
  {
   "cell_type": "code",
   "execution_count": 46,
   "id": "3baa917a-b2df-4906-ba04-ef15f986b140",
   "metadata": {
    "scrolled": true,
    "tags": []
   },
   "outputs": [
    {
     "data": {
      "text/plain": [
       "array([ 3,  7,  6,  8,  3,  2,  4,  2,  4,  7,  2,  8,  5,  1,  8,  7,  4,\n",
       "        3,  4,  5,  2,  5,  7,  6,  4,  6,  6,  4,  5,  4,  3,  5,  9,  3,\n",
       "        7,  6,  8,  4,  5,  5,  4,  7,  4,  4,  4,  5,  4,  5,  4,  6,  5,\n",
       "        1,  6,  7,  5,  8,  5,  7,  7,  4,  3,  3,  6,  6,  6,  6,  6,  5,\n",
       "        8,  7,  7,  5,  6,  5,  4,  5,  3,  3,  6,  6,  5,  5,  6,  7,  4,\n",
       "        6,  5,  6,  6,  7,  5,  3,  5,  5,  5,  3,  3,  5,  8,  6,  6,  4,\n",
       "        9,  4,  5,  4,  6,  5,  5,  6,  5,  4,  7,  5,  6,  6,  4,  6,  4,\n",
       "        6,  6,  5,  4,  5,  5,  5,  5,  3,  5,  5,  4,  3,  5,  8,  6,  5,\n",
       "        3,  6,  0,  6,  4,  4,  8,  4,  3,  4,  7,  5,  4,  4,  4,  5,  7,\n",
       "        4,  4,  3,  5,  2,  4,  3,  5,  4,  7,  6,  4,  6,  8,  3,  6,  5,\n",
       "        5,  7,  3,  6,  7,  4,  3,  6,  4,  7,  5,  3,  5,  5,  2,  3,  5,\n",
       "        7,  2,  2,  6,  6,  5,  2,  5,  4,  5,  5,  3,  6,  4,  6,  5,  6,\n",
       "        8,  5,  3,  5,  7,  3,  6,  5,  6,  6,  3,  6,  4,  4,  4,  1,  6,\n",
       "        6,  5,  3,  7,  6,  6,  6,  4,  2,  4,  7,  5,  5,  6,  4,  2,  3,\n",
       "        5,  4,  4,  8,  4,  4,  7,  5,  6,  6,  6,  7,  3,  7,  5,  6,  5,\n",
       "        4,  7,  4,  6,  5,  5,  3,  8,  5,  7,  6,  8,  4,  4,  3,  8,  3,\n",
       "        7,  5,  5,  9,  6,  5,  2,  3,  3,  1,  7,  5,  3,  4,  3,  6,  5,\n",
       "        7,  8,  5,  4,  4,  5,  5,  4,  4,  5,  4,  9,  4,  5,  4,  4,  8,\n",
       "        4,  7,  5,  7,  5,  5,  5,  7,  7,  6,  4,  6,  5,  3,  4,  4,  6,\n",
       "        5,  5,  5,  7,  3,  4,  7,  6, 10,  5,  3,  4,  5,  7,  5,  5,  6,\n",
       "        8,  2,  5,  6,  4,  4,  4,  6,  5,  5,  6,  5,  6,  7,  5,  4,  7,\n",
       "        5,  3,  6,  5,  4,  6,  6,  8,  5,  5,  5,  6,  5,  4,  5,  6,  6,\n",
       "        5,  4,  5,  8,  5,  6,  4,  6,  7,  6,  5,  6,  4,  8,  6,  5,  5,\n",
       "        6,  6,  6,  8,  3,  4,  3,  5,  9,  6,  7,  2,  5,  6,  7,  5,  3,\n",
       "        5,  5,  6,  3,  5,  4,  5,  5,  4,  3,  7,  7,  3,  4,  5,  4,  3,\n",
       "        5,  4,  6,  6,  4,  5,  5,  6,  5,  5,  2,  6,  4,  3,  5,  7,  6,\n",
       "        5,  5,  4,  4,  8,  6,  4,  4,  5,  5,  4,  8,  4,  6,  3,  6,  8,\n",
       "        4,  4,  3,  4,  4,  6,  9,  5,  6,  4,  5,  7,  4,  4,  7,  7,  4,\n",
       "        4,  5,  6,  6,  5,  5,  5,  5,  7,  6,  5,  4,  6,  6,  5,  5,  4,\n",
       "        5,  5,  7,  6,  4,  5,  4,  3,  7,  6,  6,  3,  4,  3,  4,  5,  5,\n",
       "        6,  5,  5,  6,  4,  4,  6,  6,  3,  3,  6,  7,  4,  2,  4,  3,  7,\n",
       "        5,  8,  4,  5,  5,  5,  7,  5,  6,  3,  8,  8,  2,  7,  7,  6,  7,\n",
       "        4,  6,  3,  4,  3,  4,  5,  3,  6,  6,  7,  2,  8,  4,  4,  7,  6,\n",
       "        4,  2,  6,  4,  4,  5,  5,  7,  5,  5,  8,  5,  6,  5,  6,  5,  4,\n",
       "        6,  5,  5,  8,  2,  3,  4,  8,  5,  5,  5,  5,  7,  6,  4,  7,  3,\n",
       "        5,  4,  2,  4,  5,  5,  6,  5,  4,  6,  4,  5,  7,  6,  4,  6,  7,\n",
       "        5,  3,  4,  4,  4,  3,  5,  7,  5,  5,  3,  6,  4,  5,  6,  4,  7,\n",
       "        7,  5,  4,  4,  3,  5,  5,  5,  4,  4,  6,  3,  5,  5,  5,  3,  6,\n",
       "        4,  3,  6,  4,  3,  1,  6,  4,  5,  7,  7,  4,  4,  6,  8,  7,  5,\n",
       "        7,  6,  3,  6,  3,  5,  4,  4,  7,  5,  5,  4,  2,  6,  6,  5,  2,\n",
       "        4,  5,  6,  5,  5,  8,  6,  3,  3,  5,  8,  4,  8,  4,  5,  3,  2,\n",
       "        4,  5,  5,  6,  6,  5,  7,  5,  7,  6,  4,  6,  4,  7,  6,  3,  4,\n",
       "        5,  4,  7,  2,  8,  6,  4,  7,  6,  6,  3,  7,  4,  5,  7,  8,  4,\n",
       "        5,  5,  3,  3,  3,  5,  4,  7,  5,  5,  7,  6,  6,  8,  3,  4,  1,\n",
       "        4,  4,  4,  8,  7,  1,  7,  6,  6,  6,  5,  6,  3,  7,  6,  5,  4,\n",
       "        6,  5,  6,  4,  4,  8,  5,  6,  4,  6,  2,  5,  3,  3,  8,  5,  4,\n",
       "        4,  7,  3,  5,  5,  4,  6,  5,  4,  6,  3,  1,  8,  3,  7,  7,  4,\n",
       "        4,  7,  8,  4,  2,  5,  7,  7,  3,  5,  6,  4,  5,  7,  4,  4,  6,\n",
       "        6,  6,  6,  3,  4,  6,  4,  5,  4,  6,  5,  8,  5,  5,  4,  8,  7,\n",
       "        5,  5,  3,  5,  7,  6,  7,  4,  6,  5,  4,  6,  6,  5,  7,  4,  4,\n",
       "        8,  4,  6,  6,  2,  5,  7,  5,  4,  2,  5,  6,  7,  5,  6,  7,  4,\n",
       "        5,  5,  6,  5,  8,  8,  4,  6,  8,  5,  5,  8,  6,  3,  5,  6,  5,\n",
       "        8,  3,  7,  5,  7,  6,  2,  6,  4,  4,  4,  4,  4,  4,  6,  7,  4,\n",
       "        5,  3,  6,  3,  8,  2,  8,  5,  6,  4,  5,  4,  4,  6,  5,  5,  5,\n",
       "        4,  7,  2,  4,  6,  4,  7,  5,  2,  4,  4,  7,  7,  1,  6,  4,  5,\n",
       "        1,  5,  7,  7,  4,  8,  7,  3,  5,  8,  7,  7,  5,  7,  3,  2,  7,\n",
       "        4,  5,  6,  5,  6,  4,  4,  6,  4,  8,  5,  6,  5,  6,  3,  6,  5,\n",
       "        7,  4,  4,  4,  4,  4,  6,  4,  4,  8,  4,  7,  3,  4,  8,  9,  3,\n",
       "        5,  8,  6,  7,  4,  7,  7,  6,  6,  7,  7,  6,  3,  8])"
      ]
     },
     "execution_count": 46,
     "metadata": {},
     "output_type": "execute_result"
    }
   ],
   "source": [
    "u = rng.binomial(n=10, p=0.5, size=1000)\n",
    "u"
   ]
  },
  {
   "cell_type": "markdown",
   "id": "64167967-3b01-4c34-a915-b0cef88e93e7",
   "metadata": {},
   "source": [
    "We plot this using a bar chart, but first we have to isolate the unique values using NumPy's **unique** function, and the counts for each."
   ]
  },
  {
   "cell_type": "code",
   "execution_count": 47,
   "id": "13ef9d24-9d41-455b-84ad-a849e5c1e929",
   "metadata": {},
   "outputs": [
    {
     "data": {
      "text/plain": [
       "array([ 0,  1,  2,  3,  4,  5,  6,  7,  8,  9, 10])"
      ]
     },
     "execution_count": 47,
     "metadata": {},
     "output_type": "execute_result"
    }
   ],
   "source": [
    "unique, counts = np.unique(u, return_counts=True)\n",
    "unique"
   ]
  },
  {
   "cell_type": "code",
   "execution_count": 48,
   "id": "a6112be1-d369-40f1-9067-e8398a03572d",
   "metadata": {},
   "outputs": [
    {
     "data": {
      "text/plain": [
       "Text(0.5, 1.0, 'Results for 10 coin tosses, 1000 times')"
      ]
     },
     "execution_count": 48,
     "metadata": {},
     "output_type": "execute_result"
    },
    {
     "data": {
      "image/png": "[encoded data removed]",
      "text/plain": [
       "<Figure size 864x576 with 1 Axes>"
      ]
     },
     "metadata": {
      "needs_background": "light"
     },
     "output_type": "display_data"
    }
   ],
   "source": [
    "# creating a barplot\n",
    "sns.barplot(x=unique,y=counts).set_title(\"Results for 10 coin tosses, 1000 times\") "
   ]
  },
  {
   "cell_type": "raw",
   "id": "5443afb2-afd9-45db-adcc-15d99eea039b",
   "metadata": {},
   "source": [
    "Interestingly it looks very like a normal distribution!\n",
    "\n",
    "___"
   ]
  },
  {
   "cell_type": "markdown",
   "id": "0e1c0feb-c2e0-4313-962d-e8f179ab6a14",
   "metadata": {},
   "source": [
    "<br>\n",
    "\n",
    "![NumPy_logo](Images/piano.jpeg)"
   ]
  },
  {
   "cell_type": "markdown",
   "id": "cfc10383-cce8-4e84-97fc-67526791a7fa",
   "metadata": {},
   "source": [
    "A contrived real world example from my other life! A blind man walks into a room with a piano and randomly plays a note - what are the chances of him **not** playing a C? There are 11 Cs out of 88 notes so that is a probability of 1/8 or 0.125. What is the probability of him missing the C if he repeats it 5 times?  \n",
    "We do 10000 trials of the model, and count the number that generate zero positive results."
   ]
  },
  {
   "cell_type": "code",
   "execution_count": 49,
   "id": "871fd73d-6ad0-42bf-90c8-b9f25f86fdaa",
   "metadata": {},
   "outputs": [
    {
     "data": {
      "text/plain": [
       "0.5048"
      ]
     },
     "execution_count": 49,
     "metadata": {},
     "output_type": "execute_result"
    }
   ],
   "source": [
    "# 5 trials, .125 probability, repeated 10000 times\n",
    "sum(rng.binomial(5, 0.125, 10000) == 0)/10000."
   ]
  },
  {
   "cell_type": "code",
   "execution_count": 50,
   "id": "38e41200-e3a5-4c91-8bc4-f71671db08a8",
   "metadata": {},
   "outputs": [
    {
     "data": {
      "image/png": "[encoded data removed]",
      "text/plain": [
       "<Figure size 864x576 with 1 Axes>"
      ]
     },
     "metadata": {
      "needs_background": "light"
     },
     "output_type": "display_data"
    }
   ],
   "source": [
    "# to visualise that\n",
    "a = rng.binomial(5, 0.125, 10000)\n",
    "unique, counts = np.unique(a, return_counts=True)\n",
    "sns.barplot(x=unique, y=counts).set_title(\"Results for blind man missing the note C\");"
   ]
  },
  {
   "cell_type": "markdown",
   "id": "1cc6ec4f-336b-4da7-9874-4a78062e3473",
   "metadata": {},
   "source": [
    "___\n",
    "\n",
    "<br>\n",
    "\n",
    "### Poisson Distribution"
   ]
  },
  {
   "cell_type": "markdown",
   "id": "9d518a69-c5d6-49d2-a7dd-f173feb646bf",
   "metadata": {},
   "source": [
    "Poisson Distribution can be used to simulate number of 'events' occuring in specific intervals when the average freqency rate is known and is not dependent on the previous occurances. The following is a good example from wikipedia:  \n",
    ">\"... a call center receives an average of 180 calls per hour, 24 hours a day. The calls are independent; receiving one does not change the probability of when the next one will arrive. The number of calls received during any minute has a Poisson probability distribution: the most likely numbers are 2 and 3 but 1 and 4 are also likely and there is a small probability of it being as low as zero and a very small probability it could be 10.  \n",
    "https://en.wikipedia.org/wiki/Poisson_distribution"
   ]
  },
  {
   "cell_type": "markdown",
   "id": "abffad72-208f-4f78-91fd-cc83d5b5ac6f",
   "metadata": {},
   "source": [
    "The basic syntax is demonstrated below where the first parameter is the average number of events and the second the amount of values returned. "
   ]
  },
  {
   "cell_type": "code",
   "execution_count": 51,
   "id": "52490c78-1e68-4bb6-a0a3-80d396029c80",
   "metadata": {
    "tags": []
   },
   "outputs": [
    {
     "data": {
      "text/plain": [
       "array([8, 5, 5, 7, 5, 3, 2, 3, 1, 3])"
      ]
     },
     "execution_count": 51,
     "metadata": {},
     "output_type": "execute_result"
    }
   ],
   "source": [
    "# 5 is average number of events, 10 is the amount returned\n",
    "rng.poisson(5,10)"
   ]
  },
  {
   "cell_type": "markdown",
   "id": "1c6c2e70-6481-4ff2-bcdc-9745f6b1e9fc",
   "metadata": {},
   "source": [
    "I'm going to try and simulate people going to the pub between 6pm and 11.30 today! Obviously there are many other factors which may influence this but this will show the code!"
   ]
  },
  {
   "cell_type": "code",
   "execution_count": 52,
   "id": "73611cd7-941a-4b60-8eda-96263f02b215",
   "metadata": {},
   "outputs": [
    {
     "data": {
      "text/plain": [
       "DatetimeIndex(['2021-11-17 18:00:00', '2021-11-17 18:15:00',\n",
       "               '2021-11-17 18:30:00', '2021-11-17 18:45:00',\n",
       "               '2021-11-17 19:00:00', '2021-11-17 19:15:00',\n",
       "               '2021-11-17 19:30:00', '2021-11-17 19:45:00',\n",
       "               '2021-11-17 20:00:00', '2021-11-17 20:15:00',\n",
       "               '2021-11-17 20:30:00', '2021-11-17 20:45:00',\n",
       "               '2021-11-17 21:00:00', '2021-11-17 21:15:00',\n",
       "               '2021-11-17 21:30:00', '2021-11-17 21:45:00',\n",
       "               '2021-11-17 22:00:00', '2021-11-17 22:15:00',\n",
       "               '2021-11-17 22:30:00', '2021-11-17 22:45:00',\n",
       "               '2021-11-17 23:00:00', '2021-11-17 23:15:00',\n",
       "               '2021-11-17 23:30:00'],\n",
       "              dtype='datetime64[ns]', freq='15T')"
      ]
     },
     "execution_count": 52,
     "metadata": {},
     "output_type": "execute_result"
    }
   ],
   "source": [
    "# creates the range and time interval\n",
    "range = pd.date_range(\"18:00\", \"23:30\", freq=\"15min\")\n",
    "range"
   ]
  },
  {
   "cell_type": "code",
   "execution_count": 53,
   "id": "e65abd82-830e-4147-baa6-a68f77ee94fc",
   "metadata": {
    "scrolled": true,
    "tags": []
   },
   "outputs": [
    {
     "data": {
      "text/html": [
       "<div>\n",
       "<style scoped>\n",
       "    .dataframe tbody tr th:only-of-type {\n",
       "        vertical-align: middle;\n",
       "    }\n",
       "\n",
       "    .dataframe tbody tr th {\n",
       "        vertical-align: top;\n",
       "    }\n",
       "\n",
       "    .dataframe thead th {\n",
       "        text-align: right;\n",
       "    }\n",
       "</style>\n",
       "<table border=\"1\" class=\"dataframe\">\n",
       "  <thead>\n",
       "    <tr style=\"text-align: right;\">\n",
       "      <th></th>\n",
       "      <th>New Punters</th>\n",
       "    </tr>\n",
       "  </thead>\n",
       "  <tbody>\n",
       "    <tr>\n",
       "      <th>2021-11-17 18:00:00</th>\n",
       "      <td>25</td>\n",
       "    </tr>\n",
       "    <tr>\n",
       "      <th>2021-11-17 18:15:00</th>\n",
       "      <td>22</td>\n",
       "    </tr>\n",
       "    <tr>\n",
       "      <th>2021-11-17 18:30:00</th>\n",
       "      <td>16</td>\n",
       "    </tr>\n",
       "    <tr>\n",
       "      <th>2021-11-17 18:45:00</th>\n",
       "      <td>20</td>\n",
       "    </tr>\n",
       "    <tr>\n",
       "      <th>2021-11-17 19:00:00</th>\n",
       "      <td>18</td>\n",
       "    </tr>\n",
       "    <tr>\n",
       "      <th>2021-11-17 19:15:00</th>\n",
       "      <td>20</td>\n",
       "    </tr>\n",
       "    <tr>\n",
       "      <th>2021-11-17 19:30:00</th>\n",
       "      <td>16</td>\n",
       "    </tr>\n",
       "    <tr>\n",
       "      <th>2021-11-17 19:45:00</th>\n",
       "      <td>15</td>\n",
       "    </tr>\n",
       "    <tr>\n",
       "      <th>2021-11-17 20:00:00</th>\n",
       "      <td>26</td>\n",
       "    </tr>\n",
       "    <tr>\n",
       "      <th>2021-11-17 20:15:00</th>\n",
       "      <td>27</td>\n",
       "    </tr>\n",
       "    <tr>\n",
       "      <th>2021-11-17 20:30:00</th>\n",
       "      <td>24</td>\n",
       "    </tr>\n",
       "    <tr>\n",
       "      <th>2021-11-17 20:45:00</th>\n",
       "      <td>21</td>\n",
       "    </tr>\n",
       "    <tr>\n",
       "      <th>2021-11-17 21:00:00</th>\n",
       "      <td>24</td>\n",
       "    </tr>\n",
       "    <tr>\n",
       "      <th>2021-11-17 21:15:00</th>\n",
       "      <td>18</td>\n",
       "    </tr>\n",
       "    <tr>\n",
       "      <th>2021-11-17 21:30:00</th>\n",
       "      <td>22</td>\n",
       "    </tr>\n",
       "    <tr>\n",
       "      <th>2021-11-17 21:45:00</th>\n",
       "      <td>27</td>\n",
       "    </tr>\n",
       "    <tr>\n",
       "      <th>2021-11-17 22:00:00</th>\n",
       "      <td>30</td>\n",
       "    </tr>\n",
       "    <tr>\n",
       "      <th>2021-11-17 22:15:00</th>\n",
       "      <td>20</td>\n",
       "    </tr>\n",
       "    <tr>\n",
       "      <th>2021-11-17 22:30:00</th>\n",
       "      <td>25</td>\n",
       "    </tr>\n",
       "    <tr>\n",
       "      <th>2021-11-17 22:45:00</th>\n",
       "      <td>23</td>\n",
       "    </tr>\n",
       "    <tr>\n",
       "      <th>2021-11-17 23:00:00</th>\n",
       "      <td>17</td>\n",
       "    </tr>\n",
       "    <tr>\n",
       "      <th>2021-11-17 23:15:00</th>\n",
       "      <td>15</td>\n",
       "    </tr>\n",
       "    <tr>\n",
       "      <th>2021-11-17 23:30:00</th>\n",
       "      <td>23</td>\n",
       "    </tr>\n",
       "  </tbody>\n",
       "</table>\n",
       "</div>"
      ],
      "text/plain": [
       "                     New Punters\n",
       "2021-11-17 18:00:00           25\n",
       "2021-11-17 18:15:00           22\n",
       "2021-11-17 18:30:00           16\n",
       "2021-11-17 18:45:00           20\n",
       "2021-11-17 19:00:00           18\n",
       "2021-11-17 19:15:00           20\n",
       "2021-11-17 19:30:00           16\n",
       "2021-11-17 19:45:00           15\n",
       "2021-11-17 20:00:00           26\n",
       "2021-11-17 20:15:00           27\n",
       "2021-11-17 20:30:00           24\n",
       "2021-11-17 20:45:00           21\n",
       "2021-11-17 21:00:00           24\n",
       "2021-11-17 21:15:00           18\n",
       "2021-11-17 21:30:00           22\n",
       "2021-11-17 21:45:00           27\n",
       "2021-11-17 22:00:00           30\n",
       "2021-11-17 22:15:00           20\n",
       "2021-11-17 22:30:00           25\n",
       "2021-11-17 22:45:00           23\n",
       "2021-11-17 23:00:00           17\n",
       "2021-11-17 23:15:00           15\n",
       "2021-11-17 23:30:00           23"
      ]
     },
     "execution_count": 53,
     "metadata": {},
     "output_type": "execute_result"
    }
   ],
   "source": [
    "# new dataframe with random poisson distributed data to simulate pub punters\n",
    "# 20 is the average number of admissions per 30min interval\n",
    "punters = rng.poisson(20, len(range))\n",
    "\n",
    "# index is timeseries created above\n",
    "punterSchedule = pd.DataFrame(punters, index=range,columns=['New Punters'])\n",
    "punterSchedule"
   ]
  },
  {
   "cell_type": "markdown",
   "id": "edda3d89-98c8-4c70-a45d-fe0f4a1e014b",
   "metadata": {},
   "source": [
    "The lineplot below uses seaborn to visualise this"
   ]
  },
  {
   "cell_type": "code",
   "execution_count": 54,
   "id": "7ae59c9b-7447-4a09-8e2a-ca372ffa86fc",
   "metadata": {},
   "outputs": [
    {
     "data": {
      "text/plain": [
       "[Text(0.5, 1.0, 'Poisson Distribution of people entering the pub this evening')]"
      ]
     },
     "execution_count": 54,
     "metadata": {},
     "output_type": "execute_result"
    },
    {
     "data": {
      "image/png": "[encoded data removed]",
      "text/plain": [
       "<Figure size 864x576 with 1 Axes>"
      ]
     },
     "metadata": {},
     "output_type": "display_data"
    }
   ],
   "source": [
    "# creates a seaborn lineplot\n",
    "sns.set(style=\"darkgrid\")\n",
    "sns.lineplot(x=range, y='New Punters', data = punterSchedule).set(title='Poisson Distribution of people entering the pub this evening')"
   ]
  },
  {
   "cell_type": "markdown",
   "id": "6d0d8f66-db9a-4060-a545-0ae356dd7405",
   "metadata": {
    "tags": []
   },
   "source": [
    "<br>\n",
    "\n",
    "### Exponential Distribution"
   ]
  },
  {
   "cell_type": "markdown",
   "id": "e3732401-d218-48ab-be3d-baf5badfaece",
   "metadata": {},
   "source": [
    "![NumPy_logo](Images/exponential-distribution-function-example_dt13le.png)"
   ]
  },
  {
   "cell_type": "markdown",
   "id": "35ab0339-cc44-4001-9547-71147f6205c9",
   "metadata": {},
   "source": [
    "Exponential distribution is a continuous distribution that is commonly used to measure the expected time for an event to occur, or time until the next event. For example, the amount of time, beginning now, until a volcano errupts. They are commonly used in calculations of product reliability, or the length of time a product lasts.  \n",
    "It is closely linked with Poisson distribution in that it can describe \"the time between events in a Poisson point process, i.e., a process in which events occur continuously and independently at a constant average rate.\" https://www.datacamp.com/community/tutorials/probability-distributions-python\n",
    "\n",
    "There are 2 optional parameters:  \n",
    "1) scale\n",
    "2) size"
   ]
  },
  {
   "cell_type": "markdown",
   "id": "571fe682-3fd8-4ff7-b401-0ff91cd78ef1",
   "metadata": {},
   "source": [
    "If no parameter is passed we get a single value from an exponential distribution. The default value for scale is 0."
   ]
  },
  {
   "cell_type": "code",
   "execution_count": 55,
   "id": "93689c20-5fe4-43a8-8b36-65bb25fb27a2",
   "metadata": {},
   "outputs": [
    {
     "data": {
      "text/plain": [
       "0.3514638757026956"
      ]
     },
     "execution_count": 55,
     "metadata": {},
     "output_type": "execute_result"
    }
   ],
   "source": [
    "rng.exponential()"
   ]
  },
  {
   "cell_type": "code",
   "execution_count": 56,
   "id": "c1b1f54c-4583-4365-8282-73a1b500a5db",
   "metadata": {},
   "outputs": [
    {
     "data": {
      "text/plain": [
       "array([0.44861294, 3.77314732, 0.37689603, ..., 0.07745658, 1.37980556,\n",
       "       1.64289248])"
      ]
     },
     "execution_count": 56,
     "metadata": {},
     "output_type": "execute_result"
    }
   ],
   "source": [
    "x = rng.exponential(3, 10000)\n",
    "x"
   ]
  },
  {
   "cell_type": "code",
   "execution_count": 57,
   "id": "fec8ff76-699b-48cb-befc-d4335ef54b81",
   "metadata": {},
   "outputs": [
    {
     "data": {
      "image/png": "[encoded data removed]",
      "text/plain": [
       "<Figure size 864x576 with 1 Axes>"
      ]
     },
     "metadata": {},
     "output_type": "display_data"
    }
   ],
   "source": [
    "# histogram to visualise\n",
    "count, bins, ignored = plt.hist(x, 40, density = True)\n",
    "plt.title(\"Exponential Distribution\") \n",
    "plt.show()"
   ]
  },
  {
   "cell_type": "markdown",
   "id": "9ca85cc7-cc04-42e0-8bdb-ea8212a462f6",
   "metadata": {},
   "source": [
    "<br>\n",
    "\n",
    "## The use of seeds in generating pseudorandom numbers"
   ]
  },
  {
   "cell_type": "markdown",
   "id": "db7d1bd0-eac8-4041-86b8-2923578405b7",
   "metadata": {
    "tags": []
   },
   "source": [
    ">\"Pseudorandomness is a sample of numbers that look close to random, but were generated using a deterministic process.\"\n",
    "https://machinelearningmastery.com/how-to-generate-random-numbers-in-python/"
   ]
  },
  {
   "cell_type": "markdown",
   "id": "d3324d4f-5a0b-41df-877e-24010299940b",
   "metadata": {},
   "source": [
    "<br>\n",
    "\n",
    "As mentioned above, numbers returned using numpy.random module are not truly random at all. In fact computers dont't really do random that well! They are what is known as pseudo-random numbers - basically numbers that appear to be random but actually aren't. They are predetermined using algorithims, one of the benefits of which is that they are repeatable and reproducible which aids in all sorts of investigative coding and testing.\n",
    "The seed is what numpy uses to generate the 'random' numbers - if we pass the seed to the NumPy pseudo-random number generator, every time we run the code we get the same result. Or we can let numpy generate one, and we won't get the same results each time. The following code demonstrates both situations."
   ]
  },
  {
   "cell_type": "code",
   "execution_count": 58,
   "id": "edc5dea8-94f7-427b-b9a5-7b62a1d63e71",
   "metadata": {},
   "outputs": [
    {
     "name": "stdout",
     "output_type": "stream",
     "text": [
      "[5 0 3 3 7]\n",
      "[5 0 3 3 7]\n",
      "[5 0 3 3 7]\n"
     ]
    }
   ],
   "source": [
    "# Every time we run this code we will get the same array\n",
    "np.random.seed(0)\n",
    "print(np.random.randint(10, size = 5))\n",
    "np.random.seed(0)\n",
    "print(np.random.randint(10, size = 5))\n",
    "np.random.seed(0)\n",
    "print(np.random.randint(10, size = 5))"
   ]
  },
  {
   "cell_type": "code",
   "execution_count": 59,
   "id": "b57c1890-f3e6-46c6-83ba-4db7a3d5011c",
   "metadata": {},
   "outputs": [
    {
     "name": "stdout",
     "output_type": "stream",
     "text": [
      "[9 3 5 2 4]\n",
      "[7 6 8 8 1]\n",
      "[6 7 7 8 1]\n"
     ]
    }
   ],
   "source": [
    "# Whereas every time we run this code we will get a different array\n",
    "print(np.random.randint(10, size = 5))\n",
    "print(np.random.randint(10, size = 5))\n",
    "print(np.random.randint(10, size = 5))"
   ]
  },
  {
   "cell_type": "markdown",
   "id": "d7e24f34-62ed-4dbf-ba7a-72e0ba4be8e3",
   "metadata": {},
   "source": [
    "The actual number passed to the seed function doesn't really matter, but we need to be aware that changing the number will change the output. The following code demonstrates this:"
   ]
  },
  {
   "cell_type": "code",
   "execution_count": 60,
   "id": "b51d2487-16e3-48b1-9a17-e168301b455e",
   "metadata": {},
   "outputs": [
    {
     "name": "stdout",
     "output_type": "stream",
     "text": [
      "0.5488135039273248\n",
      "0.417022004702574\n",
      "0.4390958972548107\n"
     ]
    }
   ],
   "source": [
    "# The first 2 of these will always produce will always produce the same float but different from each other\n",
    "np.random.seed(0)\n",
    "print(np.random.random())\n",
    "\n",
    "np.random.seed(1)\n",
    "print(np.random.random())\n",
    "\n",
    "# This will always produce a different number\n",
    "np.random.seed()\n",
    "print(np.random.random())"
   ]
  },
  {
   "cell_type": "markdown",
   "id": "eae8390a-d72d-4284-809a-b1e90a5d483f",
   "metadata": {},
   "source": [
    "The seed function can be used in conjunction with all of the other functions and wrappers already mentioned above, and is essential if your results need to be reproducible and shareable.\n",
    "\n",
    "___\n"
   ]
  },
  {
   "cell_type": "markdown",
   "id": "f3c5c398-f26f-48e1-be17-35d138755cb6",
   "metadata": {},
   "source": [
    "<br>\n",
    "\n",
    "## References/Sources/Links"
   ]
  },
  {
   "cell_type": "markdown",
   "id": "62fb86ea-9962-4687-8856-96e9351cf9b6",
   "metadata": {},
   "source": [
    "NumPy - Wikipedia\n",
    "https://en.wikipedia.org/wiki/NumPy\n",
    "\n",
    "numpy.random.Generator.poisson – official documentation\n",
    "https://numpy.org/doc/stable/reference/random/generated/numpy.random.Generator.poisson.html#numpy.random.Generator.poisson\n",
    "\n",
    "numpy.random.Generator.exponential – official documentation\n",
    "https://numpy.org/doc/stable/reference/random/generated/numpy.random.Generator.exponential.html#numpy.random.Generator.exponential\n",
    "\n",
    "numpy.random.Generator.normal – official documentation\n",
    "https://numpy.org/doc/stable/reference/random/generated/numpy.random.Generator.normal.html#numpy.random.Generator.normal\n",
    "\n",
    "numpy.random – official documentation\n",
    "https://numpy.org/doc/stable/reference/random/index.html?highlight=random%20sampling%20numpy%20random#module-numpy.random\n",
    "\n",
    "numpy.random.Generator.uniform – official documentation\n",
    "https://numpy.org/doc/stable/reference/random/generated/numpy.random.Generator.uniform.html#numpy.random.Generator.uniform\n",
    "\n",
    "NumPy Random Seed, Explained, by Joshua Ebner - www.sharpsightlabs.com\n",
    "https://www.sharpsightlabs.com/blog/numpy-random-seed/ \n",
    "\n",
    "numpy.random.Generator.binomial – official documentation\n",
    "https://numpy.org/doc/stable/reference/random/generated/numpy.random.Generator.binomial.html#numpy.random.Generator.binomial\n",
    "\n",
    "What is NumPy? – official documentation\n",
    "https://numpy.org/doc/stable/user/whatisnumpy.html\n",
    "\n",
    "Python NumPy Random, by Bijay Kumar - pythonguides.com\n",
    "https://pythonguides.com/python-numpy-random/\n",
    "\n",
    "Random Numbers in NumPy - www.w3schools.com\n",
    "https://www.w3schools.com/python/numpy/numpy_random.asp\n",
    "\n",
    "Random Generator – official documentation\n",
    "https://numpy.org/doc/stable/reference/random/generator.html\n",
    "\n",
    "numpy.random.Generator.choice – official documentation\n",
    "https://numpy.org/doc/stable/reference/random/generated/numpy.random.Generator.choice.html#numpy.random.Generator.choice\n",
    "\n",
    "numpy.random.Generator.permutation – official documentation\n",
    "https://numpy.org/doc/stable/reference/random/generated/numpy.random.Generator.permutation.html#numpy.random.Generator.permutation\n",
    "\n",
    "numpy.random.Generator.shuffle – official documentation\n",
    "https://numpy.org/doc/stable/reference/random/generated/numpy.random.Generator.shuffle.html#numpy.random.Generator.shuffle"
   ]
  },
  {
   "cell_type": "markdown",
   "id": "4391bc34-d2bf-4ae5-b5e2-e38310c54be6",
   "metadata": {},
   "source": [
    "# END"
   ]
  }
 ],
 "metadata": {
  "kernelspec": {
   "display_name": "Python 3",
   "language": "python",
   "name": "python3"
  },
  "language_info": {
   "codemirror_mode": {
    "name": "ipython",
    "version": 3
   },
   "file_extension": ".py",
   "mimetype": "text/x-python",
   "name": "python",
   "nbconvert_exporter": "python",
   "pygments_lexer": "ipython3",
   "version": "3.8.8"
  }
 },
 "nbformat": 4,
 "nbformat_minor": 5
}
