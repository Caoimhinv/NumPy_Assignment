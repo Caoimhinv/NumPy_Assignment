{
 "cells": [
  {
   "cell_type": "markdown",
   "id": "6623e8f0-7eff-44bc-859d-cea9221cc5b3",
   "metadata": {
    "tags": []
   },
   "source": [
    "# Assignment for \"Programming in Data Analysis\" module\n",
    "## Autumn 2021"
   ]
  },
  {
   "cell_type": "markdown",
   "id": "689c09c2-8041-43be-8f2e-db494a843c77",
   "metadata": {
    "tags": []
   },
   "source": [
    "## An overview of numpy.random "
   ]
  },
  {
   "cell_type": "markdown",
   "id": "c5c284f5-f76b-4797-8bd9-9dd4efa77f83",
   "metadata": {},
   "source": [
    "![NumPy_logo](Images/NumPy_logo.png)"
   ]
  },
  {
   "cell_type": "markdown",
   "id": "01a628ea-6740-46d6-920b-9c9a958cc700",
   "metadata": {
    "tags": []
   },
   "source": [
    "Numpy.random is a module within the bigger NumPy package which allows us to call pseudo-random numbers and gives us a range of tools to implement them. Although there already is a random module in the Python standard library, numpy.random adds much extra functionality in particular in relation to arrays and has the ability to draw from a lot more statistical distributions.\n",
    "\n",
    "> \"NumPy ... is a library for the Python programming language, adding support for large, multi-dimensional arrays and matrices, along with a large collection of high-level mathematical functions to operate on these arrays.\"\n",
    "https://en.wikipedia.org/wiki/NumPy\n",
    "\n",
    "> \"NumPy is the fundamental package for scientific computing in Python. It is a Python library that provides a multidimensional array object, various derived objects (such as masked arrays and matrices), and an assortment of routines for fast operations on arrays, including mathematical, logical, shape manipulation, sorting, selecting, I/O, discrete Fourier transforms, basic linear algebra, basic statistical operations, random simulation and much more.\"\n",
    "https://numpy.org/doc/stable/user/whatisnumpy.html\n",
    "\n",
    "\n",
    "\n",
    "https://pythonguides.com/python-numpy-random/\n",
    "\n",
    "https://realpython.com/python-random/#prngs-for-arrays-numpyrandom\n",
    "\n",
    "https://www.w3schools.com/python/numpy/numpy_random.asp\n",
    "\n",
    "link to documentation - https://numpy.org/doc/stable/reference/random/index.html"
   ]
  },
  {
   "cell_type": "markdown",
   "id": "b729c74e-b846-4f5f-94b7-051ba888df2f",
   "metadata": {
    "tags": []
   },
   "source": [
    "### Simple random data"
   ]
  },
  {
   "cell_type": "markdown",
   "id": "b8206da7-c04e-4799-ad2e-49d051aed9f5",
   "metadata": {},
   "source": [
    "The numpy.random module has been updated recently so I will mostly be concentrating on the newer version and methods. All of the older methods are still supported though, and I may be using some of them to demonstrate some aspects of the module. We begin by importing all of the necessary libraries."
   ]
  },
  {
   "cell_type": "markdown",
   "id": "31e6f864-741b-435b-bcbf-53fbee06fb75",
   "metadata": {},
   "source": [
    "Generators - https://numpy.org/doc/stable/reference/random/generator.html"
   ]
  },
  {
   "cell_type": "code",
   "execution_count": 32,
   "id": "c081eb61-1dfd-4939-8ada-33a91ac4f2ac",
   "metadata": {},
   "outputs": [],
   "source": [
    "# importing the numpy module as np as per convention and economy of space\n",
    "import numpy as np\n",
    "\n",
    "# for plotting and visualisations\n",
    "import matplotlib.pyplot as plt"
   ]
  },
  {
   "cell_type": "markdown",
   "id": "9c1931ff-8665-4a4b-a3e3-fbee111d9b08",
   "metadata": {},
   "source": [
    "Numpy creates random number through the use of a BitGenerator and a Generator - the BitGenerator generates random sequences of bits which are transformed into numbers by the generator.\n",
    "\n",
    "https://numpy.org/doc/stable/reference/random/index.html#random-quick-start\n",
    "\n",
    "We begin by creating a new constructor using default_rng to get a new generator."
   ]
  },
  {
   "cell_type": "code",
   "execution_count": 37,
   "id": "00b83316-4fe8-40ca-8ba0-4d4b629addd3",
   "metadata": {},
   "outputs": [
    {
     "data": {
      "text/plain": [
       "Generator(PCG64) at 0x7FE45812E580"
      ]
     },
     "execution_count": 37,
     "metadata": {},
     "output_type": "execute_result"
    }
   ],
   "source": [
    "rng = np.random.default_rng(0)\n",
    "rng"
   ]
  },
  {
   "cell_type": "markdown",
   "id": "612dbef5-35cb-45a2-9d9d-4420557730df",
   "metadata": {},
   "source": [
    "**numpy.random.default_rng.random** returns floating point numbers. If no value is passed we get one randomly generated float. If one value is passed we get an array of that length, and if a second value is passed (with extra brackets) we get a 2D array with those parameters."
   ]
  },
  {
   "cell_type": "code",
   "execution_count": 45,
   "id": "493a50f4-0857-46ec-a648-e7226f019f54",
   "metadata": {},
   "outputs": [
    {
     "name": "stdout",
     "output_type": "stream",
     "text": [
      "0.7111428779897498\n",
      "[0.93205969 0.11493263 0.72901512]\n",
      "[[0.92742393 0.96792619 0.0147063 ]\n",
      " [0.86364009 0.98119504 0.95721018]\n",
      " [0.14876401 0.97262881 0.88993556]]\n"
     ]
    }
   ],
   "source": [
    "# returns a single float\n",
    "x = rng.random()\n",
    "print(x)\n",
    "# returns an array of 3 floats\n",
    "y = rng.random(3)\n",
    "print(y)\n",
    "# returns an array of 3x3 floats\n",
    "z = rng.random((3,3))\n",
    "print(z)"
   ]
  },
  {
   "cell_type": "markdown",
   "id": "1d34ff8d-62b3-4e71-bb88-9a14524a6a1e",
   "metadata": {},
   "source": [
    "**numpy.random.default_rng.integers** returns integers. If we pass 1 value, that will be the upper limit and non inclusive. 0 id the default lower limit. If we pass 2 values, the first will be the lower limit and the 2nd the upper. 3 values, and the third will be the amount of numbers creating an array."
   ]
  },
  {
   "cell_type": "code",
   "execution_count": 52,
   "id": "34fe8104-1410-439f-a774-209fa16845ec",
   "metadata": {},
   "outputs": [
    {
     "name": "stdout",
     "output_type": "stream",
     "text": [
      "2\n",
      "8\n",
      "[4 7 6 9 6 9 9 7 7 8 9 3 6 3 2 7 2 7 8 3]\n"
     ]
    }
   ],
   "source": [
    "# returns an integer between 0-9\n",
    "x = rng.integers(10)\n",
    "print(x)\n",
    "y = rng.integers(3,10)\n",
    "print(y)\n",
    "# returns an array of 20 numbers between 2-9\n",
    "z = rng.integers(2,10,20)\n",
    "print(z)"
   ]
  },
  {
   "cell_type": "markdown",
   "id": "9e6894f9-ea2e-454b-9204-668060698d8b",
   "metadata": {},
   "source": [
    "For all of the above code, if we rerun it we will get different results each times. If we want reproducible results we need to pass in a **seed**. We will look at this in more detail later."
   ]
  },
  {
   "cell_type": "markdown",
   "id": "5a3d9e7e-9e13-44d0-8af0-2b8398b04827",
   "metadata": {},
   "source": [
    "#### Choice\n",
    "\n",
    "https://numpy.org/doc/stable/reference/random/generated/numpy.random.Generator.choice.html#numpy.random.Generator.choice\n",
    "\n",
    "**numpy.random.default_rng.choice** generates a random sample from a given array."
   ]
  },
  {
   "cell_type": "code",
   "execution_count": 57,
   "id": "f1800315-bbb7-4265-b2d5-542095a20939",
   "metadata": {},
   "outputs": [
    {
     "data": {
      "text/plain": [
       "array([23, 29,  7, 31, 21, 30, 20])"
      ]
     },
     "execution_count": 57,
     "metadata": {},
     "output_type": "execute_result"
    }
   ],
   "source": [
    "# choose 7 numbers at random from the range 0-39\n",
    "rng.choice(40, 7)"
   ]
  },
  {
   "cell_type": "markdown",
   "id": "8a2aa3ef-7dcf-4236-af70-680bed3228fb",
   "metadata": {},
   "source": [
    "#### Bytes\n",
    "We can also return random bytes."
   ]
  },
  {
   "cell_type": "code",
   "execution_count": 60,
   "id": "8ff7a373-3870-4543-bc36-fe7635c45ccd",
   "metadata": {},
   "outputs": [
    {
     "data": {
      "text/plain": [
       "b'\\xa9\\x98`\\xfb\\xb2l,\\ti\\xfb'"
      ]
     },
     "execution_count": 60,
     "metadata": {},
     "output_type": "execute_result"
    }
   ],
   "source": [
    "# returns 10 random bytes!\n",
    "rng.bytes(10)"
   ]
  },
  {
   "cell_type": "markdown",
   "id": "467bb82f-09ee-4f90-9d61-9803e2f243e5",
   "metadata": {},
   "source": [
    "#### Permutations\n",
    "https://numpy.org/doc/stable/reference/random/generated/numpy.random.Generator.permutation.html#numpy.random.Generator.permutation"
   ]
  },
  {
   "cell_type": "code",
   "execution_count": null,
   "id": "74f1489f-fdd0-4421-af8b-c44af5efdf76",
   "metadata": {},
   "outputs": [],
   "source": [
    "# creates a permutation of the numbers 0-9\n",
    "print(rng.permutation(10))\n",
    "# creates 12 numbers and shapes them into 3x4. Then permuted!\n",
    "arr = np.arange(12).reshape((3, 4))\n",
    "rng.permutation(arr, axis=1)"
   ]
  },
  {
   "cell_type": "markdown",
   "id": "d71ef031-8bb9-4f42-8992-672afcd397e6",
   "metadata": {
    "tags": []
   },
   "source": [
    "#### Shuffle\n",
    "https://numpy.org/doc/stable/reference/random/generated/numpy.random.Generator.shuffle.html#numpy.random.Generator.shuffle"
   ]
  },
  {
   "cell_type": "code",
   "execution_count": null,
   "id": "57926963-9fc3-41f8-afd5-b54dd6742aaa",
   "metadata": {},
   "outputs": [],
   "source": [
    "# this shuffles something in place already, so the numbers are only shuffled within their list, and each list is shuffled.\n",
    "# Whereas with permutation above an entire new array is created\n",
    "arr = np.arange(12).reshape((3, 4))\n",
    "rng.shuffle(arr)\n",
    "arr"
   ]
  },
  {
   "cell_type": "markdown",
   "id": "5e57c9cf-24fb-4b03-9948-411fa825e2b1",
   "metadata": {},
   "source": [
    "Link to documentation - https://numpy.org/doc/1.16/reference/routines.random.html <br>\n",
    "Might be old! <br>\n",
    "new stuff here - https://numpy.org/doc/stable/reference/random/index.html?highlight=random%20sampling%20numpy%20random#module-numpy.random"
   ]
  },
  {
   "cell_type": "markdown",
   "id": "79f62144-5f75-4f00-b91b-6343e4a1a6a1",
   "metadata": {
    "tags": []
   },
   "source": [
    "### Simple Random Data\n",
    "\n",
    "- rand - Random values in a given shape.\n",
    "- randn - Return a sample (or samples) from the “standard normal” distribution.\n",
    "- randint - Return random integers from low (inclusive) to high (exclusive).\n",
    "- random_integers - Random integers of type np.int between low and high, inclusive.\n",
    "- random_sample - Return random floats in the half-open interval [0.0, 1.0).\n",
    "- random - Return random floats in the half-open interval [0.0, 1.0).\n",
    "- ranf - Return random floats in the half-open interval [0.0, 1.0).\n",
    "- sample - Return random floats in the half-open interval [0.0, 1.0).\n",
    "- choice - Generates a random sample from a given 1-D array\n",
    "- bytes - Return random bytes"
   ]
  },
  {
   "cell_type": "markdown",
   "id": "f57878d4-9490-4162-8a0f-a02b8a1c1c65",
   "metadata": {
    "tags": []
   },
   "source": [
    "### Permutations\n",
    "\n",
    "- shuffle - Modify a sequence in-place by shuffling its contents\n",
    "- permutation - Randomly permute a sequence, or return a permuted range"
   ]
  },
  {
   "cell_type": "markdown",
   "id": "f921fc40-26b0-46fb-9006-d1634ba4768a",
   "metadata": {},
   "source": [
    "## Distributions"
   ]
  },
  {
   "cell_type": "markdown",
   "id": "138b7dff-5e49-400e-bced-36f7e040b686",
   "metadata": {},
   "source": [
    "### Uniform Distribution"
   ]
  },
  {
   "cell_type": "code",
   "execution_count": 65,
   "id": "962010b1-c8a4-4dbc-a094-b98d8e17e96e",
   "metadata": {},
   "outputs": [],
   "source": [
    "# Creating a default figure size\n",
    "plt.rcParams['figure.figsize']=[12,8]"
   ]
  },
  {
   "cell_type": "markdown",
   "id": "6c05e3a4-9209-4e84-9f34-b6eabda31732",
   "metadata": {},
   "source": [
    "The higher the size of numbers generated, the more uniforim the distribution"
   ]
  },
  {
   "cell_type": "code",
   "execution_count": 66,
   "id": "8428efb4-fbc3-4e67-b625-09d830b86deb",
   "metadata": {
    "tags": []
   },
   "outputs": [],
   "source": [
    "# looking at the difference the 'size' makes\n",
    "x = rng.integers(100, size = 10)\n",
    "y = rng.integers(100, size = 100)\n",
    "z = rng.integers(100, size = 1000)\n",
    "a = rng.integers(100, size = 10000)\n",
    "b = rng.integers(100, size = 100000)\n",
    "c = rng.integers(100, size = 1000000)"
   ]
  },
  {
   "cell_type": "markdown",
   "id": "8c073180-c95c-4024-b6af-6f4af93fbfd6",
   "metadata": {},
   "source": [
    "We can see this more clearly on a subplot of histograms"
   ]
  },
  {
   "cell_type": "code",
   "execution_count": 67,
   "id": "53baa821-cebd-4f0c-9a2a-bb4f06285526",
   "metadata": {},
   "outputs": [
    {
     "data": {
      "text/plain": [
       "(array([ 99820., 100291.,  99961.,  99758., 100077., 100104.,  99657.,\n",
       "         99806., 100029., 100497.]),\n",
       " array([ 0. ,  9.9, 19.8, 29.7, 39.6, 49.5, 59.4, 69.3, 79.2, 89.1, 99. ]),\n",
       " <BarContainer object of 10 artists>)"
      ]
     },
     "execution_count": 67,
     "metadata": {},
     "output_type": "execute_result"
    },
    {
     "data": {
      "image/png": "[encoded data removed]",
      "text/plain": [
       "<Figure size 864x576 with 6 Axes>"
      ]
     },
     "metadata": {
      "needs_background": "light"
     },
     "output_type": "display_data"
    }
   ],
   "source": [
    "# plt.subplots(3,2) creates 3 rows and 2 columns of plots\n",
    "# axs[0,0] etc. specifies where this plot goes in the arrangement\n",
    "fig, axs = plt.subplots(3,2)\n",
    "axs[0,0].hist(x)\n",
    "axs[0,1].hist(y)\n",
    "axs[1,0].hist(z)\n",
    "axs[1,1].hist(a)\n",
    "axs[2,0].hist(b)\n",
    "axs[2,1].hist(c)"
   ]
  },
  {
   "cell_type": "markdown",
   "id": "ecb18530-5252-4f59-9254-aa274fe5b294",
   "metadata": {
    "tags": []
   },
   "source": [
    "This is known as uniform distribution\n",
    "\n",
    "Link to documentation - https://numpy.org/doc/stable/reference/random/generated/numpy.random.Generator.uniform.html#numpy.random.Generator.uniform\n",
    "\n",
    "Another example below, this time specifying a lower minus value. As above if no lower value is set then zero is the default."
   ]
  },
  {
   "cell_type": "code",
   "execution_count": null,
   "id": "8937d59d-3910-4abb-9768-2e4788f7ce6c",
   "metadata": {
    "scrolled": true,
    "tags": []
   },
   "outputs": [],
   "source": [
    "# range is -1 to 0, and we're getting 1000 numbers\n",
    "np.random.uniform(-1,0,1000)\n",
    "# every number is equally likely to be returned"
   ]
  },
  {
   "cell_type": "code",
   "execution_count": null,
   "id": "28163bef-d7b8-4380-b65d-dd8833ae8259",
   "metadata": {},
   "outputs": [],
   "source": [
    "# visualise\n",
    "y = np.random.uniform(-1,0,1000)\n",
    "count, bins, ignored = plt.hist(y, 15, density=True)\n",
    "plt.plot(bins, np.ones_like(bins), linewidth=2, color='r') # include a red line to show the average\n",
    "plt.show()"
   ]
  },
  {
   "cell_type": "code",
   "execution_count": null,
   "id": "88a21cde-75db-40eb-a978-a960fb65eac4",
   "metadata": {},
   "outputs": [],
   "source": [
    "# the more times we run it the flatter the line at the top\n",
    "x = np.random.uniform(-1,0,100000)\n",
    "\n",
    "count, bins, ignored = plt.hist(x, 15, density=True)\n",
    "plt.plot(bins, np.ones_like(bins), linewidth=2, color='r')\n",
    "plt.show()"
   ]
  },
  {
   "cell_type": "markdown",
   "id": "76f2d4d0-ab81-4bb0-9be0-55872b5bd9b8",
   "metadata": {
    "tags": []
   },
   "source": [
    "## Normal distribution"
   ]
  },
  {
   "cell_type": "markdown",
   "id": "9c710487-d3d5-4198-9789-5f73c9dff81a",
   "metadata": {},
   "source": [
    "Normal distribution represents the behavior of most of the situations in the universe (That is why it’s called a “normal” distribution. I guess!). The large sum of (small) random variables often turns out to be normally distributed, contributing to its widespread application.\n",
    "\n",
    "Link to documentation - https://numpy.org/doc/stable/reference/random/generated/numpy.random.Generator.normal.html#numpy.random.Generator.normal"
   ]
  },
  {
   "cell_type": "code",
   "execution_count": 61,
   "id": "5a79b451-9807-4505-b865-1af89e8efffc",
   "metadata": {},
   "outputs": [
    {
     "data": {
      "text/plain": [
       "array([-0.05060406, -0.28312507,  1.64325161, -1.28264924, -0.5856578 ,\n",
       "       -0.47258768,  0.58633728, -0.6635352 , -0.61341785, -1.6051494 ])"
      ]
     },
     "execution_count": 61,
     "metadata": {},
     "output_type": "execute_result"
    }
   ],
   "source": [
    "x = rng.standard_normal(10)\n",
    "x"
   ]
  },
  {
   "cell_type": "code",
   "execution_count": null,
   "id": "8ceb2b39-ffe7-4d0f-840a-fd8b8deeac54",
   "metadata": {
    "scrolled": true,
    "tags": []
   },
   "outputs": [],
   "source": [
    "# (10,100,10000) 1st number is centre, 2nd is spread (*3), 3rd of amount of\n",
    "# numbers returned\n",
    "z=np.random.normal(10,100,10000)"
   ]
  },
  {
   "cell_type": "code",
   "execution_count": null,
   "id": "6c0fc4d1-64c8-4b82-90ea-a2fe65c505fc",
   "metadata": {},
   "outputs": [],
   "source": [
    "plt.hist(z)"
   ]
  },
  {
   "cell_type": "markdown",
   "id": "2a93c8bf-c236-4a63-9592-f1ab327a9a03",
   "metadata": {
    "tags": []
   },
   "source": [
    "## Binomial Distribution"
   ]
  },
  {
   "cell_type": "markdown",
   "id": "3b63ed8c-d59f-4805-b51d-2d741520f24d",
   "metadata": {
    "tags": []
   },
   "source": [
    "Binomial distribution is when we're dealing with only 2 outcomes. These can be equal such as a coin toss as demomstrated below. Or if we know the probability of an outcome we can insert that as in the second example.\n",
    "\n",
    "Link to documentation - https://numpy.org/doc/stable/reference/random/generated/numpy.random.Generator.binomial.html#numpy.random.Generator.binomial"
   ]
  },
  {
   "cell_type": "markdown",
   "id": "43aa5576-d665-48f2-98c7-5736eda23edd",
   "metadata": {},
   "source": [
    "#### coin toss"
   ]
  },
  {
   "cell_type": "code",
   "execution_count": null,
   "id": "921420a5-22e5-41cd-8adb-558194c7ac3d",
   "metadata": {
    "jupyter": {
     "source_hidden": true
    },
    "scrolled": true,
    "tags": []
   },
   "outputs": [],
   "source": [
    ">>> n, p = 10, .5  # n= number of trials, p = probability of each trial\n",
    ">>> s = np.random.binomial(n, p, 1000)\n",
    "# s = result of flipping a coin 10 times (either heads/tails), tested 1000 times.\n",
    "s"
   ]
  },
  {
   "cell_type": "code",
   "execution_count": null,
   "id": "8fe40af3-3888-43e1-b568-79455b06910f",
   "metadata": {},
   "outputs": [],
   "source": [
    "# Plotted\n",
    "plt.hist(s)"
   ]
  },
  {
   "cell_type": "markdown",
   "id": "cfc10383-cce8-4e84-97fc-67526791a7fa",
   "metadata": {},
   "source": [
    "A real world example. A company drills 9 wild-cat oil exploration wells, each with an estimated probability of success of 0.1. All nine wells fail. What is the probability of that happening?\n",
    "\n",
    "Let’s do 20,000 trials of the model, and count the number that generate zero positive results."
   ]
  },
  {
   "cell_type": "code",
   "execution_count": null,
   "id": "871fd73d-6ad0-42bf-90c8-b9f25f86fdaa",
   "metadata": {},
   "outputs": [],
   "source": [
    "sum(np.random.binomial(9, 0.1, 20000) == 0)/20000."
   ]
  },
  {
   "cell_type": "code",
   "execution_count": null,
   "id": "38e41200-e3a5-4c91-8bc4-f71671db08a8",
   "metadata": {},
   "outputs": [],
   "source": [
    "# to visualise that\n",
    "a = np.random.binomial(9, 0.1, 20000)\n",
    "plt.hist(a)"
   ]
  },
  {
   "cell_type": "markdown",
   "id": "1cc6ec4f-336b-4da7-9874-4a78062e3473",
   "metadata": {},
   "source": [
    "## Poisson Distribution"
   ]
  },
  {
   "cell_type": "markdown",
   "id": "9e8cb571-a502-4984-ae8d-fa5caada1d6f",
   "metadata": {},
   "source": [
    "Not quite sure what this is about! :)\n",
    "\n",
    "Link to documentation - https://numpy.org/doc/stable/reference/random/generated/numpy.random.Generator.poisson.html#numpy.random.Generator.poisson"
   ]
  },
  {
   "cell_type": "code",
   "execution_count": null,
   "id": "c519a58e-281f-4062-8aba-db6afa5f8647",
   "metadata": {},
   "outputs": [],
   "source": [
    "rng = np.random.default_rng()\n",
    "s = rng.poisson(5, 10000)\n",
    "plt.hist(s)"
   ]
  },
  {
   "cell_type": "markdown",
   "id": "6d0d8f66-db9a-4060-a545-0ae356dd7405",
   "metadata": {
    "tags": []
   },
   "source": [
    "## Exponential Distribution"
   ]
  },
  {
   "cell_type": "markdown",
   "id": "adfc38b5-fe29-4ab4-b3ad-1aa045d1cdce",
   "metadata": {},
   "source": [
    "Link to documentation - https://numpy.org/doc/stable/reference/random/generated/numpy.random.Generator.exponential.html#numpy.random.Generator.exponential"
   ]
  },
  {
   "cell_type": "code",
   "execution_count": null,
   "id": "fec8ff76-699b-48cb-befc-d4335ef54b81",
   "metadata": {},
   "outputs": [],
   "source": [
    "gfg = np.random.exponential(3.45, 10000)\n",
    "  \n",
    "count, bins, ignored = plt.hist(gfg, 14, density = True)\n",
    "plt.show()"
   ]
  },
  {
   "cell_type": "code",
   "execution_count": null,
   "id": "802a65df-893b-4530-81f9-a70ac3280818",
   "metadata": {},
   "outputs": [],
   "source": []
  },
  {
   "cell_type": "code",
   "execution_count": null,
   "id": "1d4d1030-07ba-42f0-85ec-8033cbc838b0",
   "metadata": {},
   "outputs": [],
   "source": []
  },
  {
   "cell_type": "code",
   "execution_count": null,
   "id": "a9f4e7b5-5b2b-4a2c-8331-345d7128229b",
   "metadata": {},
   "outputs": [],
   "source": []
  },
  {
   "cell_type": "code",
   "execution_count": null,
   "id": "9988f646-035e-43c5-a7a8-55bb426f9c77",
   "metadata": {},
   "outputs": [],
   "source": []
  },
  {
   "cell_type": "code",
   "execution_count": null,
   "id": "47963091-2300-4c20-917d-8754ee23b347",
   "metadata": {},
   "outputs": [],
   "source": []
  },
  {
   "cell_type": "markdown",
   "id": "9a026b67-f589-4068-ad29-13d2bbebcddc",
   "metadata": {
    "tags": []
   },
   "source": [
    "The following is a basic introduction as to how it works"
   ]
  },
  {
   "cell_type": "code",
   "execution_count": 31,
   "id": "079d16ad-eab6-418a-ad45-d476b52a8c3e",
   "metadata": {},
   "outputs": [
    {
     "data": {
      "text/plain": [
       "1"
      ]
     },
     "execution_count": 31,
     "metadata": {},
     "output_type": "execute_result"
    }
   ],
   "source": [
    "# creates a variable which is a random integer between 0 and 4 with 4 being non-inclusive\n",
    "result = np.random.randint(4)\n",
    "\n",
    "result"
   ]
  },
  {
   "cell_type": "markdown",
   "id": "fca131b7-37cf-4459-898b-9e16e44a5f57",
   "metadata": {},
   "source": [
    "If we want to create a random float we use rand"
   ]
  },
  {
   "cell_type": "code",
   "execution_count": null,
   "id": "09efefd5-584f-4272-a0b4-afb95a297c62",
   "metadata": {},
   "outputs": [],
   "source": [
    "# creates a random floating point number\n",
    "result = np.random.rand(4)\n",
    "\n",
    "result"
   ]
  },
  {
   "cell_type": "code",
   "execution_count": null,
   "id": "7774b5c2-b5b8-448d-aa93-1b6bafc1dfcd",
   "metadata": {},
   "outputs": [],
   "source": [
    "# we can then add more parameters\n",
    "# this an array comprising a list 3 lists each containing 4 floats\n",
    "result = np.random.rand(3,4)\n",
    "\n",
    "result"
   ]
  },
  {
   "cell_type": "code",
   "execution_count": null,
   "id": "ffe646c0-6eae-4a9c-a41a-055ced1187cb",
   "metadata": {},
   "outputs": [],
   "source": [
    "# creates a variable which is an array of 5 random integers between 0 and 4\n",
    "result = np.random.randint(1, 4, size=5)\n",
    "\n",
    "result"
   ]
  },
  {
   "cell_type": "code",
   "execution_count": null,
   "id": "46ecaa7c-e0ed-4bd4-a529-695b42f03342",
   "metadata": {
    "tags": []
   },
   "outputs": [],
   "source": [
    "# seed random number generator\n",
    "np.random.seed(1)\n",
    "# generate some random numbers\n",
    "x= np.random.rand(3)\n",
    "# # reset the seed\n",
    "np.random.seed(1)\n",
    "# # generate some random numbers\n",
    "x"
   ]
  },
  {
   "cell_type": "code",
   "execution_count": null,
   "id": "1a6ba717-0660-472d-8b91-2106221e10d9",
   "metadata": {},
   "outputs": [],
   "source": [
    "# Creates an array of 10 floats from the standard/normal/Gaussian distribution\n",
    "# https://numpy.org/doc/stable/reference/random/generated/numpy.random.randn.html\n",
    "result = np.random.randn(10)\n",
    "\n",
    "result"
   ]
  },
  {
   "cell_type": "code",
   "execution_count": null,
   "id": "fa9a4940-7b98-4d64-af4d-75d51ddff2cf",
   "metadata": {},
   "outputs": [],
   "source": [
    "# creates a sequence from 0-19\n",
    "sequence = [i for i in range(20)]\n",
    "print(sequence)\n",
    "# randomly shuffle the sequence\n",
    "np.random.shuffle(sequence)\n",
    "sequence"
   ]
  },
  {
   "cell_type": "markdown",
   "id": "9ca85cc7-cc04-42e0-8bdb-ea8212a462f6",
   "metadata": {},
   "source": [
    "## The use of seeds in generating pseudorandom numbers"
   ]
  },
  {
   "cell_type": "markdown",
   "id": "db7d1bd0-eac8-4041-86b8-2923578405b7",
   "metadata": {
    "tags": []
   },
   "source": [
    ">\"Pseudorandomness is a sample of numbers that look close to random, but were generated using a deterministic process.\"\n",
    "https://machinelearningmastery.com/how-to-generate-random-numbers-in-python/"
   ]
  },
  {
   "cell_type": "markdown",
   "id": "d3324d4f-5a0b-41df-877e-24010299940b",
   "metadata": {},
   "source": [
    "source - https://www.sharpsightlabs.com/blog/numpy-random-seed/<br>\n",
    "As mentioned above, numbers returned using numpy.random module are not truly random at all. In fact computers dont't really do random that well! They are what is known as pseudo-random numbers - basically numbers that appear to be random but actually aren't. They are predetermined using algorithims, one of the benefits of which is that they are repeatable and reproducible which aids in all sorts of investigative coding and testing.\n",
    "The seed is what numpy uses to generate the 'random' numbers - if we pass the seed to the NumPy pseudo-random number generator, every time we run the code we get the same result. Or we can let numpy generate one, and we won't get the same results each time. The following code demonstrates both situations."
   ]
  },
  {
   "cell_type": "code",
   "execution_count": 27,
   "id": "edc5dea8-94f7-427b-b9a5-7b62a1d63e71",
   "metadata": {},
   "outputs": [
    {
     "name": "stdout",
     "output_type": "stream",
     "text": [
      "[5 0 3 3 7]\n",
      "[5 0 3 3 7]\n",
      "[5 0 3 3 7]\n"
     ]
    }
   ],
   "source": [
    "# Every time we run this code we will get the same array\n",
    "np.random.seed(0)\n",
    "print(np.random.randint(10, size = 5))\n",
    "np.random.seed(0)\n",
    "print(np.random.randint(10, size = 5))\n",
    "np.random.seed(0)\n",
    "print(np.random.randint(10, size = 5))"
   ]
  },
  {
   "cell_type": "code",
   "execution_count": 29,
   "id": "b57c1890-f3e6-46c6-83ba-4db7a3d5011c",
   "metadata": {},
   "outputs": [
    {
     "name": "stdout",
     "output_type": "stream",
     "text": [
      "[5 9 8 9 4]\n",
      "[3 0 3 5 0]\n",
      "[2 3 8 1 3]\n"
     ]
    }
   ],
   "source": [
    "# Whereas every time we run this code we will get a different array\n",
    "print(np.random.randint(10, size = 5))\n",
    "print(np.random.randint(10, size = 5))\n",
    "print(np.random.randint(10, size = 5))"
   ]
  },
  {
   "cell_type": "markdown",
   "id": "d7e24f34-62ed-4dbf-ba7a-72e0ba4be8e3",
   "metadata": {},
   "source": [
    "The actual number passed to the seed function doesn't really matter, but we need to be aware that changing the number will change the output. The following code demonstrates this:"
   ]
  },
  {
   "cell_type": "code",
   "execution_count": 30,
   "id": "b51d2487-16e3-48b1-9a17-e168301b455e",
   "metadata": {},
   "outputs": [
    {
     "name": "stdout",
     "output_type": "stream",
     "text": [
      "0.5488135039273248\n",
      "0.417022004702574\n",
      "0.38688602349266565\n"
     ]
    }
   ],
   "source": [
    "# The first 2 of these will always produce will always produce the same float but different from each other\n",
    "np.random.seed(0)\n",
    "print(np.random.random())\n",
    "\n",
    "np.random.seed(1)\n",
    "print(np.random.random())\n",
    "\n",
    "# This will always produce a different number\n",
    "np.random.seed()\n",
    "print(np.random.random())"
   ]
  },
  {
   "cell_type": "markdown",
   "id": "eae8390a-d72d-4284-809a-b1e90a5d483f",
   "metadata": {},
   "source": [
    "The seed function can be used in conjunction with all of the other functions and wrappers already mentioned above, and is essential if your results need to be reproducible and shareable.\n",
    "\n",
    "https://www.sharpsightlabs.com/blog/numpy-random-seed/\n",
    "\n",
    "https://towardsdatascience.com/stop-using-numpy-random-seed-581a9972805f"
   ]
  },
  {
   "cell_type": "code",
   "execution_count": null,
   "id": "90099459-6213-416d-a44d-f94824e046ac",
   "metadata": {
    "jupyter": {
     "source_hidden": true
    },
    "tags": []
   },
   "outputs": [],
   "source": []
  },
  {
   "cell_type": "code",
   "execution_count": null,
   "id": "b9ad0f1f-316e-4b6e-8fba-5e17ea63ce8d",
   "metadata": {},
   "outputs": [],
   "source": []
  },
  {
   "cell_type": "code",
   "execution_count": null,
   "id": "af21564c-dc75-4a84-a46f-f45b12db5664",
   "metadata": {},
   "outputs": [],
   "source": []
  },
  {
   "cell_type": "markdown",
   "id": "8af91043-1db3-4367-b5fd-dd464de8a36f",
   "metadata": {},
   "source": [
    "### Generating random integers"
   ]
  },
  {
   "cell_type": "markdown",
   "id": "8fd7e999-daa8-4f84-85b4-70ccd7cd42ec",
   "metadata": {},
   "source": [
    "##### 1d array of random integers"
   ]
  },
  {
   "cell_type": "code",
   "execution_count": null,
   "id": "b9f37ca5-19c2-4ec9-a204-d7fa94eb66bf",
   "metadata": {},
   "outputs": [],
   "source": [
    "# the first parameter (3) is the range (non-inclusive), i.e. 0, 1 and 2\n",
    "# size is no. of numbers returned\n",
    "rng.integers(3, size=10)"
   ]
  },
  {
   "cell_type": "markdown",
   "id": "2732d3f0-10b4-4cea-86e6-8b8d8eda1c20",
   "metadata": {},
   "source": [
    "##### 2d array of random integers"
   ]
  },
  {
   "cell_type": "code",
   "execution_count": null,
   "id": "746d7824-93f9-44ae-8980-89d6f755e1ed",
   "metadata": {},
   "outputs": [],
   "source": [
    "# 1st paremeter is the range max (non-inclusive)\n",
    "# size is rows then columns\n",
    "rng.integers(5, size=(3,4))"
   ]
  },
  {
   "cell_type": "markdown",
   "id": "6eee7906-5ea1-4982-ba8f-f8675edd5374",
   "metadata": {},
   "source": [
    "##### multi-dimensional array of random integers"
   ]
  },
  {
   "cell_type": "code",
   "execution_count": null,
   "id": "54e5be90-e80b-44ec-a5df-29c984c4017b",
   "metadata": {
    "scrolled": true,
    "tags": []
   },
   "outputs": [],
   "source": [
    "# again range of 5\n",
    "# 5 groups of 4 arrays, each with 3 rows and 2 columns\n",
    "rng.integers(5, size=(5,4,3,2))"
   ]
  },
  {
   "cell_type": "markdown",
   "id": "4391bc34-d2bf-4ae5-b5e2-e38310c54be6",
   "metadata": {},
   "source": [
    "# END"
   ]
  }
 ],
 "metadata": {
  "kernelspec": {
   "display_name": "Python 3",
   "language": "python",
   "name": "python3"
  },
  "language_info": {
   "codemirror_mode": {
    "name": "ipython",
    "version": 3
   },
   "file_extension": ".py",
   "mimetype": "text/x-python",
   "name": "python",
   "nbconvert_exporter": "python",
   "pygments_lexer": "ipython3",
   "version": "3.8.8"
  }
 },
 "nbformat": 4,
 "nbformat_minor": 5
}
